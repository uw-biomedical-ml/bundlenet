{
 "cells": [
  {
   "cell_type": "code",
   "execution_count": 1,
   "metadata": {},
   "outputs": [],
   "source": [
    "from glob import glob\n",
    "import os.path as op\n",
    "import numpy as np\n",
    "import matplotlib.pyplot as plt\n",
    "\n",
    "import seaborn as sns\n",
    "\n",
    "%matplotlib inline"
   ]
  },
  {
   "cell_type": "code",
   "execution_count": 2,
   "metadata": {},
   "outputs": [],
   "source": [
    "import nibabel as nib\n",
    "from nibabel.streamlines import load as load_trk\n",
    "import dipy.tracking.streamline as dts\n",
    "import dipy.tracking.utils as dtu\n",
    "from skimage.transform import resize\n",
    "from scipy.ndimage.morphology import binary_dilation\n",
    "import dipy.data as dpd\n",
    "from sklearn.utils import class_weight"
   ]
  },
  {
   "cell_type": "code",
   "execution_count": 3,
   "metadata": {},
   "outputs": [
    {
     "name": "stderr",
     "output_type": "stream",
     "text": [
      "Using TensorFlow backend.\n"
     ]
    }
   ],
   "source": [
    "import keras\n",
    "from keras.callbacks import ModelCheckpoint\n",
    "from keras.models import Sequential\n",
    "from keras.layers import Dense, Dropout, Flatten, LeakyReLU\n",
    "from keras.layers import Conv2D, MaxPooling2D"
   ]
  },
  {
   "cell_type": "code",
   "execution_count": 4,
   "metadata": {},
   "outputs": [],
   "source": [
    "import bundlenet as bn"
   ]
  },
  {
   "cell_type": "code",
   "execution_count": 5,
   "metadata": {},
   "outputs": [],
   "source": [
    "import warnings\n",
    "warnings.filterwarnings('ignore')"
   ]
  },
  {
   "cell_type": "code",
   "execution_count": 6,
   "metadata": {},
   "outputs": [],
   "source": [
    "import dask.bag as db"
   ]
  },
  {
   "cell_type": "code",
   "execution_count": 7,
   "metadata": {},
   "outputs": [
    {
     "name": "stdout",
     "output_type": "stream",
     "text": [
      "AF_L.trk             CCMid.trk  CST_R.trk   IFOF_L.trk\r\n",
      "AF_R.trk             C_L.trk    F_L.trk     MCP.trk\r\n",
      "CC_ForcepsMajor.trk  C_R.trk    F_R.trk     UF_L.trk\r\n",
      "CC_ForcepsMinor.trk  CST_L.trk  IF0F_R.trk  UF_R.trk\r\n"
     ]
    }
   ],
   "source": [
    "ls /home/ubuntu/Atlas_in_MNI_Space_16_bundles/bundles"
   ]
  },
  {
   "cell_type": "code",
   "execution_count": 8,
   "metadata": {},
   "outputs": [],
   "source": [
    "bundle_files = sorted(glob('/home/ubuntu/Atlas_in_MNI_Space_16_bundles/bundles/*.trk'))"
   ]
  },
  {
   "cell_type": "code",
   "execution_count": 9,
   "metadata": {},
   "outputs": [
    {
     "data": {
      "text/plain": [
       "(182, 218, 182)"
      ]
     },
     "execution_count": 9,
     "metadata": {},
     "output_type": "execute_result"
    }
   ],
   "source": [
    "diff_img = nib.load('/home/ubuntu/MNI152_T1_1mm_brain.nii.gz')\n",
    "vol_shape=diff_img.shape[0:3]\n",
    "vol_shape"
   ]
  },
  {
   "cell_type": "code",
   "execution_count": 10,
   "metadata": {},
   "outputs": [
    {
     "data": {
      "text/plain": [
       "['/home/ubuntu/Atlas_in_MNI_Space_16_bundles/bundles/AF_L.trk',\n",
       " '/home/ubuntu/Atlas_in_MNI_Space_16_bundles/bundles/AF_R.trk',\n",
       " '/home/ubuntu/Atlas_in_MNI_Space_16_bundles/bundles/CCMid.trk',\n",
       " '/home/ubuntu/Atlas_in_MNI_Space_16_bundles/bundles/CC_ForcepsMajor.trk',\n",
       " '/home/ubuntu/Atlas_in_MNI_Space_16_bundles/bundles/CC_ForcepsMinor.trk',\n",
       " '/home/ubuntu/Atlas_in_MNI_Space_16_bundles/bundles/CST_L.trk',\n",
       " '/home/ubuntu/Atlas_in_MNI_Space_16_bundles/bundles/CST_R.trk',\n",
       " '/home/ubuntu/Atlas_in_MNI_Space_16_bundles/bundles/C_L.trk',\n",
       " '/home/ubuntu/Atlas_in_MNI_Space_16_bundles/bundles/C_R.trk',\n",
       " '/home/ubuntu/Atlas_in_MNI_Space_16_bundles/bundles/F_L.trk',\n",
       " '/home/ubuntu/Atlas_in_MNI_Space_16_bundles/bundles/F_R.trk',\n",
       " '/home/ubuntu/Atlas_in_MNI_Space_16_bundles/bundles/IF0F_R.trk',\n",
       " '/home/ubuntu/Atlas_in_MNI_Space_16_bundles/bundles/IFOF_L.trk',\n",
       " '/home/ubuntu/Atlas_in_MNI_Space_16_bundles/bundles/MCP.trk',\n",
       " '/home/ubuntu/Atlas_in_MNI_Space_16_bundles/bundles/UF_L.trk',\n",
       " '/home/ubuntu/Atlas_in_MNI_Space_16_bundles/bundles/UF_R.trk']"
      ]
     },
     "execution_count": 10,
     "metadata": {},
     "output_type": "execute_result"
    }
   ],
   "source": [
    "bundle_files"
   ]
  },
  {
   "cell_type": "code",
   "execution_count": 11,
   "metadata": {},
   "outputs": [],
   "source": [
    "n_streamlines = []\n",
    "bundle_names = []\n",
    "for fname in bundle_files:\n",
    "    bundle_names.append(fname.split('/')[-1].split('bundles_')[-1].split('.trk')[0])\n",
    "    streamlines = bn.read_sl(fname) \n",
    "    n_streamlines.append(len(streamlines))\n"
   ]
  },
  {
   "cell_type": "code",
   "execution_count": 12,
   "metadata": {},
   "outputs": [
    {
     "data": {
      "text/plain": [
       "(72, 16)"
      ]
     },
     "execution_count": 12,
     "metadata": {},
     "output_type": "execute_result"
    }
   ],
   "source": [
    "np.min(n_streamlines), len(n_streamlines)"
   ]
  },
  {
   "cell_type": "code",
   "execution_count": 13,
   "metadata": {},
   "outputs": [
    {
     "data": {
      "text/plain": [
       "[2010,\n",
       " 1145,\n",
       " 525,\n",
       " 365,\n",
       " 565,\n",
       " 2528,\n",
       " 2470,\n",
       " 1890,\n",
       " 2185,\n",
       " 72,\n",
       " 106,\n",
       " 2393,\n",
       " 1228,\n",
       " 1690,\n",
       " 370,\n",
       " 328]"
      ]
     },
     "execution_count": 13,
     "metadata": {},
     "output_type": "execute_result"
    }
   ],
   "source": [
    "n_streamlines"
   ]
  },
  {
   "cell_type": "code",
   "execution_count": 20,
   "metadata": {},
   "outputs": [],
   "source": [
    "take_n_bundles = len(n_streamlines)\n",
    "take_n_sl = np.min(n_streamlines)\n",
    "\n",
    "test_perc=0\n",
    "val_perc=0.2\n",
    "size_slimage = 100"
   ]
  },
  {
   "cell_type": "code",
   "execution_count": 21,
   "metadata": {
    "scrolled": false
   },
   "outputs": [
    {
     "name": "stdout",
     "output_type": "stream",
     "text": [
      "0\n",
      "0\n",
      "0\n",
      "0\n",
      "0\n",
      "0\n",
      "0\n",
      "0\n",
      "0\n",
      "0\n",
      "0\n",
      "0\n",
      "0\n",
      "0\n",
      "0\n",
      "0\n"
     ]
    }
   ],
   "source": [
    "import imp  \n",
    "imp.reload(bn)\n",
    "streamlines_loaded = db.from_sequence(bundle_files).map(bn.read_sl_mni).compute()\n",
    "streamlines_processed = db.from_sequence(streamlines_loaded).map(bn.process_sl_onedirection,take_n_sl,vol_shape,size_slimage,2).compute() \n",
    "data_train_0, data_test_0, data_val_0, labels_train_0, labels_test_0, labels_val_0 = bn.partition_testtrain_onedirection(test_perc, val_perc, streamlines_processed,0)\n",
    "data_train_1, data_test_1, data_val_1, labels_train_1, labels_test_1, labels_val_1 = bn.partition_testtrain_onedirection(test_perc, val_perc, streamlines_processed,1)\n",
    "data_train_2, data_test_2, data_val_2, labels_train_2, labels_test_2, labels_val_2 = bn.partition_testtrain_onedirection(test_perc, val_perc, streamlines_processed,2)\n",
    "\n",
    "labels_train_0_cat = keras.utils.to_categorical(labels_train_0, take_n_bundles)\n",
    "labels_val_0_cat  = keras.utils.to_categorical(labels_val_0, take_n_bundles)\n",
    "labels_test_0_cat  = keras.utils.to_categorical(labels_test_0, take_n_bundles)\n",
    "\n",
    "labels_train_1_cat = keras.utils.to_categorical(labels_train_1, take_n_bundles)\n",
    "labels_val_1_cat  = keras.utils.to_categorical(labels_val_1, take_n_bundles)\n",
    "labels_test_1_cat  = keras.utils.to_categorical(labels_test_1, take_n_bundles)\n",
    "\n",
    "labels_train_2_cat = keras.utils.to_categorical(labels_train_2, take_n_bundles)\n",
    "labels_val_2_cat  = keras.utils.to_categorical(labels_val_2, take_n_bundles)\n",
    "labels_test_2_cat  = keras.utils.to_categorical(labels_test_2, take_n_bundles)"
   ]
  },
  {
   "cell_type": "code",
   "execution_count": 16,
   "metadata": {},
   "outputs": [
    {
     "data": {
      "text/plain": [
       "<matplotlib.image.AxesImage at 0x7f60203557f0>"
      ]
     },
     "execution_count": 16,
     "metadata": {},
     "output_type": "execute_result"
    },
    {
     "data": {
      "image/png": "[encoded data removed]",
      "text/plain": [
       "<Figure size 432x288 with 1 Axes>"
      ]
     },
     "metadata": {},
     "output_type": "display_data"
    }
   ],
   "source": [
    "plt.imshow(streamlines_processed[10][2][1,:,:,0])"
   ]
  },
  {
   "cell_type": "code",
   "execution_count": 22,
   "metadata": {},
   "outputs": [],
   "source": [
    "img_rows = size_slimage\n",
    "img_cols = size_slimage\n",
    "batch_size = 4\n",
    "epochs = 20\n",
    "num_classes = take_n_bundles\n",
    "input_shape = (img_rows, img_cols,1)"
   ]
  },
  {
   "cell_type": "code",
   "execution_count": 26,
   "metadata": {},
   "outputs": [],
   "source": [
    "data_aug = 0"
   ]
  },
  {
   "cell_type": "code",
   "execution_count": 24,
   "metadata": {},
   "outputs": [
    {
     "name": "stdout",
     "output_type": "stream",
     "text": [
      "Train on 921 samples, validate on 231 samples\n",
      "Epoch 1/20\n",
      "921/921 [==============================] - 4s 4ms/step - loss: 0.8239 - acc: 0.6992 - val_loss: 0.4564 - val_acc: 0.7835\n",
      "Epoch 2/20\n",
      "921/921 [==============================] - 3s 3ms/step - loss: 0.4682 - acc: 0.7883 - val_loss: 0.4923 - val_acc: 0.7403\n",
      "Epoch 3/20\n",
      "921/921 [==============================] - 3s 3ms/step - loss: 0.3571 - acc: 0.8426 - val_loss: 0.3203 - val_acc: 0.8398\n",
      "Epoch 4/20\n",
      "921/921 [==============================] - 3s 3ms/step - loss: 0.2908 - acc: 0.8654 - val_loss: 0.3349 - val_acc: 0.8485\n",
      "Epoch 5/20\n",
      "921/921 [==============================] - 3s 3ms/step - loss: 0.2890 - acc: 0.8730 - val_loss: 0.3227 - val_acc: 0.8485\n",
      "Epoch 6/20\n",
      "921/921 [==============================] - 3s 3ms/step - loss: 0.2642 - acc: 0.8860 - val_loss: 0.2852 - val_acc: 0.8701\n",
      "Epoch 7/20\n",
      "921/921 [==============================] - 3s 3ms/step - loss: 0.2263 - acc: 0.9023 - val_loss: 0.3475 - val_acc: 0.8312\n",
      "Epoch 8/20\n",
      "921/921 [==============================] - 3s 3ms/step - loss: 0.2006 - acc: 0.9099 - val_loss: 0.3166 - val_acc: 0.9134\n",
      "Epoch 9/20\n",
      "921/921 [==============================] - 3s 3ms/step - loss: 0.1926 - acc: 0.9164 - val_loss: 0.1992 - val_acc: 0.9048\n",
      "Epoch 10/20\n",
      "921/921 [==============================] - 3s 3ms/step - loss: 0.1689 - acc: 0.9283 - val_loss: 0.3088 - val_acc: 0.8745\n",
      "Epoch 11/20\n",
      "921/921 [==============================] - 3s 3ms/step - loss: 0.1589 - acc: 0.9273 - val_loss: 0.2078 - val_acc: 0.9177\n",
      "Epoch 12/20\n",
      "921/921 [==============================] - 3s 3ms/step - loss: 0.1415 - acc: 0.9457 - val_loss: 0.2461 - val_acc: 0.9134\n",
      "Epoch 13/20\n",
      "921/921 [==============================] - 3s 3ms/step - loss: 0.1163 - acc: 0.9555 - val_loss: 0.2019 - val_acc: 0.9221\n",
      "Epoch 14/20\n",
      "921/921 [==============================] - 3s 3ms/step - loss: 0.1042 - acc: 0.9555 - val_loss: 0.1754 - val_acc: 0.9307\n",
      "Epoch 15/20\n",
      "921/921 [==============================] - 3s 3ms/step - loss: 0.1182 - acc: 0.9501 - val_loss: 0.1769 - val_acc: 0.9264\n",
      "Epoch 16/20\n",
      "921/921 [==============================] - 3s 3ms/step - loss: 0.1171 - acc: 0.9555 - val_loss: 0.2124 - val_acc: 0.9134\n",
      "Epoch 17/20\n",
      "921/921 [==============================] - 3s 3ms/step - loss: 0.0776 - acc: 0.9653 - val_loss: 0.2341 - val_acc: 0.8961\n",
      "Epoch 18/20\n",
      "921/921 [==============================] - 3s 3ms/step - loss: 0.0582 - acc: 0.9750 - val_loss: 0.2627 - val_acc: 0.9177\n",
      "Epoch 19/20\n",
      "921/921 [==============================] - 3s 3ms/step - loss: 0.0793 - acc: 0.9685 - val_loss: 0.2188 - val_acc: 0.9264\n",
      "Epoch 20/20\n",
      "921/921 [==============================] - 3s 3ms/step - loss: 0.1204 - acc: 0.9598 - val_loss: 0.2962 - val_acc: 0.9221\n"
     ]
    },
    {
     "data": {
      "image/png": "[encoded data removed]",
      "text/plain": [
       "<Figure size 432x288 with 1 Axes>"
      ]
     },
     "metadata": {},
     "output_type": "display_data"
    }
   ],
   "source": [
    "import imp  \n",
    "imp.reload(bn)\n",
    "model_0 = bn.trainmodel(data_train_0, labels_train_0_cat, labels_train_0, data_val_0, labels_val_0_cat, data_test_0, labels_test_0_cat, input_shape, num_classes, batch_size, epochs, data_aug, 2000)"
   ]
  },
  {
   "cell_type": "code",
   "execution_count": 27,
   "metadata": {},
   "outputs": [
    {
     "name": "stdout",
     "output_type": "stream",
     "text": [
      "Train on 921 samples, validate on 231 samples\n",
      "Epoch 1/20\n",
      "921/921 [==============================] - 4s 4ms/step - loss: 0.2985 - acc: 0.9110 - val_loss: 0.0020 - val_acc: 1.0000\n",
      "Epoch 2/20\n",
      "921/921 [==============================] - 3s 3ms/step - loss: 0.0386 - acc: 0.9870 - val_loss: 9.3180e-04 - val_acc: 1.0000\n",
      "Epoch 3/20\n",
      "921/921 [==============================] - 3s 3ms/step - loss: 0.0362 - acc: 0.9891 - val_loss: 0.0092 - val_acc: 0.9957\n",
      "Epoch 4/20\n",
      "921/921 [==============================] - 3s 3ms/step - loss: 0.0248 - acc: 0.9946 - val_loss: 7.9706e-04 - val_acc: 1.0000\n",
      "Epoch 5/20\n",
      "921/921 [==============================] - 3s 3ms/step - loss: 5.7869e-04 - acc: 1.0000 - val_loss: 8.3843e-06 - val_acc: 1.0000\n",
      "Epoch 6/20\n",
      "921/921 [==============================] - 3s 3ms/step - loss: 1.2050e-04 - acc: 1.0000 - val_loss: 3.9114e-06 - val_acc: 1.0000\n",
      "Epoch 7/20\n",
      "921/921 [==============================] - 3s 3ms/step - loss: 1.0616e-04 - acc: 1.0000 - val_loss: 1.9995e-06 - val_acc: 1.0000\n",
      "Epoch 8/20\n",
      "921/921 [==============================] - 3s 3ms/step - loss: 1.8793e-05 - acc: 1.0000 - val_loss: 1.4742e-06 - val_acc: 1.0000\n",
      "Epoch 9/20\n",
      "921/921 [==============================] - 3s 3ms/step - loss: 2.6391e-05 - acc: 1.0000 - val_loss: 1.0559e-06 - val_acc: 1.0000\n",
      "Epoch 10/20\n",
      "921/921 [==============================] - 3s 3ms/step - loss: 1.0301e-05 - acc: 1.0000 - val_loss: 9.1292e-07 - val_acc: 1.0000\n",
      "Epoch 11/20\n",
      "921/921 [==============================] - 3s 3ms/step - loss: 2.0673e-05 - acc: 1.0000 - val_loss: 7.1423e-07 - val_acc: 1.0000\n",
      "Epoch 12/20\n",
      "921/921 [==============================] - 3s 3ms/step - loss: 1.0082e-05 - acc: 1.0000 - val_loss: 5.7980e-07 - val_acc: 1.0000\n",
      "Epoch 13/20\n",
      "921/921 [==============================] - 3s 3ms/step - loss: 3.1047e-04 - acc: 1.0000 - val_loss: 1.3814e-05 - val_acc: 1.0000\n",
      "Epoch 14/20\n",
      "921/921 [==============================] - 3s 3ms/step - loss: 1.4068e-04 - acc: 1.0000 - val_loss: 2.8022e-07 - val_acc: 1.0000\n",
      "Epoch 15/20\n",
      "921/921 [==============================] - 3s 3ms/step - loss: 8.9373e-05 - acc: 1.0000 - val_loss: 3.3054e-07 - val_acc: 1.0000\n",
      "Epoch 16/20\n",
      "921/921 [==============================] - 3s 3ms/step - loss: 2.5357e-06 - acc: 1.0000 - val_loss: 2.7816e-07 - val_acc: 1.0000\n",
      "Epoch 17/20\n",
      "921/921 [==============================] - 3s 3ms/step - loss: 0.2305 - acc: 0.9718 - val_loss: 0.0967 - val_acc: 0.9913\n",
      "Epoch 18/20\n",
      "921/921 [==============================] - 3s 3ms/step - loss: 0.1742 - acc: 0.9794 - val_loss: 0.0092 - val_acc: 0.9957\n",
      "Epoch 19/20\n",
      "921/921 [==============================] - 3s 3ms/step - loss: 0.0606 - acc: 0.9935 - val_loss: 1.7895e-05 - val_acc: 1.0000\n",
      "Epoch 20/20\n",
      "921/921 [==============================] - 3s 3ms/step - loss: 2.0332e-04 - acc: 1.0000 - val_loss: 7.9643e-06 - val_acc: 1.0000\n"
     ]
    },
    {
     "data": {
      "image/png": "[encoded data removed]",
      "text/plain": [
       "<Figure size 432x288 with 1 Axes>"
      ]
     },
     "metadata": {},
     "output_type": "display_data"
    }
   ],
   "source": [
    "model_1 = bn.trainmodel(data_train_1, labels_train_1_cat, labels_train_1, data_val_1, labels_val_1_cat, data_test_1, labels_test_1_cat, input_shape, num_classes, batch_size, epochs, data_aug, 2000)"
   ]
  },
  {
   "cell_type": "code",
   "execution_count": 28,
   "metadata": {},
   "outputs": [
    {
     "name": "stdout",
     "output_type": "stream",
     "text": [
      "Train on 921 samples, validate on 231 samples\n",
      "Epoch 1/20\n",
      "921/921 [==============================] - 4s 4ms/step - loss: 0.2934 - acc: 0.9045 - val_loss: 0.0018 - val_acc: 1.0000\n",
      "Epoch 2/20\n",
      "921/921 [==============================] - 3s 3ms/step - loss: 0.0153 - acc: 0.9957 - val_loss: 1.7955e-04 - val_acc: 1.0000\n",
      "Epoch 3/20\n",
      "921/921 [==============================] - 3s 3ms/step - loss: 9.6893e-04 - acc: 1.0000 - val_loss: 1.6848e-04 - val_acc: 1.0000\n",
      "Epoch 4/20\n",
      "921/921 [==============================] - 3s 3ms/step - loss: 9.4416e-04 - acc: 1.0000 - val_loss: 3.5782e-05 - val_acc: 1.0000\n",
      "Epoch 5/20\n",
      "921/921 [==============================] - 3s 3ms/step - loss: 0.0191 - acc: 0.9978 - val_loss: 0.0064 - val_acc: 1.0000\n",
      "Epoch 6/20\n",
      "921/921 [==============================] - 3s 3ms/step - loss: 0.0926 - acc: 0.9805 - val_loss: 0.0051 - val_acc: 1.0000\n",
      "Epoch 7/20\n",
      "921/921 [==============================] - 3s 3ms/step - loss: 0.0184 - acc: 0.9924 - val_loss: 0.0078 - val_acc: 0.9957\n",
      "Epoch 8/20\n",
      "921/921 [==============================] - 3s 3ms/step - loss: 9.2694e-04 - acc: 1.0000 - val_loss: 0.0050 - val_acc: 0.9957\n",
      "Epoch 9/20\n",
      "921/921 [==============================] - 3s 3ms/step - loss: 2.2895e-04 - acc: 1.0000 - val_loss: 0.0019 - val_acc: 1.0000\n",
      "Epoch 10/20\n",
      "921/921 [==============================] - 3s 3ms/step - loss: 2.0337e-04 - acc: 1.0000 - val_loss: 0.0013 - val_acc: 1.0000\n",
      "Epoch 11/20\n",
      "921/921 [==============================] - 3s 3ms/step - loss: 6.6651e-05 - acc: 1.0000 - val_loss: 9.3933e-04 - val_acc: 1.0000\n",
      "Epoch 12/20\n",
      "921/921 [==============================] - 3s 3ms/step - loss: 3.1912e-04 - acc: 1.0000 - val_loss: 6.2935e-07 - val_acc: 1.0000\n",
      "Epoch 13/20\n",
      "921/921 [==============================] - 3s 3ms/step - loss: 8.3881e-06 - acc: 1.0000 - val_loss: 5.3542e-07 - val_acc: 1.0000\n",
      "Epoch 14/20\n",
      "921/921 [==============================] - 3s 3ms/step - loss: 6.3823e-05 - acc: 1.0000 - val_loss: 4.4201e-07 - val_acc: 1.0000\n",
      "Epoch 15/20\n",
      "921/921 [==============================] - 3s 3ms/step - loss: 2.2243e-05 - acc: 1.0000 - val_loss: 2.6964e-07 - val_acc: 1.0000\n",
      "Epoch 16/20\n",
      "921/921 [==============================] - 3s 3ms/step - loss: 1.0848e-04 - acc: 1.0000 - val_loss: 3.0658e-06 - val_acc: 1.0000\n",
      "Epoch 17/20\n",
      "921/921 [==============================] - 3s 3ms/step - loss: 0.0720 - acc: 0.9891 - val_loss: 0.9053 - val_acc: 0.9264\n",
      "Epoch 18/20\n",
      "921/921 [==============================] - 3s 3ms/step - loss: 0.6614 - acc: 0.9457 - val_loss: 3.1395e-04 - val_acc: 1.0000\n",
      "Epoch 19/20\n",
      "921/921 [==============================] - 3s 3ms/step - loss: 0.2497 - acc: 0.9805 - val_loss: 0.1396 - val_acc: 0.9913\n",
      "Epoch 20/20\n",
      "921/921 [==============================] - 3s 3ms/step - loss: 0.2074 - acc: 0.9859 - val_loss: 0.1396 - val_acc: 0.9913\n"
     ]
    },
    {
     "data": {
      "image/png": "[encoded data removed]",
      "text/plain": [
       "<Figure size 432x288 with 1 Axes>"
      ]
     },
     "metadata": {},
     "output_type": "display_data"
    }
   ],
   "source": [
    "model_2 = bn.trainmodel(data_train_2, labels_train_2_cat, labels_train_2, data_val_2, labels_val_2_cat, data_test_2, labels_test_2_cat, input_shape, num_classes, batch_size, epochs, data_aug, 2000)"
   ]
  },
  {
   "cell_type": "code",
   "execution_count": 29,
   "metadata": {},
   "outputs": [
    {
     "data": {
      "text/plain": [
       "(182, 218, 182)"
      ]
     },
     "execution_count": 29,
     "metadata": {},
     "output_type": "execute_result"
    }
   ],
   "source": [
    "sub2_t1_img = nib.load('/home/ubuntu/MNI152_T1_1mm_brain.nii.gz')\n",
    "vol_shape_subj2=sub2_t1_img.shape[0:3]\n",
    "vol_shape_subj2"
   ]
  },
  {
   "cell_type": "code",
   "execution_count": 30,
   "metadata": {},
   "outputs": [],
   "source": [
    "streamlines_all = bn.read_sl_mni('/home/ubuntu/recobundles/100307/out_work/whole_brain_MNI_tracks_from_sh__moved.trk') "
   ]
  },
  {
   "cell_type": "code",
   "execution_count": 31,
   "metadata": {},
   "outputs": [
    {
     "data": {
      "text/plain": [
       "array([ 0.,  0.,  0., ..., 15., 15., 15.])"
      ]
     },
     "execution_count": 31,
     "metadata": {},
     "output_type": "execute_result"
    }
   ],
   "source": [
    "#get the indicdes that correspond to bundles in streamlines_all\n",
    "map_files = sorted(glob('/home/ubuntu/recobundles/100307/out_work/rrbs/whole_brain_MNI_tracks_from_sh__moved_*.npy'))\n",
    "map_file_index = []\n",
    "labels_s1 = []\n",
    "for m_idx, m in enumerate(map_files):\n",
    "    tmp = np.load(m)\n",
    "    map_file_index = np.append(map_file_index,tmp)\n",
    "    labels_s1 = np.append(labels_s1,m_idx*np.ones([len(tmp),1]))\n",
    "labels_s1"
   ]
  },
  {
   "cell_type": "code",
   "execution_count": 32,
   "metadata": {},
   "outputs": [],
   "source": [
    "#get an equal number of unlabelled streamlines\n",
    "ind = range(len(streamlines_all))\n",
    "ind = np.delete(ind,map_file_index)\n",
    "np.random.shuffle(ind)\n",
    "unlabeled_streamlines = ind[0:len(map_file_index)]\n",
    "labels_s1 = np.append(labels_s1,16*np.ones([len(map_file_index),1]))"
   ]
  },
  {
   "cell_type": "code",
   "execution_count": 33,
   "metadata": {},
   "outputs": [
    {
     "data": {
      "text/plain": [
       "array([186748., 199724., 199806., ...,  40121., 160100.,   2108.])"
      ]
     },
     "execution_count": 33,
     "metadata": {},
     "output_type": "execute_result"
    }
   ],
   "source": [
    "np.append(map_file_index,unlabeled_streamlines)"
   ]
  },
  {
   "cell_type": "code",
   "execution_count": 34,
   "metadata": {},
   "outputs": [
    {
     "data": {
      "text/plain": [
       "57386"
      ]
     },
     "execution_count": 34,
     "metadata": {},
     "output_type": "execute_result"
    }
   ],
   "source": [
    "streamlines_all_sub = [streamlines_all[i] for i in np.int_(np.append(map_file_index,unlabeled_streamlines))]\n",
    "len(streamlines_all_sub)\n",
    "len(labels_s1)"
   ]
  },
  {
   "cell_type": "code",
   "execution_count": 35,
   "metadata": {},
   "outputs": [
    {
     "name": "stdout",
     "output_type": "stream",
     "text": [
      "0\n",
      "1000\n",
      "2000\n",
      "3000\n",
      "4000\n",
      "5000\n",
      "6000\n",
      "7000\n",
      "8000\n",
      "9000\n",
      "10000\n",
      "11000\n",
      "12000\n",
      "13000\n",
      "14000\n",
      "15000\n",
      "16000\n",
      "17000\n",
      "18000\n",
      "19000\n",
      "20000\n",
      "21000\n",
      "22000\n",
      "23000\n",
      "24000\n",
      "25000\n",
      "26000\n",
      "27000\n",
      "28000\n",
      "29000\n",
      "30000\n",
      "31000\n",
      "32000\n",
      "33000\n",
      "34000\n",
      "35000\n",
      "36000\n",
      "37000\n",
      "38000\n",
      "39000\n",
      "40000\n",
      "41000\n",
      "42000\n",
      "43000\n",
      "44000\n",
      "45000\n",
      "46000\n",
      "47000\n",
      "48000\n",
      "49000\n",
      "50000\n",
      "51000\n",
      "52000\n",
      "53000\n",
      "54000\n",
      "55000\n",
      "56000\n",
      "57000\n"
     ]
    }
   ],
   "source": [
    "import imp  \n",
    "imp.reload(bn)\n",
    "streamlines_all_processed = bn.process_sl_onedirection(streamlines_all_sub,-1,vol_shape_subj2,size_slimage,2)"
   ]
  },
  {
   "cell_type": "code",
   "execution_count": 36,
   "metadata": {},
   "outputs": [],
   "source": [
    "p_s1_0 = model_0.predict(streamlines_all_processed[0], batch_size=5)"
   ]
  },
  {
   "cell_type": "code",
   "execution_count": 37,
   "metadata": {},
   "outputs": [],
   "source": [
    "p_s1_1 = model_1.predict(streamlines_all_processed[1], batch_size=5)"
   ]
  },
  {
   "cell_type": "code",
   "execution_count": 38,
   "metadata": {},
   "outputs": [],
   "source": [
    "p_s1_2 = model_2.predict(streamlines_all_processed[2], batch_size=5)"
   ]
  },
  {
   "cell_type": "code",
   "execution_count": 39,
   "metadata": {},
   "outputs": [
    {
     "data": {
      "text/plain": [
       "(array([ 1936., 12441.,  4415.,  4830.,   639.,   722.,  1238.,  1333.,\n",
       "         1047., 28785.]),\n",
       " array([ 0. ,  1.6,  3.2,  4.8,  6.4,  8. ,  9.6, 11.2, 12.8, 14.4, 16. ]),\n",
       " <a list of 10 Patch objects>)"
      ]
     },
     "execution_count": 39,
     "metadata": {},
     "output_type": "execute_result"
    },
    {
     "data": {
      "image/png": "[encoded data removed]",
      "text/plain": [
       "<Figure size 432x288 with 1 Axes>"
      ]
     },
     "metadata": {},
     "output_type": "display_data"
    }
   ],
   "source": [
    "plt.hist(labels_s1)"
   ]
  },
  {
   "cell_type": "code",
   "execution_count": 40,
   "metadata": {},
   "outputs": [
    {
     "name": "stdout",
     "output_type": "stream",
     "text": [
      "Percent correct is 0.8455720907538424 \n",
      "Kappa is: 0.8130992355595756\n",
      "Jaccard is: 0.8455720907538424\n"
     ]
    }
   ],
   "source": [
    "p_idx = np.argmax(p_s1_0, axis=-1)\n",
    "p_idx_all = p_idx\n",
    "bn.print_accuarcystats(p_idx[labels_s1<16],labels_s1[labels_s1<16])"
   ]
  },
  {
   "cell_type": "code",
   "execution_count": 41,
   "metadata": {},
   "outputs": [
    {
     "name": "stdout",
     "output_type": "stream",
     "text": [
      "Percent correct is 0.9667166207785871 \n",
      "Kappa is: 0.9597925554778515\n",
      "Jaccard is: 0.9667166207785871\n"
     ]
    }
   ],
   "source": [
    "p_idx = np.argmax(p_s1_1, axis=-1)\n",
    "p_idx_all = np.column_stack((p_idx_all, p_idx))\n",
    "bn.print_accuarcystats(p_idx[labels_s1<16],labels_s1[labels_s1<16])"
   ]
  },
  {
   "cell_type": "code",
   "execution_count": 42,
   "metadata": {},
   "outputs": [
    {
     "name": "stdout",
     "output_type": "stream",
     "text": [
      "Percent correct is 0.9541700066218242 \n",
      "Kappa is: 0.9448857298292371\n",
      "Jaccard is: 0.9541700066218242\n"
     ]
    }
   ],
   "source": [
    "p_idx = np.argmax(p_s1_2, axis=-1)\n",
    "p_idx_all = np.column_stack((p_idx_all, p_idx))\n",
    "bn.print_accuarcystats(p_idx[labels_s1<16],labels_s1[labels_s1<16])"
   ]
  },
  {
   "cell_type": "code",
   "execution_count": 43,
   "metadata": {},
   "outputs": [
    {
     "data": {
      "text/plain": [
       "[<matplotlib.lines.Line2D at 0x7f600f833be0>,\n",
       " <matplotlib.lines.Line2D at 0x7f600f833cf8>,\n",
       " <matplotlib.lines.Line2D at 0x7f600f83a1d0>]"
      ]
     },
     "execution_count": 43,
     "metadata": {},
     "output_type": "execute_result"
    },
    {
     "data": {
      "image/png": "[encoded data removed]",
      "text/plain": [
       "<Figure size 432x288 with 1 Axes>"
      ]
     },
     "metadata": {},
     "output_type": "display_data"
    }
   ],
   "source": [
    "labels_s1==2\n",
    "bund0 = p_idx_all[labels_s1==1,:]\n",
    "bund0\n",
    "plt.plot(bund0[:,0], 'ro',bund0[:,1], 'go',bund0[:,2], 'bo')"
   ]
  },
  {
   "cell_type": "code",
   "execution_count": 44,
   "metadata": {},
   "outputs": [
    {
     "data": {
      "text/plain": [
       "[<matplotlib.lines.Line2D at 0x7f600f7d75f8>,\n",
       " <matplotlib.lines.Line2D at 0x7f600f7d7710>,\n",
       " <matplotlib.lines.Line2D at 0x7f600f7d7ba8>]"
      ]
     },
     "execution_count": 44,
     "metadata": {},
     "output_type": "execute_result"
    },
    {
     "data": {
      "image/png": "[encoded data removed]",
      "text/plain": [
       "<Figure size 432x288 with 1 Axes>"
      ]
     },
     "metadata": {},
     "output_type": "display_data"
    }
   ],
   "source": [
    "plt.plot(p_idx_all[:,0], 'ro',p_idx_all[:,1], 'go',p_idx_all[:,2], 'bo')"
   ]
  },
  {
   "cell_type": "code",
   "execution_count": 45,
   "metadata": {},
   "outputs": [
    {
     "data": {
      "text/plain": [
       "2"
      ]
     },
     "execution_count": 45,
     "metadata": {},
     "output_type": "execute_result"
    }
   ],
   "source": [
    "len(np.unique(p_idx_all[0,:]))"
   ]
  },
  {
   "cell_type": "code",
   "execution_count": 46,
   "metadata": {},
   "outputs": [
    {
     "data": {
      "text/plain": [
       "array([[2.],\n",
       "       [1.],\n",
       "       [1.],\n",
       "       ...,\n",
       "       [3.],\n",
       "       [3.],\n",
       "       [3.]])"
      ]
     },
     "execution_count": 46,
     "metadata": {},
     "output_type": "execute_result"
    }
   ],
   "source": [
    "unique_vals = np.zeros((len(p_idx_all),1))\n",
    "for i in range(len(p_idx_all)):\n",
    "    unique_vals[i] = len(np.unique(p_idx_all[i,:]))\n",
    "unique_vals"
   ]
  },
  {
   "cell_type": "code",
   "execution_count": 47,
   "metadata": {},
   "outputs": [],
   "source": [
    "perc_onelabel = np.zeros((17,1))\n",
    "perc_twolabel = np.zeros((17,1))\n",
    "perc_threelabel = np.zeros((17,1))\n",
    "\n",
    "for i in range(17):\n",
    "    ind = labels_s1 == i\n",
    "    perc_onelabel[i] = np.sum(unique_vals[ind]==1)/np.sum(ind)\n",
    "    perc_twolabel[i] = np.sum(unique_vals[ind]==2)/np.sum(ind)\n",
    "    perc_threelabel[i] = np.sum(unique_vals[ind]==3)/np.sum(ind)"
   ]
  },
  {
   "cell_type": "code",
   "execution_count": 48,
   "metadata": {},
   "outputs": [
    {
     "data": {
      "text/plain": [
       "array([[0.80681074],\n",
       "       [0.22982885],\n",
       "       [0.93346084],\n",
       "       [0.92381332],\n",
       "       [0.93023783],\n",
       "       [0.66693101],\n",
       "       [0.38691508],\n",
       "       [0.43035994],\n",
       "       [0.80834621],\n",
       "       [0.05333333],\n",
       "       [0.92647059],\n",
       "       [0.59709619],\n",
       "       [0.6264066 ],\n",
       "       [0.472     ],\n",
       "       [0.60465116],\n",
       "       [0.32608696],\n",
       "       [0.12916042]])"
      ]
     },
     "execution_count": 48,
     "metadata": {},
     "output_type": "execute_result"
    }
   ],
   "source": [
    "perc_onelabel"
   ]
  },
  {
   "cell_type": "code",
   "execution_count": 49,
   "metadata": {},
   "outputs": [
    {
     "data": {
      "text/plain": [
       "array([[0.1918795 ],\n",
       "       [0.77017115],\n",
       "       [0.0619086 ],\n",
       "       [0.07618668],\n",
       "       [0.06432616],\n",
       "       [0.32910389],\n",
       "       [0.61308492],\n",
       "       [0.55242567],\n",
       "       [0.18547141],\n",
       "       [0.77333333],\n",
       "       [0.07352941],\n",
       "       [0.36206897],\n",
       "       [0.3735934 ],\n",
       "       [0.40114286],\n",
       "       [0.36046512],\n",
       "       [0.67391304],\n",
       "       [0.45690587]])"
      ]
     },
     "execution_count": 49,
     "metadata": {},
     "output_type": "execute_result"
    }
   ],
   "source": [
    "perc_twolabel"
   ]
  },
  {
   "cell_type": "code",
   "execution_count": 50,
   "metadata": {},
   "outputs": [
    {
     "data": {
      "text/plain": [
       "array([[0.00130976],\n",
       "       [0.        ],\n",
       "       [0.00463056],\n",
       "       [0.        ],\n",
       "       [0.00543601],\n",
       "       [0.00396511],\n",
       "       [0.        ],\n",
       "       [0.0172144 ],\n",
       "       [0.00618238],\n",
       "       [0.17333333],\n",
       "       [0.        ],\n",
       "       [0.04083485],\n",
       "       [0.        ],\n",
       "       [0.12685714],\n",
       "       [0.03488372],\n",
       "       [0.        ],\n",
       "       [0.41393371]])"
      ]
     },
     "execution_count": 50,
     "metadata": {},
     "output_type": "execute_result"
    }
   ],
   "source": [
    "perc_threelabel"
   ]
  },
  {
   "cell_type": "code",
   "execution_count": 51,
   "metadata": {},
   "outputs": [],
   "source": [
    "t = np.concatenate((p_s1_0,p_s1_1,p_s1_2),axis=1)"
   ]
  },
  {
   "cell_type": "code",
   "execution_count": 52,
   "metadata": {},
   "outputs": [
    {
     "data": {
      "text/plain": [
       "(57386, 48)"
      ]
     },
     "execution_count": 52,
     "metadata": {},
     "output_type": "execute_result"
    }
   ],
   "source": [
    "t.shape"
   ]
  },
  {
   "cell_type": "code",
   "execution_count": 53,
   "metadata": {},
   "outputs": [],
   "source": [
    "np.save('allprob_noaug.npy',t)"
   ]
  },
  {
   "cell_type": "code",
   "execution_count": 54,
   "metadata": {},
   "outputs": [
    {
     "data": {
      "text/plain": [
       "(57386,)"
      ]
     },
     "execution_count": 54,
     "metadata": {},
     "output_type": "execute_result"
    }
   ],
   "source": [
    "labels_s1.shape"
   ]
  },
  {
   "cell_type": "code",
   "execution_count": 55,
   "metadata": {},
   "outputs": [],
   "source": [
    "np.save('labels_noaug.npy',labels_s1)"
   ]
  },
  {
   "cell_type": "code",
   "execution_count": null,
   "metadata": {},
   "outputs": [],
   "source": []
  }
 ],
 "metadata": {
  "kernelspec": {
   "display_name": "Python 3",
   "language": "python",
   "name": "python3"
  },
  "language_info": {
   "codemirror_mode": {
    "name": "ipython",
    "version": 3
   },
   "file_extension": ".py",
   "mimetype": "text/x-python",
   "name": "python",
   "nbconvert_exporter": "python",
   "pygments_lexer": "ipython3",
   "version": "3.6.5"
  }
 },
 "nbformat": 4,
 "nbformat_minor": 1
}
