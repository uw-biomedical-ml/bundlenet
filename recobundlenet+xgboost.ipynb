{
 "cells": [
  {
   "cell_type": "code",
   "execution_count": 1,
   "metadata": {},
   "outputs": [],
   "source": [
    "from glob import glob\n",
    "import os.path as op\n",
    "import numpy as np\n",
    "import matplotlib.pyplot as plt\n",
    "\n",
    "import seaborn as sns\n",
    "\n",
    "%matplotlib inline"
   ]
  },
  {
   "cell_type": "code",
   "execution_count": 2,
   "metadata": {},
   "outputs": [],
   "source": [
    "import nibabel as nib\n",
    "from nibabel.streamlines import load as load_trk\n",
    "import dipy.tracking.streamline as dts\n",
    "import dipy.tracking.utils as dtu\n",
    "from skimage.transform import resize\n",
    "from scipy.ndimage.morphology import binary_dilation\n",
    "import dipy.data as dpd\n",
    "from sklearn.utils import class_weight"
   ]
  },
  {
   "cell_type": "code",
   "execution_count": 3,
   "metadata": {},
   "outputs": [
    {
     "name": "stderr",
     "output_type": "stream",
     "text": [
      "Using TensorFlow backend.\n"
     ]
    }
   ],
   "source": [
    "import keras\n",
    "from keras.callbacks import ModelCheckpoint\n",
    "from keras.models import Sequential\n",
    "from keras.layers import Dense, Dropout, Flatten, LeakyReLU\n",
    "from keras.layers import Conv2D, MaxPooling2D"
   ]
  },
  {
   "cell_type": "code",
   "execution_count": 4,
   "metadata": {},
   "outputs": [],
   "source": [
    "import bundlenet as bn"
   ]
  },
  {
   "cell_type": "code",
   "execution_count": 5,
   "metadata": {},
   "outputs": [],
   "source": [
    "import dask.bag as db\n",
    "import warnings\n",
    "warnings.filterwarnings('ignore')"
   ]
  },
  {
   "cell_type": "code",
   "execution_count": 6,
   "metadata": {},
   "outputs": [
    {
     "name": "stdout",
     "output_type": "stream",
     "text": [
      "AF_L.trk             CCMid.trk  CST_R.trk   IFOF_L.trk\r\n",
      "AF_R.trk             C_L.trk    F_L.trk     MCP.trk\r\n",
      "CC_ForcepsMajor.trk  C_R.trk    F_R.trk     UF_L.trk\r\n",
      "CC_ForcepsMinor.trk  CST_L.trk  IF0F_R.trk  UF_R.trk\r\n"
     ]
    }
   ],
   "source": [
    "ls /home/ubuntu/Atlas_in_MNI_Space_16_bundles/bundles"
   ]
  },
  {
   "cell_type": "code",
   "execution_count": 7,
   "metadata": {},
   "outputs": [],
   "source": [
    "bundle_files = sorted(glob('/home/ubuntu/Atlas_in_MNI_Space_16_bundles/bundles/*.trk'))"
   ]
  },
  {
   "cell_type": "code",
   "execution_count": 8,
   "metadata": {},
   "outputs": [
    {
     "data": {
      "text/plain": [
       "(182, 218, 182)"
      ]
     },
     "execution_count": 8,
     "metadata": {},
     "output_type": "execute_result"
    }
   ],
   "source": [
    "diff_img = nib.load('/home/ubuntu/MNI152_T1_1mm_brain.nii.gz')\n",
    "vol_shape=diff_img.shape[0:3]\n",
    "vol_shape"
   ]
  },
  {
   "cell_type": "code",
   "execution_count": 9,
   "metadata": {},
   "outputs": [
    {
     "data": {
      "text/plain": [
       "['/home/ubuntu/Atlas_in_MNI_Space_16_bundles/bundles/AF_L.trk',\n",
       " '/home/ubuntu/Atlas_in_MNI_Space_16_bundles/bundles/AF_R.trk',\n",
       " '/home/ubuntu/Atlas_in_MNI_Space_16_bundles/bundles/CCMid.trk',\n",
       " '/home/ubuntu/Atlas_in_MNI_Space_16_bundles/bundles/CC_ForcepsMajor.trk',\n",
       " '/home/ubuntu/Atlas_in_MNI_Space_16_bundles/bundles/CC_ForcepsMinor.trk',\n",
       " '/home/ubuntu/Atlas_in_MNI_Space_16_bundles/bundles/CST_L.trk',\n",
       " '/home/ubuntu/Atlas_in_MNI_Space_16_bundles/bundles/CST_R.trk',\n",
       " '/home/ubuntu/Atlas_in_MNI_Space_16_bundles/bundles/C_L.trk',\n",
       " '/home/ubuntu/Atlas_in_MNI_Space_16_bundles/bundles/C_R.trk',\n",
       " '/home/ubuntu/Atlas_in_MNI_Space_16_bundles/bundles/F_L.trk',\n",
       " '/home/ubuntu/Atlas_in_MNI_Space_16_bundles/bundles/F_R.trk',\n",
       " '/home/ubuntu/Atlas_in_MNI_Space_16_bundles/bundles/IF0F_R.trk',\n",
       " '/home/ubuntu/Atlas_in_MNI_Space_16_bundles/bundles/IFOF_L.trk',\n",
       " '/home/ubuntu/Atlas_in_MNI_Space_16_bundles/bundles/MCP.trk',\n",
       " '/home/ubuntu/Atlas_in_MNI_Space_16_bundles/bundles/UF_L.trk',\n",
       " '/home/ubuntu/Atlas_in_MNI_Space_16_bundles/bundles/UF_R.trk']"
      ]
     },
     "execution_count": 9,
     "metadata": {},
     "output_type": "execute_result"
    }
   ],
   "source": [
    "bundle_files"
   ]
  },
  {
   "cell_type": "code",
   "execution_count": 10,
   "metadata": {},
   "outputs": [],
   "source": [
    "n_streamlines = []\n",
    "bundle_names = []\n",
    "for fname in bundle_files:\n",
    "    bundle_names.append(fname.split('/')[-1].split('bundles_')[-1].split('.trk')[0])\n",
    "    streamlines = bn.read_sl(fname) \n",
    "    n_streamlines.append(len(streamlines))\n"
   ]
  },
  {
   "cell_type": "code",
   "execution_count": 11,
   "metadata": {},
   "outputs": [
    {
     "data": {
      "text/plain": [
       "(72, 16)"
      ]
     },
     "execution_count": 11,
     "metadata": {},
     "output_type": "execute_result"
    }
   ],
   "source": [
    "np.min(n_streamlines), len(n_streamlines)"
   ]
  },
  {
   "cell_type": "code",
   "execution_count": 12,
   "metadata": {},
   "outputs": [],
   "source": [
    "take_n_bundles = len(n_streamlines)\n",
    "take_n_sl = np.min(n_streamlines)\n",
    "\n",
    "test_perc=0\n",
    "val_perc=0.2\n",
    "size_slimage = 100"
   ]
  },
  {
   "cell_type": "code",
   "execution_count": 13,
   "metadata": {
    "scrolled": false
   },
   "outputs": [
    {
     "name": "stdout",
     "output_type": "stream",
     "text": [
      "0\n",
      "0\n",
      "0\n",
      "0\n",
      "0\n",
      "0\n",
      "0\n",
      "0\n",
      "0\n",
      "0\n",
      "0\n",
      "0\n",
      "0\n",
      "0\n",
      "0\n",
      "0\n"
     ]
    }
   ],
   "source": [
    "import imp  \n",
    "imp.reload(bn)\n",
    "streamlines_loaded = db.from_sequence(bundle_files).map(bn.read_sl_mni).compute()\n",
    "streamlines_processed = db.from_sequence(streamlines_loaded).map(bn.process_sl,take_n_sl,vol_shape,size_slimage,5).compute() \n",
    "data_train, data_test, data_val, labels_train, labels_test, labels_val = bn.partition_testtrain(test_perc, val_perc, streamlines_processed)"
   ]
  },
  {
   "cell_type": "code",
   "execution_count": 14,
   "metadata": {},
   "outputs": [
    {
     "data": {
      "text/plain": [
       "<matplotlib.image.AxesImage at 0x7f321bf98898>"
      ]
     },
     "execution_count": 14,
     "metadata": {},
     "output_type": "execute_result"
    },
    {
     "data": {
      "image/png": "[encoded data removed]",
      "text/plain": [
       "<Figure size 432x288 with 1 Axes>"
      ]
     },
     "metadata": {},
     "output_type": "display_data"
    }
   ],
   "source": [
    "plt.imshow(streamlines_processed[5][1,:,:,0])"
   ]
  },
  {
   "cell_type": "code",
   "execution_count": 15,
   "metadata": {},
   "outputs": [],
   "source": [
    "img_rows = size_slimage\n",
    "img_cols = size_slimage\n",
    "batch_size = 4\n",
    "epochs = 16\n",
    "num_classes = take_n_bundles\n",
    "input_shape = (img_rows, img_cols,1)"
   ]
  },
  {
   "cell_type": "code",
   "execution_count": 16,
   "metadata": {},
   "outputs": [],
   "source": [
    "class_weights = class_weight.compute_class_weight('balanced',\n",
    "                                                 np.unique(labels_train),\n",
    "                                                 labels_train)"
   ]
  },
  {
   "cell_type": "code",
   "execution_count": 17,
   "metadata": {},
   "outputs": [],
   "source": [
    "labels_train = keras.utils.to_categorical(labels_train, num_classes)\n",
    "labels_test  = keras.utils.to_categorical(labels_test, num_classes)\n",
    "labels_val  = keras.utils.to_categorical(labels_val, num_classes)"
   ]
  },
  {
   "cell_type": "code",
   "execution_count": 18,
   "metadata": {},
   "outputs": [],
   "source": [
    "model = Sequential()\n",
    "model.add(Conv2D(32, kernel_size=(3, 3),activation='linear',input_shape=input_shape,padding='same'))\n",
    "model.add(LeakyReLU(alpha=0.1))\n",
    "model.add(MaxPooling2D((2, 2),padding='same'))\n",
    "model.add(Dropout(0.25))\n",
    "model.add(Conv2D(64, (3, 3), activation='linear',padding='same'))\n",
    "model.add(LeakyReLU(alpha=0.1))\n",
    "model.add(MaxPooling2D(pool_size=(2, 2),padding='same'))\n",
    "model.add(Dropout(0.25))\n",
    "model.add(Conv2D(128, (3, 3), activation='linear',padding='same'))\n",
    "model.add(LeakyReLU(alpha=0.1))                  \n",
    "model.add(MaxPooling2D(pool_size=(2, 2),padding='same'))\n",
    "model.add(Dropout(0.25))\n",
    "model.add(Flatten())\n",
    "model.add(Dense(128, activation='linear'))\n",
    "model.add(Dropout(0.25))\n",
    "model.add(LeakyReLU(alpha=0.1))                  \n",
    "model.add(Dense(num_classes, activation='softmax'))"
   ]
  },
  {
   "cell_type": "code",
   "execution_count": 19,
   "metadata": {},
   "outputs": [],
   "source": [
    "from IPython.display import SVG\n",
    "from keras.utils import plot_model\n",
    "#from vis_utils import plot_model\n",
    "plot_model(model, to_file='model.png')"
   ]
  },
  {
   "cell_type": "code",
   "execution_count": 20,
   "metadata": {},
   "outputs": [],
   "source": [
    "model.compile(loss=keras.losses.categorical_crossentropy,\n",
    "              optimizer=keras.optimizers.Adam(),\n",
    "              metrics=['accuracy'])"
   ]
  },
  {
   "cell_type": "code",
   "execution_count": 21,
   "metadata": {},
   "outputs": [],
   "source": [
    "filepath=\"checkpoints/weights.best.hdf5\"\n",
    "checkpoint = ModelCheckpoint(filepath, monitor='val_acc', verbose=1, save_best_only=True, mode='max')\n",
    "callbacks_list = [checkpoint]"
   ]
  },
  {
   "cell_type": "code",
   "execution_count": 22,
   "metadata": {
    "scrolled": false
   },
   "outputs": [
    {
     "name": "stdout",
     "output_type": "stream",
     "text": [
      "Train on 921 samples, validate on 231 samples\n",
      "Epoch 1/16\n",
      "921/921 [==============================] - 8s 9ms/step - loss: 0.2902 - acc: 0.9229 - val_loss: 0.0162 - val_acc: 0.9913\n",
      "\n",
      "Epoch 00001: val_acc improved from -inf to 0.99134, saving model to checkpoints/weights.best.hdf5\n",
      "Epoch 2/16\n",
      "921/921 [==============================] - 3s 3ms/step - loss: 0.0152 - acc: 0.9957 - val_loss: 6.5367e-04 - val_acc: 1.0000\n",
      "\n",
      "Epoch 00002: val_acc improved from 0.99134 to 1.00000, saving model to checkpoints/weights.best.hdf5\n",
      "Epoch 3/16\n",
      "921/921 [==============================] - 3s 3ms/step - loss: 0.0043 - acc: 0.9978 - val_loss: 2.1290e-04 - val_acc: 1.0000\n",
      "\n",
      "Epoch 00003: val_acc did not improve from 1.00000\n",
      "Epoch 4/16\n",
      "921/921 [==============================] - 3s 3ms/step - loss: 0.0124 - acc: 0.9978 - val_loss: 0.0408 - val_acc: 0.9913\n",
      "\n",
      "Epoch 00004: val_acc did not improve from 1.00000\n",
      "Epoch 5/16\n",
      "921/921 [==============================] - 3s 3ms/step - loss: 0.0431 - acc: 0.9891 - val_loss: 4.4544e-04 - val_acc: 1.0000\n",
      "\n",
      "Epoch 00005: val_acc did not improve from 1.00000\n",
      "Epoch 6/16\n",
      "921/921 [==============================] - 3s 3ms/step - loss: 2.8282e-04 - acc: 1.0000 - val_loss: 7.1401e-05 - val_acc: 1.0000\n",
      "\n",
      "Epoch 00006: val_acc did not improve from 1.00000\n",
      "Epoch 7/16\n",
      "921/921 [==============================] - 3s 3ms/step - loss: 0.0030 - acc: 0.9978 - val_loss: 3.2777e-04 - val_acc: 1.0000\n",
      "\n",
      "Epoch 00007: val_acc did not improve from 1.00000\n",
      "Epoch 8/16\n",
      "921/921 [==============================] - 3s 3ms/step - loss: 3.6323e-04 - acc: 1.0000 - val_loss: 3.0892e-06 - val_acc: 1.0000\n",
      "\n",
      "Epoch 00008: val_acc did not improve from 1.00000\n",
      "Epoch 9/16\n",
      "921/921 [==============================] - 3s 3ms/step - loss: 3.6796e-05 - acc: 1.0000 - val_loss: 2.2909e-06 - val_acc: 1.0000\n",
      "\n",
      "Epoch 00009: val_acc did not improve from 1.00000\n",
      "Epoch 10/16\n",
      "921/921 [==============================] - 3s 3ms/step - loss: 7.2027e-05 - acc: 1.0000 - val_loss: 1.2786e-06 - val_acc: 1.0000\n",
      "\n",
      "Epoch 00010: val_acc did not improve from 1.00000\n",
      "Epoch 11/16\n",
      "921/921 [==============================] - 3s 3ms/step - loss: 5.4049e-06 - acc: 1.0000 - val_loss: 9.5629e-07 - val_acc: 1.0000\n",
      "\n",
      "Epoch 00011: val_acc did not improve from 1.00000\n",
      "Epoch 12/16\n",
      "921/921 [==============================] - 3s 3ms/step - loss: 1.5085e-06 - acc: 1.0000 - val_loss: 9.3952e-07 - val_acc: 1.0000\n",
      "\n",
      "Epoch 00012: val_acc did not improve from 1.00000\n",
      "Epoch 13/16\n",
      "921/921 [==============================] - 3s 3ms/step - loss: 3.7318e-06 - acc: 1.0000 - val_loss: 9.4003e-07 - val_acc: 1.0000\n",
      "\n",
      "Epoch 00013: val_acc did not improve from 1.00000\n",
      "Epoch 14/16\n",
      "921/921 [==============================] - 3s 3ms/step - loss: 1.3412e-06 - acc: 1.0000 - val_loss: 8.9977e-07 - val_acc: 1.0000\n",
      "\n",
      "Epoch 00014: val_acc did not improve from 1.00000\n",
      "Epoch 15/16\n",
      "921/921 [==============================] - 3s 3ms/step - loss: 1.3365e-05 - acc: 1.0000 - val_loss: 7.3411e-07 - val_acc: 1.0000\n",
      "\n",
      "Epoch 00015: val_acc did not improve from 1.00000\n",
      "Epoch 16/16\n",
      "921/921 [==============================] - 3s 3ms/step - loss: 9.4041e-07 - acc: 1.0000 - val_loss: 6.8431e-07 - val_acc: 1.0000\n",
      "\n",
      "Epoch 00016: val_acc did not improve from 1.00000\n"
     ]
    }
   ],
   "source": [
    "#create checkpoints dir\n",
    "training = model.fit(data_train, labels_train,\n",
    "                     batch_size=batch_size,\n",
    "                     epochs=epochs,\n",
    "                     verbose=1,\n",
    "                     validation_data=(data_val, labels_val),\n",
    "                     callbacks=callbacks_list,\n",
    "                     class_weight=class_weights)"
   ]
  },
  {
   "cell_type": "code",
   "execution_count": 23,
   "metadata": {},
   "outputs": [],
   "source": [
    "model.load_weights(\"checkpoints/weights.best.hdf5\")"
   ]
  },
  {
   "cell_type": "code",
   "execution_count": 24,
   "metadata": {},
   "outputs": [],
   "source": [
    "#score = model.evaluate(data_test, labels_test, verbose=0)"
   ]
  },
  {
   "cell_type": "code",
   "execution_count": 25,
   "metadata": {},
   "outputs": [],
   "source": [
    "#print(score)"
   ]
  },
  {
   "cell_type": "code",
   "execution_count": 26,
   "metadata": {},
   "outputs": [
    {
     "data": {
      "image/png": "[encoded data removed]",
      "text/plain": [
       "<Figure size 432x288 with 1 Axes>"
      ]
     },
     "metadata": {},
     "output_type": "display_data"
    }
   ],
   "source": [
    "fig = bn.plot_accuracy(training)"
   ]
  },
  {
   "cell_type": "code",
   "execution_count": 27,
   "metadata": {},
   "outputs": [],
   "source": [
    "#p = model.predict(data_test, batch_size=5)"
   ]
  },
  {
   "cell_type": "code",
   "execution_count": 28,
   "metadata": {},
   "outputs": [],
   "source": [
    "#p_idx = np.argmax(p, axis=-1)\n",
    "#labels_test_idx = np.argmax(labels_test, axis=-1)"
   ]
  },
  {
   "cell_type": "code",
   "execution_count": 29,
   "metadata": {},
   "outputs": [],
   "source": [
    "#bn.print_accuarcystats(p_idx,labels_test_idx)"
   ]
  },
  {
   "cell_type": "code",
   "execution_count": 30,
   "metadata": {},
   "outputs": [],
   "source": [
    "#bn.plotconfusionmat(bundle_names, p_idx, labels_test_idx)"
   ]
  },
  {
   "cell_type": "markdown",
   "metadata": {},
   "source": [
    "Cross-predict on *another subject*"
   ]
  },
  {
   "cell_type": "code",
   "execution_count": 31,
   "metadata": {},
   "outputs": [
    {
     "data": {
      "text/plain": [
       "(182, 218, 182)"
      ]
     },
     "execution_count": 31,
     "metadata": {},
     "output_type": "execute_result"
    }
   ],
   "source": [
    "sub2_t1_img = nib.load('/home/ubuntu/MNI152_T1_1mm_brain.nii.gz')\n",
    "vol_shape_subj2=sub2_t1_img.shape[0:3]\n",
    "vol_shape_subj2"
   ]
  },
  {
   "cell_type": "code",
   "execution_count": 32,
   "metadata": {},
   "outputs": [],
   "source": [
    "streamlines_all1 = bn.read_sl_mni('/home/ubuntu/recobundles/100307/out_work/whole_brain_MNI_tracks_from_sh__moved.trk') "
   ]
  },
  {
   "cell_type": "code",
   "execution_count": 33,
   "metadata": {},
   "outputs": [],
   "source": [
    "map_files = sorted(glob('/home/ubuntu/recobundles/100307/out_work/rrbs/whole_brain_MNI_tracks_from_sh__moved_*.npy'))\n",
    "map_file_index = []\n",
    "labels_subj1 = []\n",
    "for m_idx, m in enumerate(map_files):\n",
    "    tmp = np.load(m)\n",
    "    map_file_index = np.append(map_file_index,tmp)\n",
    "    labels_subj1 = np.append(labels_subj1,m_idx*np.ones([len(tmp),1]))"
   ]
  },
  {
   "cell_type": "code",
   "execution_count": 34,
   "metadata": {},
   "outputs": [],
   "source": [
    "ind = range(len(streamlines_all1))\n",
    "ind = np.delete(ind,map_file_index)\n",
    "np.random.shuffle(ind)\n",
    "unlabeled_streamlines = ind[0:len(map_file_index)]\n",
    "labels_subj1 = np.append(labels_subj1,16*np.ones([len(map_file_index),1]))"
   ]
  },
  {
   "cell_type": "code",
   "execution_count": 35,
   "metadata": {},
   "outputs": [
    {
     "data": {
      "text/plain": [
       "array([186748., 199724., 199806., ...,  34432., 181400., 162175.])"
      ]
     },
     "execution_count": 35,
     "metadata": {},
     "output_type": "execute_result"
    }
   ],
   "source": [
    "np.append(map_file_index,unlabeled_streamlines)"
   ]
  },
  {
   "cell_type": "code",
   "execution_count": 36,
   "metadata": {},
   "outputs": [
    {
     "data": {
      "text/plain": [
       "57386"
      ]
     },
     "execution_count": 36,
     "metadata": {},
     "output_type": "execute_result"
    }
   ],
   "source": [
    "streamlines_all_subj1 = [streamlines_all1[i] for i in np.int_(np.append(map_file_index,unlabeled_streamlines))]\n",
    "len(streamlines_all_subj1)\n",
    "len(labels_subj1)"
   ]
  },
  {
   "cell_type": "code",
   "execution_count": 37,
   "metadata": {},
   "outputs": [
    {
     "name": "stdout",
     "output_type": "stream",
     "text": [
      "0\n",
      "1000\n",
      "2000\n",
      "3000\n",
      "4000\n",
      "5000\n",
      "6000\n",
      "7000\n",
      "8000\n",
      "9000\n",
      "10000\n",
      "11000\n",
      "12000\n",
      "13000\n",
      "14000\n",
      "15000\n",
      "16000\n",
      "17000\n",
      "18000\n",
      "19000\n",
      "20000\n",
      "21000\n",
      "22000\n",
      "23000\n",
      "24000\n",
      "25000\n",
      "26000\n",
      "27000\n",
      "28000\n",
      "29000\n",
      "30000\n",
      "31000\n",
      "32000\n",
      "33000\n",
      "34000\n",
      "35000\n",
      "36000\n",
      "37000\n",
      "38000\n",
      "39000\n",
      "40000\n",
      "41000\n",
      "42000\n",
      "43000\n",
      "44000\n",
      "45000\n",
      "46000\n",
      "47000\n",
      "48000\n",
      "49000\n",
      "50000\n",
      "51000\n",
      "52000\n",
      "53000\n",
      "54000\n",
      "55000\n",
      "56000\n",
      "57000\n"
     ]
    }
   ],
   "source": [
    "streamlines_all_processed_subj1 = bn.process_sl(streamlines_all_subj1,-1,vol_shape_subj2,size_slimage,5)"
   ]
  },
  {
   "cell_type": "code",
   "execution_count": 38,
   "metadata": {},
   "outputs": [],
   "source": [
    "p_subj1 = model.predict(streamlines_all_processed_subj1, batch_size=5)"
   ]
  },
  {
   "cell_type": "code",
   "execution_count": 39,
   "metadata": {},
   "outputs": [
    {
     "data": {
      "text/plain": [
       "16.0"
      ]
     },
     "execution_count": 39,
     "metadata": {},
     "output_type": "execute_result"
    }
   ],
   "source": [
    "p_idx = np.argmax(p_subj1, axis=-1)\n",
    "max(labels_subj1)"
   ]
  },
  {
   "cell_type": "code",
   "execution_count": 40,
   "metadata": {},
   "outputs": [
    {
     "name": "stdout",
     "output_type": "stream",
     "text": [
      "Percent correct is 0.99135677691423 \n",
      "Kappa is: 0.9895376503463674\n",
      "Jaccard is: 0.99135677691423\n"
     ]
    }
   ],
   "source": [
    "bn.print_accuarcystats(p_idx[labels_subj1<16],labels_subj1[labels_subj1<16])"
   ]
  },
  {
   "cell_type": "code",
   "execution_count": 41,
   "metadata": {},
   "outputs": [
    {
     "name": "stdout",
     "output_type": "stream",
     "text": [
      "Percent correct is 0.0 \n",
      "Kappa is: 0.0\n",
      "Jaccard is: 0.0\n"
     ]
    }
   ],
   "source": [
    "bn.print_accuarcystats(p_idx[labels_subj1==16],labels_subj1[labels_subj1==16])"
   ]
  },
  {
   "cell_type": "code",
   "execution_count": 42,
   "metadata": {},
   "outputs": [],
   "source": [
    "import xgboost as xgb\n",
    "from sklearn.cross_validation import train_test_split\n",
    "param = {\n",
    "    'max_depth': 10,  # the maximum depth of each tree\n",
    "    'eta': 0.3,  # the training step for each iteration\n",
    "    'silent': 1,  # logging mode - quiet\n",
    "    'objective': 'multi:softprob',  # error evaluation for multiclass training\n",
    "    'num_class': 17}  # the number of classes that exist in this datset\n",
    "num_round = 20  # the number of training iterations\n",
    "X_train, X_test, y_train, y_test = train_test_split(p_subj1, labels_subj1, test_size=0.2, random_state=42, stratify=labels_subj1)\n",
    "dtrain = xgb.DMatrix(X_train, label=y_train)\n",
    "dtest = xgb.DMatrix(X_test, label=y_test)\n",
    "bst = xgb.train(param, dtrain, num_round)\n",
    "preds = bst.predict(dtest)\n",
    "p = np.argmax(preds,axis=1)"
   ]
  },
  {
   "cell_type": "code",
   "execution_count": 43,
   "metadata": {},
   "outputs": [
    {
     "data": {
      "text/plain": [
       "(array([2.100e+01, 3.000e+00, 5.700e+01, 2.700e+01, 2.600e+01, 7.000e+00,\n",
       "        9.000e+00, 1.100e+01, 5.000e+00, 2.000e+00, 2.000e+00, 1.100e+01,\n",
       "        1.100e+01, 1.400e+01, 5.000e+00, 1.000e+00, 5.527e+03]),\n",
       " array([ 0.        ,  0.94117647,  1.88235294,  2.82352941,  3.76470588,\n",
       "         4.70588235,  5.64705882,  6.58823529,  7.52941176,  8.47058824,\n",
       "         9.41176471, 10.35294118, 11.29411765, 12.23529412, 13.17647059,\n",
       "        14.11764706, 15.05882353, 16.        ]),\n",
       " <a list of 17 Patch objects>)"
      ]
     },
     "execution_count": 43,
     "metadata": {},
     "output_type": "execute_result"
    },
    {
     "data": {
      "image/png": "[encoded data removed]",
      "text/plain": [
       "<Figure size 432x288 with 1 Axes>"
      ]
     },
     "metadata": {},
     "output_type": "display_data"
    }
   ],
   "source": [
    "ind=y_test==16\n",
    "plt.hist(p[ind],bins=17)"
   ]
  },
  {
   "cell_type": "code",
   "execution_count": 44,
   "metadata": {},
   "outputs": [],
   "source": [
    "perc_correct = np.zeros((17,1))\n",
    "nsl = np.zeros((17,1))\n",
    "for i in range(17):\n",
    "    ind = y_test == i\n",
    "    nsl[i] = np.sum(ind)\n",
    "    perc_correct[i] = np.sum(p[ind]==i)/np.sum(ind)\n",
    "    "
   ]
  },
  {
   "cell_type": "code",
   "execution_count": 45,
   "metadata": {},
   "outputs": [
    {
     "data": {
      "text/plain": [
       "array([[0.99344262],\n",
       "       [0.93902439],\n",
       "       [0.99245093],\n",
       "       [0.99203187],\n",
       "       [0.99433749],\n",
       "       [0.99207921],\n",
       "       [0.98917749],\n",
       "       [0.8671875 ],\n",
       "       [0.92248062],\n",
       "       [0.93333333],\n",
       "       [0.96296296],\n",
       "       [0.96363636],\n",
       "       [0.97752809],\n",
       "       [0.86285714],\n",
       "       [0.94117647],\n",
       "       [1.        ],\n",
       "       [0.96305977]])"
      ]
     },
     "execution_count": 45,
     "metadata": {},
     "output_type": "execute_result"
    }
   ],
   "source": [
    "perc_correct"
   ]
  },
  {
   "cell_type": "code",
   "execution_count": 46,
   "metadata": {},
   "outputs": [
    {
     "data": {
      "text/plain": [
       "array([[ 305.],\n",
       "       [  82.],\n",
       "       [1987.],\n",
       "       [ 502.],\n",
       "       [ 883.],\n",
       "       [ 505.],\n",
       "       [ 462.],\n",
       "       [ 128.],\n",
       "       [ 129.],\n",
       "       [  15.],\n",
       "       [  27.],\n",
       "       [ 220.],\n",
       "       [ 267.],\n",
       "       [ 175.],\n",
       "       [  34.],\n",
       "       [  18.],\n",
       "       [5739.]])"
      ]
     },
     "execution_count": 46,
     "metadata": {},
     "output_type": "execute_result"
    }
   ],
   "source": [
    "nsl"
   ]
  },
  {
   "cell_type": "code",
   "execution_count": 47,
   "metadata": {},
   "outputs": [
    {
     "name": "stdout",
     "output_type": "stream",
     "text": [
      "0\n",
      "1000\n",
      "2000\n",
      "3000\n",
      "4000\n",
      "5000\n",
      "6000\n",
      "7000\n",
      "8000\n",
      "9000\n",
      "10000\n",
      "11000\n",
      "12000\n",
      "13000\n",
      "14000\n",
      "21000\n",
      "22000\n",
      "23000\n",
      "24000\n",
      "25000\n",
      "26000\n",
      "27000\n",
      "28000\n",
      "29000\n",
      "30000\n",
      "31000\n",
      "32000\n",
      "33000\n",
      "34000\n",
      "35000\n",
      "36000\n",
      "37000\n",
      "38000\n",
      "39000\n",
      "40000\n",
      "41000\n",
      "42000\n",
      "43000\n",
      "44000\n",
      "45000\n",
      "46000\n",
      "47000\n",
      "48000\n",
      "49000\n",
      "50000\n",
      "51000\n",
      "52000\n",
      "53000\n",
      "54000\n",
      "55000\n",
      "56000\n",
      "57000\n",
      "58000\n",
      "59000\n",
      "60000\n",
      "61000\n",
      "62000\n",
      "63000\n",
      "64000\n",
      "65000\n",
      "66000\n",
      "67000\n",
      "68000\n",
      "69000\n",
      "70000\n",
      "71000\n",
      "72000\n",
      "73000\n",
      "74000\n",
      "75000\n",
      "76000\n",
      "77000\n",
      "78000\n"
     ]
    }
   ],
   "source": [
    "streamlines_all2 = bn.read_sl_mni('/home/ubuntu/recobundles/100408/out_work/whole_brain_MNI_tracks_from_sh__moved.trk')\n",
    "map_files = sorted(glob('/home/ubuntu/recobundles/100408/out_work/rrbs/whole_brain_MNI_tracks_from_sh__moved_*.npy'))\n",
    "map_file_index = []\n",
    "labels_subj2 = []\n",
    "for m_idx, m in enumerate(map_files):\n",
    "    tmp = np.load(m)\n",
    "    map_file_index = np.append(map_file_index,tmp)\n",
    "    labels_subj2 = np.append(labels_subj2,m_idx*np.ones([len(tmp),1]))\n",
    "\n",
    "ind = range(len(streamlines_all2))\n",
    "ind = np.delete(ind,map_file_index)\n",
    "np.random.shuffle(ind)\n",
    "unlabeled_streamlines = ind[0:len(map_file_index)]\n",
    "labels_subj2 = np.append(labels_subj2,16*np.ones([len(map_file_index),1]))\n",
    "np.append(map_file_index,unlabeled_streamlines)\n",
    "\n",
    "streamlines_all_subj2 = [streamlines_all2[i] for i in np.int_(np.append(map_file_index,unlabeled_streamlines))]\n",
    "\n",
    "streamlines_all_processed_subj2 = bn.process_sl(streamlines_all_subj2,-1,vol_shape_subj2,size_slimage,5)\n",
    "p_subj2 = model.predict(streamlines_all_processed_subj2, batch_size=5)"
   ]
  },
  {
   "cell_type": "code",
   "execution_count": 48,
   "metadata": {},
   "outputs": [],
   "source": [
    "import xgboost as xgb\n",
    "from sklearn.cross_validation import train_test_split\n",
    "param = {\n",
    "    'max_depth': 10,  # the maximum depth of each tree\n",
    "    'eta': 0.3,  # the training step for each iteration\n",
    "    'silent': 1,  # logging mode - quiet\n",
    "    'objective': 'multi:softprob',  # error evaluation for multiclass training\n",
    "    'num_class': 17}  # the number of classes that exist in this datset\n",
    "num_round = 20  # the number of training iterations\n",
    "#X_train, X_test, y_train, y_test = train_test_split(p_subj1, labels_subj1, test_size=0.2, random_state=42, stratify=labels_subj1)\n",
    "dtrain = xgb.DMatrix(p_subj1, label=labels_subj1)\n",
    "dtest = xgb.DMatrix(p_subj2, label=labels_subj2)\n",
    "bst = xgb.train(param, dtrain, num_round)\n",
    "preds = bst.predict(dtest)\n",
    "preds_max = np.argmax(preds,axis=1)"
   ]
  },
  {
   "cell_type": "code",
   "execution_count": 49,
   "metadata": {},
   "outputs": [
    {
     "data": {
      "text/plain": [
       "11478"
      ]
     },
     "execution_count": 49,
     "metadata": {},
     "output_type": "execute_result"
    }
   ],
   "source": [
    "len(y_test)"
   ]
  },
  {
   "cell_type": "code",
   "execution_count": 52,
   "metadata": {},
   "outputs": [
    {
     "data": {
      "text/plain": [
       "array([[0.47653959],\n",
       "       [0.8032596 ],\n",
       "       [0.90517971],\n",
       "       [0.77416974],\n",
       "       [0.68324607],\n",
       "       [0.14170854],\n",
       "       [0.91212458],\n",
       "       [0.22097977],\n",
       "       [0.64629259],\n",
       "       [0.50406504],\n",
       "       [0.7400722 ],\n",
       "       [0.90851187],\n",
       "       [0.60086005],\n",
       "       [0.35274166],\n",
       "       [0.66304348],\n",
       "       [0.85231317],\n",
       "       [0.95333486]])"
      ]
     },
     "execution_count": 52,
     "metadata": {},
     "output_type": "execute_result"
    },
    {
     "data": {
      "image/png": "[encoded data removed]",
      "text/plain": [
       "<Figure size 432x288 with 1 Axes>"
      ]
     },
     "metadata": {},
     "output_type": "display_data"
    }
   ],
   "source": [
    "ind=labels_subj2==16\n",
    "plt.hist(preds_max[ind],bins=17)\n",
    "perc_correct = np.zeros((17,1))\n",
    "nsl = np.zeros((17,1))\n",
    "for i in range(17):\n",
    "    ind = labels_subj2 == i\n",
    "    nsl[i] = np.sum(ind)\n",
    "    perc_correct[i] = np.sum(preds_max[ind]==i)/np.sum(ind)\n",
    "perc_correct"
   ]
  },
  {
   "cell_type": "code",
   "execution_count": 54,
   "metadata": {},
   "outputs": [
    {
     "data": {
      "text/plain": [
       "array([[0.99970674],\n",
       "       [1.        ],\n",
       "       [0.99515124],\n",
       "       [1.        ],\n",
       "       [0.84554974],\n",
       "       [1.        ],\n",
       "       [1.        ],\n",
       "       [0.99414271],\n",
       "       [1.        ],\n",
       "       [1.        ],\n",
       "       [1.        ],\n",
       "       [0.97568037],\n",
       "       [0.99960907],\n",
       "       [1.        ],\n",
       "       [1.        ],\n",
       "       [0.96797153],\n",
       "       [0.        ]])"
      ]
     },
     "execution_count": 54,
     "metadata": {},
     "output_type": "execute_result"
    },
    {
     "data": {
      "image/png": "[encoded data removed]",
      "text/plain": [
       "<Figure size 432x288 with 1 Axes>"
      ]
     },
     "metadata": {},
     "output_type": "display_data"
    }
   ],
   "source": [
    "#??\n",
    "p_2 = np.argmax(p_subj2,axis=1)\n",
    "ind=labels_subj2==16\n",
    "plt.hist(preds_max[ind],bins=17)\n",
    "perc_correct = np.zeros((17,1))\n",
    "nsl = np.zeros((17,1))\n",
    "for i in range(17):\n",
    "    ind = labels_subj2 == i\n",
    "    nsl[i] = np.sum(ind)\n",
    "    perc_correct[i] = np.sum(p_2[ind]==i)/np.sum(ind)\n",
    "perc_correct"
   ]
  },
  {
   "cell_type": "code",
   "execution_count": 56,
   "metadata": {},
   "outputs": [],
   "source": [
    "p_subj2_withclass = model.predict(streamlines_all_processed_subj2[preds_max<16,:,:,:], batch_size=5)"
   ]
  },
  {
   "cell_type": "code",
   "execution_count": null,
   "metadata": {},
   "outputs": [],
   "source": [
    "l = labels_subj2[preds_max<16]\n",
    "p_withclass_2 = np.argmax(p_subj2_withclass,axis=1)\n",
    "perc_correct = np.zeros((16,1))\n",
    "nsl = np.zeros((16,1))\n",
    "for i in range(16):\n",
    "    ind = l == i\n",
    "    nsl[i] = np.sum(ind)\n",
    "    perc_correct[i] = np.sum(p_withclass_2[ind]==i)/np.sum(ind)\n",
    "perc_correct"
   ]
  },
  {
   "cell_type": "code",
   "execution_count": null,
   "metadata": {},
   "outputs": [],
   "source": [
    "imp.reload(bn)\n",
    "streamlines_all2_nomni = bn.read_sl('/home/ubuntu/recobundles/100408/out_work/whole_brain_MNI_tracks_from_sh__moved.trk')\n",
    "streamlines_all_nomni_subj2 = [streamlines_all2_nomni[i] for i in np.int_(np.append(map_file_index,unlabeled_streamlines))]"
   ]
  },
  {
   "cell_type": "code",
   "execution_count": null,
   "metadata": {},
   "outputs": [],
   "source": [
    "tmp = np.where(p<16)\n",
    "t = tmp[0]\n",
    "classified_streamlines = [streamlines_all_nomni_subj2[i] for i in t ]"
   ]
  },
  {
   "cell_type": "code",
   "execution_count": null,
   "metadata": {},
   "outputs": [],
   "source": [
    "probs = np.max(p_subj2_nounclass,axis=1)"
   ]
  },
  {
   "cell_type": "code",
   "execution_count": null,
   "metadata": {},
   "outputs": [],
   "source": [
    "bundle_names"
   ]
  },
  {
   "cell_type": "code",
   "execution_count": null,
   "metadata": {},
   "outputs": [],
   "source": [
    "imp.reload(bn)\n",
    "for i, bund in enumerate(bundle_names):\n",
    "    bn.savesegtrk(classified_streamlines, p_withclass_2, i, probs, 0.9,'TRK/'+bund+'.trk',0)"
   ]
  },
  {
   "cell_type": "code",
   "execution_count": null,
   "metadata": {},
   "outputs": [],
   "source": []
  }
 ],
 "metadata": {
  "kernelspec": {
   "display_name": "Python 3",
   "language": "python",
   "name": "python3"
  },
  "language_info": {
   "codemirror_mode": {
    "name": "ipython",
    "version": 3
   },
   "file_extension": ".py",
   "mimetype": "text/x-python",
   "name": "python",
   "nbconvert_exporter": "python",
   "pygments_lexer": "ipython3",
   "version": "3.6.5"
  }
 },
 "nbformat": 4,
 "nbformat_minor": 1
}
