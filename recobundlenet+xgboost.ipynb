{
 "cells": [
  {
   "cell_type": "code",
   "execution_count": 1,
   "metadata": {},
   "outputs": [],
   "source": [
    "from glob import glob\n",
    "import os.path as op\n",
    "import numpy as np\n",
    "import matplotlib.pyplot as plt\n",
    "\n",
    "import seaborn as sns\n",
    "\n",
    "%matplotlib inline"
   ]
  },
  {
   "cell_type": "code",
   "execution_count": 2,
   "metadata": {},
   "outputs": [
    {
     "name": "stderr",
     "output_type": "stream",
     "text": [
      "/home/ubuntu/anaconda3/envs/tensorflow_p36/lib/python3.6/site-packages/sklearn/cross_validation.py:41: DeprecationWarning: This module was deprecated in version 0.18 in favor of the model_selection module into which all the refactored classes and functions are moved. Also note that the interface of the new CV iterators are different from that of this module. This module will be removed in 0.20.\n",
      "  \"This module will be removed in 0.20.\", DeprecationWarning)\n"
     ]
    }
   ],
   "source": [
    "import nibabel as nib\n",
    "from nibabel.streamlines import load as load_trk\n",
    "import dipy.tracking.streamline as dts\n",
    "import dipy.tracking.utils as dtu\n",
    "from skimage.transform import resize\n",
    "from scipy.ndimage.morphology import binary_dilation\n",
    "import dipy.data as dpd\n",
    "from sklearn.utils import class_weight\n",
    "from sklearn.cross_validation import train_test_split"
   ]
  },
  {
   "cell_type": "code",
   "execution_count": 3,
   "metadata": {},
   "outputs": [
    {
     "name": "stderr",
     "output_type": "stream",
     "text": [
      "Using TensorFlow backend.\n"
     ]
    }
   ],
   "source": [
    "import keras\n",
    "from keras.callbacks import ModelCheckpoint\n",
    "from keras.models import Sequential\n",
    "from keras.layers import Dense, Dropout, Flatten, LeakyReLU\n",
    "from keras.layers import Conv2D, MaxPooling2D\n",
    "from keras.models import load_model"
   ]
  },
  {
   "cell_type": "code",
   "execution_count": 4,
   "metadata": {},
   "outputs": [],
   "source": [
    "import bundlenet as bn"
   ]
  },
  {
   "cell_type": "code",
   "execution_count": 5,
   "metadata": {},
   "outputs": [],
   "source": [
    "import dask.bag as db\n",
    "import warnings\n",
    "warnings.filterwarnings('ignore')"
   ]
  },
  {
   "cell_type": "code",
   "execution_count": 6,
   "metadata": {},
   "outputs": [],
   "source": [
    "bundles80 = ['AR', 'CS','CST','CT','FPT','OPT','OR','PPT','TPT','AF','AST','C','EMC','IFOF','ILF', \\\n",
    "            'MdLF', 'SLF', 'UF', 'VOF']"
   ]
  },
  {
   "cell_type": "code",
   "execution_count": 7,
   "metadata": {},
   "outputs": [],
   "source": [
    "bundle_files = []\n",
    "for b in bundles80:\n",
    "    bundle_files.append('/home/ubuntu/Atlas_80_Bundles/bundles/' + b + '_R.trk')\n",
    "for b in bundles80:\n",
    "    bundle_files.append('/home/ubuntu/Atlas_80_Bundles/bundles/' + b + '_L.trk')\n",
    "bundle_files.append('/home/ubuntu/Atlas_80_Bundles/bundles/F_L_R.trk')\n",
    "bundle_files.append('/home/ubuntu/Atlas_80_Bundles/bundles/CC_ForcepsMajor.trk')\n",
    "bundle_files.append('/home/ubuntu/Atlas_80_Bundles/bundles/CC_ForcepsMinor.trk')\n",
    "bundle_files.append('/home/ubuntu/Atlas_80_Bundles/bundles/CCMid.trk')\n",
    "bundle_files = sorted(bundle_files)\n"
   ]
  },
  {
   "cell_type": "code",
   "execution_count": 6,
   "metadata": {},
   "outputs": [],
   "source": [
    "bundle_files = sorted(glob('/home/ubuntu/Atlas_in_MNI_Space_16_bundles/bundles/*.trk'))"
   ]
  },
  {
   "cell_type": "code",
   "execution_count": 7,
   "metadata": {},
   "outputs": [
    {
     "data": {
      "text/plain": [
       "(182, 218, 182)"
      ]
     },
     "execution_count": 7,
     "metadata": {},
     "output_type": "execute_result"
    }
   ],
   "source": [
    "diff_img = nib.load('/home/ubuntu/MNI152_T1_1mm_brain.nii.gz')\n",
    "vol_shape=diff_img.shape[0:3]\n",
    "vol_shape"
   ]
  },
  {
   "cell_type": "code",
   "execution_count": 8,
   "metadata": {},
   "outputs": [
    {
     "data": {
      "text/plain": [
       "['/home/ubuntu/Atlas_in_MNI_Space_16_bundles/bundles/AF_L.trk',\n",
       " '/home/ubuntu/Atlas_in_MNI_Space_16_bundles/bundles/AF_R.trk',\n",
       " '/home/ubuntu/Atlas_in_MNI_Space_16_bundles/bundles/CCMid.trk',\n",
       " '/home/ubuntu/Atlas_in_MNI_Space_16_bundles/bundles/CC_ForcepsMajor.trk',\n",
       " '/home/ubuntu/Atlas_in_MNI_Space_16_bundles/bundles/CC_ForcepsMinor.trk',\n",
       " '/home/ubuntu/Atlas_in_MNI_Space_16_bundles/bundles/CST_L.trk',\n",
       " '/home/ubuntu/Atlas_in_MNI_Space_16_bundles/bundles/CST_R.trk',\n",
       " '/home/ubuntu/Atlas_in_MNI_Space_16_bundles/bundles/C_L.trk',\n",
       " '/home/ubuntu/Atlas_in_MNI_Space_16_bundles/bundles/C_R.trk',\n",
       " '/home/ubuntu/Atlas_in_MNI_Space_16_bundles/bundles/F_L.trk',\n",
       " '/home/ubuntu/Atlas_in_MNI_Space_16_bundles/bundles/F_R.trk',\n",
       " '/home/ubuntu/Atlas_in_MNI_Space_16_bundles/bundles/IF0F_R.trk',\n",
       " '/home/ubuntu/Atlas_in_MNI_Space_16_bundles/bundles/IFOF_L.trk',\n",
       " '/home/ubuntu/Atlas_in_MNI_Space_16_bundles/bundles/MCP.trk',\n",
       " '/home/ubuntu/Atlas_in_MNI_Space_16_bundles/bundles/UF_L.trk',\n",
       " '/home/ubuntu/Atlas_in_MNI_Space_16_bundles/bundles/UF_R.trk']"
      ]
     },
     "execution_count": 8,
     "metadata": {},
     "output_type": "execute_result"
    }
   ],
   "source": [
    "bundle_files"
   ]
  },
  {
   "cell_type": "code",
   "execution_count": 9,
   "metadata": {},
   "outputs": [],
   "source": [
    "n_streamlines = []\n",
    "bundle_names = []\n",
    "for fname in bundle_files:\n",
    "    bundle_names.append(fname.split('/')[-1].split('bundles_')[-1].split('.trk')[0])\n",
    "    streamlines = bn.read_sl(fname) \n",
    "    n_streamlines.append(len(streamlines))\n"
   ]
  },
  {
   "cell_type": "code",
   "execution_count": 10,
   "metadata": {},
   "outputs": [
    {
     "data": {
      "text/plain": [
       "(72, 16)"
      ]
     },
     "execution_count": 10,
     "metadata": {},
     "output_type": "execute_result"
    }
   ],
   "source": [
    "np.min(n_streamlines), len(n_streamlines)"
   ]
  },
  {
   "cell_type": "code",
   "execution_count": 11,
   "metadata": {},
   "outputs": [],
   "source": [
    "take_n_bundles = len(n_streamlines)\n",
    "take_n_sl = np.min(n_streamlines)\n",
    "\n",
    "test_perc=0\n",
    "val_perc=0.2\n",
    "size_slimage = 100\n",
    "dil_iters = 5"
   ]
  },
  {
   "cell_type": "code",
   "execution_count": 12,
   "metadata": {
    "scrolled": false
   },
   "outputs": [
    {
     "name": "stdout",
     "output_type": "stream",
     "text": [
      "0\n",
      "0\n",
      "0\n",
      "0\n",
      "0\n",
      "0\n",
      "0\n",
      "0\n",
      "0\n",
      "0\n",
      "0\n",
      "0\n",
      "0\n",
      "0\n",
      "0\n",
      "0\n"
     ]
    },
    {
     "data": {
      "image/png": "[encoded data removed]",
      "text/plain": [
       "<Figure size 432x288 with 1 Axes>"
      ]
     },
     "metadata": {},
     "output_type": "display_data"
    }
   ],
   "source": [
    "process_sl = 1\n",
    "\n",
    "if process_sl == 1:\n",
    "    streamlines_loaded = db.from_sequence(bundle_files).map(bn.read_sl_mni).compute()\n",
    "    streamlines_processed = db.from_sequence(streamlines_loaded).map(bn.process_sl,take_n_sl,vol_shape,size_slimage,dil_iters).compute() \n",
    "    data_train, data_test, data_val, labels_train, labels_test, labels_val = bn.partition_testtrain(test_perc, val_perc, streamlines_processed)\n",
    "    plt.imshow(streamlines_processed[0][1,:,:,0])"
   ]
  },
  {
   "cell_type": "code",
   "execution_count": 13,
   "metadata": {},
   "outputs": [],
   "source": [
    "img_rows = size_slimage\n",
    "img_cols = size_slimage\n",
    "batch_size = 4\n",
    "epochs = 16\n",
    "num_classes = take_n_bundles\n",
    "input_shape = (img_rows, img_cols,1)"
   ]
  },
  {
   "cell_type": "code",
   "execution_count": null,
   "metadata": {},
   "outputs": [],
   "source": [
    "for dropout_factor in 0,0.25,0.5:\n",
    "    for num_convlayers in 3, 4, 5:\n",
    "        for num_fulllayers in 1, 2:\n",
    "            class_weights = class_weight.compute_class_weight('balanced',np.unique(labels_train),labels_train)\n",
    "            model = bn.buildmodel_specify(input_shape,num_classes,dropout_factor, num_convlayers, num_fulllayers)\n",
    "            labels_train_cat = keras.utils.to_categorical(labels_train, num_classes)\n",
    "            labels_val_cat  = keras.utils.to_categorical(labels_val, num_classes)\n",
    "            filepath='checkpoints/weights.best' + str(num_classes) + '.hdf5'\n",
    "            checkpoint = ModelCheckpoint(filepath, monitor='val_acc', verbose=1, save_best_only=True, mode='max')\n",
    "            callbacks_list = [checkpoint]\n",
    "            training = model.fit(data_train, labels_train_cat,\n",
    "                     batch_size=batch_size,\n",
    "                     epochs=epochs,\n",
    "                     verbose=1,\n",
    "                     validation_data=(data_val, labels_val_cat),\n",
    "                     callbacks=callbacks_list,\n",
    "                     class_weight=class_weights)\n",
    "            model.save('savedmodel_nclasses'+ str(num_classes) + '_do' + str(dropout_factor) + '_nc' + str(num_convlayers) + '_fc' + str(num_fulllayers) +'.h5')\n",
    "            fig = bn.plot_accuracy(training)"
   ]
  },
  {
   "cell_type": "code",
   "execution_count": null,
   "metadata": {
    "scrolled": false
   },
   "outputs": [],
   "source": [
    "fit_model = 0\n",
    "\n",
    "if fit_model == 0:\n",
    "    model = load_model('savedmodel'+ str(num_classes) +'.h5')\n",
    "    model.load_weights('checkpoints/weights.best' + str(num_classes) + '.hdf5')\n",
    "else:\n",
    "    class_weights = class_weight.compute_class_weight('balanced',np.unique(labels_train),labels_train)\n",
    "    model = bn.buildmodel(input_shape,num_classes)\n",
    "    labels_train_cat = keras.utils.to_categorical(labels_train, num_classes)\n",
    "    labels_val_cat  = keras.utils.to_categorical(labels_val, num_classes)\n",
    "    filepath='checkpoints/weights.best' + str(num_classes) + '.hdf5'\n",
    "    checkpoint = ModelCheckpoint(filepath, monitor='val_acc', verbose=1, save_best_only=True, mode='max')\n",
    "    callbacks_list = [checkpoint]\n",
    "    training = model.fit(data_train, labels_train_cat,\n",
    "                     batch_size=batch_size,\n",
    "                     epochs=epochs,\n",
    "                     verbose=1,\n",
    "                     validation_data=(data_val, labels_val_cat),\n",
    "                     callbacks=callbacks_list,\n",
    "                     class_weight=class_weights)\n",
    "    model.save('savedmodel'+ str(num_classes) +'.h5')\n",
    "    fig = bn.plot_accuracy(training)"
   ]
  },
  {
   "cell_type": "code",
   "execution_count": 15,
   "metadata": {},
   "outputs": [
    {
     "data": {
      "text/plain": [
       "(182, 218, 182)"
      ]
     },
     "execution_count": 15,
     "metadata": {},
     "output_type": "execute_result"
    }
   ],
   "source": [
    "sub2_t1_img = nib.load('/home/ubuntu/MNI152_T1_1mm_brain.nii.gz')\n",
    "vol_shape_subj2=sub2_t1_img.shape[0:3]\n",
    "vol_shape_subj2"
   ]
  },
  {
   "cell_type": "code",
   "execution_count": null,
   "metadata": {},
   "outputs": [],
   "source": [
    "# if op.exists('./streamlines_processed_100307.npz'):\n",
    "#     loaded_from_file = np.load('streamlines_processed_100307.npz')\n",
    "#     streamlines_all_processed_subj1 = loaded_from_file['processed_streamlines']\n",
    "#     labels_selected_s1 = loaded_from_file['streamline_labels']\n",
    "# else:\n",
    "#     streamlines_all_s1 = bn.read_sl_mni('/home/ubuntu/recobundles/100307/out_work/whole_brain_MNI_tracks_from_sh__moved.trk') \n",
    "#     map_files = sorted(glob('/home/ubuntu/recobundles/100307/out_work/rrbs/whole_brain_MNI_tracks_from_sh__moved_*.npy'))\n",
    "#     labeled_index_s1, labels_s1 = bn.getlabeledstreamlines(map_files)\n",
    "#     unlabeled_index_s1 = bn.getunlabeledstreamlines(len(streamlines_all_s1), labeled_index_s1, len(streamlines_all_s1)-len(labeled_index_s1), 0)\n",
    "#     labels_selected_s1, streamlines_selected_s1 = bn.combinestreamlines(labeled_index_s1, unlabeled_index_s1, labels_s1, streamlines_all_s1)\n",
    "#     streamlines_all_processed_subj1 = bn.process_sl(streamlines_selected_s1,-1,vol_shape_subj2,size_slimage,dil_iters)\n",
    "#     np.savez('streamlines_processed_100307',processed_streamlines = streamlines_all_processed_subj1, streamline_labels = labels_selected_s1)"
   ]
  },
  {
   "cell_type": "code",
   "execution_count": 17,
   "metadata": {},
   "outputs": [],
   "source": [
    "num_classes=16\n",
    "dropout_factor=0\n",
    "num_convlayers=3\n",
    "num_fulllayers=1\n",
    "model = load_model('savedmodels/savedmodel_nclasses'+ str(num_classes) + '_do' + str(dropout_factor) + '_nc' + str(num_convlayers) + '_fc' + str(num_fulllayers) +'.h5')"
   ]
  },
  {
   "cell_type": "code",
   "execution_count": null,
   "metadata": {},
   "outputs": [
    {
     "name": "stdout",
     "output_type": "stream",
     "text": [
      "973770\n",
      "979984\n",
      "983773\n",
      "0\n",
      "1000\n",
      "2000\n",
      "3000\n",
      "4000\n",
      "5000\n",
      "6000\n",
      "7000\n",
      "8000\n",
      "9000\n",
      "10000\n",
      "11000\n",
      "12000\n",
      "13000\n",
      "14000\n",
      "15000\n",
      "16000\n",
      "17000\n"
     ]
    }
   ],
   "source": [
    "num_classes = 42\n",
    "for subj in '973770','979984','983773','984472':\n",
    "    if op.exists('./streamlines_processed' + subj + '_' + str(num_classes) + '.npz'):\n",
    "        print(subj)\n",
    "        #loaded_from_file = np.load('streamlines_processed' + subj + '_' + str(num_classes) + '.npz')\n",
    "        #streamlines_all_processed_subj1 = loaded_from_file['processed_streamlines']\n",
    "        #labels_selected_s1 = loaded_from_file['streamline_labels']\n",
    "    else:\n",
    "        print(subj)\n",
    "        streamlines_all_s1 = bn.read_sl_mni('/home/ubuntu/copied80/sub-'+ subj + '/sess-01/dwi/out_work/whole_brain_MNI_tracks_from_peaks__moved.trk') \n",
    "        map_files = []\n",
    "        for b in bundles80:\n",
    "            map_files.append('/home/ubuntu/copied80/sub-'+ subj + '/sess-01/dwi/out_work/rrbs/whole_brain_MNI_tracks_from_peaks__moved_' + b + '_R__labels.npy')\n",
    "        for b in bundles80:\n",
    "            map_files.append('/home/ubuntu/copied80/sub-'+ subj + '/sess-01/dwi/out_work/rrbs/whole_brain_MNI_tracks_from_peaks__moved_' + b + '_L__labels.npy')\n",
    "        map_files.append('/home/ubuntu/copied80/sub-'+ subj + '/sess-01/dwi/out_work/rrbs/whole_brain_MNI_tracks_from_peaks__moved_F_L_R__labels.npy')\n",
    "        map_files.append('/home/ubuntu/copied80/sub-'+ subj + '/sess-01/dwi/out_work/rrbs/whole_brain_MNI_tracks_from_peaks__moved_CC_ForcepsMajor__labels.npy')\n",
    "        map_files.append('/home/ubuntu/copied80/sub-'+ subj + '/sess-01/dwi/out_work/rrbs/whole_brain_MNI_tracks_from_peaks__moved_CC_ForcepsMinor__labels.npy')\n",
    "        map_files.append('/home/ubuntu/copied80/sub-'+ subj + '/sess-01/dwi/out_work/rrbs/whole_brain_MNI_tracks_from_peaks__moved_CCMid__labels.npy')\n",
    "        map_files = sorted(map_files)    \n",
    "        labeled_index_s1, labels_s1 = bn.getlabeledstreamlines(map_files)\n",
    "        unlabeled_index_s1 = bn.getunlabeledstreamlines(len(streamlines_all_s1), labeled_index_s1, len(streamlines_all_s1)-len(labeled_index_s1), 0)\n",
    "        labels_selected_s1, streamlines_selected_s1 = bn.combinestreamlines(labeled_index_s1, unlabeled_index_s1, labels_s1, streamlines_all_s1)\n",
    "        streamlines_all_processed_subj1 = bn.process_sl(streamlines_selected_s1,-1,vol_shape_subj2,size_slimage,dil_iters)\n",
    "        np.savez('streamlines_processed' + subj + '_' + str(num_classes) + '.npz',processed_streamlines = streamlines_all_processed_subj1, streamline_labels = labels_selected_s1)"
   ]
  },
  {
   "cell_type": "code",
   "execution_count": null,
   "metadata": {},
   "outputs": [],
   "source": [
    "np.max(unlabeled_index_s1)"
   ]
  },
  {
   "cell_type": "code",
   "execution_count": null,
   "metadata": {},
   "outputs": [],
   "source": [
    "streamlines_all_s1 = bn.read_sl_mni('/home/ubuntu/copied16/sub-970764/sess-01/dwi/out_work/whole_brain_MNI_tracks_from_peaks__moved.trk') "
   ]
  },
  {
   "cell_type": "code",
   "execution_count": null,
   "metadata": {},
   "outputs": [],
   "source": [
    "len(streamlines_all_s1)"
   ]
  },
  {
   "cell_type": "code",
   "execution_count": null,
   "metadata": {},
   "outputs": [],
   "source": [
    "num_classes = 16\n",
    "for subj in '970764','970764','971160','972566','973770','978578','979984','983773','984472':\n",
    "    if op.exists('./streamlines_processed_' + subj + '_' + str(num_classes) + '.npz'):\n",
    "        print(subj)\n",
    "        #loaded_from_file = np.load('streamlines_processed_' + subj + '_' + str(num_classes) + '.npz')\n",
    "        #streamlines_all_processed_subj2 = loaded_from_file['processed_streamlines']\n",
    "        #labels_selected_s2 = loaded_from_file['streamline_labels']\n",
    "    else:\n",
    "        streamlines_all_s2 = bn.read_sl_mni('/home/ubuntu/copied16/sub-' + subj + '/sess-01/dwi/out_work/whole_brain_MNI_tracks_from_peaks__moved.trk') \n",
    "        map_files = sorted(glob('/home/ubuntu/copied16/sub-' + subj + '/sess-01/dwi/out_work/rrbs/whole_brain_MNI_tracks_from_peaks__moved_*.npy'))\n",
    "        labeled_index_s2, labels_s2 = bn.getlabeledstreamlines(map_files)\n",
    "        unlabeled_index_s2 = bn.getunlabeledstreamlines(len(streamlines_all_s2), labeled_index_s2, len(streamlines_all_s2)-len(labeled_index_s2), 0)\n",
    "        labels_selected_s2, streamlines_selected_s2 = bn.combinestreamlines(labeled_index_s2, unlabeled_index_s2, labels_s2, streamlines_all_s2)\n",
    "        streamlines_all_processed_subj2 = bn.process_sl(streamlines_selected_s2,-1,vol_shape_subj2,size_slimage,dil_iters)\n",
    "        np.savez('streamlines_processed_' + subj + '_' + str(num_classes) + '.npz',processed_streamlines = streamlines_all_processed_subj2, streamline_labels = labels_selected_s2)"
   ]
  },
  {
   "cell_type": "code",
   "execution_count": null,
   "metadata": {},
   "outputs": [
    {
     "name": "stdout",
     "output_type": "stream",
     "text": [
      "970764\n",
      "16_do0_nc3_fc1\n"
     ]
    }
   ],
   "source": [
    "for subj in '970764','970764','971160','972566','973770','978578','979984','983773','984472':\n",
    "    print(subj)\n",
    "    loaded_from_file = np.load('streamlines_processed_' + subj + '_' + str(num_classes) + '.npz')\n",
    "    streamlines_all_processed = loaded_from_file['processed_streamlines']\n",
    "    labels_selected = loaded_from_file['streamline_labels']\n",
    "    for dropout_factor in [0]:\n",
    "        for num_convlayers in [3]:\n",
    "            for num_fulllayers in [1]:\n",
    "                print(str(num_classes) + '_do' + str(dropout_factor) + '_nc' + str(num_convlayers) + '_fc' + str(num_fulllayers))\n",
    "                model = load_model('savedmodels/savedmodel_nclasses'+ str(num_classes) + '_do' + str(dropout_factor) + '_nc' + str(num_convlayers) + '_fc' + str(num_fulllayers) +'.h5')\n",
    "                p = model.predict(streamlines_all_processed, batch_size=5)\n",
    "                p_idx = np.argmax(p, axis=-1)\n",
    "                np.savez('p_subj' + subj + '_nclass' + str(num_classes) + '_do' + str(dropout_factor) + '_nc' + str(num_convlayers) + '_fc' + str(num_fulllayers) + '.npz',p=p,labels=labels_selected)\n"
   ]
  },
  {
   "cell_type": "code",
   "execution_count": null,
   "metadata": {},
   "outputs": [],
   "source": []
  },
  {
   "cell_type": "code",
   "execution_count": null,
   "metadata": {},
   "outputs": [],
   "source": [
    "streamlines_all_s2 = bn.read_sl_mni('/home/ubuntu/recobundles/sub-987074/dwi/out_work/whole_brain_MNI_tracks_from_sh__moved.trk') \n",
    "len(streamlines_all_s2)"
   ]
  },
  {
   "cell_type": "code",
   "execution_count": null,
   "metadata": {},
   "outputs": [],
   "source": [
    "subj"
   ]
  },
  {
   "cell_type": "code",
   "execution_count": null,
   "metadata": {},
   "outputs": [],
   "source": [
    "p_subj1 = model.predict(streamlines_all_processed_subj1, batch_size=5)\n",
    "p_idx_s1 = np.argmax(p_subj1, axis=-1)\n",
    "np.savez('p_subj' + subj + '_' + str(num_classes) + '.npz',p=p_subj1,labels=labels_selected_s1)"
   ]
  },
  {
   "cell_type": "code",
   "execution_count": null,
   "metadata": {},
   "outputs": [],
   "source": [
    "bn.print_accuarcystats(p_idx_s1[labels_selected_s1<num_classes],labels_selected_s1[labels_selected_s1<num_classes])"
   ]
  },
  {
   "cell_type": "code",
   "execution_count": null,
   "metadata": {},
   "outputs": [],
   "source": [
    "for i in range(num_classes):\n",
    "    print(bundle_names[i])\n",
    "    print(np.sum(p_idx_s1[labels_selected_s1==i]==i)/np.sum(labels_selected_s1==i))"
   ]
  },
  {
   "cell_type": "code",
   "execution_count": null,
   "metadata": {},
   "outputs": [],
   "source": [
    "p_subj1[labels_selected_s1==i]"
   ]
  },
  {
   "cell_type": "code",
   "execution_count": null,
   "metadata": {},
   "outputs": [],
   "source": [
    "if op.exists('./p_subj1.npz'):\n",
    "    loaded_from_file = np.load('p_subj1.npz')\n",
    "    labels_selected_s1 = loaded_from_file['labels']\n",
    "    p_subj1 = loaded_from_file['p']\n",
    "    p_idx_s1 = np.argmax(p_subj1, axis=-1)\n",
    "else:\n",
    "    p_subj1 = model.predict(streamlines_all_processed_subj1, batch_size=5)\n",
    "    p_idx_s1 = np.argmax(p_subj1, axis=-1)\n",
    "    np.savez('p_subj1.npz',p=p_subj1,labels=labels_selected_s1)"
   ]
  },
  {
   "cell_type": "code",
   "execution_count": null,
   "metadata": {},
   "outputs": [],
   "source": [
    "bn.print_accuarcystats(p_idx_s1[labels_selected_s1<16],labels_selected_s1[labels_selected_s1<16])"
   ]
  },
  {
   "cell_type": "code",
   "execution_count": null,
   "metadata": {},
   "outputs": [],
   "source": [
    "X_train, X_test, y_train, y_test = train_test_split(p_subj1,labels_selected_s1, test_size=0.2, random_state=42, stratify=labels_selected_s1)\n",
    "#make binary labels\n",
    "y_train_2class = y_train.copy()\n",
    "y_train_2class[y_train<16] = 0\n",
    "y_train_2class[y_train==16] = 1\n",
    "y_test_2class = y_test.copy()\n",
    "y_test_2class[y_test<16] = 0\n",
    "y_test_2class[y_test==16] = 1\n",
    "p_2class_s1 = bn.run_xgboost(X_train,y_train_2class,X_test,y_test_2class,10,2,0.9)"
   ]
  },
  {
   "cell_type": "code",
   "execution_count": null,
   "metadata": {},
   "outputs": [],
   "source": [
    "targ_val=1\n",
    "ind=y_test_2class==targ_val\n",
    "plt.hist(p_2class_s1[ind],bins=2)\n",
    "perc_correct_2class = np.sum(p_2class_s1[ind]==targ_val)/np.sum(ind)\n",
    "perc_correct_2class"
   ]
  },
  {
   "cell_type": "code",
   "execution_count": null,
   "metadata": {},
   "outputs": [],
   "source": [
    "# if op.exists('./streamlines_processed_100408.npz'):\n",
    "#     loaded_from_file = np.load('streamlines_processed_100408.npz')\n",
    "#     streamlines_all_processed_subj2 = loaded_from_file['processed_streamlines']\n",
    "#     labels_selected_s2 = loaded_from_file['streamline_labels']\n",
    "# else:\n",
    "#     streamlines_all_s2 = bn.read_sl_mni('/home/ubuntu/recobundles/100408/out_work/whole_brain_MNI_tracks_from_sh__moved.trk') \n",
    "#     map_files = sorted(glob('/home/ubuntu/recobundles/100408/out_work/rrbs/whole_brain_MNI_tracks_from_sh__moved_*.npy'))\n",
    "#     labeled_index_s2, labels_s2 = bn.getlabeledstreamlines(map_files)\n",
    "#     unlabeled_index_s2 = bn.getunlabeledstreamlines(len(streamlines_all_s2), labeled_index_s2, len(streamlines_all_s2)-len(labeled_index_s2), 0)\n",
    "#     labels_selected_s2, streamlines_selected_s2 = bn.combinestreamlines(labeled_index_s2, unlabeled_index_s2, labels_s2, streamlines_all_s2)\n",
    "#     streamlines_all_processed_subj2 = bn.process_sl(streamlines_selected_s2,-1,vol_shape_subj2,size_slimage,dil_iters)\n",
    "#     np.savez('streamlines_processed_100408',processed_streamlines = streamlines_all_processed_subj2, streamline_labels = labels_selected_s2)"
   ]
  },
  {
   "cell_type": "code",
   "execution_count": null,
   "metadata": {},
   "outputs": [],
   "source": [
    "if op.exists('./p_subj2.npz'):\n",
    "    loaded_from_file = np.load('p_subj2.npz')\n",
    "    labels_selected_s2 = loaded_from_file['labels']\n",
    "    p_subj2 = loaded_from_file['p']\n",
    "    p_idx_s2 = np.argmax(p_subj2, axis=-1)\n",
    "else:\n",
    "    p_subj2 = model.predict(streamlines_all_processed_subj2, batch_size=5)\n",
    "    p_idx_s2 = np.argmax(p_subj2, axis=-1)\n",
    "    np.savez('p_subj2.npz',p=p_subj2,labels=labels_selected_s2)"
   ]
  },
  {
   "cell_type": "code",
   "execution_count": null,
   "metadata": {},
   "outputs": [],
   "source": [
    "bn.print_accuarcystats(p_idx_s2[labels_selected_s2<16],labels_selected_s2[labels_selected_s2<16])"
   ]
  },
  {
   "cell_type": "code",
   "execution_count": null,
   "metadata": {},
   "outputs": [],
   "source": [
    "# if op.exists('./streamlines_processed_987074.npz'):\n",
    "#     loaded_from_file = np.load('streamlines_processed_987074.npz')\n",
    "#     streamlines_all_processed_subj3 = loaded_from_file['processed_streamlines']\n",
    "#     labels_selected_s3 = loaded_from_file['streamline_labels']\n",
    "# else:\n",
    "#     streamlines_all_s3 = bn.read_sl_mni('/home/ubuntu/recobundles/987074/dwi/out_work/whole_brain_MNI_tracks_from_sh__moved.trk') \n",
    "#     print(len(streamlines_all_s3))\n",
    "#     map_files = sorted(glob('/home/ubuntu/recobundles/987074/dwi/out_work/rrbs/whole_brain_MNI_tracks_from_sh__moved_*.npy'))\n",
    "#     labeled_index_s3, labels_s3 = bn.getlabeledstreamlines(map_files)\n",
    "#     unlabeled_index_s3 = bn.getunlabeledstreamlines(len(streamlines_all_s3), labeled_index_s3, len(streamlines_all_s3)-len(labeled_index_s3), 0)\n",
    "#     labels_selected_s3, streamlines_selected_s3 = bn.combinestreamlines(labeled_index_s3, unlabeled_index_s3, labels_s3, streamlines_all_s3)\n",
    "#     streamlines_all_processed_subj3 = bn.process_sl(streamlines_selected_s3,-1,vol_shape_subj2,size_slimage,dil_iters)\n",
    "#     np.savez('streamlines_processed_1987074',processed_streamlines = streamlines_all_processed_subj3, streamline_labels = labels_selected_s3)"
   ]
  },
  {
   "cell_type": "code",
   "execution_count": null,
   "metadata": {},
   "outputs": [],
   "source": [
    "if op.exists('./p_subj3.npz'):\n",
    "    loaded_from_file = np.load('p_subj3.npz')\n",
    "    labels_selected_s3 = loaded_from_file['labels']\n",
    "    p_subj3 = loaded_from_file['p']\n",
    "    p_idx_s3 = np.argmax(p_subj3, axis=-1)\n",
    "else:\n",
    "    p_subj3 = model.predict(streamlines_all_processed_subj3, batch_size=5)\n",
    "    p_idx_s3 = np.argmax(p_subj3, axis=-1)\n",
    "    np.savez('p_subj3.npz',p=p_subj3,labels=labels_selected_s3)"
   ]
  },
  {
   "cell_type": "code",
   "execution_count": null,
   "metadata": {},
   "outputs": [],
   "source": [
    "bn.print_accuarcystats(p_idx_s3[labels_selected_s3<16],labels_selected_s3[labels_selected_s3<16])"
   ]
  },
  {
   "cell_type": "code",
   "execution_count": null,
   "metadata": {},
   "outputs": [],
   "source": [
    "# if op.exists('./streamlines_processed_995174.npz'):\n",
    "#     loaded_from_file = np.load('streamlines_processed_995174.npz')\n",
    "#     streamlines_all_processed_subj4 = loaded_from_file['processed_streamlines']\n",
    "#     labels_selected_s4 = loaded_from_file['streamline_labels']\n",
    "# else:\n",
    "#     streamlines_all_s4 = bn.read_sl_mni('/home/ubuntu/recobundles/995174/dwi/out_work/whole_brain_MNI_tracks_from_sh__moved.trk') \n",
    "#     print(len(streamlines_all_s4))\n",
    "#     map_files = sorted(glob('/home/ubuntu/recobundles/995174/dwi/out_work/rrbs/whole_brain_MNI_tracks_from_sh__moved_*.npy'))\n",
    "#     labeled_index_s4, labels_s4 = bn.getlabeledstreamlines(map_files)\n",
    "#     unlabeled_index_s4 = bn.getunlabeledstreamlines(len(streamlines_all_s4), labeled_index_s4, len(streamlines_all_s4)-len(labeled_index_s4), 0)\n",
    "#     labels_selected_s4, streamlines_selected_s4 = bn.combinestreamlines(labeled_index_s4, unlabeled_index_s4, labels_s4, streamlines_all_s4)\n",
    "#     streamlines_all_processed_subj4 = bn.process_sl(streamlines_selected_s4,-1,vol_shape_subj2,size_slimage,dil_iters)\n",
    "#     np.savez('streamlines_processed_995174',processed_streamlines = streamlines_all_processed_subj4, streamline_labels = labels_selected_s4)"
   ]
  },
  {
   "cell_type": "code",
   "execution_count": null,
   "metadata": {},
   "outputs": [],
   "source": [
    "if op.exists('./p_subj4.npz'):\n",
    "    loaded_from_file = np.load('p_subj4.npz')\n",
    "    labels_selected_s4 = loaded_from_file['labels']\n",
    "    p_subj4 = loaded_from_file['p']\n",
    "    p_idx_s4 = np.argmax(p_subj4, axis=-1)\n",
    "else:\n",
    "    p_subj4 = model.predict(streamlines_all_processed_subj4, batch_size=5)\n",
    "    p_idx_s4 = np.argmax(p_subj4, axis=-1)\n",
    "    np.savez('p_subj4.npz',p=p_subj4,labels=labels_selected_s4)"
   ]
  },
  {
   "cell_type": "code",
   "execution_count": null,
   "metadata": {},
   "outputs": [],
   "source": [
    "bn.print_accuarcystats(p_idx_s4[labels_selected_s4<16],labels_selected_s4[labels_selected_s4<16])"
   ]
  },
  {
   "cell_type": "code",
   "execution_count": null,
   "metadata": {},
   "outputs": [],
   "source": [
    "#p_s2 = bn.run_xgboost(p_subj1,labels_selected_s1,p_subj2,labels_selected_s2,10,17,0)"
   ]
  },
  {
   "cell_type": "code",
   "execution_count": null,
   "metadata": {},
   "outputs": [],
   "source": [
    "#make binary labels\n",
    "labels_selected_s1_2class = labels_selected_s1.copy()\n",
    "labels_selected_s1_2class[labels_selected_s1_2class<16] = 0\n",
    "labels_selected_s1_2class[labels_selected_s1_2class==16] = 1\n",
    "labels_selected_s2_2class = labels_selected_s2.copy()\n",
    "labels_selected_s2_2class[labels_selected_s2_2class<16] = 0\n",
    "labels_selected_s2_2class[labels_selected_s2_2class==16] = 1\n",
    "p_2class_s2 = bn.run_xgboost(p_subj1,labels_selected_s1_2class,p_subj2,labels_selected_s2_2class,10,2,0.95)"
   ]
  },
  {
   "cell_type": "code",
   "execution_count": null,
   "metadata": {},
   "outputs": [],
   "source": [
    "labels_selected_s2.type"
   ]
  },
  {
   "cell_type": "code",
   "execution_count": null,
   "metadata": {},
   "outputs": [],
   "source": [
    "targ_val = 0\n",
    "ind=labels_selected_s2_2class==targ_val\n",
    "plt.hist(p_2class_s2[ind],bins=2)\n",
    "perc_correct_2class = np.sum(p_2class_s2[ind]==targ_val)/np.sum(ind)\n",
    "perc_correct_2class"
   ]
  },
  {
   "cell_type": "code",
   "execution_count": null,
   "metadata": {},
   "outputs": [],
   "source": [
    "#make binary labels\n",
    "labels_selected_s134_2class = np.concatenate((labels_selected_s1,labels_selected_s3,labels_selected_s4))\n",
    "labels_selected_s134_2class[labels_selected_s134_2class<16] = 0\n",
    "labels_selected_s134_2class[labels_selected_s134_2class==16] = 1\n",
    "labels_selected_s2_2class = labels_selected_s2.copy()\n",
    "labels_selected_s2_2class[labels_selected_s2_2class<16] = 0\n",
    "labels_selected_s2_2class[labels_selected_s2_2class==16] = 1\n",
    "p_subj134 = np.concatenate((p_subj1,p_subj3,p_subj4))\n",
    "p_2class_s2 = bn.run_xgboost(p_subj134,labels_selected_s134_2class,p_subj2,labels_selected_s2_2class,10,2,0.9)"
   ]
  },
  {
   "cell_type": "code",
   "execution_count": null,
   "metadata": {},
   "outputs": [],
   "source": [
    "targ_val = 1\n",
    "ind=labels_selected_s2_2class==targ_val\n",
    "plt.hist(p_2class_s2[ind],bins=2)\n",
    "perc_correct_2class = np.sum(p_2class_s2[ind]==targ_val)/np.sum(ind)\n",
    "perc_correct_2class"
   ]
  },
  {
   "cell_type": "code",
   "execution_count": null,
   "metadata": {},
   "outputs": [],
   "source": [
    "perc_correct = np.zeros((17,1))\n",
    "nsl = np.zeros((17,1))\n",
    "for i in range(17):\n",
    "    ind = labels_selected_s2 == i\n",
    "    nsl[i] = np.sum(ind)\n",
    "    perc_correct[i] = np.sum(p_s2[ind]==i)/np.sum(ind)\n",
    "perc_correct"
   ]
  },
  {
   "cell_type": "code",
   "execution_count": null,
   "metadata": {},
   "outputs": [],
   "source": [
    "p_subj2_withclass = model.predict(streamlines_all_processed_subj2[preds_max<16,:,:,:], batch_size=5)"
   ]
  },
  {
   "cell_type": "code",
   "execution_count": null,
   "metadata": {},
   "outputs": [],
   "source": [
    "l = labels_subj2[preds_max<16]\n",
    "p_withclass_2 = np.argmax(p_subj2_withclass,axis=1)\n",
    "perc_correct = np.zeros((16,1))\n",
    "nsl = np.zeros((16,1))\n",
    "for i in range(16):\n",
    "    ind = l == i\n",
    "    nsl[i] = np.sum(ind)\n",
    "    perc_correct[i] = np.sum(p_withclass_2[ind]==i)/np.sum(ind)\n",
    "perc_correct"
   ]
  },
  {
   "cell_type": "code",
   "execution_count": null,
   "metadata": {},
   "outputs": [],
   "source": [
    "imp.reload(bn)\n",
    "streamlines_all2_nomni = bn.read_sl('/home/ubuntu/recobundles/100408/out_work/whole_brain_MNI_tracks_from_sh__moved.trk')\n",
    "streamlines_all_nomni_subj2 = [streamlines_all2_nomni[i] for i in np.int_(np.append(map_file_index,unlabeled_streamlines))]"
   ]
  },
  {
   "cell_type": "code",
   "execution_count": null,
   "metadata": {},
   "outputs": [],
   "source": [
    "tmp = np.where(p<16)\n",
    "t = tmp[0]\n",
    "classified_streamlines = [streamlines_all_nomni_subj2[i] for i in t ]"
   ]
  },
  {
   "cell_type": "code",
   "execution_count": null,
   "metadata": {},
   "outputs": [],
   "source": [
    "probs = np.max(p_subj2_nounclass,axis=1)"
   ]
  },
  {
   "cell_type": "code",
   "execution_count": null,
   "metadata": {},
   "outputs": [],
   "source": [
    "bundle_names"
   ]
  },
  {
   "cell_type": "code",
   "execution_count": null,
   "metadata": {},
   "outputs": [],
   "source": [
    "imp.reload(bn)\n",
    "for i, bund in enumerate(bundle_names):\n",
    "    bn.savesegtrk(classified_streamlines, p_withclass_2, i, probs, 0.9,'TRK/'+bund+'.trk',0)"
   ]
  },
  {
   "cell_type": "code",
   "execution_count": null,
   "metadata": {},
   "outputs": [],
   "source": []
  }
 ],
 "metadata": {
  "kernelspec": {
   "display_name": "Python 3",
   "language": "python",
   "name": "python3"
  },
  "language_info": {
   "codemirror_mode": {
    "name": "ipython",
    "version": 3
   },
   "file_extension": ".py",
   "mimetype": "text/x-python",
   "name": "python",
   "nbconvert_exporter": "python",
   "pygments_lexer": "ipython3",
   "version": "3.6.5"
  }
 },
 "nbformat": 4,
 "nbformat_minor": 1
}
