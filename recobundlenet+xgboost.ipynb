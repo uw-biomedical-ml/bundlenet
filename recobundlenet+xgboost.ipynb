{
 "cells": [
  {
   "cell_type": "code",
   "execution_count": 62,
   "metadata": {},
   "outputs": [],
   "source": [
    "from glob import glob\n",
    "import os.path as op\n",
    "import numpy as np\n",
    "import matplotlib.pyplot as plt\n",
    "\n",
    "import seaborn as sns\n",
    "\n",
    "%matplotlib inline"
   ]
  },
  {
   "cell_type": "code",
   "execution_count": 63,
   "metadata": {},
   "outputs": [],
   "source": [
    "import nibabel as nib\n",
    "from nibabel.streamlines import load as load_trk\n",
    "import dipy.tracking.streamline as dts\n",
    "import dipy.tracking.utils as dtu\n",
    "from skimage.transform import resize\n",
    "from scipy.ndimage.morphology import binary_dilation\n",
    "import dipy.data as dpd\n",
    "from sklearn.utils import class_weight\n",
    "from sklearn.cross_validation import train_test_split"
   ]
  },
  {
   "cell_type": "code",
   "execution_count": 64,
   "metadata": {},
   "outputs": [],
   "source": [
    "import keras\n",
    "from keras.callbacks import ModelCheckpoint\n",
    "from keras.models import Sequential\n",
    "from keras.layers import Dense, Dropout, Flatten, LeakyReLU\n",
    "from keras.layers import Conv2D, MaxPooling2D\n",
    "from keras.models import load_model"
   ]
  },
  {
   "cell_type": "code",
   "execution_count": 65,
   "metadata": {},
   "outputs": [],
   "source": [
    "import bundlenet as bn"
   ]
  },
  {
   "cell_type": "code",
   "execution_count": 66,
   "metadata": {},
   "outputs": [],
   "source": [
    "import dask.bag as db\n",
    "import warnings\n",
    "warnings.filterwarnings('ignore')"
   ]
  },
  {
   "cell_type": "code",
   "execution_count": 73,
   "metadata": {},
   "outputs": [
    {
     "name": "stdout",
     "output_type": "stream",
     "text": [
      "AC.trk               CNIII_L.trk   CS_R.trk   ICP_L.trk   ML_L.trk   STT_L.trk\r\n",
      "AF_L.trk             CNIII_R.trk   CST_L.trk  ICP_R.trk   ML_R.trk   STT_R.trk\r\n",
      "AF_R.trk             CNII_L.trk    CST_R.trk  IF0F_R.trk  OPT_L.trk  TPT_L.trk\r\n",
      "AR_L.trk             CNII_R.trk    CT_L.trk   IFOF_L.trk  OPT_R.trk  TPT_R.trk\r\n",
      "AR_R.trk             CNIV_L.trk    CT_R.trk   IFOF_R.trk  OR_L.trk   UF_L.trk\r\n",
      "AST_L.trk            CNIV_R.trk    CTT_L.trk  ILF_L.trk   OR_R.trk   UF_R.trk\r\n",
      "AST_R.trk            CNVIII_L.trk  CTT_R.trk  ILF_R.trk   PC.trk     VOF_L.trk\r\n",
      "CB_L.trk             CNVIII_R.trk  DLF_L.trk  LL_L.trk    PPT_L.trk  VOF_R.trk\r\n",
      "CB_R.trk             CNVII_L.trk   DLF_R.trk  LL_R.trk    PPT_R.trk  V.trk\r\n",
      "CC_ForcepsMajor.trk  CNVII_R.trk   EMC_L.trk  MCP.trk     RST_L.trk\r\n",
      "CC_ForcepsMinor.trk  CNV_L.trk     EMC_R.trk  MdLF_L.trk  RST_R.trk\r\n",
      "CCMid.trk            CNV_R.trk     F_L_R.trk  MdLF_R.trk  SCP.trk\r\n",
      "CC.trk               C_R.trk       FPT_L.trk  MLF_L.trk   SLF_L.trk\r\n",
      "C_L.trk              CS_L.trk      FPT_R.trk  MLF_R.trk   SLF_R.trk\r\n"
     ]
    }
   ],
   "source": [
    "ls /home/ubuntu/Atlas_80_Bundles/bundles"
   ]
  },
  {
   "cell_type": "code",
   "execution_count": 105,
   "metadata": {},
   "outputs": [],
   "source": [
    "bundles80 = ['AC', 'CS','CST','CT','F','FPT','OPT','OR','PPT','TPT','AF','C','EMC','FAT','IFOF','ILF'\\\n",
    "            'MdLF', 'SLF', 'U', 'UF', 'VOF', 'CC_ForcepsMajor','CC_ForcepsMinor','CCMid']"
   ]
  },
  {
   "cell_type": "code",
   "execution_count": 107,
   "metadata": {},
   "outputs": [],
   "source": [
    "bundle_files = []\n",
    "for b in bundles80:\n",
    "    bundle_files.append('/home/ubuntu/Atlas_80_Bundles/bundles/' + b + '_R.trk')\n",
    "for b in bundles80:\n",
    "    bundle_files.append('/home/ubuntu/Atlas_80_Bundles/bundles/' + b + '_L.trk')"
   ]
  },
  {
   "cell_type": "code",
   "execution_count": 101,
   "metadata": {},
   "outputs": [],
   "source": [
    "bundle_files = sorted(glob('/home/ubuntu/Atlas_80_Bundles/bundles/*trk'))"
   ]
  },
  {
   "cell_type": "code",
   "execution_count": null,
   "metadata": {},
   "outputs": [],
   "source": [
    "#bundle_files = sorted(glob('/home/ubuntu/Atlas_in_MNI_Space_16_bundles/bundles/*.trk'))"
   ]
  },
  {
   "cell_type": "code",
   "execution_count": 80,
   "metadata": {},
   "outputs": [
    {
     "data": {
      "text/plain": [
       "(182, 218, 182)"
      ]
     },
     "execution_count": 80,
     "metadata": {},
     "output_type": "execute_result"
    }
   ],
   "source": [
    "diff_img = nib.load('/home/ubuntu/MNI152_T1_1mm_brain.nii.gz')\n",
    "vol_shape=diff_img.shape[0:3]\n",
    "vol_shape"
   ]
  },
  {
   "cell_type": "code",
   "execution_count": 108,
   "metadata": {},
   "outputs": [
    {
     "data": {
      "text/plain": [
       "['/home/ubuntu/Atlas_80_Bundles/bundles/AC_R.trk',\n",
       " '/home/ubuntu/Atlas_80_Bundles/bundles/CS_R.trk',\n",
       " '/home/ubuntu/Atlas_80_Bundles/bundles/CST_R.trk',\n",
       " '/home/ubuntu/Atlas_80_Bundles/bundles/CT_R.trk',\n",
       " '/home/ubuntu/Atlas_80_Bundles/bundles/F_R.trk',\n",
       " '/home/ubuntu/Atlas_80_Bundles/bundles/FPT_R.trk',\n",
       " '/home/ubuntu/Atlas_80_Bundles/bundles/OPT_R.trk',\n",
       " '/home/ubuntu/Atlas_80_Bundles/bundles/OR_R.trk',\n",
       " '/home/ubuntu/Atlas_80_Bundles/bundles/PPT_R.trk',\n",
       " '/home/ubuntu/Atlas_80_Bundles/bundles/TPT_R.trk',\n",
       " '/home/ubuntu/Atlas_80_Bundles/bundles/AF_R.trk',\n",
       " '/home/ubuntu/Atlas_80_Bundles/bundles/C_R.trk',\n",
       " '/home/ubuntu/Atlas_80_Bundles/bundles/EMC_R.trk',\n",
       " '/home/ubuntu/Atlas_80_Bundles/bundles/FAT_R.trk',\n",
       " '/home/ubuntu/Atlas_80_Bundles/bundles/IFOF_R.trk',\n",
       " '/home/ubuntu/Atlas_80_Bundles/bundles/ILFMdLF_R.trk',\n",
       " '/home/ubuntu/Atlas_80_Bundles/bundles/SLF_R.trk',\n",
       " '/home/ubuntu/Atlas_80_Bundles/bundles/U_R.trk',\n",
       " '/home/ubuntu/Atlas_80_Bundles/bundles/UF_R.trk',\n",
       " '/home/ubuntu/Atlas_80_Bundles/bundles/VOF_R.trk',\n",
       " '/home/ubuntu/Atlas_80_Bundles/bundles/CC_ForcepsMajor_R.trk',\n",
       " '/home/ubuntu/Atlas_80_Bundles/bundles/CC_ForcepsMinor_R.trk',\n",
       " '/home/ubuntu/Atlas_80_Bundles/bundles/CCMid_R.trk',\n",
       " '/home/ubuntu/Atlas_80_Bundles/bundles/AC_L.trk',\n",
       " '/home/ubuntu/Atlas_80_Bundles/bundles/CS_L.trk',\n",
       " '/home/ubuntu/Atlas_80_Bundles/bundles/CST_L.trk',\n",
       " '/home/ubuntu/Atlas_80_Bundles/bundles/CT_L.trk',\n",
       " '/home/ubuntu/Atlas_80_Bundles/bundles/F_L.trk',\n",
       " '/home/ubuntu/Atlas_80_Bundles/bundles/FPT_L.trk',\n",
       " '/home/ubuntu/Atlas_80_Bundles/bundles/OPT_L.trk',\n",
       " '/home/ubuntu/Atlas_80_Bundles/bundles/OR_L.trk',\n",
       " '/home/ubuntu/Atlas_80_Bundles/bundles/PPT_L.trk',\n",
       " '/home/ubuntu/Atlas_80_Bundles/bundles/TPT_L.trk',\n",
       " '/home/ubuntu/Atlas_80_Bundles/bundles/AF_L.trk',\n",
       " '/home/ubuntu/Atlas_80_Bundles/bundles/C_L.trk',\n",
       " '/home/ubuntu/Atlas_80_Bundles/bundles/EMC_L.trk',\n",
       " '/home/ubuntu/Atlas_80_Bundles/bundles/FAT_L.trk',\n",
       " '/home/ubuntu/Atlas_80_Bundles/bundles/IFOF_L.trk',\n",
       " '/home/ubuntu/Atlas_80_Bundles/bundles/ILFMdLF_L.trk',\n",
       " '/home/ubuntu/Atlas_80_Bundles/bundles/SLF_L.trk',\n",
       " '/home/ubuntu/Atlas_80_Bundles/bundles/U_L.trk',\n",
       " '/home/ubuntu/Atlas_80_Bundles/bundles/UF_L.trk',\n",
       " '/home/ubuntu/Atlas_80_Bundles/bundles/VOF_L.trk',\n",
       " '/home/ubuntu/Atlas_80_Bundles/bundles/CC_ForcepsMajor_L.trk',\n",
       " '/home/ubuntu/Atlas_80_Bundles/bundles/CC_ForcepsMinor_L.trk',\n",
       " '/home/ubuntu/Atlas_80_Bundles/bundles/CCMid_L.trk']"
      ]
     },
     "execution_count": 108,
     "metadata": {},
     "output_type": "execute_result"
    }
   ],
   "source": [
    "bundle_files"
   ]
  },
  {
   "cell_type": "code",
   "execution_count": 89,
   "metadata": {},
   "outputs": [],
   "source": [
    "del(bundle_files)"
   ]
  },
  {
   "cell_type": "code",
   "execution_count": 10,
   "metadata": {},
   "outputs": [],
   "source": [
    "n_streamlines = []\n",
    "bundle_names = []\n",
    "for fname in bundle_files:\n",
    "    bundle_names.append(fname.split('/')[-1].split('bundles_')[-1].split('.trk')[0])\n",
    "    streamlines = bn.read_sl(fname) \n",
    "    n_streamlines.append(len(streamlines))\n"
   ]
  },
  {
   "cell_type": "code",
   "execution_count": 11,
   "metadata": {},
   "outputs": [
    {
     "data": {
      "text/plain": [
       "(72, 16)"
      ]
     },
     "execution_count": 11,
     "metadata": {},
     "output_type": "execute_result"
    }
   ],
   "source": [
    "np.min(n_streamlines), len(n_streamlines)"
   ]
  },
  {
   "cell_type": "code",
   "execution_count": 12,
   "metadata": {},
   "outputs": [],
   "source": [
    "take_n_bundles = len(n_streamlines)\n",
    "take_n_sl = np.min(n_streamlines)\n",
    "\n",
    "test_perc=0\n",
    "val_perc=0.2\n",
    "size_slimage = 100\n",
    "dil_iters = 5"
   ]
  },
  {
   "cell_type": "code",
   "execution_count": 14,
   "metadata": {
    "scrolled": false
   },
   "outputs": [],
   "source": [
    "process_sl = 0\n",
    "\n",
    "if process_sl == 1:\n",
    "    streamlines_loaded = db.from_sequence(bundle_files).map(bn.read_sl_mni).compute()\n",
    "    streamlines_processed = db.from_sequence(streamlines_loaded).map(bn.process_sl,take_n_sl,vol_shape,size_slimage,dil_iters).compute() \n",
    "    data_train, data_test, data_val, labels_train, labels_test, labels_val = bn.partition_testtrain(test_perc, val_perc, streamlines_processed)\n",
    "    plt.imshow(streamlines_processed[5][1,:,:,0])"
   ]
  },
  {
   "cell_type": "code",
   "execution_count": 15,
   "metadata": {},
   "outputs": [],
   "source": [
    "img_rows = size_slimage\n",
    "img_cols = size_slimage\n",
    "batch_size = 4\n",
    "epochs = 16\n",
    "num_classes = take_n_bundles\n",
    "input_shape = (img_rows, img_cols,1)"
   ]
  },
  {
   "cell_type": "code",
   "execution_count": 18,
   "metadata": {
    "scrolled": false
   },
   "outputs": [],
   "source": [
    "fit_model = 0\n",
    "\n",
    "if fit_model == 0:\n",
    "    model = load_model('savedmodel'+ num_classes +'.h5')\n",
    "    model.load_weights('checkpoints/weights.best' + num_classes + '.hdf5')\n",
    "else:\n",
    "    class_weights = class_weight.compute_class_weight('balanced',\n",
    "                                                 np.unique(labels_train),\n",
    "                                                 labels_train)\n",
    "    model = bn.buildmodel(input_shape,num_classes)\n",
    "    labels_train = keras.utils.to_categorical(labels_train, num_classes)\n",
    "    labels_test  = keras.utils.to_categorical(labels_test, num_classes)\n",
    "    labels_val  = keras.utils.to_categorical(labels_val, num_classes)\n",
    "    filepath='checkpoints/weights.best' + num_classes + '.hdf5'\n",
    "    checkpoint = ModelCheckpoint(filepath, monitor='val_acc', verbose=1, save_best_only=True, mode='max')\n",
    "    callbacks_list = [checkpoint]\n",
    "    training = model.fit(data_train, labels_train,\n",
    "                     batch_size=batch_size,\n",
    "                     epochs=epochs,\n",
    "                     verbose=1,\n",
    "                     validation_data=(data_val, labels_val),\n",
    "                     callbacks=callbacks_list,\n",
    "                     class_weight=class_weights)\n",
    "    model.save('savedmodel'+ num_classes +'.h5')\n",
    "    fig = bn.plot_accuracy(training)"
   ]
  },
  {
   "cell_type": "code",
   "execution_count": 19,
   "metadata": {},
   "outputs": [
    {
     "data": {
      "text/plain": [
       "(182, 218, 182)"
      ]
     },
     "execution_count": 19,
     "metadata": {},
     "output_type": "execute_result"
    }
   ],
   "source": [
    "sub2_t1_img = nib.load('/home/ubuntu/MNI152_T1_1mm_brain.nii.gz')\n",
    "vol_shape_subj2=sub2_t1_img.shape[0:3]\n",
    "vol_shape_subj2"
   ]
  },
  {
   "cell_type": "code",
   "execution_count": 20,
   "metadata": {},
   "outputs": [],
   "source": [
    "# if op.exists('./streamlines_processed_100307.npz'):\n",
    "#     loaded_from_file = np.load('streamlines_processed_100307.npz')\n",
    "#     streamlines_all_processed_subj1 = loaded_from_file['processed_streamlines']\n",
    "#     labels_selected_s1 = loaded_from_file['streamline_labels']\n",
    "# else:\n",
    "#     streamlines_all_s1 = bn.read_sl_mni('/home/ubuntu/recobundles/100307/out_work/whole_brain_MNI_tracks_from_sh__moved.trk') \n",
    "#     map_files = sorted(glob('/home/ubuntu/recobundles/100307/out_work/rrbs/whole_brain_MNI_tracks_from_sh__moved_*.npy'))\n",
    "#     labeled_index_s1, labels_s1 = bn.getlabeledstreamlines(map_files)\n",
    "#     unlabeled_index_s1 = bn.getunlabeledstreamlines(len(streamlines_all_s1), labeled_index_s1, len(streamlines_all_s1)-len(labeled_index_s1), 0)\n",
    "#     labels_selected_s1, streamlines_selected_s1 = bn.combinestreamlines(labeled_index_s1, unlabeled_index_s1, labels_s1, streamlines_all_s1)\n",
    "#     streamlines_all_processed_subj1 = bn.process_sl(streamlines_selected_s1,-1,vol_shape_subj2,size_slimage,dil_iters)\n",
    "#     np.savez('streamlines_processed_100307',processed_streamlines = streamlines_all_processed_subj1, streamline_labels = labels_selected_s1)"
   ]
  },
  {
   "cell_type": "code",
   "execution_count": 21,
   "metadata": {},
   "outputs": [],
   "source": [
    "if op.exists('./p_subj1.npz'):\n",
    "    loaded_from_file = np.load('p_subj1.npz')\n",
    "    labels_selected_s1 = loaded_from_file['labels']\n",
    "    p_subj1 = loaded_from_file['p']\n",
    "    p_idx_s1 = np.argmax(p_subj1, axis=-1)\n",
    "else:\n",
    "    p_subj1 = model.predict(streamlines_all_processed_subj1, batch_size=5)\n",
    "    p_idx_s1 = np.argmax(p_subj1, axis=-1)\n",
    "    np.savez('p_subj1.npz',p=p_subj1,labels=labels_selected_s1)"
   ]
  },
  {
   "cell_type": "code",
   "execution_count": 22,
   "metadata": {},
   "outputs": [
    {
     "name": "stdout",
     "output_type": "stream",
     "text": [
      "Percent correct is 0.9896141916146796 \n",
      "Kappa is: 0.9874508479077824\n",
      "Jaccard is: 0.9896141916146796\n"
     ]
    }
   ],
   "source": [
    "bn.print_accuarcystats(p_idx_s1[labels_selected_s1<16],labels_selected_s1[labels_selected_s1<16])"
   ]
  },
  {
   "cell_type": "code",
   "execution_count": 23,
   "metadata": {},
   "outputs": [],
   "source": [
    "X_train, X_test, y_train, y_test = train_test_split(p_subj1,labels_selected_s1, test_size=0.2, random_state=42, stratify=labels_selected_s1)\n",
    "#make binary labels\n",
    "y_train_2class = y_train.copy()\n",
    "y_train_2class[y_train<16] = 0\n",
    "y_train_2class[y_train==16] = 1\n",
    "y_test_2class = y_test.copy()\n",
    "y_test_2class[y_test<16] = 0\n",
    "y_test_2class[y_test==16] = 1\n",
    "p_2class_s1 = bn.run_xgboost(X_train,y_train_2class,X_test,y_test_2class,10,2,0.9)"
   ]
  },
  {
   "cell_type": "code",
   "execution_count": 25,
   "metadata": {},
   "outputs": [
    {
     "data": {
      "text/plain": [
       "0.989022477783586"
      ]
     },
     "execution_count": 25,
     "metadata": {},
     "output_type": "execute_result"
    },
    {
     "data": {
      "image/png": "[encoded data removed]",
      "text/plain": [
       "<Figure size 432x288 with 1 Axes>"
      ]
     },
     "metadata": {},
     "output_type": "display_data"
    }
   ],
   "source": [
    "targ_val=0\n",
    "ind=y_test_2class==targ_val\n",
    "plt.hist(p_2class_s1[ind],bins=2)\n",
    "perc_correct_2class = np.sum(p_2class_s1[ind]==targ_val)/np.sum(ind)\n",
    "perc_correct_2class"
   ]
  },
  {
   "cell_type": "code",
   "execution_count": null,
   "metadata": {},
   "outputs": [],
   "source": [
    "# if op.exists('./streamlines_processed_100408.npz'):\n",
    "#     loaded_from_file = np.load('streamlines_processed_100408.npz')\n",
    "#     streamlines_all_processed_subj2 = loaded_from_file['processed_streamlines']\n",
    "#     labels_selected_s2 = loaded_from_file['streamline_labels']\n",
    "# else:\n",
    "#     streamlines_all_s2 = bn.read_sl_mni('/home/ubuntu/recobundles/100408/out_work/whole_brain_MNI_tracks_from_sh__moved.trk') \n",
    "#     map_files = sorted(glob('/home/ubuntu/recobundles/100408/out_work/rrbs/whole_brain_MNI_tracks_from_sh__moved_*.npy'))\n",
    "#     labeled_index_s2, labels_s2 = bn.getlabeledstreamlines(map_files)\n",
    "#     unlabeled_index_s2 = bn.getunlabeledstreamlines(len(streamlines_all_s2), labeled_index_s2, len(streamlines_all_s2)-len(labeled_index_s2), 0)\n",
    "#     labels_selected_s2, streamlines_selected_s2 = bn.combinestreamlines(labeled_index_s2, unlabeled_index_s2, labels_s2, streamlines_all_s2)\n",
    "#     streamlines_all_processed_subj2 = bn.process_sl(streamlines_selected_s2,-1,vol_shape_subj2,size_slimage,dil_iters)\n",
    "#     np.savez('streamlines_processed_100408',processed_streamlines = streamlines_all_processed_subj2, streamline_labels = labels_selected_s2)"
   ]
  },
  {
   "cell_type": "code",
   "execution_count": 28,
   "metadata": {},
   "outputs": [],
   "source": [
    "if op.exists('./p_subj2.npz'):\n",
    "    loaded_from_file = np.load('p_subj2.npz')\n",
    "    labels_selected_s2 = loaded_from_file['labels']\n",
    "    p_subj2 = loaded_from_file['p']\n",
    "    p_idx_s2 = np.argmax(p_subj2, axis=-1)\n",
    "else:\n",
    "    p_subj2 = model.predict(streamlines_all_processed_subj2, batch_size=5)\n",
    "    p_idx_s2 = np.argmax(p_subj2, axis=-1)\n",
    "    np.savez('p_subj2.npz',p=p_subj2,labels=labels_selected_s2)"
   ]
  },
  {
   "cell_type": "code",
   "execution_count": 29,
   "metadata": {},
   "outputs": [
    {
     "name": "stdout",
     "output_type": "stream",
     "text": [
      "Percent correct is 0.9682636402874045 \n",
      "Kappa is: 0.9621449743831764\n",
      "Jaccard is: 0.9682636402874045\n"
     ]
    }
   ],
   "source": [
    "bn.print_accuarcystats(p_idx_s2[labels_selected_s2<16],labels_selected_s2[labels_selected_s2<16])"
   ]
  },
  {
   "cell_type": "code",
   "execution_count": null,
   "metadata": {},
   "outputs": [],
   "source": [
    "# if op.exists('./streamlines_processed_987074.npz'):\n",
    "#     loaded_from_file = np.load('streamlines_processed_987074.npz')\n",
    "#     streamlines_all_processed_subj3 = loaded_from_file['processed_streamlines']\n",
    "#     labels_selected_s3 = loaded_from_file['streamline_labels']\n",
    "# else:\n",
    "#     streamlines_all_s3 = bn.read_sl_mni('/home/ubuntu/recobundles/987074/dwi/out_work/whole_brain_MNI_tracks_from_sh__moved.trk') \n",
    "#     print(len(streamlines_all_s3))\n",
    "#     map_files = sorted(glob('/home/ubuntu/recobundles/987074/dwi/out_work/rrbs/whole_brain_MNI_tracks_from_sh__moved_*.npy'))\n",
    "#     labeled_index_s3, labels_s3 = bn.getlabeledstreamlines(map_files)\n",
    "#     unlabeled_index_s3 = bn.getunlabeledstreamlines(len(streamlines_all_s3), labeled_index_s3, len(streamlines_all_s3)-len(labeled_index_s3), 0)\n",
    "#     labels_selected_s3, streamlines_selected_s3 = bn.combinestreamlines(labeled_index_s3, unlabeled_index_s3, labels_s3, streamlines_all_s3)\n",
    "#     streamlines_all_processed_subj3 = bn.process_sl(streamlines_selected_s3,-1,vol_shape_subj2,size_slimage,dil_iters)\n",
    "#     np.savez('streamlines_processed_1987074',processed_streamlines = streamlines_all_processed_subj3, streamline_labels = labels_selected_s3)"
   ]
  },
  {
   "cell_type": "code",
   "execution_count": 32,
   "metadata": {},
   "outputs": [],
   "source": [
    "if op.exists('./p_subj3.npz'):\n",
    "    loaded_from_file = np.load('p_subj3.npz')\n",
    "    labels_selected_s3 = loaded_from_file['labels']\n",
    "    p_subj3 = loaded_from_file['p']\n",
    "    p_idx_s3 = np.argmax(p_subj3, axis=-1)\n",
    "else:\n",
    "    p_subj3 = model.predict(streamlines_all_processed_subj3, batch_size=5)\n",
    "    p_idx_s3 = np.argmax(p_subj3, axis=-1)\n",
    "    np.savez('p_subj3.npz',p=p_subj3,labels=labels_selected_s3)"
   ]
  },
  {
   "cell_type": "code",
   "execution_count": 33,
   "metadata": {},
   "outputs": [
    {
     "name": "stdout",
     "output_type": "stream",
     "text": [
      "Percent correct is 0.982827162830949 \n",
      "Kappa is: 0.9801163367300226\n",
      "Jaccard is: 0.982827162830949\n"
     ]
    }
   ],
   "source": [
    "bn.print_accuarcystats(p_idx_s3[labels_selected_s3<16],labels_selected_s3[labels_selected_s3<16])"
   ]
  },
  {
   "cell_type": "code",
   "execution_count": null,
   "metadata": {},
   "outputs": [],
   "source": [
    "# if op.exists('./streamlines_processed_995174.npz'):\n",
    "#     loaded_from_file = np.load('streamlines_processed_995174.npz')\n",
    "#     streamlines_all_processed_subj4 = loaded_from_file['processed_streamlines']\n",
    "#     labels_selected_s4 = loaded_from_file['streamline_labels']\n",
    "# else:\n",
    "#     streamlines_all_s4 = bn.read_sl_mni('/home/ubuntu/recobundles/995174/dwi/out_work/whole_brain_MNI_tracks_from_sh__moved.trk') \n",
    "#     print(len(streamlines_all_s4))\n",
    "#     map_files = sorted(glob('/home/ubuntu/recobundles/995174/dwi/out_work/rrbs/whole_brain_MNI_tracks_from_sh__moved_*.npy'))\n",
    "#     labeled_index_s4, labels_s4 = bn.getlabeledstreamlines(map_files)\n",
    "#     unlabeled_index_s4 = bn.getunlabeledstreamlines(len(streamlines_all_s4), labeled_index_s4, len(streamlines_all_s4)-len(labeled_index_s4), 0)\n",
    "#     labels_selected_s4, streamlines_selected_s4 = bn.combinestreamlines(labeled_index_s4, unlabeled_index_s4, labels_s4, streamlines_all_s4)\n",
    "#     streamlines_all_processed_subj4 = bn.process_sl(streamlines_selected_s4,-1,vol_shape_subj2,size_slimage,dil_iters)\n",
    "#     np.savez('streamlines_processed_995174',processed_streamlines = streamlines_all_processed_subj4, streamline_labels = labels_selected_s4)"
   ]
  },
  {
   "cell_type": "code",
   "execution_count": 30,
   "metadata": {},
   "outputs": [],
   "source": [
    "if op.exists('./p_subj4.npz'):\n",
    "    loaded_from_file = np.load('p_subj4.npz')\n",
    "    labels_selected_s4 = loaded_from_file['labels']\n",
    "    p_subj4 = loaded_from_file['p']\n",
    "    p_idx_s4 = np.argmax(p_subj4, axis=-1)\n",
    "else:\n",
    "    p_subj4 = model.predict(streamlines_all_processed_subj4, batch_size=5)\n",
    "    p_idx_s4 = np.argmax(p_subj4, axis=-1)\n",
    "    np.savez('p_subj4.npz',p=p_subj4,labels=labels_selected_s4)"
   ]
  },
  {
   "cell_type": "code",
   "execution_count": 34,
   "metadata": {},
   "outputs": [
    {
     "name": "stdout",
     "output_type": "stream",
     "text": [
      "Percent correct is 0.9801152978527864 \n",
      "Kappa is: 0.9750997242942505\n",
      "Jaccard is: 0.9801152978527864\n"
     ]
    }
   ],
   "source": [
    "bn.print_accuarcystats(p_idx_s4[labels_selected_s4<16],labels_selected_s4[labels_selected_s4<16])"
   ]
  },
  {
   "cell_type": "code",
   "execution_count": null,
   "metadata": {},
   "outputs": [],
   "source": [
    "#p_s2 = bn.run_xgboost(p_subj1,labels_selected_s1,p_subj2,labels_selected_s2,10,17,0)"
   ]
  },
  {
   "cell_type": "code",
   "execution_count": 35,
   "metadata": {},
   "outputs": [],
   "source": [
    "#make binary labels\n",
    "labels_selected_s1_2class = labels_selected_s1.copy()\n",
    "labels_selected_s1_2class[labels_selected_s1_2class<16] = 0\n",
    "labels_selected_s1_2class[labels_selected_s1_2class==16] = 1\n",
    "labels_selected_s2_2class = labels_selected_s2.copy()\n",
    "labels_selected_s2_2class[labels_selected_s2_2class<16] = 0\n",
    "labels_selected_s2_2class[labels_selected_s2_2class==16] = 1\n",
    "p_2class_s2 = bn.run_xgboost(p_subj1,labels_selected_s1_2class,p_subj2,labels_selected_s2_2class,10,2,0.95)"
   ]
  },
  {
   "cell_type": "code",
   "execution_count": 38,
   "metadata": {},
   "outputs": [
    {
     "ename": "AttributeError",
     "evalue": "'numpy.ndarray' object has no attribute 'type'",
     "output_type": "error",
     "traceback": [
      "\u001b[0;31m---------------------------------------------------------------------------\u001b[0m",
      "\u001b[0;31mAttributeError\u001b[0m                            Traceback (most recent call last)",
      "\u001b[0;32m<ipython-input-38-73fb8b5e290f>\u001b[0m in \u001b[0;36m<module>\u001b[0;34m()\u001b[0m\n\u001b[0;32m----> 1\u001b[0;31m \u001b[0mlabels_selected_s2\u001b[0m\u001b[0;34m.\u001b[0m\u001b[0mtype\u001b[0m\u001b[0;34m\u001b[0m\u001b[0m\n\u001b[0m",
      "\u001b[0;31mAttributeError\u001b[0m: 'numpy.ndarray' object has no attribute 'type'"
     ]
    }
   ],
   "source": [
    "labels_selected_s2.type"
   ]
  },
  {
   "cell_type": "code",
   "execution_count": 37,
   "metadata": {},
   "outputs": [
    {
     "data": {
      "text/plain": [
       "0.864473049483332"
      ]
     },
     "execution_count": 37,
     "metadata": {},
     "output_type": "execute_result"
    },
    {
     "data": {
      "image/png": "[encoded data removed]",
      "text/plain": [
       "<Figure size 432x288 with 1 Axes>"
      ]
     },
     "metadata": {},
     "output_type": "display_data"
    }
   ],
   "source": [
    "targ_val = 0\n",
    "ind=labels_selected_s2_2class==targ_val\n",
    "plt.hist(p_2class_s2[ind],bins=2)\n",
    "perc_correct_2class = np.sum(p_2class_s2[ind]==targ_val)/np.sum(ind)\n",
    "perc_correct_2class"
   ]
  },
  {
   "cell_type": "code",
   "execution_count": 56,
   "metadata": {},
   "outputs": [],
   "source": [
    "#make binary labels\n",
    "labels_selected_s134_2class = np.concatenate((labels_selected_s1,labels_selected_s3,labels_selected_s4))\n",
    "labels_selected_s134_2class[labels_selected_s134_2class<16] = 0\n",
    "labels_selected_s134_2class[labels_selected_s134_2class==16] = 1\n",
    "labels_selected_s2_2class = labels_selected_s2.copy()\n",
    "labels_selected_s2_2class[labels_selected_s2_2class<16] = 0\n",
    "labels_selected_s2_2class[labels_selected_s2_2class==16] = 1\n",
    "p_subj134 = np.concatenate((p_subj1,p_subj3,p_subj4))\n",
    "p_2class_s2 = bn.run_xgboost(p_subj134,labels_selected_s134_2class,p_subj2,labels_selected_s2_2class,10,2,0.9)"
   ]
  },
  {
   "cell_type": "code",
   "execution_count": 58,
   "metadata": {},
   "outputs": [
    {
     "data": {
      "text/plain": [
       "0.9145911087414629"
      ]
     },
     "execution_count": 58,
     "metadata": {},
     "output_type": "execute_result"
    },
    {
     "data": {
      "image/png": "[encoded data removed]",
      "text/plain": [
       "<Figure size 432x288 with 1 Axes>"
      ]
     },
     "metadata": {},
     "output_type": "display_data"
    }
   ],
   "source": [
    "targ_val = 0\n",
    "ind=labels_selected_s2_2class==targ_val\n",
    "plt.hist(p_2class_s2[ind],bins=2)\n",
    "perc_correct_2class = np.sum(p_2class_s2[ind]==targ_val)/np.sum(ind)\n",
    "perc_correct_2class"
   ]
  },
  {
   "cell_type": "code",
   "execution_count": null,
   "metadata": {},
   "outputs": [],
   "source": [
    "perc_correct = np.zeros((17,1))\n",
    "nsl = np.zeros((17,1))\n",
    "for i in range(17):\n",
    "    ind = labels_selected_s2 == i\n",
    "    nsl[i] = np.sum(ind)\n",
    "    perc_correct[i] = np.sum(p_s2[ind]==i)/np.sum(ind)\n",
    "perc_correct"
   ]
  },
  {
   "cell_type": "code",
   "execution_count": null,
   "metadata": {},
   "outputs": [],
   "source": [
    "p_subj2_withclass = model.predict(streamlines_all_processed_subj2[preds_max<16,:,:,:], batch_size=5)"
   ]
  },
  {
   "cell_type": "code",
   "execution_count": null,
   "metadata": {},
   "outputs": [],
   "source": [
    "l = labels_subj2[preds_max<16]\n",
    "p_withclass_2 = np.argmax(p_subj2_withclass,axis=1)\n",
    "perc_correct = np.zeros((16,1))\n",
    "nsl = np.zeros((16,1))\n",
    "for i in range(16):\n",
    "    ind = l == i\n",
    "    nsl[i] = np.sum(ind)\n",
    "    perc_correct[i] = np.sum(p_withclass_2[ind]==i)/np.sum(ind)\n",
    "perc_correct"
   ]
  },
  {
   "cell_type": "code",
   "execution_count": null,
   "metadata": {},
   "outputs": [],
   "source": [
    "imp.reload(bn)\n",
    "streamlines_all2_nomni = bn.read_sl('/home/ubuntu/recobundles/100408/out_work/whole_brain_MNI_tracks_from_sh__moved.trk')\n",
    "streamlines_all_nomni_subj2 = [streamlines_all2_nomni[i] for i in np.int_(np.append(map_file_index,unlabeled_streamlines))]"
   ]
  },
  {
   "cell_type": "code",
   "execution_count": null,
   "metadata": {},
   "outputs": [],
   "source": [
    "tmp = np.where(p<16)\n",
    "t = tmp[0]\n",
    "classified_streamlines = [streamlines_all_nomni_subj2[i] for i in t ]"
   ]
  },
  {
   "cell_type": "code",
   "execution_count": null,
   "metadata": {},
   "outputs": [],
   "source": [
    "probs = np.max(p_subj2_nounclass,axis=1)"
   ]
  },
  {
   "cell_type": "code",
   "execution_count": null,
   "metadata": {},
   "outputs": [],
   "source": [
    "bundle_names"
   ]
  },
  {
   "cell_type": "code",
   "execution_count": null,
   "metadata": {},
   "outputs": [],
   "source": [
    "imp.reload(bn)\n",
    "for i, bund in enumerate(bundle_names):\n",
    "    bn.savesegtrk(classified_streamlines, p_withclass_2, i, probs, 0.9,'TRK/'+bund+'.trk',0)"
   ]
  },
  {
   "cell_type": "code",
   "execution_count": null,
   "metadata": {},
   "outputs": [],
   "source": []
  }
 ],
 "metadata": {
  "kernelspec": {
   "display_name": "Python 3",
   "language": "python",
   "name": "python3"
  },
  "language_info": {
   "codemirror_mode": {
    "name": "ipython",
    "version": 3
   },
   "file_extension": ".py",
   "mimetype": "text/x-python",
   "name": "python",
   "nbconvert_exporter": "python",
   "pygments_lexer": "ipython3",
   "version": "3.6.5"
  }
 },
 "nbformat": 4,
 "nbformat_minor": 1
}
