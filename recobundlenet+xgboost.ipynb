{
 "cells": [
  {
   "cell_type": "code",
   "execution_count": 1,
   "metadata": {},
   "outputs": [],
   "source": [
    "from glob import glob\n",
    "import os.path as op\n",
    "import numpy as np\n",
    "import matplotlib.pyplot as plt\n",
    "\n",
    "import seaborn as sns\n",
    "\n",
    "%matplotlib inline"
   ]
  },
  {
   "cell_type": "code",
   "execution_count": 2,
   "metadata": {},
   "outputs": [],
   "source": [
    "import nibabel as nib\n",
    "from nibabel.streamlines import load as load_trk\n",
    "import dipy.tracking.streamline as dts\n",
    "import dipy.tracking.utils as dtu\n",
    "from skimage.transform import resize\n",
    "from scipy.ndimage.morphology import binary_dilation\n",
    "import dipy.data as dpd\n",
    "from sklearn.utils import class_weight"
   ]
  },
  {
   "cell_type": "code",
   "execution_count": 3,
   "metadata": {},
   "outputs": [
    {
     "name": "stderr",
     "output_type": "stream",
     "text": [
      "Using TensorFlow backend.\n"
     ]
    }
   ],
   "source": [
    "import keras\n",
    "from keras.callbacks import ModelCheckpoint\n",
    "from keras.models import Sequential\n",
    "from keras.layers import Dense, Dropout, Flatten, LeakyReLU\n",
    "from keras.layers import Conv2D, MaxPooling2D"
   ]
  },
  {
   "cell_type": "code",
   "execution_count": 4,
   "metadata": {},
   "outputs": [],
   "source": [
    "import bundlenet as bn"
   ]
  },
  {
   "cell_type": "code",
   "execution_count": 5,
   "metadata": {},
   "outputs": [],
   "source": [
    "import dask.bag as db\n",
    "import warnings\n",
    "warnings.filterwarnings('ignore')"
   ]
  },
  {
   "cell_type": "code",
   "execution_count": 6,
   "metadata": {},
   "outputs": [
    {
     "name": "stdout",
     "output_type": "stream",
     "text": [
      "AF_L.trk             CCMid.trk  CST_R.trk   IFOF_L.trk\r\n",
      "AF_R.trk             C_L.trk    F_L.trk     MCP.trk\r\n",
      "CC_ForcepsMajor.trk  C_R.trk    F_R.trk     UF_L.trk\r\n",
      "CC_ForcepsMinor.trk  CST_L.trk  IF0F_R.trk  UF_R.trk\r\n"
     ]
    }
   ],
   "source": [
    "ls /home/ubuntu/Atlas_in_MNI_Space_16_bundles/bundles"
   ]
  },
  {
   "cell_type": "code",
   "execution_count": 7,
   "metadata": {},
   "outputs": [],
   "source": [
    "bundle_files = sorted(glob('/home/ubuntu/Atlas_in_MNI_Space_16_bundles/bundles/*.trk'))"
   ]
  },
  {
   "cell_type": "code",
   "execution_count": 8,
   "metadata": {},
   "outputs": [
    {
     "data": {
      "text/plain": [
       "(182, 218, 182)"
      ]
     },
     "execution_count": 8,
     "metadata": {},
     "output_type": "execute_result"
    }
   ],
   "source": [
    "diff_img = nib.load('/home/ubuntu/MNI152_T1_1mm_brain.nii.gz')\n",
    "vol_shape=diff_img.shape[0:3]\n",
    "vol_shape"
   ]
  },
  {
   "cell_type": "code",
   "execution_count": 9,
   "metadata": {},
   "outputs": [
    {
     "data": {
      "text/plain": [
       "['/home/ubuntu/Atlas_in_MNI_Space_16_bundles/bundles/AF_L.trk',\n",
       " '/home/ubuntu/Atlas_in_MNI_Space_16_bundles/bundles/AF_R.trk',\n",
       " '/home/ubuntu/Atlas_in_MNI_Space_16_bundles/bundles/CCMid.trk',\n",
       " '/home/ubuntu/Atlas_in_MNI_Space_16_bundles/bundles/CC_ForcepsMajor.trk',\n",
       " '/home/ubuntu/Atlas_in_MNI_Space_16_bundles/bundles/CC_ForcepsMinor.trk',\n",
       " '/home/ubuntu/Atlas_in_MNI_Space_16_bundles/bundles/CST_L.trk',\n",
       " '/home/ubuntu/Atlas_in_MNI_Space_16_bundles/bundles/CST_R.trk',\n",
       " '/home/ubuntu/Atlas_in_MNI_Space_16_bundles/bundles/C_L.trk',\n",
       " '/home/ubuntu/Atlas_in_MNI_Space_16_bundles/bundles/C_R.trk',\n",
       " '/home/ubuntu/Atlas_in_MNI_Space_16_bundles/bundles/F_L.trk',\n",
       " '/home/ubuntu/Atlas_in_MNI_Space_16_bundles/bundles/F_R.trk',\n",
       " '/home/ubuntu/Atlas_in_MNI_Space_16_bundles/bundles/IF0F_R.trk',\n",
       " '/home/ubuntu/Atlas_in_MNI_Space_16_bundles/bundles/IFOF_L.trk',\n",
       " '/home/ubuntu/Atlas_in_MNI_Space_16_bundles/bundles/MCP.trk',\n",
       " '/home/ubuntu/Atlas_in_MNI_Space_16_bundles/bundles/UF_L.trk',\n",
       " '/home/ubuntu/Atlas_in_MNI_Space_16_bundles/bundles/UF_R.trk']"
      ]
     },
     "execution_count": 9,
     "metadata": {},
     "output_type": "execute_result"
    }
   ],
   "source": [
    "bundle_files"
   ]
  },
  {
   "cell_type": "code",
   "execution_count": 10,
   "metadata": {},
   "outputs": [],
   "source": [
    "n_streamlines = []\n",
    "bundle_names = []\n",
    "for fname in bundle_files:\n",
    "    bundle_names.append(fname.split('/')[-1].split('bundles_')[-1].split('.trk')[0])\n",
    "    streamlines = bn.read_sl(fname) \n",
    "    n_streamlines.append(len(streamlines))\n"
   ]
  },
  {
   "cell_type": "code",
   "execution_count": 11,
   "metadata": {},
   "outputs": [
    {
     "data": {
      "text/plain": [
       "(72, 16)"
      ]
     },
     "execution_count": 11,
     "metadata": {},
     "output_type": "execute_result"
    }
   ],
   "source": [
    "np.min(n_streamlines), len(n_streamlines)"
   ]
  },
  {
   "cell_type": "code",
   "execution_count": 12,
   "metadata": {},
   "outputs": [],
   "source": [
    "take_n_bundles = len(n_streamlines)\n",
    "take_n_sl = np.min(n_streamlines)\n",
    "\n",
    "test_perc=0\n",
    "val_perc=0.2\n",
    "size_slimage = 100\n",
    "dil_iters = 5"
   ]
  },
  {
   "cell_type": "code",
   "execution_count": 13,
   "metadata": {
    "scrolled": false
   },
   "outputs": [
    {
     "name": "stdout",
     "output_type": "stream",
     "text": [
      "0\n",
      "0\n",
      "0\n",
      "0\n",
      "0\n",
      "0\n",
      "0\n",
      "0\n",
      "0\n",
      "0\n",
      "0\n",
      "0\n",
      "0\n",
      "0\n",
      "0\n",
      "0\n",
      "CPU times: user 4.34 s, sys: 576 ms, total: 4.92 s\n",
      "Wall time: 19.1 s\n"
     ]
    }
   ],
   "source": [
    "%%time\n",
    "import imp  \n",
    "imp.reload(bn)\n",
    "streamlines_loaded = db.from_sequence(bundle_files).map(bn.read_sl_mni).compute()\n",
    "streamlines_processed = db.from_sequence(streamlines_loaded).map(bn.process_sl,take_n_sl,vol_shape,size_slimage,dil_iters).compute() \n",
    "data_train, data_test, data_val, labels_train, labels_test, labels_val = bn.partition_testtrain(test_perc, val_perc, streamlines_processed)"
   ]
  },
  {
   "cell_type": "code",
   "execution_count": 14,
   "metadata": {},
   "outputs": [
    {
     "data": {
      "text/plain": [
       "<matplotlib.image.AxesImage at 0x7f382bea70b8>"
      ]
     },
     "execution_count": 14,
     "metadata": {},
     "output_type": "execute_result"
    },
    {
     "data": {
      "image/png": "[encoded data removed]",
      "text/plain": [
       "<Figure size 432x288 with 1 Axes>"
      ]
     },
     "metadata": {},
     "output_type": "display_data"
    }
   ],
   "source": [
    "plt.imshow(streamlines_processed[5][1,:,:,0])"
   ]
  },
  {
   "cell_type": "code",
   "execution_count": 15,
   "metadata": {},
   "outputs": [],
   "source": [
    "img_rows = size_slimage\n",
    "img_cols = size_slimage\n",
    "batch_size = 4\n",
    "epochs = 16\n",
    "num_classes = take_n_bundles\n",
    "input_shape = (img_rows, img_cols,1)"
   ]
  },
  {
   "cell_type": "code",
   "execution_count": 16,
   "metadata": {},
   "outputs": [],
   "source": [
    "class_weights = class_weight.compute_class_weight('balanced',\n",
    "                                                 np.unique(labels_train),\n",
    "                                                 labels_train)"
   ]
  },
  {
   "cell_type": "code",
   "execution_count": 17,
   "metadata": {},
   "outputs": [],
   "source": [
    "labels_train = keras.utils.to_categorical(labels_train, num_classes)\n",
    "labels_test  = keras.utils.to_categorical(labels_test, num_classes)\n",
    "labels_val  = keras.utils.to_categorical(labels_val, num_classes)"
   ]
  },
  {
   "cell_type": "code",
   "execution_count": 76,
   "metadata": {},
   "outputs": [],
   "source": [
    "imp.reload(bn)\n",
    "model = bn.buildmodel(input_shape,num_classes)"
   ]
  },
  {
   "cell_type": "code",
   "execution_count": 78,
   "metadata": {},
   "outputs": [],
   "source": [
    "model.compile(loss=keras.losses.categorical_crossentropy,\n",
    "              optimizer=keras.optimizers.Adam(),\n",
    "              metrics=['accuracy'])"
   ]
  },
  {
   "cell_type": "code",
   "execution_count": 79,
   "metadata": {},
   "outputs": [],
   "source": [
    "filepath=\"checkpoints/weights.best.hdf5\"\n",
    "checkpoint = ModelCheckpoint(filepath, monitor='val_acc', verbose=1, save_best_only=True, mode='max')\n",
    "callbacks_list = [checkpoint]"
   ]
  },
  {
   "cell_type": "code",
   "execution_count": 80,
   "metadata": {
    "scrolled": false
   },
   "outputs": [
    {
     "name": "stdout",
     "output_type": "stream",
     "text": [
      "Train on 921 samples, validate on 231 samples\n",
      "Epoch 1/16\n",
      "921/921 [==============================] - 18s 20ms/step - loss: 0.3151 - acc: 0.9142 - val_loss: 0.0011 - val_acc: 1.0000\n",
      "\n",
      "Epoch 00001: val_acc improved from -inf to 1.00000, saving model to checkpoints/weights.best.hdf5\n",
      "Epoch 2/16\n",
      "921/921 [==============================] - 18s 19ms/step - loss: 0.0034 - acc: 0.9989 - val_loss: 0.0154 - val_acc: 0.9957\n",
      "\n",
      "Epoch 00002: val_acc did not improve from 1.00000\n",
      "Epoch 3/16\n",
      "921/921 [==============================] - 18s 20ms/step - loss: 0.0019 - acc: 1.0000 - val_loss: 1.4909e-04 - val_acc: 1.0000\n",
      "\n",
      "Epoch 00003: val_acc did not improve from 1.00000\n",
      "Epoch 4/16\n",
      "921/921 [==============================] - 17s 19ms/step - loss: 0.0267 - acc: 0.9924 - val_loss: 0.0081 - val_acc: 0.9957\n",
      "\n",
      "Epoch 00004: val_acc did not improve from 1.00000\n",
      "Epoch 5/16\n",
      "921/921 [==============================] - 17s 19ms/step - loss: 0.0137 - acc: 0.9967 - val_loss: 0.0108 - val_acc: 0.9957\n",
      "\n",
      "Epoch 00005: val_acc did not improve from 1.00000\n",
      "Epoch 6/16\n",
      "921/921 [==============================] - 17s 19ms/step - loss: 0.1257 - acc: 0.9815 - val_loss: 0.0011 - val_acc: 1.0000\n",
      "\n",
      "Epoch 00006: val_acc did not improve from 1.00000\n",
      "Epoch 7/16\n",
      "921/921 [==============================] - 17s 19ms/step - loss: 0.0096 - acc: 0.9967 - val_loss: 9.6217e-05 - val_acc: 1.0000\n",
      "\n",
      "Epoch 00007: val_acc did not improve from 1.00000\n",
      "Epoch 8/16\n",
      "921/921 [==============================] - 17s 19ms/step - loss: 0.0035 - acc: 0.9978 - val_loss: 3.8292e-07 - val_acc: 1.0000\n",
      "\n",
      "Epoch 00008: val_acc did not improve from 1.00000\n",
      "Epoch 9/16\n",
      "921/921 [==============================] - 17s 19ms/step - loss: 0.0011 - acc: 1.0000 - val_loss: 1.8165e-07 - val_acc: 1.0000\n",
      "\n",
      "Epoch 00009: val_acc did not improve from 1.00000\n",
      "Epoch 10/16\n",
      "921/921 [==============================] - 17s 19ms/step - loss: 1.4852e-05 - acc: 1.0000 - val_loss: 2.9880e-07 - val_acc: 1.0000\n",
      "\n",
      "Epoch 00010: val_acc did not improve from 1.00000\n",
      "Epoch 11/16\n",
      "921/921 [==============================] - 18s 19ms/step - loss: 5.2622e-06 - acc: 1.0000 - val_loss: 5.4394e-07 - val_acc: 1.0000\n",
      "\n",
      "Epoch 00011: val_acc did not improve from 1.00000\n",
      "Epoch 12/16\n",
      "921/921 [==============================] - 18s 19ms/step - loss: 3.8554e-05 - acc: 1.0000 - val_loss: 2.9751e-07 - val_acc: 1.0000\n",
      "\n",
      "Epoch 00012: val_acc did not improve from 1.00000\n",
      "Epoch 13/16\n",
      "921/921 [==============================] - 18s 20ms/step - loss: 3.1566e-06 - acc: 1.0000 - val_loss: 3.0241e-07 - val_acc: 1.0000\n",
      "\n",
      "Epoch 00013: val_acc did not improve from 1.00000\n",
      "Epoch 14/16\n",
      "921/921 [==============================] - 17s 19ms/step - loss: 3.1692e-06 - acc: 1.0000 - val_loss: 2.7687e-07 - val_acc: 1.0000\n",
      "\n",
      "Epoch 00014: val_acc did not improve from 1.00000\n",
      "Epoch 15/16\n",
      "921/921 [==============================] - 17s 19ms/step - loss: 8.4644e-07 - acc: 1.0000 - val_loss: 2.8900e-07 - val_acc: 1.0000\n",
      "\n",
      "Epoch 00015: val_acc did not improve from 1.00000\n",
      "Epoch 16/16\n",
      "921/921 [==============================] - 17s 19ms/step - loss: 1.1387e-05 - acc: 1.0000 - val_loss: 4.0770e-07 - val_acc: 1.0000\n",
      "\n",
      "Epoch 00016: val_acc did not improve from 1.00000\n"
     ]
    }
   ],
   "source": [
    "#create checkpoints dir\n",
    "training = model.fit(data_train, labels_train,\n",
    "                     batch_size=batch_size,\n",
    "                     epochs=epochs,\n",
    "                     verbose=1,\n",
    "                     validation_data=(data_val, labels_val),\n",
    "                     callbacks=callbacks_list,\n",
    "                     class_weight=class_weights)"
   ]
  },
  {
   "cell_type": "code",
   "execution_count": 23,
   "metadata": {},
   "outputs": [],
   "source": [
    "model.load_weights(\"checkpoints/weights.best.hdf5\")"
   ]
  },
  {
   "cell_type": "code",
   "execution_count": 26,
   "metadata": {},
   "outputs": [
    {
     "data": {
      "image/png": "[encoded data removed]",
      "text/plain": [
       "<Figure size 432x288 with 1 Axes>"
      ]
     },
     "metadata": {},
     "output_type": "display_data"
    }
   ],
   "source": [
    "fig = bn.plot_accuracy(training)"
   ]
  },
  {
   "cell_type": "code",
   "execution_count": 81,
   "metadata": {},
   "outputs": [
    {
     "data": {
      "text/plain": [
       "(182, 218, 182)"
      ]
     },
     "execution_count": 81,
     "metadata": {},
     "output_type": "execute_result"
    }
   ],
   "source": [
    "sub2_t1_img = nib.load('/home/ubuntu/MNI152_T1_1mm_brain.nii.gz')\n",
    "vol_shape_subj2=sub2_t1_img.shape[0:3]\n",
    "vol_shape_subj2"
   ]
  },
  {
   "cell_type": "code",
   "execution_count": 89,
   "metadata": {},
   "outputs": [],
   "source": [
    "streamlines_all_s1 = bn.read_sl_mni('/home/ubuntu/recobundles/100307/out_work/whole_brain_MNI_tracks_from_sh__moved.trk') "
   ]
  },
  {
   "cell_type": "code",
   "execution_count": 97,
   "metadata": {},
   "outputs": [],
   "source": [
    "imp.reload(bn)\n",
    "map_files = sorted(glob('/home/ubuntu/recobundles/100307/out_work/rrbs/whole_brain_MNI_tracks_from_sh__moved_*.npy'))\n",
    "labeled_index_s1, labels_s1 = bn.getlabeledstreamlines(map_files)\n",
    "unlabeled_index_s1 = bn.getunlabeledstreamlines(len(streamlines_all_s1), labeled_index_s1, len(streamlines_all_s1)-len(labeled_index_s1), 0)\n",
    "labels_selected_s1, streamlines_selected_s1 = bn.combinestreamlines(labeled_index_s1, unlabeled_index_s1, labels_s1, streamlines_all_s1)"
   ]
  },
  {
   "cell_type": "code",
   "execution_count": 93,
   "metadata": {},
   "outputs": [
    {
     "data": {
      "text/plain": [
       "207617"
      ]
     },
     "execution_count": 93,
     "metadata": {},
     "output_type": "execute_result"
    }
   ],
   "source": [
    "np.max(unlabeled_index_s1)"
   ]
  },
  {
   "cell_type": "code",
   "execution_count": 33,
   "metadata": {},
   "outputs": [],
   "source": [
    "#move to bundlenet - getstreamlinesreco\n",
    "map_files = sorted(glob('/home/ubuntu/recobundles/100307/out_work/rrbs/whole_brain_MNI_tracks_from_sh__moved_*.npy'))\n",
    "map_file_index = []\n",
    "labels_subj1 = []\n",
    "for m_idx, m in enumerate(map_files):\n",
    "    tmp = np.load(m)\n",
    "    map_file_index = np.append(map_file_index,tmp)\n",
    "    labels_subj1 = np.append(labels_subj1,m_idx*np.ones([len(tmp),1]))"
   ]
  },
  {
   "cell_type": "code",
   "execution_count": 34,
   "metadata": {},
   "outputs": [],
   "source": [
    "ind = range(len(streamlines_all1))\n",
    "ind = np.delete(ind,map_file_index)\n",
    "#np.random.shuffle(ind)\n",
    "num_unlabeled = ind.shape[0] #len(map_file_index)\n",
    "unlabeled_streamlines = ind[0:num_unlabeled]\n",
    "labels_subj1 = np.append(labels_subj1,16*np.ones([num_unlabeled,1]))"
   ]
  },
  {
   "cell_type": "code",
   "execution_count": 35,
   "metadata": {},
   "outputs": [
    {
     "data": {
      "text/plain": [
       "array([186748., 199724., 199806., ..., 207661., 207662., 207663.])"
      ]
     },
     "execution_count": 35,
     "metadata": {},
     "output_type": "execute_result"
    }
   ],
   "source": [
    "np.append(map_file_index,unlabeled_streamlines)"
   ]
  },
  {
   "cell_type": "code",
   "execution_count": 36,
   "metadata": {},
   "outputs": [
    {
     "data": {
      "text/plain": [
       "207706"
      ]
     },
     "execution_count": 36,
     "metadata": {},
     "output_type": "execute_result"
    }
   ],
   "source": [
    "streamlines_all_subj1 = [streamlines_all1[i] for i in np.int_(np.append(map_file_index,unlabeled_streamlines))]\n",
    "len(streamlines_all_subj1)\n",
    "len(labels_subj1)"
   ]
  },
  {
   "cell_type": "code",
   "execution_count": 37,
   "metadata": {},
   "outputs": [
    {
     "data": {
      "text/plain": [
       "207664"
      ]
     },
     "execution_count": 37,
     "metadata": {},
     "output_type": "execute_result"
    }
   ],
   "source": [
    "len(streamlines_all1)"
   ]
  },
  {
   "cell_type": "code",
   "execution_count": 88,
   "metadata": {},
   "outputs": [
    {
     "data": {
      "text/plain": [
       "array([ 0.,  0.,  0., ..., 15., 15., 15.])"
      ]
     },
     "execution_count": 88,
     "metadata": {},
     "output_type": "execute_result"
    }
   ],
   "source": []
  },
  {
   "cell_type": "code",
   "execution_count": 44,
   "metadata": {},
   "outputs": [],
   "source": [
    "if op.exists('./streamlines_processed_100307.npy'):\n",
    "    streamlines_all_processed_subj1 = np.load('streamlines_processed_100307.npy')\n",
    "else:\n",
    "    %%time \n",
    "    imp.reload(bn)\n",
    "    streamlines_all_processed_subj1 = bn.process_sl(streamlines_all_subj1,-1,vol_shape_subj2,size_slimage,dil_iters)\n",
    "    np.save('streamlines_processed_100307.npy',streamlines_all_processed_subj1)"
   ]
  },
  {
   "cell_type": "code",
   "execution_count": 45,
   "metadata": {},
   "outputs": [],
   "source": [
    "p_subj1 = model.predict(streamlines_all_processed_subj1, batch_size=5)"
   ]
  },
  {
   "cell_type": "code",
   "execution_count": 46,
   "metadata": {},
   "outputs": [
    {
     "data": {
      "text/plain": [
       "16.0"
      ]
     },
     "execution_count": 46,
     "metadata": {},
     "output_type": "execute_result"
    }
   ],
   "source": [
    "p_idx = np.argmax(p_subj1, axis=-1)\n",
    "max(labels_subj1)"
   ]
  },
  {
   "cell_type": "code",
   "execution_count": 47,
   "metadata": {},
   "outputs": [
    {
     "name": "stdout",
     "output_type": "stream",
     "text": [
      "Percent correct is 0.9878716063151292 \n",
      "Kappa is: 0.9853202289760269\n",
      "Jaccard is: 0.9878716063151292\n"
     ]
    }
   ],
   "source": [
    "bn.print_accuarcystats(p_idx[labels_subj1<16],labels_subj1[labels_subj1<16])"
   ]
  },
  {
   "cell_type": "code",
   "execution_count": 51,
   "metadata": {},
   "outputs": [],
   "source": [
    "#move to bundlenet - leanwithxgboost\n",
    "import xgboost as xgb\n",
    "from sklearn.cross_validation import train_test_split\n",
    "param = {\n",
    "    'max_depth': 10,  # the maximum depth of each tree\n",
    "    'eta': 0.3,  # the training step for each iteration\n",
    "    'silent': 1,  # logging mode - quiet\n",
    "    'objective': 'multi:softprob',  # error evaluation for multiclass training\n",
    "    'num_class': 17}  # the number of classes that exist in this datset\n",
    "num_round = 20  # the number of training iterations\n",
    "X_train, X_test, y_train, y_test = train_test_split(p_subj1, labels_subj1, test_size=0.2, random_state=42, stratify=labels_subj1)\n",
    "dtrain = xgb.DMatrix(X_train, label=y_train)\n",
    "dtest = xgb.DMatrix(X_test, label=y_test)\n",
    "bst = xgb.train(param, dtrain, num_round)\n",
    "preds = bst.predict(dtest)\n",
    "p = np.argmax(preds,axis=1)"
   ]
  },
  {
   "cell_type": "code",
   "execution_count": 52,
   "metadata": {},
   "outputs": [
    {
     "data": {
      "text/plain": [
       "array([1, 1, 1, ..., 0, 3, 3])"
      ]
     },
     "execution_count": 52,
     "metadata": {},
     "output_type": "execute_result"
    }
   ],
   "source": [
    "p_idx[labels_subj1==16]"
   ]
  },
  {
   "cell_type": "code",
   "execution_count": 63,
   "metadata": {},
   "outputs": [
    {
     "data": {
      "text/plain": [
       "(array([1.7000e+01, 3.0000e+00, 1.1000e+02, 4.6000e+01, 5.2000e+01,\n",
       "        1.8000e+01, 7.0000e+00, 1.6000e+01, 5.0000e+00, 1.0000e+00,\n",
       "        1.0000e+00, 9.0000e+00, 1.8000e+01, 1.7000e+01, 4.0000e+00,\n",
       "        1.0000e+00, 3.5478e+04]),\n",
       " array([ 0.        ,  0.94117647,  1.88235294,  2.82352941,  3.76470588,\n",
       "         4.70588235,  5.64705882,  6.58823529,  7.52941176,  8.47058824,\n",
       "         9.41176471, 10.35294118, 11.29411765, 12.23529412, 13.17647059,\n",
       "        14.11764706, 15.05882353, 16.        ]),\n",
       " <a list of 17 Patch objects>)"
      ]
     },
     "execution_count": 63,
     "metadata": {},
     "output_type": "execute_result"
    },
    {
     "data": {
      "image/png": "[encoded data removed]",
      "text/plain": [
       "<Figure size 432x288 with 1 Axes>"
      ]
     },
     "metadata": {},
     "output_type": "display_data"
    }
   ],
   "source": [
    "ind=y_test==16\n",
    "plt.hist(p[ind],bins=17)"
   ]
  },
  {
   "cell_type": "code",
   "execution_count": 54,
   "metadata": {},
   "outputs": [],
   "source": [
    "perc_correct = np.zeros((17,1))\n",
    "nsl = np.zeros((17,1))\n",
    "for i in range(17):\n",
    "    ind = y_test == i\n",
    "    nsl[i] = np.sum(ind)\n",
    "    perc_correct[i] = np.sum(p[ind]==i)/np.sum(ind)\n",
    "    "
   ]
  },
  {
   "cell_type": "code",
   "execution_count": 55,
   "metadata": {},
   "outputs": [
    {
     "data": {
      "text/plain": [
       "array([[0.9704918 ],\n",
       "       [0.92682927],\n",
       "       [0.96527428],\n",
       "       [0.96613546],\n",
       "       [0.96262741],\n",
       "       [0.96435644],\n",
       "       [0.98268398],\n",
       "       [0.8359375 ],\n",
       "       [0.87596899],\n",
       "       [0.93333333],\n",
       "       [0.81481481],\n",
       "       [0.95      ],\n",
       "       [0.94007491],\n",
       "       [0.58857143],\n",
       "       [1.        ],\n",
       "       [0.72222222],\n",
       "       [0.99092255]])"
      ]
     },
     "execution_count": 55,
     "metadata": {},
     "output_type": "execute_result"
    }
   ],
   "source": [
    "perc_correct"
   ]
  },
  {
   "cell_type": "code",
   "execution_count": 64,
   "metadata": {},
   "outputs": [
    {
     "data": {
      "text/plain": [
       "array([[3.0500e+02],\n",
       "       [8.2000e+01],\n",
       "       [1.9870e+03],\n",
       "       [5.0200e+02],\n",
       "       [8.8300e+02],\n",
       "       [5.0500e+02],\n",
       "       [4.6200e+02],\n",
       "       [1.2800e+02],\n",
       "       [1.2900e+02],\n",
       "       [1.5000e+01],\n",
       "       [2.7000e+01],\n",
       "       [2.2000e+02],\n",
       "       [2.6700e+02],\n",
       "       [1.7500e+02],\n",
       "       [3.4000e+01],\n",
       "       [1.8000e+01],\n",
       "       [3.5803e+04]])"
      ]
     },
     "execution_count": 64,
     "metadata": {},
     "output_type": "execute_result"
    }
   ],
   "source": [
    "nsl"
   ]
  },
  {
   "cell_type": "code",
   "execution_count": 65,
   "metadata": {},
   "outputs": [
    {
     "name": "stdout",
     "output_type": "stream",
     "text": [
      "0\n",
      "1000\n",
      "2000\n",
      "3000\n",
      "4000\n",
      "5000\n",
      "6000\n",
      "7000\n",
      "8000\n",
      "9000\n",
      "10000\n",
      "11000\n",
      "12000\n",
      "13000\n",
      "14000\n",
      "15000\n",
      "16000\n",
      "17000\n",
      "18000\n",
      "19000\n",
      "20000\n",
      "21000\n",
      "22000\n",
      "23000\n",
      "24000\n",
      "25000\n",
      "26000\n",
      "27000\n",
      "28000\n",
      "29000\n",
      "30000\n",
      "31000\n",
      "32000\n",
      "33000\n",
      "34000\n",
      "35000\n",
      "36000\n",
      "37000\n",
      "38000\n",
      "39000\n",
      "40000\n",
      "41000\n",
      "42000\n",
      "43000\n",
      "44000\n",
      "45000\n",
      "46000\n",
      "47000\n",
      "48000\n",
      "49000\n",
      "50000\n",
      "51000\n",
      "52000\n",
      "53000\n",
      "54000\n",
      "55000\n",
      "56000\n",
      "57000\n",
      "58000\n",
      "59000\n",
      "60000\n",
      "61000\n",
      "62000\n",
      "63000\n",
      "64000\n",
      "65000\n",
      "66000\n",
      "67000\n",
      "68000\n",
      "69000\n",
      "70000\n",
      "71000\n",
      "72000\n",
      "73000\n",
      "74000\n",
      "75000\n",
      "76000\n",
      "77000\n",
      "78000\n",
      "79000\n",
      "80000\n",
      "81000\n",
      "82000\n",
      "83000\n",
      "84000\n",
      "85000\n",
      "86000\n",
      "87000\n",
      "88000\n",
      "89000\n",
      "90000\n",
      "91000\n",
      "92000\n",
      "93000\n",
      "94000\n",
      "95000\n",
      "96000\n",
      "97000\n",
      "98000\n",
      "99000\n",
      "100000\n",
      "101000\n",
      "102000\n",
      "103000\n",
      "104000\n",
      "105000\n",
      "106000\n",
      "107000\n",
      "108000\n",
      "109000\n",
      "110000\n",
      "111000\n",
      "112000\n",
      "113000\n",
      "114000\n",
      "115000\n",
      "116000\n",
      "117000\n",
      "118000\n",
      "119000\n",
      "120000\n",
      "121000\n",
      "122000\n",
      "123000\n",
      "124000\n",
      "125000\n",
      "126000\n",
      "127000\n",
      "128000\n",
      "129000\n",
      "130000\n",
      "131000\n",
      "132000\n",
      "133000\n",
      "134000\n",
      "135000\n",
      "136000\n",
      "137000\n",
      "138000\n",
      "139000\n",
      "140000\n",
      "141000\n",
      "142000\n",
      "143000\n",
      "144000\n",
      "145000\n",
      "146000\n",
      "147000\n",
      "148000\n",
      "149000\n",
      "150000\n",
      "151000\n",
      "152000\n",
      "153000\n",
      "154000\n",
      "155000\n",
      "156000\n",
      "157000\n",
      "158000\n",
      "159000\n",
      "160000\n",
      "161000\n",
      "162000\n",
      "163000\n",
      "164000\n",
      "165000\n",
      "166000\n",
      "167000\n",
      "168000\n",
      "169000\n",
      "170000\n",
      "171000\n",
      "172000\n",
      "173000\n",
      "174000\n",
      "175000\n",
      "176000\n",
      "177000\n",
      "178000\n",
      "179000\n",
      "180000\n",
      "181000\n",
      "182000\n",
      "183000\n",
      "184000\n",
      "185000\n",
      "186000\n",
      "187000\n",
      "188000\n",
      "189000\n",
      "190000\n",
      "191000\n",
      "192000\n",
      "193000\n",
      "194000\n",
      "195000\n",
      "196000\n",
      "197000\n",
      "198000\n",
      "199000\n",
      "200000\n",
      "201000\n",
      "202000\n",
      "203000\n",
      "204000\n",
      "205000\n",
      "206000\n",
      "207000\n",
      "208000\n",
      "209000\n",
      "210000\n",
      "211000\n",
      "212000\n",
      "213000\n",
      "214000\n",
      "215000\n",
      "216000\n",
      "217000\n",
      "218000\n",
      "219000\n",
      "220000\n",
      "221000\n",
      "222000\n",
      "223000\n",
      "224000\n",
      "225000\n",
      "226000\n",
      "227000\n",
      "228000\n",
      "229000\n",
      "230000\n",
      "231000\n",
      "232000\n",
      "233000\n",
      "234000\n",
      "235000\n",
      "236000\n",
      "237000\n",
      "238000\n",
      "239000\n",
      "240000\n"
     ]
    }
   ],
   "source": [
    "streamlines_all2 = bn.read_sl_mni('/home/ubuntu/recobundles/100408/out_work/whole_brain_MNI_tracks_from_sh__moved.trk')\n",
    "map_files = sorted(glob('/home/ubuntu/recobundles/100408/out_work/rrbs/whole_brain_MNI_tracks_from_sh__moved_*.npy'))\n",
    "map_file_index = []\n",
    "labels_subj2 = []\n",
    "for m_idx, m in enumerate(map_files):\n",
    "    tmp = np.load(m)\n",
    "    map_file_index = np.append(map_file_index,tmp)\n",
    "    labels_subj2 = np.append(labels_subj2,m_idx*np.ones([len(tmp),1]))\n",
    "\n",
    "ind = range(len(streamlines_all2))\n",
    "ind = np.delete(ind,map_file_index)\n",
    "num_unlabeled = ind.shape[0] #len(map_file_index)\n",
    "#np.random.shuffle(ind)\n",
    "unlabeled_streamlines = ind[0:num_unlabeled]\n",
    "labels_subj2 = np.append(labels_subj2,16*np.ones([num_unlabeled,1]))\n",
    "np.append(map_file_index,unlabeled_streamlines)\n",
    "\n",
    "streamlines_all_subj2 = [streamlines_all2[i] for i in np.int_(np.append(map_file_index,unlabeled_streamlines))]\n",
    "\n",
    "streamlines_all_processed_subj2 = bn.process_sl(streamlines_all_subj2,-1,vol_shape_subj2,size_slimage,dil_iters)\n",
    "p_subj2 = model.predict(streamlines_all_processed_subj2, batch_size=5)\n",
    "np.save('streamlines_processed_100408.npy',streamlines_all_processed_subj1)"
   ]
  },
  {
   "cell_type": "code",
   "execution_count": 66,
   "metadata": {},
   "outputs": [],
   "source": [
    "np.save('streamlines_processed_100408.npy',streamlines_all_processed_subj2)"
   ]
  },
  {
   "cell_type": "code",
   "execution_count": 67,
   "metadata": {},
   "outputs": [],
   "source": [
    "import xgboost as xgb\n",
    "from sklearn.cross_validation import train_test_split\n",
    "param = {\n",
    "    'max_depth': 10,  # the maximum depth of each tree\n",
    "    'eta': 0.3,  # the training step for each iteration\n",
    "    'silent': 1,  # logging mode - quiet\n",
    "    'objective': 'multi:softprob',  # error evaluation for multiclass training\n",
    "    'num_class': 17}  # the number of classes that exist in this datset\n",
    "num_round = 20  # the number of training iterations\n",
    "#X_train, X_test, y_train, y_test = train_test_split(p_subj1, labels_subj1, test_size=0.2, random_state=42, stratify=labels_subj1)\n",
    "dtrain = xgb.DMatrix(p_subj1, label=labels_subj1)\n",
    "dtest = xgb.DMatrix(p_subj2, label=labels_subj2)\n",
    "bst = xgb.train(param, dtrain, num_round)\n",
    "preds = bst.predict(dtest)\n",
    "preds_max = np.argmax(preds,axis=1)"
   ]
  },
  {
   "cell_type": "code",
   "execution_count": 68,
   "metadata": {},
   "outputs": [
    {
     "data": {
      "text/plain": [
       "41542"
      ]
     },
     "execution_count": 68,
     "metadata": {},
     "output_type": "execute_result"
    }
   ],
   "source": [
    "len(y_test)"
   ]
  },
  {
   "cell_type": "code",
   "execution_count": 71,
   "metadata": {},
   "outputs": [
    {
     "data": {
      "text/plain": [
       "array([[0.49266862],\n",
       "       [0.74447031],\n",
       "       [0.81166782],\n",
       "       [0.59446494],\n",
       "       [0.36433631],\n",
       "       [0.16482412],\n",
       "       [0.81646274],\n",
       "       [0.42119276],\n",
       "       [0.45290581],\n",
       "       [0.14634146],\n",
       "       [0.44404332],\n",
       "       [0.82339317],\n",
       "       [0.35379203],\n",
       "       [0.18032787],\n",
       "       [0.4673913 ],\n",
       "       [0.20996441],\n",
       "       [0.9756055 ]])"
      ]
     },
     "execution_count": 71,
     "metadata": {},
     "output_type": "execute_result"
    },
    {
     "data": {
      "image/png": "[encoded data removed]",
      "text/plain": [
       "<Figure size 432x288 with 1 Axes>"
      ]
     },
     "metadata": {},
     "output_type": "display_data"
    }
   ],
   "source": [
    "ind=labels_subj2==16\n",
    "plt.hist(preds_max[ind],bins=17)\n",
    "perc_correct = np.zeros((17,1))\n",
    "nsl = np.zeros((17,1))\n",
    "for i in range(17):\n",
    "    ind = labels_subj2 == i\n",
    "    nsl[i] = np.sum(ind)\n",
    "    perc_correct[i] = np.sum(preds_max[ind]==i)/np.sum(ind)\n",
    "perc_correct"
   ]
  },
  {
   "cell_type": "code",
   "execution_count": 72,
   "metadata": {},
   "outputs": [
    {
     "data": {
      "text/plain": [
       "array([[1.        ],\n",
       "       [1.        ],\n",
       "       [0.9546679 ],\n",
       "       [1.        ],\n",
       "       [0.89066831],\n",
       "       [0.97889447],\n",
       "       [1.        ],\n",
       "       [0.94621938],\n",
       "       [1.        ],\n",
       "       [1.        ],\n",
       "       [1.        ],\n",
       "       [0.90793283],\n",
       "       [0.98358092],\n",
       "       [0.99943471],\n",
       "       [1.        ],\n",
       "       [1.        ],\n",
       "       [0.        ]])"
      ]
     },
     "execution_count": 72,
     "metadata": {},
     "output_type": "execute_result"
    },
    {
     "data": {
      "image/png": "[encoded data removed]",
      "text/plain": [
       "<Figure size 432x288 with 1 Axes>"
      ]
     },
     "metadata": {},
     "output_type": "display_data"
    }
   ],
   "source": [
    "#??\n",
    "p_2 = np.argmax(p_subj2,axis=1)\n",
    "ind=labels_subj2==16\n",
    "plt.hist(preds_max[ind],bins=17)\n",
    "perc_correct = np.zeros((17,1))\n",
    "nsl = np.zeros((17,1))\n",
    "for i in range(17):\n",
    "    ind = labels_subj2 == i\n",
    "    nsl[i] = np.sum(ind)\n",
    "    perc_correct[i] = np.sum(p_2[ind]==i)/np.sum(ind)\n",
    "perc_correct"
   ]
  },
  {
   "cell_type": "code",
   "execution_count": 73,
   "metadata": {},
   "outputs": [],
   "source": [
    "p_subj2_withclass = model.predict(streamlines_all_processed_subj2[preds_max<16,:,:,:], batch_size=5)"
   ]
  },
  {
   "cell_type": "code",
   "execution_count": 74,
   "metadata": {},
   "outputs": [
    {
     "data": {
      "text/plain": [
       "array([[1.        ],\n",
       "       [1.        ],\n",
       "       [0.99981037],\n",
       "       [1.        ],\n",
       "       [0.87768718],\n",
       "       [1.        ],\n",
       "       [1.        ],\n",
       "       [1.        ],\n",
       "       [1.        ],\n",
       "       [1.        ],\n",
       "       [1.        ],\n",
       "       [0.97327707],\n",
       "       [1.        ],\n",
       "       [1.        ],\n",
       "       [1.        ],\n",
       "       [1.        ]])"
      ]
     },
     "execution_count": 74,
     "metadata": {},
     "output_type": "execute_result"
    }
   ],
   "source": [
    "l = labels_subj2[preds_max<16]\n",
    "p_withclass_2 = np.argmax(p_subj2_withclass,axis=1)\n",
    "perc_correct = np.zeros((16,1))\n",
    "nsl = np.zeros((16,1))\n",
    "for i in range(16):\n",
    "    ind = l == i\n",
    "    nsl[i] = np.sum(ind)\n",
    "    perc_correct[i] = np.sum(p_withclass_2[ind]==i)/np.sum(ind)\n",
    "perc_correct"
   ]
  },
  {
   "cell_type": "code",
   "execution_count": 55,
   "metadata": {},
   "outputs": [],
   "source": [
    "imp.reload(bn)\n",
    "streamlines_all2_nomni = bn.read_sl('/home/ubuntu/recobundles/100408/out_work/whole_brain_MNI_tracks_from_sh__moved.trk')\n",
    "streamlines_all_nomni_subj2 = [streamlines_all2_nomni[i] for i in np.int_(np.append(map_file_index,unlabeled_streamlines))]"
   ]
  },
  {
   "cell_type": "code",
   "execution_count": 56,
   "metadata": {},
   "outputs": [],
   "source": [
    "tmp = np.where(p<16)\n",
    "t = tmp[0]\n",
    "classified_streamlines = [streamlines_all_nomni_subj2[i] for i in t ]"
   ]
  },
  {
   "cell_type": "code",
   "execution_count": 57,
   "metadata": {},
   "outputs": [
    {
     "ename": "NameError",
     "evalue": "name 'p_subj2_nounclass' is not defined",
     "output_type": "error",
     "traceback": [
      "\u001b[0;31m---------------------------------------------------------------------------\u001b[0m",
      "\u001b[0;31mNameError\u001b[0m                                 Traceback (most recent call last)",
      "\u001b[0;32m<ipython-input-57-fcd9fdf188e7>\u001b[0m in \u001b[0;36m<module>\u001b[0;34m()\u001b[0m\n\u001b[0;32m----> 1\u001b[0;31m \u001b[0mprobs\u001b[0m \u001b[0;34m=\u001b[0m \u001b[0mnp\u001b[0m\u001b[0;34m.\u001b[0m\u001b[0mmax\u001b[0m\u001b[0;34m(\u001b[0m\u001b[0mp_subj2_nounclass\u001b[0m\u001b[0;34m,\u001b[0m\u001b[0maxis\u001b[0m\u001b[0;34m=\u001b[0m\u001b[0;36m1\u001b[0m\u001b[0;34m)\u001b[0m\u001b[0;34m\u001b[0m\u001b[0m\n\u001b[0m",
      "\u001b[0;31mNameError\u001b[0m: name 'p_subj2_nounclass' is not defined"
     ]
    }
   ],
   "source": [
    "probs = np.max(p_subj2_nounclass,axis=1)"
   ]
  },
  {
   "cell_type": "code",
   "execution_count": null,
   "metadata": {},
   "outputs": [],
   "source": [
    "bundle_names"
   ]
  },
  {
   "cell_type": "code",
   "execution_count": null,
   "metadata": {},
   "outputs": [],
   "source": [
    "imp.reload(bn)\n",
    "for i, bund in enumerate(bundle_names):\n",
    "    bn.savesegtrk(classified_streamlines, p_withclass_2, i, probs, 0.9,'TRK/'+bund+'.trk',0)"
   ]
  },
  {
   "cell_type": "code",
   "execution_count": null,
   "metadata": {},
   "outputs": [],
   "source": []
  }
 ],
 "metadata": {
  "kernelspec": {
   "display_name": "Python 3",
   "language": "python",
   "name": "python3"
  },
  "language_info": {
   "codemirror_mode": {
    "name": "ipython",
    "version": 3
   },
   "file_extension": ".py",
   "mimetype": "text/x-python",
   "name": "python",
   "nbconvert_exporter": "python",
   "pygments_lexer": "ipython3",
   "version": "3.6.5"
  }
 },
 "nbformat": 4,
 "nbformat_minor": 1
}
