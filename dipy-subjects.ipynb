{
 "cells": [
  {
   "cell_type": "code",
   "execution_count": 1,
   "metadata": {},
   "outputs": [],
   "source": [
    "from glob import glob\n",
    "import os.path as op\n",
    "import numpy as np\n",
    "import matplotlib.pyplot as plt\n",
    "\n",
    "import seaborn as sns\n",
    "\n",
    "%matplotlib inline"
   ]
  },
  {
   "cell_type": "code",
   "execution_count": 2,
   "metadata": {},
   "outputs": [],
   "source": [
    "import nibabel as nib\n",
    "from nibabel.streamlines import load as load_trk\n",
    "import dipy.tracking.streamline as dts\n",
    "import dipy.tracking.utils as dtu\n",
    "from skimage.transform import resize\n",
    "from scipy.ndimage.morphology import binary_dilation\n",
    "import dipy.data as dpd"
   ]
  },
  {
   "cell_type": "code",
   "execution_count": 3,
   "metadata": {},
   "outputs": [
    {
     "name": "stderr",
     "output_type": "stream",
     "text": [
      "Using TensorFlow backend.\n"
     ]
    }
   ],
   "source": [
    "import keras\n",
    "from keras.callbacks import ModelCheckpoint\n",
    "from keras.models import Sequential\n",
    "from keras.layers import Dense, Dropout, Flatten, LeakyReLU\n",
    "from keras.layers import Conv2D, MaxPooling2D"
   ]
  },
  {
   "cell_type": "code",
   "execution_count": 4,
   "metadata": {},
   "outputs": [],
   "source": [
    "import bundlenet as bn"
   ]
  },
  {
   "cell_type": "code",
   "execution_count": 5,
   "metadata": {},
   "outputs": [],
   "source": [
    "import dask.bag as db"
   ]
  },
  {
   "cell_type": "code",
   "execution_count": 6,
   "metadata": {},
   "outputs": [
    {
     "name": "stdout",
     "output_type": "stream",
     "text": [
      "Data size is approximately 234MB\n",
      "Dataset is already in place. If you want to fetch it again please first remove the folder /home/ubuntu/.dipy/exp_bundles_and_maps \n"
     ]
    },
    {
     "data": {
      "text/plain": [
       "({'bundles_2_subjects.tar.gz': ('https://digital.lib.washington.edu/researchworks/bitstream/handle/1773/38477/bundles_2_subjects.tar.gz',\n",
       "   '97756fbef11ce2df31f1bedf1fc7aac7')},\n",
       " '/home/ubuntu/.dipy/exp_bundles_and_maps')"
      ]
     },
     "execution_count": 6,
     "metadata": {},
     "output_type": "execute_result"
    }
   ],
   "source": [
    "dpd.fetch_bundles_2_subjects()"
   ]
  },
  {
   "cell_type": "code",
   "execution_count": 7,
   "metadata": {},
   "outputs": [
    {
     "name": "stdout",
     "output_type": "stream",
     "text": [
      "bundles_af.left.trk   bundles_cg.left.trk     bundles_mdlf.right.trk\r\n",
      "bundles_af.right.trk  bundles_cg.right.trk    bundles_slf1.left.trk\r\n",
      "bundles_cc_1.trk      bundles_cst.left.trk    bundles_slf1.right.trk\r\n",
      "bundles_cc_2.trk      bundles_cst.right.trk   bundles_slf2.left.trk\r\n",
      "bundles_cc_3.trk      bundles_ifof.left.trk   bundles_slf2.right.trk\r\n",
      "bundles_cc_4.trk      bundles_ifof.right.trk  bundles_slf_3.left.trk\r\n",
      "bundles_cc_5.trk      bundles_ilf.left.trk    bundles_slf_3.right.trk\r\n",
      "bundles_cc_6.trk      bundles_ilf.right.trk   bundles_uf.left.trk\r\n",
      "bundles_cc_7.trk      bundles_mdlf.left.trk   bundles_uf.right.trk\r\n"
     ]
    }
   ],
   "source": [
    "ls /home/ubuntu/.dipy/exp_bundles_and_maps/bundles_2_subjects/subj_1/bundles/"
   ]
  },
  {
   "cell_type": "code",
   "execution_count": 8,
   "metadata": {},
   "outputs": [],
   "source": [
    "bundle_files = glob('/home/ubuntu/.dipy/exp_bundles_and_maps/bundles_2_subjects/subj_1/bundles/*.trk')"
   ]
  },
  {
   "cell_type": "code",
   "execution_count": 9,
   "metadata": {},
   "outputs": [],
   "source": [
    "t1_img = nib.load('/home/ubuntu/.dipy/exp_bundles_and_maps/bundles_2_subjects/subj_1/t1_warped.nii.gz')\n",
    "vol_shape=t1_img.shape"
   ]
  },
  {
   "cell_type": "code",
   "execution_count": 10,
   "metadata": {},
   "outputs": [],
   "source": [
    "n_streamlines = []\n",
    "bundle_names = []\n",
    "for fname in bundle_files:\n",
    "    bundle_names.append(fname.split('/')[-1].split('bundles_')[-1].split('.trk')[0])\n",
    "    streamlines = bn.read_sl(fname) \n",
    "    n_streamlines.append(len(streamlines))"
   ]
  },
  {
   "cell_type": "code",
   "execution_count": 11,
   "metadata": {},
   "outputs": [
    {
     "data": {
      "text/plain": [
       "['ifof.left',\n",
       " 'slf_3.right',\n",
       " 'slf1.right',\n",
       " 'af.left',\n",
       " 'cc_3',\n",
       " 'slf1.left',\n",
       " 'ilf.left',\n",
       " 'cc_2',\n",
       " 'mdlf.left',\n",
       " 'slf_3.left',\n",
       " 'cc_1',\n",
       " 'uf.right',\n",
       " 'ilf.right',\n",
       " 'cc_6',\n",
       " 'cc_5',\n",
       " 'cc_7',\n",
       " 'ifof.right',\n",
       " 'cg.right',\n",
       " 'slf2.left',\n",
       " 'cg.left',\n",
       " 'uf.left',\n",
       " 'cst.left',\n",
       " 'cst.right',\n",
       " 'slf2.right',\n",
       " 'af.right',\n",
       " 'mdlf.right',\n",
       " 'cc_4']"
      ]
     },
     "execution_count": 11,
     "metadata": {},
     "output_type": "execute_result"
    }
   ],
   "source": [
    "bundle_names"
   ]
  },
  {
   "cell_type": "code",
   "execution_count": 12,
   "metadata": {},
   "outputs": [
    {
     "data": {
      "text/plain": [
       "(161, 27)"
      ]
     },
     "execution_count": 12,
     "metadata": {},
     "output_type": "execute_result"
    }
   ],
   "source": [
    "np.min(n_streamlines), len(n_streamlines)"
   ]
  },
  {
   "cell_type": "code",
   "execution_count": 13,
   "metadata": {},
   "outputs": [],
   "source": [
    "take_n_bundles = len(n_streamlines)\n",
    "take_n_sl = np.min(n_streamlines)\n",
    "\n",
    "test_perc=0.2\n",
    "size_slimage = 100"
   ]
  },
  {
   "cell_type": "code",
   "execution_count": 14,
   "metadata": {
    "scrolled": false
   },
   "outputs": [
    {
     "name": "stderr",
     "output_type": "stream",
     "text": [
      "/home/ubuntu/.local/lib/python3.5/site-packages/skimage/transform/_warps.py:105: UserWarning: The default mode, 'constant', will be changed to 'reflect' in skimage 0.15.\n",
      "  warn(\"The default mode, 'constant', will be changed to 'reflect' in \"\n",
      "/home/ubuntu/.local/lib/python3.5/site-packages/skimage/transform/_warps.py:110: UserWarning: Anti-aliasing will be enabled by default in skimage 0.15 to avoid aliasing artifacts when down-sampling images.\n",
      "  warn(\"Anti-aliasing will be enabled by default in skimage 0.15 to \"\n",
      "/home/ubuntu/.local/lib/python3.5/site-packages/skimage/transform/_warps.py:105: UserWarning: The default mode, 'constant', will be changed to 'reflect' in skimage 0.15.\n",
      "  warn(\"The default mode, 'constant', will be changed to 'reflect' in \"\n",
      "/home/ubuntu/.local/lib/python3.5/site-packages/skimage/transform/_warps.py:105: UserWarning: The default mode, 'constant', will be changed to 'reflect' in skimage 0.15.\n",
      "  warn(\"The default mode, 'constant', will be changed to 'reflect' in \"\n",
      "/home/ubuntu/.local/lib/python3.5/site-packages/skimage/transform/_warps.py:110: UserWarning: Anti-aliasing will be enabled by default in skimage 0.15 to avoid aliasing artifacts when down-sampling images.\n",
      "  warn(\"Anti-aliasing will be enabled by default in skimage 0.15 to \"\n",
      "/home/ubuntu/.local/lib/python3.5/site-packages/skimage/transform/_warps.py:110: UserWarning: Anti-aliasing will be enabled by default in skimage 0.15 to avoid aliasing artifacts when down-sampling images.\n",
      "  warn(\"Anti-aliasing will be enabled by default in skimage 0.15 to \"\n",
      "/home/ubuntu/.local/lib/python3.5/site-packages/skimage/transform/_warps.py:105: UserWarning: The default mode, 'constant', will be changed to 'reflect' in skimage 0.15.\n",
      "  warn(\"The default mode, 'constant', will be changed to 'reflect' in \"\n",
      "/home/ubuntu/.local/lib/python3.5/site-packages/skimage/transform/_warps.py:110: UserWarning: Anti-aliasing will be enabled by default in skimage 0.15 to avoid aliasing artifacts when down-sampling images.\n",
      "  warn(\"Anti-aliasing will be enabled by default in skimage 0.15 to \"\n",
      "/home/ubuntu/.local/lib/python3.5/site-packages/skimage/transform/_warps.py:105: UserWarning: The default mode, 'constant', will be changed to 'reflect' in skimage 0.15.\n",
      "  warn(\"The default mode, 'constant', will be changed to 'reflect' in \"\n",
      "/home/ubuntu/.local/lib/python3.5/site-packages/skimage/transform/_warps.py:110: UserWarning: Anti-aliasing will be enabled by default in skimage 0.15 to avoid aliasing artifacts when down-sampling images.\n",
      "  warn(\"Anti-aliasing will be enabled by default in skimage 0.15 to \"\n",
      "/home/ubuntu/.local/lib/python3.5/site-packages/skimage/transform/_warps.py:105: UserWarning: The default mode, 'constant', will be changed to 'reflect' in skimage 0.15.\n",
      "  warn(\"The default mode, 'constant', will be changed to 'reflect' in \"\n",
      "/home/ubuntu/.local/lib/python3.5/site-packages/skimage/transform/_warps.py:110: UserWarning: Anti-aliasing will be enabled by default in skimage 0.15 to avoid aliasing artifacts when down-sampling images.\n",
      "  warn(\"Anti-aliasing will be enabled by default in skimage 0.15 to \"\n",
      "/home/ubuntu/.local/lib/python3.5/site-packages/skimage/transform/_warps.py:105: UserWarning: The default mode, 'constant', will be changed to 'reflect' in skimage 0.15.\n",
      "  warn(\"The default mode, 'constant', will be changed to 'reflect' in \"\n",
      "/home/ubuntu/.local/lib/python3.5/site-packages/skimage/transform/_warps.py:110: UserWarning: Anti-aliasing will be enabled by default in skimage 0.15 to avoid aliasing artifacts when down-sampling images.\n",
      "  warn(\"Anti-aliasing will be enabled by default in skimage 0.15 to \"\n",
      "/home/ubuntu/.local/lib/python3.5/site-packages/skimage/transform/_warps.py:105: UserWarning: The default mode, 'constant', will be changed to 'reflect' in skimage 0.15.\n",
      "  warn(\"The default mode, 'constant', will be changed to 'reflect' in \"\n",
      "/home/ubuntu/.local/lib/python3.5/site-packages/skimage/transform/_warps.py:110: UserWarning: Anti-aliasing will be enabled by default in skimage 0.15 to avoid aliasing artifacts when down-sampling images.\n",
      "  warn(\"Anti-aliasing will be enabled by default in skimage 0.15 to \"\n"
     ]
    }
   ],
   "source": [
    "import imp  \n",
    "imp.reload(bn)\n",
    "\n",
    "if op.exists('./subject1_bundles.npz'):\n",
    "    # Read it from file:\n",
    "    loaded_from_file = np.load('./subject1_bundles.npz')\n",
    "    labels_test = loaded_from_file['labels_test']\n",
    "    labels_train = loaded_from_file['labels_train']\n",
    "    data_test = loaded_from_file['data_test']\n",
    "    data_train = loaded_from_file['data_train']\n",
    "else:\n",
    "    streamlines_loaded = db.from_sequence(bundle_files).map(bn.read_sl).compute()\n",
    "    streamlines_processed = db.from_sequence(streamlines_loaded).map(bn.process_sl,take_n_sl,vol_shape,size_slimage).compute() \n",
    "    data_train, data_test, data_val, labels_train, labels_test, labels_val = bn.partition_testtrain(test_perc, val_perc, streamlines_processed)\n",
    "    np.savez('./subject1_bundles', data_train=data_train, labels_train=labels_train,data_test=data_test, labels_test=labels_test)"
   ]
  },
  {
   "cell_type": "code",
   "execution_count": 70,
   "metadata": {},
   "outputs": [
    {
     "data": {
      "text/plain": [
       "(864,)"
      ]
     },
     "execution_count": 70,
     "metadata": {},
     "output_type": "execute_result"
    }
   ],
   "source": [
    "labels_val.shape"
   ]
  },
  {
   "cell_type": "code",
   "execution_count": 71,
   "metadata": {},
   "outputs": [],
   "source": [
    "img_rows = size_slimage\n",
    "img_cols = size_slimage\n",
    "batch_size = 4\n",
    "epochs = 24\n",
    "num_classes = take_n_bundles\n",
    "input_shape = (img_rows, img_cols,1)"
   ]
  },
  {
   "cell_type": "code",
   "execution_count": 72,
   "metadata": {},
   "outputs": [],
   "source": [
    "labels_train = keras.utils.to_categorical(labels_train, num_classes)\n",
    "labels_test  = keras.utils.to_categorical(labels_test, num_classes)\n",
    "labels_val  = keras.utils.to_categorical(labels_val, num_classes)"
   ]
  },
  {
   "cell_type": "code",
   "execution_count": 73,
   "metadata": {},
   "outputs": [],
   "source": [
    "# model = Sequential()\n",
    "# model.add(Conv2D(32, kernel_size=(3, 3),\n",
    "#                  activation='relu',\n",
    "#                  input_shape=input_shape))\n",
    "# model.add(Conv2D(64, (3, 3), activation='relu'))\n",
    "# model.add(MaxPooling2D(pool_size=(2, 2)))\n",
    "# model.add(Dropout(0.25))\n",
    "# model.add(Flatten())\n",
    "# model.add(Dense(128, activation='relu'))\n",
    "# model.add(Dropout(0.5))\n",
    "# model.add(Dense(num_classes, activation='softmax'))"
   ]
  },
  {
   "cell_type": "code",
   "execution_count": 74,
   "metadata": {},
   "outputs": [
    {
     "data": {
      "text/plain": [
       "(2619, 27)"
      ]
     },
     "execution_count": 74,
     "metadata": {},
     "output_type": "execute_result"
    }
   ],
   "source": [
    "labels_train.shape\n"
   ]
  },
  {
   "cell_type": "code",
   "execution_count": 75,
   "metadata": {},
   "outputs": [],
   "source": [
    "model = Sequential()\n",
    "model.add(Conv2D(32, kernel_size=(3, 3),activation='linear',input_shape=input_shape,padding='same'))\n",
    "model.add(LeakyReLU(alpha=0.1))\n",
    "model.add(MaxPooling2D((2, 2),padding='same'))\n",
    "model.add(Dropout(0.25))\n",
    "model.add(Conv2D(64, (3, 3), activation='linear',padding='same'))\n",
    "model.add(LeakyReLU(alpha=0.1))\n",
    "model.add(MaxPooling2D(pool_size=(2, 2),padding='same'))\n",
    "model.add(Dropout(0.25))\n",
    "model.add(Conv2D(128, (3, 3), activation='linear',padding='same'))\n",
    "model.add(LeakyReLU(alpha=0.1))                  \n",
    "model.add(MaxPooling2D(pool_size=(2, 2),padding='same'))\n",
    "model.add(Dropout(0.25))\n",
    "model.add(Flatten())\n",
    "model.add(Dense(128, activation='linear'))\n",
    "model.add(Dropout(0.25))\n",
    "model.add(LeakyReLU(alpha=0.1))                  \n",
    "model.add(Dense(num_classes, activation='softmax'))"
   ]
  },
  {
   "cell_type": "code",
   "execution_count": 76,
   "metadata": {},
   "outputs": [],
   "source": [
    "from IPython.display import SVG\n",
    "from keras.utils import plot_model\n",
    "#from vis_utils import plot_model\n",
    "plot_model(model, to_file='model.png')"
   ]
  },
  {
   "cell_type": "code",
   "execution_count": 77,
   "metadata": {},
   "outputs": [],
   "source": [
    "model.compile(loss=keras.losses.categorical_crossentropy,\n",
    "              optimizer=keras.optimizers.Adam(),\n",
    "              metrics=['accuracy'])"
   ]
  },
  {
   "cell_type": "code",
   "execution_count": 78,
   "metadata": {},
   "outputs": [],
   "source": [
    "filepath=\"checkpoints/weights.best.hdf5\"\n",
    "checkpoint = ModelCheckpoint(filepath, monitor='val_acc', verbose=1, save_best_only=True, mode='max')\n",
    "callbacks_list = [checkpoint]"
   ]
  },
  {
   "cell_type": "code",
   "execution_count": null,
   "metadata": {
    "scrolled": false
   },
   "outputs": [
    {
     "name": "stdout",
     "output_type": "stream",
     "text": [
      "Train on 2619 samples, validate on 864 samples\n",
      "Epoch 1/24\n",
      "2619/2619 [==============================] - 47s 18ms/step - loss: 0.5880 - acc: 0.8255 - val_loss: 0.2010 - val_acc: 0.9271\n",
      "\n",
      "Epoch 00001: val_acc improved from -inf to 0.92708, saving model to checkpoints/weights.best.hdf5\n",
      "Epoch 2/24\n",
      "2619/2619 [==============================] - 50s 19ms/step - loss: 0.1973 - acc: 0.9309 - val_loss: 0.1574 - val_acc: 0.9387\n",
      "\n",
      "Epoch 00002: val_acc improved from 0.92708 to 0.93866, saving model to checkpoints/weights.best.hdf5\n",
      "Epoch 3/24\n",
      "2619/2619 [==============================] - 46s 18ms/step - loss: 0.1526 - acc: 0.9477 - val_loss: 0.1365 - val_acc: 0.9491\n",
      "\n",
      "Epoch 00003: val_acc improved from 0.93866 to 0.94907, saving model to checkpoints/weights.best.hdf5\n",
      "Epoch 4/24\n",
      "2619/2619 [==============================] - 46s 18ms/step - loss: 0.1278 - acc: 0.9523 - val_loss: 0.1587 - val_acc: 0.9433\n",
      "\n",
      "Epoch 00004: val_acc did not improve from 0.94907\n",
      "Epoch 5/24\n",
      "2619/2619 [==============================] - 46s 18ms/step - loss: 0.1115 - acc: 0.9591 - val_loss: 0.1645 - val_acc: 0.9433\n",
      "\n",
      "Epoch 00005: val_acc did not improve from 0.94907\n",
      "Epoch 6/24\n",
      "2619/2619 [==============================] - 46s 18ms/step - loss: 0.1085 - acc: 0.9549 - val_loss: 0.1520 - val_acc: 0.9329\n",
      "\n",
      "Epoch 00006: val_acc did not improve from 0.94907\n",
      "Epoch 7/24\n",
      "2619/2619 [==============================] - 46s 18ms/step - loss: 0.0939 - acc: 0.9641 - val_loss: 0.1353 - val_acc: 0.9514\n",
      "\n",
      "Epoch 00007: val_acc improved from 0.94907 to 0.95139, saving model to checkpoints/weights.best.hdf5\n",
      "Epoch 8/24\n",
      "2619/2619 [==============================] - 47s 18ms/step - loss: 0.0849 - acc: 0.9706 - val_loss: 0.1307 - val_acc: 0.9375\n",
      "\n",
      "Epoch 00008: val_acc did not improve from 0.95139\n",
      "Epoch 9/24\n",
      "2619/2619 [==============================] - 47s 18ms/step - loss: 0.0904 - acc: 0.9622 - val_loss: 0.1330 - val_acc: 0.9572\n",
      "\n",
      "Epoch 00009: val_acc improved from 0.95139 to 0.95718, saving model to checkpoints/weights.best.hdf5\n",
      "Epoch 10/24\n",
      "2619/2619 [==============================] - 46s 18ms/step - loss: 0.1075 - acc: 0.9622 - val_loss: 0.1090 - val_acc: 0.9664\n",
      "\n",
      "Epoch 00010: val_acc improved from 0.95718 to 0.96644, saving model to checkpoints/weights.best.hdf5\n",
      "Epoch 11/24\n",
      "2619/2619 [==============================] - 47s 18ms/step - loss: 0.0702 - acc: 0.9683 - val_loss: 0.1487 - val_acc: 0.9468\n",
      "\n",
      "Epoch 00011: val_acc did not improve from 0.96644\n",
      "Epoch 12/24\n",
      "2619/2619 [==============================] - 46s 18ms/step - loss: 0.0733 - acc: 0.9691 - val_loss: 0.1154 - val_acc: 0.9572\n",
      "\n",
      "Epoch 00012: val_acc did not improve from 0.96644\n",
      "Epoch 13/24\n",
      "2619/2619 [==============================] - 46s 18ms/step - loss: 0.0787 - acc: 0.9698 - val_loss: 0.1600 - val_acc: 0.9572\n",
      "\n",
      "Epoch 00013: val_acc did not improve from 0.96644\n",
      "Epoch 14/24\n",
      "2619/2619 [==============================] - 46s 18ms/step - loss: 0.0594 - acc: 0.9744 - val_loss: 0.1924 - val_acc: 0.9456\n",
      "\n",
      "Epoch 00014: val_acc did not improve from 0.96644\n",
      "Epoch 15/24\n",
      "2619/2619 [==============================] - 46s 18ms/step - loss: 0.0967 - acc: 0.9687 - val_loss: 0.1897 - val_acc: 0.9479\n",
      "\n",
      "Epoch 00015: val_acc did not improve from 0.96644\n",
      "Epoch 16/24\n",
      "2619/2619 [==============================] - 47s 18ms/step - loss: 0.0641 - acc: 0.9756 - val_loss: 0.1683 - val_acc: 0.9456\n",
      "\n",
      "Epoch 00016: val_acc did not improve from 0.96644\n",
      "Epoch 17/24\n",
      "2619/2619 [==============================] - 46s 18ms/step - loss: 0.0617 - acc: 0.9729 - val_loss: 0.1602 - val_acc: 0.9491\n",
      "\n",
      "Epoch 00017: val_acc did not improve from 0.96644\n",
      "Epoch 18/24\n",
      "2619/2619 [==============================] - 47s 18ms/step - loss: 0.0728 - acc: 0.9717 - val_loss: 0.1532 - val_acc: 0.9537\n",
      "\n",
      "Epoch 00018: val_acc did not improve from 0.96644\n",
      "Epoch 19/24\n",
      "2619/2619 [==============================] - 47s 18ms/step - loss: 0.0547 - acc: 0.9756 - val_loss: 0.3894 - val_acc: 0.9352\n",
      "\n",
      "Epoch 00019: val_acc did not improve from 0.96644\n",
      "Epoch 20/24\n",
      "2619/2619 [==============================] - 47s 18ms/step - loss: 0.0984 - acc: 0.9679 - val_loss: 0.1743 - val_acc: 0.9525\n",
      "\n",
      "Epoch 00020: val_acc did not improve from 0.96644\n",
      "Epoch 21/24\n",
      "2619/2619 [==============================] - 47s 18ms/step - loss: 0.0609 - acc: 0.9786 - val_loss: 0.1791 - val_acc: 0.9583\n",
      "\n",
      "Epoch 00021: val_acc did not improve from 0.96644\n",
      "Epoch 22/24\n",
      "2619/2619 [==============================] - 51s 19ms/step - loss: 0.0510 - acc: 0.9782 - val_loss: 0.1671 - val_acc: 0.9549\n",
      "\n",
      "Epoch 00022: val_acc did not improve from 0.96644\n",
      "Epoch 23/24\n",
      "2619/2619 [==============================] - 47s 18ms/step - loss: 0.0635 - acc: 0.9752 - val_loss: 0.1554 - val_acc: 0.9549\n",
      "\n",
      "Epoch 00023: val_acc did not improve from 0.96644\n",
      "Epoch 24/24\n",
      "1608/2619 [=================>............] - ETA: 16s - loss: 0.0685 - acc: 0.9789"
     ]
    }
   ],
   "source": [
    "#create checkpoints dir\n",
    "training = model.fit(data_train, labels_train,\n",
    "                     batch_size=batch_size,\n",
    "                     epochs=epochs,\n",
    "                     verbose=1,\n",
    "                     validation_data=(data_val, labels_val),\n",
    "                     callbacks=callbacks_list)"
   ]
  },
  {
   "cell_type": "code",
   "execution_count": 80,
   "metadata": {},
   "outputs": [],
   "source": [
    "model.load_weights(\"checkpoints/weights.best.hdf5\")"
   ]
  },
  {
   "cell_type": "code",
   "execution_count": 81,
   "metadata": {},
   "outputs": [],
   "source": [
    "score = model.evaluate(data_test, labels_test, verbose=0)"
   ]
  },
  {
   "cell_type": "code",
   "execution_count": 82,
   "metadata": {},
   "outputs": [
    {
     "name": "stdout",
     "output_type": "stream",
     "text": [
      "[0.2066658722973837, 0.9317129629629629]\n"
     ]
    }
   ],
   "source": [
    "print(score)"
   ]
  },
  {
   "cell_type": "code",
   "execution_count": 83,
   "metadata": {},
   "outputs": [
    {
     "data": {
      "image/png": "[encoded data removed]",
      "text/plain": [
       "<Figure size 432x288 with 1 Axes>"
      ]
     },
     "metadata": {
      "needs_background": "light"
     },
     "output_type": "display_data"
    }
   ],
   "source": [
    "fig = bn.plot_accuracy(training)"
   ]
  },
  {
   "cell_type": "code",
   "execution_count": 84,
   "metadata": {},
   "outputs": [],
   "source": [
    "p = model.predict(data_test, batch_size=5)"
   ]
  },
  {
   "cell_type": "code",
   "execution_count": 85,
   "metadata": {},
   "outputs": [
    {
     "name": "stdout",
     "output_type": "stream",
     "text": [
      "Percent correct is 0.003472222222222222 \n",
      "Kappa is: -0.03485576923076916\n",
      "Jaccard is: 0.003472222222222222\n"
     ]
    }
   ],
   "source": [
    "imp.reload(bn)\n",
    "\n",
    "bn.print_accuarcystats(p,labels_test,bundle_names)"
   ]
  },
  {
   "cell_type": "code",
   "execution_count": null,
   "metadata": {},
   "outputs": [],
   "source": [
    "p = model.predict(data_test, batch_size=5)\n",
    "p_idx = np.argmax(p, axis=-1)\n",
    "p_bundles = np.array([bundle_names[ii] for ii in p_idx])\n",
    "loaded_from_file = np.load('./subject1_bundles.npz')\n",
    "labels_test = loaded_from_file['labels_test']\n",
    "actual_labels = np.array([bundle_names[ii] for ii in (labels_test - 1).astype(int)])\n",
    "print(\"Percent correct is %s \" % np.mean(p_bundles == actual_labels))\n",
    "\n",
    "kappa = cohen_kappa_score(p_bundles, actual_labels)\n",
    "print(\"Kappa is: %s\" % kappa)\n",
    "jaccard = jaccard_similarity_score(p_bundles, actual_labels)\n",
    "print(\"Jaccard is: %s\" % jaccard)"
   ]
  },
  {
   "cell_type": "code",
   "execution_count": null,
   "metadata": {},
   "outputs": [],
   "source": [
    "confusion = np.zeros((len(bundle_names), len(bundle_names)))\n",
    "arr_bundle_names = np.array(bundle_names)\n",
    "for xx in range(len(p_bundles)):\n",
    "    idx1 = np.where(arr_bundle_names == p_bundles[xx])\n",
    "    idx2 = np.where(arr_bundle_names == actual_labels[xx])\n",
    "    n = np.sum(actual_labels == actual_labels[xx])\n",
    "    confusion[idx1, idx2] += 1 / n"
   ]
  },
  {
   "cell_type": "code",
   "execution_count": null,
   "metadata": {},
   "outputs": [],
   "source": [
    "sort_idx = np.argsort(arr_bundle_names)"
   ]
  },
  {
   "cell_type": "code",
   "execution_count": null,
   "metadata": {},
   "outputs": [],
   "source": [
    "fig, ax = plt.subplots(1)\n",
    "sns.heatmap(confusion[sort_idx][:, sort_idx],\n",
    "            xticklabels=arr_bundle_names[sort_idx], \n",
    "            yticklabels=arr_bundle_names[sort_idx], ax=ax)\n",
    "fig.set_size_inches([10, 8])"
   ]
  },
  {
   "cell_type": "markdown",
   "metadata": {},
   "source": [
    "Cross-predict on *another subject*"
   ]
  },
  {
   "cell_type": "code",
   "execution_count": null,
   "metadata": {},
   "outputs": [],
   "source": [
    "sub2_bundle_files = glob('/Users/jpowen/.dipy/exp_bundles_and_maps/bundles_2_subjects/subj_2/bundles/*.trk')"
   ]
  },
  {
   "cell_type": "code",
   "execution_count": null,
   "metadata": {},
   "outputs": [],
   "source": [
    "sub2_t1_img = nib.load('/Users/jpowen/.dipy/exp_bundles_and_maps/bundles_2_subjects/subj_2/t1_warped.nii.gz')"
   ]
  },
  {
   "cell_type": "code",
   "execution_count": null,
   "metadata": {},
   "outputs": [],
   "source": [
    "n_streamlines = 0\n",
    "for fname in sub2_bundle_files:\n",
    "    streamlines = bn.read_sl(fname)\n",
    "    n_streamlines += len(streamlines)"
   ]
  },
  {
   "cell_type": "code",
   "execution_count": null,
   "metadata": {},
   "outputs": [],
   "source": [
    "n_streamlines"
   ]
  },
  {
   "cell_type": "code",
   "execution_count": null,
   "metadata": {
    "scrolled": false
   },
   "outputs": [],
   "source": [
    "if not op.exists('./subject2_bundles_all.npz'):\n",
    "    data_sub2 = np.zeros((n_streamlines, 100, 100, 1))\n",
    "    actual_labels = np.zeros(n_streamlines, dtype=np.object)\n",
    "    ii = 0\n",
    "    for fname in sub2_bundle_files:\n",
    "        bundle_name = fname.split('/')[-1].split('bundles_')[-1].split('.trk')[0]\n",
    "        print(bundle_name)\n",
    "        streamlines = bn.read_sl(fname)\n",
    "        structure = morph.generate_binary_structure(3, 1)\n",
    "        origin = morph._ni_support._normalize_sequence(0, 3)\n",
    "        structure = structure[tuple([slice(None, None, -1)] *\n",
    "                                structure.ndim)]                        \n",
    "        for sl in streamlines: \n",
    "            data_sub2[ii] = bn.reduce_sl(sl, t1_img.shape,structure, origin)\n",
    "            if not np.mod(ii, 100):\n",
    "                print(\"ii = %s\"%ii)\n",
    "            actual_labels[ii] = bundle_name\n",
    "            ii += 1\n",
    "\n",
    "    np.savez('./subject2_bundles_all', data_sub2=data_sub2, actual_labels=actual_labels)\n",
    "else: \n",
    "    from_file = np.load('./subject2_bundles_all.npz')\n",
    "    data_sub2 = from_file['data_sub2']\n",
    "    actual_labels = from_file['actual_labels']"
   ]
  },
  {
   "cell_type": "code",
   "execution_count": null,
   "metadata": {},
   "outputs": [],
   "source": [
    "p = model.predict(data_sub2, batch_size=5)"
   ]
  },
  {
   "cell_type": "code",
   "execution_count": null,
   "metadata": {},
   "outputs": [],
   "source": [
    "p_idx = np.argmax(p, axis=-1)"
   ]
  },
  {
   "cell_type": "code",
   "execution_count": null,
   "metadata": {},
   "outputs": [],
   "source": [
    "p_bundles = [bundle_names[ii] for ii in p_idx]"
   ]
  },
  {
   "cell_type": "code",
   "execution_count": null,
   "metadata": {},
   "outputs": [],
   "source": [
    "print(\"Percent correct is %s \" % np.mean(p_bundles == actual_labels))\n",
    "kappa = cohen_kappa_score(p_bundles, actual_labels)\n",
    "print(\"Kappa is: %s\" % kappa)\n",
    "jaccard = jaccard_similarity_score(p_bundles, actual_labels)\n",
    "print(\"Jaccard is: %s\" % jaccard)"
   ]
  },
  {
   "cell_type": "code",
   "execution_count": null,
   "metadata": {},
   "outputs": [],
   "source": [
    "np.mean(p_bundles == actual_labels)"
   ]
  },
  {
   "cell_type": "code",
   "execution_count": null,
   "metadata": {},
   "outputs": [],
   "source": [
    "confusion = np.zeros((len(bundle_names), len(bundle_names)))\n",
    "arr_bundle_names = np.array(bundle_names)\n",
    "for xx in range(len(p_bundles)):\n",
    "    idx1 = np.where(arr_bundle_names == p_bundles[xx])\n",
    "    idx2 = np.where(arr_bundle_names == actual_labels[xx])\n",
    "    n = np.sum(actual_labels == actual_labels[xx])\n",
    "    confusion[idx1, idx2] += 1 / n"
   ]
  },
  {
   "cell_type": "code",
   "execution_count": null,
   "metadata": {},
   "outputs": [],
   "source": [
    "sort_idx = np.argsort(arr_bundle_names)"
   ]
  },
  {
   "cell_type": "code",
   "execution_count": null,
   "metadata": {},
   "outputs": [],
   "source": [
    "fig, ax = plt.subplots(1)\n",
    "sns.heatmap(confusion[sort_idx][:, sort_idx],\n",
    "            xticklabels=arr_bundle_names[sort_idx], \n",
    "            yticklabels=arr_bundle_names[sort_idx], ax=ax)\n",
    "fig.set_size_inches([10, 8])"
   ]
  },
  {
   "cell_type": "code",
   "execution_count": null,
   "metadata": {},
   "outputs": [],
   "source": [
    "p_error = p[~(p_bundles == actual_labels)]\n",
    "p_correct = p[p_bundles == actual_labels]"
   ]
  },
  {
   "cell_type": "code",
   "execution_count": null,
   "metadata": {},
   "outputs": [],
   "source": [
    "fig, ax = plt.subplots(1)\n",
    "ax.hist(np.max(p_correct, -1), histtype='step', linewidth=2, normed=True, bins=10, label=\"Correct\")\n",
    "ax.hist(np.max(p_error, -1), histtype='step', linewidth=2, normed=True, bins=10, label=\"Incorrect\")\n",
    "ax.set_xlabel(\"Probability of chosen category\")\n",
    "ax.set_ylabel(\"Normalized frequency\")\n",
    "plt.legend(loc=\"upper left\")"
   ]
  },
  {
   "cell_type": "code",
   "execution_count": null,
   "metadata": {},
   "outputs": [],
   "source": []
  }
 ],
 "metadata": {
  "kernelspec": {
   "display_name": "Python 3",
   "language": "python",
   "name": "python3"
  },
  "language_info": {
   "codemirror_mode": {
    "name": "ipython",
    "version": 3
   },
   "file_extension": ".py",
   "mimetype": "text/x-python",
   "name": "python",
   "nbconvert_exporter": "python",
   "pygments_lexer": "ipython3",
   "version": "3.5.2"
  }
 },
 "nbformat": 4,
 "nbformat_minor": 1
}
