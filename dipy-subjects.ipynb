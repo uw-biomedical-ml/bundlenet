{
 "cells": [
  {
   "cell_type": "code",
   "execution_count": 1,
   "metadata": {
    "collapsed": false
   },
   "outputs": [],
   "source": [
    "from glob import glob\n",
    "import os.path as op\n",
    "import numpy as np\n",
    "import matplotlib.pyplot as plt\n",
    "%matplotlib inline"
   ]
  },
  {
   "cell_type": "code",
   "execution_count": 2,
   "metadata": {
    "collapsed": true
   },
   "outputs": [],
   "source": [
    "import nibabel as nib\n",
    "from nibabel.streamlines import load as load_trk\n",
    "import dipy.tracking.streamline as dts\n",
    "import dipy.tracking.utils as dtu\n",
    "from skimage.transform import resize\n",
    "from scipy.ndimage.morphology import binary_dilation\n",
    "import dipy.data as dpd"
   ]
  },
  {
   "cell_type": "code",
   "execution_count": 3,
   "metadata": {
    "collapsed": false
   },
   "outputs": [
    {
     "name": "stderr",
     "output_type": "stream",
     "text": [
      "Using TensorFlow backend.\n"
     ]
    }
   ],
   "source": [
    "import keras\n",
    "from keras.models import Sequential\n",
    "from keras.layers import Dense, Dropout, Flatten\n",
    "from keras.layers import Conv2D, MaxPooling2D"
   ]
  },
  {
   "cell_type": "code",
   "execution_count": 4,
   "metadata": {
    "collapsed": false
   },
   "outputs": [
    {
     "name": "stdout",
     "output_type": "stream",
     "text": [
      "Data size is approximately 234MB\n",
      "Dataset is already in place. If you want to fetch it again please first remove the folder /home/ariel/.dipy/exp_bundles_and_maps \n"
     ]
    },
    {
     "data": {
      "text/plain": [
       "({'bundles_2_subjects.tar.gz': ('https://digital.lib.washington.edu/researchworks/bitstream/handle/1773/38477/bundles_2_subjects.tar.gz',\n",
       "   '97756fbef11ce2df31f1bedf1fc7aac7')},\n",
       " '/home/ariel/.dipy/exp_bundles_and_maps')"
      ]
     },
     "execution_count": 4,
     "metadata": {},
     "output_type": "execute_result"
    }
   ],
   "source": [
    "dpd.fetch_bundles_2_subjects()"
   ]
  },
  {
   "cell_type": "code",
   "execution_count": 5,
   "metadata": {
    "collapsed": false
   },
   "outputs": [
    {
     "name": "stdout",
     "output_type": "stream",
     "text": [
      "bundles_af.left.trk   bundles_cg.left.trk     bundles_mdlf.right.trk\r\n",
      "bundles_af.right.trk  bundles_cg.right.trk    bundles_slf1.left.trk\r\n",
      "bundles_cc_1.trk      bundles_cst.left.trk    bundles_slf1.right.trk\r\n",
      "bundles_cc_2.trk      bundles_cst.right.trk   bundles_slf2.left.trk\r\n",
      "bundles_cc_3.trk      bundles_ifof.left.trk   bundles_slf2.right.trk\r\n",
      "bundles_cc_4.trk      bundles_ifof.right.trk  bundles_slf_3.left.trk\r\n",
      "bundles_cc_5.trk      bundles_ilf.left.trk    bundles_slf_3.right.trk\r\n",
      "bundles_cc_6.trk      bundles_ilf.right.trk   bundles_uf.left.trk\r\n",
      "bundles_cc_7.trk      bundles_mdlf.left.trk   bundles_uf.right.trk\r\n"
     ]
    }
   ],
   "source": [
    "ls /home/ariel/.dipy/exp_bundles_and_maps/bundles_2_subjects/subj_1/bundles/"
   ]
  },
  {
   "cell_type": "code",
   "execution_count": 7,
   "metadata": {
    "collapsed": false
   },
   "outputs": [],
   "source": [
    "bundle_files = glob('/home/ariel/.dipy/exp_bundles_and_maps/bundles_2_subjects/subj_1/bundles/*.trk')"
   ]
  },
  {
   "cell_type": "code",
   "execution_count": 8,
   "metadata": {
    "collapsed": false
   },
   "outputs": [],
   "source": [
    "def read_sl(fname):\n",
    "    tgram = load_trk(fname)\n",
    "    sl = list(dtu.move_streamlines(tgram.streamlines, \n",
    "                                   np.eye(4), tgram.affine))\n",
    "    return sl\n",
    "\n",
    "# def read_sl(fname, affine):\n",
    "#     trk = load_trk(fname)\n",
    "#     sl = trk.streamlines\n",
    "#     sl = [dts.apply_affine(np.linalg.inv(affine), s) for s in sl]\n",
    "#     return sl"
   ]
  },
  {
   "cell_type": "code",
   "execution_count": 9,
   "metadata": {
    "collapsed": false
   },
   "outputs": [],
   "source": [
    "n_streamlines = []\n",
    "bundle_name = []\n",
    "for fname in bundle_files:\n",
    "    bundle_name.append(fname.split('/')[-1].split('bundles_')[-1].split('.trk')[0])\n",
    "    streamlines = read_sl(fname, affine) \n",
    "    n_streamlines.append(len(streamlines))"
   ]
  },
  {
   "cell_type": "code",
   "execution_count": 10,
   "metadata": {
    "collapsed": false
   },
   "outputs": [
    {
     "data": {
      "text/plain": [
       "['cg.left',\n",
       " 'slf1.left',\n",
       " 'ifof.left',\n",
       " 'slf2.left',\n",
       " 'cc_1',\n",
       " 'cc_2',\n",
       " 'cst.left',\n",
       " 'af.left',\n",
       " 'mdlf.left',\n",
       " 'uf.right',\n",
       " 'ilf.left',\n",
       " 'slf_3.left',\n",
       " 'cst.right',\n",
       " 'cc_7',\n",
       " 'cg.right',\n",
       " 'cc_6',\n",
       " 'slf1.right',\n",
       " 'cc_5',\n",
       " 'slf2.right',\n",
       " 'slf_3.right',\n",
       " 'ilf.right',\n",
       " 'mdlf.right',\n",
       " 'uf.left',\n",
       " 'cc_4',\n",
       " 'ifof.right',\n",
       " 'cc_3',\n",
       " 'af.right']"
      ]
     },
     "execution_count": 10,
     "metadata": {},
     "output_type": "execute_result"
    }
   ],
   "source": [
    "bundle_name"
   ]
  },
  {
   "cell_type": "code",
   "execution_count": 11,
   "metadata": {
    "collapsed": true
   },
   "outputs": [],
   "source": [
    "def reduce_sl(sl):\n",
    "    \"\"\" \n",
    "    Reduces a 3D streamline to a binarized 100 x 100 image\n",
    "    \"\"\"\n",
    "    vol = np.zeros(t1_img.shape, dtype=bool)\n",
    "    sl = np.round(sl).astype(int).T\n",
    "    vol[sl[0], sl[1], sl[2]] = 1\n",
    "    # emphasize it a bit:\n",
    "    vol = binary_dilation(vol, iterations=5)\n",
    "    vol = resize(vol, (100, 100, 100))\n",
    "    projected = np.concatenate([np.max(vol, dim) for dim in range(len(vol.shape))])\n",
    "    projected = resize(projected, (100, 100, 1))\n",
    "    return projected"
   ]
  },
  {
   "cell_type": "code",
   "execution_count": 12,
   "metadata": {
    "collapsed": false
   },
   "outputs": [
    {
     "data": {
      "text/plain": [
       "(15244, 161, 27)"
      ]
     },
     "execution_count": 12,
     "metadata": {},
     "output_type": "execute_result"
    }
   ],
   "source": [
    "np.max(n_streamlines), np.min(n_streamlines), len(n_streamlines)"
   ]
  },
  {
   "cell_type": "code",
   "execution_count": 13,
   "metadata": {
    "collapsed": true
   },
   "outputs": [],
   "source": [
    "take_n_bundles = len(n_streamlines)"
   ]
  },
  {
   "cell_type": "code",
   "execution_count": 14,
   "metadata": {
    "collapsed": true
   },
   "outputs": [],
   "source": [
    "take_n_sl = np.min(n_streamlines)"
   ]
  },
  {
   "cell_type": "code",
   "execution_count": 15,
   "metadata": {
    "collapsed": true
   },
   "outputs": [],
   "source": [
    "take_n_bundles = 27\n",
    "take_n_sl = 160"
   ]
  },
  {
   "cell_type": "code",
   "execution_count": 16,
   "metadata": {
    "collapsed": false,
    "scrolled": false
   },
   "outputs": [
    {
     "name": "stderr",
     "output_type": "stream",
     "text": [
      "/usr/local/lib/python3.4/dist-packages/skimage/transform/_warps.py:84: UserWarning: The default mode, 'constant', will be changed to 'reflect' in skimage 0.15.\n",
      "  warn(\"The default mode, 'constant', will be changed to 'reflect' in \"\n"
     ]
    },
    {
     "name": "stdout",
     "output_type": "stream",
     "text": [
      "There are some negative coordinates in /home/ariel/.dipy/exp_bundles_and_maps/bundles_2_subjects/subj_1/bundles/bundles_cst.left.trk, track number: 0\n",
      "There are some negative coordinates in /home/ariel/.dipy/exp_bundles_and_maps/bundles_2_subjects/subj_1/bundles/bundles_cst.left.trk, track number: 1\n",
      "There are some negative coordinates in /home/ariel/.dipy/exp_bundles_and_maps/bundles_2_subjects/subj_1/bundles/bundles_cst.left.trk, track number: 2\n",
      "There are some negative coordinates in /home/ariel/.dipy/exp_bundles_and_maps/bundles_2_subjects/subj_1/bundles/bundles_cst.left.trk, track number: 3\n",
      "There are some negative coordinates in /home/ariel/.dipy/exp_bundles_and_maps/bundles_2_subjects/subj_1/bundles/bundles_cst.left.trk, track number: 4\n",
      "There are some negative coordinates in /home/ariel/.dipy/exp_bundles_and_maps/bundles_2_subjects/subj_1/bundles/bundles_cst.left.trk, track number: 5\n",
      "There are some negative coordinates in /home/ariel/.dipy/exp_bundles_and_maps/bundles_2_subjects/subj_1/bundles/bundles_cst.left.trk, track number: 6\n",
      "There are some negative coordinates in /home/ariel/.dipy/exp_bundles_and_maps/bundles_2_subjects/subj_1/bundles/bundles_cst.left.trk, track number: 7\n",
      "There are some negative coordinates in /home/ariel/.dipy/exp_bundles_and_maps/bundles_2_subjects/subj_1/bundles/bundles_cst.left.trk, track number: 9\n",
      "There are some negative coordinates in /home/ariel/.dipy/exp_bundles_and_maps/bundles_2_subjects/subj_1/bundles/bundles_cst.left.trk, track number: 10\n",
      "There are some negative coordinates in /home/ariel/.dipy/exp_bundles_and_maps/bundles_2_subjects/subj_1/bundles/bundles_cst.left.trk, track number: 11\n",
      "There are some negative coordinates in /home/ariel/.dipy/exp_bundles_and_maps/bundles_2_subjects/subj_1/bundles/bundles_cst.left.trk, track number: 12\n",
      "There are some negative coordinates in /home/ariel/.dipy/exp_bundles_and_maps/bundles_2_subjects/subj_1/bundles/bundles_cst.left.trk, track number: 13\n",
      "There are some negative coordinates in /home/ariel/.dipy/exp_bundles_and_maps/bundles_2_subjects/subj_1/bundles/bundles_cst.left.trk, track number: 14\n",
      "There are some negative coordinates in /home/ariel/.dipy/exp_bundles_and_maps/bundles_2_subjects/subj_1/bundles/bundles_cst.left.trk, track number: 15\n",
      "There are some negative coordinates in /home/ariel/.dipy/exp_bundles_and_maps/bundles_2_subjects/subj_1/bundles/bundles_cst.left.trk, track number: 16\n",
      "There are some negative coordinates in /home/ariel/.dipy/exp_bundles_and_maps/bundles_2_subjects/subj_1/bundles/bundles_cst.left.trk, track number: 17\n",
      "There are some negative coordinates in /home/ariel/.dipy/exp_bundles_and_maps/bundles_2_subjects/subj_1/bundles/bundles_cst.left.trk, track number: 18\n",
      "There are some negative coordinates in /home/ariel/.dipy/exp_bundles_and_maps/bundles_2_subjects/subj_1/bundles/bundles_cst.left.trk, track number: 19\n",
      "There are some negative coordinates in /home/ariel/.dipy/exp_bundles_and_maps/bundles_2_subjects/subj_1/bundles/bundles_cst.left.trk, track number: 21\n",
      "There are some negative coordinates in /home/ariel/.dipy/exp_bundles_and_maps/bundles_2_subjects/subj_1/bundles/bundles_cst.left.trk, track number: 22\n",
      "There are some negative coordinates in /home/ariel/.dipy/exp_bundles_and_maps/bundles_2_subjects/subj_1/bundles/bundles_cst.left.trk, track number: 23\n",
      "There are some negative coordinates in /home/ariel/.dipy/exp_bundles_and_maps/bundles_2_subjects/subj_1/bundles/bundles_cst.left.trk, track number: 24\n",
      "There are some negative coordinates in /home/ariel/.dipy/exp_bundles_and_maps/bundles_2_subjects/subj_1/bundles/bundles_cst.left.trk, track number: 25\n",
      "There are some negative coordinates in /home/ariel/.dipy/exp_bundles_and_maps/bundles_2_subjects/subj_1/bundles/bundles_cst.left.trk, track number: 26\n",
      "There are some negative coordinates in /home/ariel/.dipy/exp_bundles_and_maps/bundles_2_subjects/subj_1/bundles/bundles_cst.left.trk, track number: 27\n",
      "There are some negative coordinates in /home/ariel/.dipy/exp_bundles_and_maps/bundles_2_subjects/subj_1/bundles/bundles_cst.left.trk, track number: 28\n",
      "There are some negative coordinates in /home/ariel/.dipy/exp_bundles_and_maps/bundles_2_subjects/subj_1/bundles/bundles_cst.left.trk, track number: 29\n",
      "There are some negative coordinates in /home/ariel/.dipy/exp_bundles_and_maps/bundles_2_subjects/subj_1/bundles/bundles_cst.left.trk, track number: 30\n",
      "There are some negative coordinates in /home/ariel/.dipy/exp_bundles_and_maps/bundles_2_subjects/subj_1/bundles/bundles_cst.left.trk, track number: 31\n",
      "There are some negative coordinates in /home/ariel/.dipy/exp_bundles_and_maps/bundles_2_subjects/subj_1/bundles/bundles_cst.left.trk, track number: 32\n",
      "There are some negative coordinates in /home/ariel/.dipy/exp_bundles_and_maps/bundles_2_subjects/subj_1/bundles/bundles_cst.left.trk, track number: 33\n",
      "There are some negative coordinates in /home/ariel/.dipy/exp_bundles_and_maps/bundles_2_subjects/subj_1/bundles/bundles_cst.left.trk, track number: 34\n",
      "There are some negative coordinates in /home/ariel/.dipy/exp_bundles_and_maps/bundles_2_subjects/subj_1/bundles/bundles_cst.left.trk, track number: 35\n",
      "There are some negative coordinates in /home/ariel/.dipy/exp_bundles_and_maps/bundles_2_subjects/subj_1/bundles/bundles_cst.left.trk, track number: 36\n",
      "There are some negative coordinates in /home/ariel/.dipy/exp_bundles_and_maps/bundles_2_subjects/subj_1/bundles/bundles_cst.left.trk, track number: 37\n",
      "There are some negative coordinates in /home/ariel/.dipy/exp_bundles_and_maps/bundles_2_subjects/subj_1/bundles/bundles_cst.left.trk, track number: 38\n",
      "There are some negative coordinates in /home/ariel/.dipy/exp_bundles_and_maps/bundles_2_subjects/subj_1/bundles/bundles_cst.left.trk, track number: 39\n",
      "There are some negative coordinates in /home/ariel/.dipy/exp_bundles_and_maps/bundles_2_subjects/subj_1/bundles/bundles_cst.left.trk, track number: 40\n",
      "There are some negative coordinates in /home/ariel/.dipy/exp_bundles_and_maps/bundles_2_subjects/subj_1/bundles/bundles_cst.left.trk, track number: 41\n",
      "There are some negative coordinates in /home/ariel/.dipy/exp_bundles_and_maps/bundles_2_subjects/subj_1/bundles/bundles_cst.left.trk, track number: 42\n",
      "There are some negative coordinates in /home/ariel/.dipy/exp_bundles_and_maps/bundles_2_subjects/subj_1/bundles/bundles_cst.left.trk, track number: 43\n",
      "There are some negative coordinates in /home/ariel/.dipy/exp_bundles_and_maps/bundles_2_subjects/subj_1/bundles/bundles_cst.left.trk, track number: 44\n",
      "There are some negative coordinates in /home/ariel/.dipy/exp_bundles_and_maps/bundles_2_subjects/subj_1/bundles/bundles_cst.left.trk, track number: 45\n",
      "There are some negative coordinates in /home/ariel/.dipy/exp_bundles_and_maps/bundles_2_subjects/subj_1/bundles/bundles_cst.left.trk, track number: 46\n",
      "There are some negative coordinates in /home/ariel/.dipy/exp_bundles_and_maps/bundles_2_subjects/subj_1/bundles/bundles_cst.left.trk, track number: 47\n",
      "There are some negative coordinates in /home/ariel/.dipy/exp_bundles_and_maps/bundles_2_subjects/subj_1/bundles/bundles_cst.left.trk, track number: 48\n",
      "There are some negative coordinates in /home/ariel/.dipy/exp_bundles_and_maps/bundles_2_subjects/subj_1/bundles/bundles_cst.left.trk, track number: 49\n",
      "There are some negative coordinates in /home/ariel/.dipy/exp_bundles_and_maps/bundles_2_subjects/subj_1/bundles/bundles_cst.left.trk, track number: 51\n",
      "There are some negative coordinates in /home/ariel/.dipy/exp_bundles_and_maps/bundles_2_subjects/subj_1/bundles/bundles_cst.left.trk, track number: 52\n",
      "There are some negative coordinates in /home/ariel/.dipy/exp_bundles_and_maps/bundles_2_subjects/subj_1/bundles/bundles_cst.left.trk, track number: 53\n",
      "There are some negative coordinates in /home/ariel/.dipy/exp_bundles_and_maps/bundles_2_subjects/subj_1/bundles/bundles_cst.left.trk, track number: 54\n",
      "There are some negative coordinates in /home/ariel/.dipy/exp_bundles_and_maps/bundles_2_subjects/subj_1/bundles/bundles_cst.left.trk, track number: 55\n",
      "There are some negative coordinates in /home/ariel/.dipy/exp_bundles_and_maps/bundles_2_subjects/subj_1/bundles/bundles_cst.left.trk, track number: 56\n",
      "There are some negative coordinates in /home/ariel/.dipy/exp_bundles_and_maps/bundles_2_subjects/subj_1/bundles/bundles_cst.left.trk, track number: 57\n",
      "There are some negative coordinates in /home/ariel/.dipy/exp_bundles_and_maps/bundles_2_subjects/subj_1/bundles/bundles_cst.left.trk, track number: 58\n",
      "There are some negative coordinates in /home/ariel/.dipy/exp_bundles_and_maps/bundles_2_subjects/subj_1/bundles/bundles_cst.left.trk, track number: 59\n",
      "There are some negative coordinates in /home/ariel/.dipy/exp_bundles_and_maps/bundles_2_subjects/subj_1/bundles/bundles_cst.left.trk, track number: 60\n",
      "There are some negative coordinates in /home/ariel/.dipy/exp_bundles_and_maps/bundles_2_subjects/subj_1/bundles/bundles_cst.left.trk, track number: 61\n",
      "There are some negative coordinates in /home/ariel/.dipy/exp_bundles_and_maps/bundles_2_subjects/subj_1/bundles/bundles_cst.left.trk, track number: 62\n",
      "There are some negative coordinates in /home/ariel/.dipy/exp_bundles_and_maps/bundles_2_subjects/subj_1/bundles/bundles_cst.left.trk, track number: 63\n",
      "There are some negative coordinates in /home/ariel/.dipy/exp_bundles_and_maps/bundles_2_subjects/subj_1/bundles/bundles_cst.left.trk, track number: 64\n",
      "There are some negative coordinates in /home/ariel/.dipy/exp_bundles_and_maps/bundles_2_subjects/subj_1/bundles/bundles_cst.left.trk, track number: 65\n",
      "There are some negative coordinates in /home/ariel/.dipy/exp_bundles_and_maps/bundles_2_subjects/subj_1/bundles/bundles_cst.left.trk, track number: 66\n",
      "There are some negative coordinates in /home/ariel/.dipy/exp_bundles_and_maps/bundles_2_subjects/subj_1/bundles/bundles_cst.left.trk, track number: 67\n",
      "There are some negative coordinates in /home/ariel/.dipy/exp_bundles_and_maps/bundles_2_subjects/subj_1/bundles/bundles_cst.left.trk, track number: 68\n",
      "There are some negative coordinates in /home/ariel/.dipy/exp_bundles_and_maps/bundles_2_subjects/subj_1/bundles/bundles_cst.left.trk, track number: 69\n",
      "There are some negative coordinates in /home/ariel/.dipy/exp_bundles_and_maps/bundles_2_subjects/subj_1/bundles/bundles_cst.left.trk, track number: 70\n",
      "There are some negative coordinates in /home/ariel/.dipy/exp_bundles_and_maps/bundles_2_subjects/subj_1/bundles/bundles_cst.left.trk, track number: 71\n",
      "There are some negative coordinates in /home/ariel/.dipy/exp_bundles_and_maps/bundles_2_subjects/subj_1/bundles/bundles_cst.left.trk, track number: 72\n",
      "There are some negative coordinates in /home/ariel/.dipy/exp_bundles_and_maps/bundles_2_subjects/subj_1/bundles/bundles_cst.left.trk, track number: 73\n",
      "There are some negative coordinates in /home/ariel/.dipy/exp_bundles_and_maps/bundles_2_subjects/subj_1/bundles/bundles_cst.left.trk, track number: 74\n",
      "There are some negative coordinates in /home/ariel/.dipy/exp_bundles_and_maps/bundles_2_subjects/subj_1/bundles/bundles_cst.left.trk, track number: 75\n",
      "There are some negative coordinates in /home/ariel/.dipy/exp_bundles_and_maps/bundles_2_subjects/subj_1/bundles/bundles_cst.left.trk, track number: 76\n",
      "There are some negative coordinates in /home/ariel/.dipy/exp_bundles_and_maps/bundles_2_subjects/subj_1/bundles/bundles_cst.left.trk, track number: 77\n",
      "There are some negative coordinates in /home/ariel/.dipy/exp_bundles_and_maps/bundles_2_subjects/subj_1/bundles/bundles_cst.left.trk, track number: 78\n",
      "There are some negative coordinates in /home/ariel/.dipy/exp_bundles_and_maps/bundles_2_subjects/subj_1/bundles/bundles_cst.left.trk, track number: 79\n",
      "There are some negative coordinates in /home/ariel/.dipy/exp_bundles_and_maps/bundles_2_subjects/subj_1/bundles/bundles_cst.left.trk, track number: 80\n",
      "There are some negative coordinates in /home/ariel/.dipy/exp_bundles_and_maps/bundles_2_subjects/subj_1/bundles/bundles_cst.left.trk, track number: 81\n",
      "There are some negative coordinates in /home/ariel/.dipy/exp_bundles_and_maps/bundles_2_subjects/subj_1/bundles/bundles_cst.left.trk, track number: 82\n",
      "There are some negative coordinates in /home/ariel/.dipy/exp_bundles_and_maps/bundles_2_subjects/subj_1/bundles/bundles_cst.left.trk, track number: 83\n",
      "There are some negative coordinates in /home/ariel/.dipy/exp_bundles_and_maps/bundles_2_subjects/subj_1/bundles/bundles_cst.left.trk, track number: 84\n",
      "There are some negative coordinates in /home/ariel/.dipy/exp_bundles_and_maps/bundles_2_subjects/subj_1/bundles/bundles_cst.left.trk, track number: 85\n",
      "There are some negative coordinates in /home/ariel/.dipy/exp_bundles_and_maps/bundles_2_subjects/subj_1/bundles/bundles_cst.left.trk, track number: 86\n",
      "There are some negative coordinates in /home/ariel/.dipy/exp_bundles_and_maps/bundles_2_subjects/subj_1/bundles/bundles_cst.left.trk, track number: 87\n",
      "There are some negative coordinates in /home/ariel/.dipy/exp_bundles_and_maps/bundles_2_subjects/subj_1/bundles/bundles_cst.left.trk, track number: 88\n",
      "There are some negative coordinates in /home/ariel/.dipy/exp_bundles_and_maps/bundles_2_subjects/subj_1/bundles/bundles_cst.left.trk, track number: 89\n",
      "There are some negative coordinates in /home/ariel/.dipy/exp_bundles_and_maps/bundles_2_subjects/subj_1/bundles/bundles_cst.left.trk, track number: 90\n",
      "There are some negative coordinates in /home/ariel/.dipy/exp_bundles_and_maps/bundles_2_subjects/subj_1/bundles/bundles_cst.left.trk, track number: 91\n",
      "There are some negative coordinates in /home/ariel/.dipy/exp_bundles_and_maps/bundles_2_subjects/subj_1/bundles/bundles_cst.left.trk, track number: 92\n",
      "There are some negative coordinates in /home/ariel/.dipy/exp_bundles_and_maps/bundles_2_subjects/subj_1/bundles/bundles_cst.left.trk, track number: 93\n",
      "There are some negative coordinates in /home/ariel/.dipy/exp_bundles_and_maps/bundles_2_subjects/subj_1/bundles/bundles_cst.left.trk, track number: 94\n",
      "There are some negative coordinates in /home/ariel/.dipy/exp_bundles_and_maps/bundles_2_subjects/subj_1/bundles/bundles_cst.left.trk, track number: 95\n",
      "There are some negative coordinates in /home/ariel/.dipy/exp_bundles_and_maps/bundles_2_subjects/subj_1/bundles/bundles_cst.left.trk, track number: 96\n",
      "There are some negative coordinates in /home/ariel/.dipy/exp_bundles_and_maps/bundles_2_subjects/subj_1/bundles/bundles_cst.left.trk, track number: 97\n",
      "There are some negative coordinates in /home/ariel/.dipy/exp_bundles_and_maps/bundles_2_subjects/subj_1/bundles/bundles_cst.left.trk, track number: 98\n",
      "There are some negative coordinates in /home/ariel/.dipy/exp_bundles_and_maps/bundles_2_subjects/subj_1/bundles/bundles_cst.left.trk, track number: 99\n",
      "There are some negative coordinates in /home/ariel/.dipy/exp_bundles_and_maps/bundles_2_subjects/subj_1/bundles/bundles_cst.left.trk, track number: 100\n",
      "There are some negative coordinates in /home/ariel/.dipy/exp_bundles_and_maps/bundles_2_subjects/subj_1/bundles/bundles_cst.left.trk, track number: 101\n",
      "There are some negative coordinates in /home/ariel/.dipy/exp_bundles_and_maps/bundles_2_subjects/subj_1/bundles/bundles_cst.left.trk, track number: 102\n",
      "There are some negative coordinates in /home/ariel/.dipy/exp_bundles_and_maps/bundles_2_subjects/subj_1/bundles/bundles_cst.left.trk, track number: 103\n",
      "There are some negative coordinates in /home/ariel/.dipy/exp_bundles_and_maps/bundles_2_subjects/subj_1/bundles/bundles_cst.left.trk, track number: 104\n",
      "There are some negative coordinates in /home/ariel/.dipy/exp_bundles_and_maps/bundles_2_subjects/subj_1/bundles/bundles_cst.left.trk, track number: 105\n",
      "There are some negative coordinates in /home/ariel/.dipy/exp_bundles_and_maps/bundles_2_subjects/subj_1/bundles/bundles_cst.left.trk, track number: 106\n",
      "There are some negative coordinates in /home/ariel/.dipy/exp_bundles_and_maps/bundles_2_subjects/subj_1/bundles/bundles_cst.left.trk, track number: 107\n",
      "There are some negative coordinates in /home/ariel/.dipy/exp_bundles_and_maps/bundles_2_subjects/subj_1/bundles/bundles_cst.left.trk, track number: 108\n",
      "There are some negative coordinates in /home/ariel/.dipy/exp_bundles_and_maps/bundles_2_subjects/subj_1/bundles/bundles_cst.left.trk, track number: 109\n",
      "There are some negative coordinates in /home/ariel/.dipy/exp_bundles_and_maps/bundles_2_subjects/subj_1/bundles/bundles_cst.left.trk, track number: 110\n",
      "There are some negative coordinates in /home/ariel/.dipy/exp_bundles_and_maps/bundles_2_subjects/subj_1/bundles/bundles_cst.left.trk, track number: 111\n",
      "There are some negative coordinates in /home/ariel/.dipy/exp_bundles_and_maps/bundles_2_subjects/subj_1/bundles/bundles_cst.left.trk, track number: 112\n",
      "There are some negative coordinates in /home/ariel/.dipy/exp_bundles_and_maps/bundles_2_subjects/subj_1/bundles/bundles_cst.left.trk, track number: 113\n",
      "There are some negative coordinates in /home/ariel/.dipy/exp_bundles_and_maps/bundles_2_subjects/subj_1/bundles/bundles_cst.left.trk, track number: 114\n",
      "There are some negative coordinates in /home/ariel/.dipy/exp_bundles_and_maps/bundles_2_subjects/subj_1/bundles/bundles_cst.left.trk, track number: 115\n",
      "There are some negative coordinates in /home/ariel/.dipy/exp_bundles_and_maps/bundles_2_subjects/subj_1/bundles/bundles_cst.left.trk, track number: 116\n",
      "There are some negative coordinates in /home/ariel/.dipy/exp_bundles_and_maps/bundles_2_subjects/subj_1/bundles/bundles_cst.left.trk, track number: 117\n",
      "There are some negative coordinates in /home/ariel/.dipy/exp_bundles_and_maps/bundles_2_subjects/subj_1/bundles/bundles_cst.left.trk, track number: 118\n",
      "There are some negative coordinates in /home/ariel/.dipy/exp_bundles_and_maps/bundles_2_subjects/subj_1/bundles/bundles_cst.left.trk, track number: 119\n",
      "There are some negative coordinates in /home/ariel/.dipy/exp_bundles_and_maps/bundles_2_subjects/subj_1/bundles/bundles_cst.left.trk, track number: 120\n",
      "There are some negative coordinates in /home/ariel/.dipy/exp_bundles_and_maps/bundles_2_subjects/subj_1/bundles/bundles_cst.left.trk, track number: 121\n",
      "There are some negative coordinates in /home/ariel/.dipy/exp_bundles_and_maps/bundles_2_subjects/subj_1/bundles/bundles_cst.left.trk, track number: 122\n",
      "There are some negative coordinates in /home/ariel/.dipy/exp_bundles_and_maps/bundles_2_subjects/subj_1/bundles/bundles_cst.left.trk, track number: 124\n",
      "There are some negative coordinates in /home/ariel/.dipy/exp_bundles_and_maps/bundles_2_subjects/subj_1/bundles/bundles_cst.left.trk, track number: 125\n",
      "There are some negative coordinates in /home/ariel/.dipy/exp_bundles_and_maps/bundles_2_subjects/subj_1/bundles/bundles_cst.left.trk, track number: 126\n",
      "There are some negative coordinates in /home/ariel/.dipy/exp_bundles_and_maps/bundles_2_subjects/subj_1/bundles/bundles_cst.left.trk, track number: 128\n",
      "There are some negative coordinates in /home/ariel/.dipy/exp_bundles_and_maps/bundles_2_subjects/subj_1/bundles/bundles_cst.left.trk, track number: 129\n",
      "There are some negative coordinates in /home/ariel/.dipy/exp_bundles_and_maps/bundles_2_subjects/subj_1/bundles/bundles_cst.left.trk, track number: 130\n",
      "There are some negative coordinates in /home/ariel/.dipy/exp_bundles_and_maps/bundles_2_subjects/subj_1/bundles/bundles_cst.left.trk, track number: 131\n",
      "There are some negative coordinates in /home/ariel/.dipy/exp_bundles_and_maps/bundles_2_subjects/subj_1/bundles/bundles_cst.left.trk, track number: 132\n",
      "There are some negative coordinates in /home/ariel/.dipy/exp_bundles_and_maps/bundles_2_subjects/subj_1/bundles/bundles_cst.left.trk, track number: 133\n",
      "There are some negative coordinates in /home/ariel/.dipy/exp_bundles_and_maps/bundles_2_subjects/subj_1/bundles/bundles_cst.left.trk, track number: 134\n",
      "There are some negative coordinates in /home/ariel/.dipy/exp_bundles_and_maps/bundles_2_subjects/subj_1/bundles/bundles_cst.left.trk, track number: 135\n",
      "There are some negative coordinates in /home/ariel/.dipy/exp_bundles_and_maps/bundles_2_subjects/subj_1/bundles/bundles_cst.left.trk, track number: 136\n",
      "There are some negative coordinates in /home/ariel/.dipy/exp_bundles_and_maps/bundles_2_subjects/subj_1/bundles/bundles_cst.left.trk, track number: 137\n",
      "There are some negative coordinates in /home/ariel/.dipy/exp_bundles_and_maps/bundles_2_subjects/subj_1/bundles/bundles_cst.left.trk, track number: 138\n",
      "There are some negative coordinates in /home/ariel/.dipy/exp_bundles_and_maps/bundles_2_subjects/subj_1/bundles/bundles_cst.left.trk, track number: 139\n",
      "There are some negative coordinates in /home/ariel/.dipy/exp_bundles_and_maps/bundles_2_subjects/subj_1/bundles/bundles_cst.left.trk, track number: 140\n",
      "There are some negative coordinates in /home/ariel/.dipy/exp_bundles_and_maps/bundles_2_subjects/subj_1/bundles/bundles_cst.left.trk, track number: 141\n",
      "There are some negative coordinates in /home/ariel/.dipy/exp_bundles_and_maps/bundles_2_subjects/subj_1/bundles/bundles_cst.left.trk, track number: 143\n",
      "There are some negative coordinates in /home/ariel/.dipy/exp_bundles_and_maps/bundles_2_subjects/subj_1/bundles/bundles_cst.left.trk, track number: 144\n",
      "There are some negative coordinates in /home/ariel/.dipy/exp_bundles_and_maps/bundles_2_subjects/subj_1/bundles/bundles_cst.left.trk, track number: 145\n",
      "There are some negative coordinates in /home/ariel/.dipy/exp_bundles_and_maps/bundles_2_subjects/subj_1/bundles/bundles_cst.left.trk, track number: 146\n",
      "There are some negative coordinates in /home/ariel/.dipy/exp_bundles_and_maps/bundles_2_subjects/subj_1/bundles/bundles_cst.left.trk, track number: 147\n",
      "There are some negative coordinates in /home/ariel/.dipy/exp_bundles_and_maps/bundles_2_subjects/subj_1/bundles/bundles_cst.left.trk, track number: 148\n",
      "There are some negative coordinates in /home/ariel/.dipy/exp_bundles_and_maps/bundles_2_subjects/subj_1/bundles/bundles_cst.left.trk, track number: 149\n",
      "There are some negative coordinates in /home/ariel/.dipy/exp_bundles_and_maps/bundles_2_subjects/subj_1/bundles/bundles_cst.left.trk, track number: 150\n",
      "There are some negative coordinates in /home/ariel/.dipy/exp_bundles_and_maps/bundles_2_subjects/subj_1/bundles/bundles_cst.left.trk, track number: 151\n",
      "There are some negative coordinates in /home/ariel/.dipy/exp_bundles_and_maps/bundles_2_subjects/subj_1/bundles/bundles_cst.left.trk, track number: 152\n",
      "There are some negative coordinates in /home/ariel/.dipy/exp_bundles_and_maps/bundles_2_subjects/subj_1/bundles/bundles_cst.left.trk, track number: 154\n",
      "There are some negative coordinates in /home/ariel/.dipy/exp_bundles_and_maps/bundles_2_subjects/subj_1/bundles/bundles_cst.left.trk, track number: 155\n",
      "There are some negative coordinates in /home/ariel/.dipy/exp_bundles_and_maps/bundles_2_subjects/subj_1/bundles/bundles_cst.left.trk, track number: 156\n",
      "There are some negative coordinates in /home/ariel/.dipy/exp_bundles_and_maps/bundles_2_subjects/subj_1/bundles/bundles_cst.left.trk, track number: 157\n",
      "There are some negative coordinates in /home/ariel/.dipy/exp_bundles_and_maps/bundles_2_subjects/subj_1/bundles/bundles_cst.left.trk, track number: 158\n",
      "There are some negative coordinates in /home/ariel/.dipy/exp_bundles_and_maps/bundles_2_subjects/subj_1/bundles/bundles_cst.left.trk, track number: 159\n",
      "There are some negative coordinates in /home/ariel/.dipy/exp_bundles_and_maps/bundles_2_subjects/subj_1/bundles/bundles_cst.right.trk, track number: 0\n",
      "There are some negative coordinates in /home/ariel/.dipy/exp_bundles_and_maps/bundles_2_subjects/subj_1/bundles/bundles_cst.right.trk, track number: 2\n",
      "There are some negative coordinates in /home/ariel/.dipy/exp_bundles_and_maps/bundles_2_subjects/subj_1/bundles/bundles_cst.right.trk, track number: 3\n",
      "There are some negative coordinates in /home/ariel/.dipy/exp_bundles_and_maps/bundles_2_subjects/subj_1/bundles/bundles_cst.right.trk, track number: 4\n",
      "There are some negative coordinates in /home/ariel/.dipy/exp_bundles_and_maps/bundles_2_subjects/subj_1/bundles/bundles_cst.right.trk, track number: 5\n",
      "There are some negative coordinates in /home/ariel/.dipy/exp_bundles_and_maps/bundles_2_subjects/subj_1/bundles/bundles_cst.right.trk, track number: 6\n",
      "There are some negative coordinates in /home/ariel/.dipy/exp_bundles_and_maps/bundles_2_subjects/subj_1/bundles/bundles_cst.right.trk, track number: 7\n",
      "There are some negative coordinates in /home/ariel/.dipy/exp_bundles_and_maps/bundles_2_subjects/subj_1/bundles/bundles_cst.right.trk, track number: 8\n",
      "There are some negative coordinates in /home/ariel/.dipy/exp_bundles_and_maps/bundles_2_subjects/subj_1/bundles/bundles_cst.right.trk, track number: 10\n",
      "There are some negative coordinates in /home/ariel/.dipy/exp_bundles_and_maps/bundles_2_subjects/subj_1/bundles/bundles_cst.right.trk, track number: 11\n",
      "There are some negative coordinates in /home/ariel/.dipy/exp_bundles_and_maps/bundles_2_subjects/subj_1/bundles/bundles_cst.right.trk, track number: 13\n",
      "There are some negative coordinates in /home/ariel/.dipy/exp_bundles_and_maps/bundles_2_subjects/subj_1/bundles/bundles_cst.right.trk, track number: 14\n",
      "There are some negative coordinates in /home/ariel/.dipy/exp_bundles_and_maps/bundles_2_subjects/subj_1/bundles/bundles_cst.right.trk, track number: 16\n",
      "There are some negative coordinates in /home/ariel/.dipy/exp_bundles_and_maps/bundles_2_subjects/subj_1/bundles/bundles_cst.right.trk, track number: 17\n",
      "There are some negative coordinates in /home/ariel/.dipy/exp_bundles_and_maps/bundles_2_subjects/subj_1/bundles/bundles_cst.right.trk, track number: 18\n",
      "There are some negative coordinates in /home/ariel/.dipy/exp_bundles_and_maps/bundles_2_subjects/subj_1/bundles/bundles_cst.right.trk, track number: 19\n",
      "There are some negative coordinates in /home/ariel/.dipy/exp_bundles_and_maps/bundles_2_subjects/subj_1/bundles/bundles_cst.right.trk, track number: 21\n",
      "There are some negative coordinates in /home/ariel/.dipy/exp_bundles_and_maps/bundles_2_subjects/subj_1/bundles/bundles_cst.right.trk, track number: 22\n",
      "There are some negative coordinates in /home/ariel/.dipy/exp_bundles_and_maps/bundles_2_subjects/subj_1/bundles/bundles_cst.right.trk, track number: 23\n",
      "There are some negative coordinates in /home/ariel/.dipy/exp_bundles_and_maps/bundles_2_subjects/subj_1/bundles/bundles_cst.right.trk, track number: 24\n",
      "There are some negative coordinates in /home/ariel/.dipy/exp_bundles_and_maps/bundles_2_subjects/subj_1/bundles/bundles_cst.right.trk, track number: 25\n",
      "There are some negative coordinates in /home/ariel/.dipy/exp_bundles_and_maps/bundles_2_subjects/subj_1/bundles/bundles_cst.right.trk, track number: 26\n",
      "There are some negative coordinates in /home/ariel/.dipy/exp_bundles_and_maps/bundles_2_subjects/subj_1/bundles/bundles_cst.right.trk, track number: 28\n",
      "There are some negative coordinates in /home/ariel/.dipy/exp_bundles_and_maps/bundles_2_subjects/subj_1/bundles/bundles_cst.right.trk, track number: 29\n",
      "There are some negative coordinates in /home/ariel/.dipy/exp_bundles_and_maps/bundles_2_subjects/subj_1/bundles/bundles_cst.right.trk, track number: 31\n",
      "There are some negative coordinates in /home/ariel/.dipy/exp_bundles_and_maps/bundles_2_subjects/subj_1/bundles/bundles_cst.right.trk, track number: 34\n",
      "There are some negative coordinates in /home/ariel/.dipy/exp_bundles_and_maps/bundles_2_subjects/subj_1/bundles/bundles_cst.right.trk, track number: 36\n",
      "There are some negative coordinates in /home/ariel/.dipy/exp_bundles_and_maps/bundles_2_subjects/subj_1/bundles/bundles_cst.right.trk, track number: 37\n",
      "There are some negative coordinates in /home/ariel/.dipy/exp_bundles_and_maps/bundles_2_subjects/subj_1/bundles/bundles_cst.right.trk, track number: 38\n",
      "There are some negative coordinates in /home/ariel/.dipy/exp_bundles_and_maps/bundles_2_subjects/subj_1/bundles/bundles_cst.right.trk, track number: 39\n",
      "There are some negative coordinates in /home/ariel/.dipy/exp_bundles_and_maps/bundles_2_subjects/subj_1/bundles/bundles_cst.right.trk, track number: 41\n",
      "There are some negative coordinates in /home/ariel/.dipy/exp_bundles_and_maps/bundles_2_subjects/subj_1/bundles/bundles_cst.right.trk, track number: 42\n",
      "There are some negative coordinates in /home/ariel/.dipy/exp_bundles_and_maps/bundles_2_subjects/subj_1/bundles/bundles_cst.right.trk, track number: 44\n",
      "There are some negative coordinates in /home/ariel/.dipy/exp_bundles_and_maps/bundles_2_subjects/subj_1/bundles/bundles_cst.right.trk, track number: 45\n",
      "There are some negative coordinates in /home/ariel/.dipy/exp_bundles_and_maps/bundles_2_subjects/subj_1/bundles/bundles_cst.right.trk, track number: 46\n",
      "There are some negative coordinates in /home/ariel/.dipy/exp_bundles_and_maps/bundles_2_subjects/subj_1/bundles/bundles_cst.right.trk, track number: 47\n",
      "There are some negative coordinates in /home/ariel/.dipy/exp_bundles_and_maps/bundles_2_subjects/subj_1/bundles/bundles_cst.right.trk, track number: 48\n",
      "There are some negative coordinates in /home/ariel/.dipy/exp_bundles_and_maps/bundles_2_subjects/subj_1/bundles/bundles_cst.right.trk, track number: 49\n",
      "There are some negative coordinates in /home/ariel/.dipy/exp_bundles_and_maps/bundles_2_subjects/subj_1/bundles/bundles_cst.right.trk, track number: 50\n",
      "There are some negative coordinates in /home/ariel/.dipy/exp_bundles_and_maps/bundles_2_subjects/subj_1/bundles/bundles_cst.right.trk, track number: 51\n",
      "There are some negative coordinates in /home/ariel/.dipy/exp_bundles_and_maps/bundles_2_subjects/subj_1/bundles/bundles_cst.right.trk, track number: 52\n",
      "There are some negative coordinates in /home/ariel/.dipy/exp_bundles_and_maps/bundles_2_subjects/subj_1/bundles/bundles_cst.right.trk, track number: 54\n",
      "There are some negative coordinates in /home/ariel/.dipy/exp_bundles_and_maps/bundles_2_subjects/subj_1/bundles/bundles_cst.right.trk, track number: 56\n",
      "There are some negative coordinates in /home/ariel/.dipy/exp_bundles_and_maps/bundles_2_subjects/subj_1/bundles/bundles_cst.right.trk, track number: 57\n",
      "There are some negative coordinates in /home/ariel/.dipy/exp_bundles_and_maps/bundles_2_subjects/subj_1/bundles/bundles_cst.right.trk, track number: 59\n",
      "There are some negative coordinates in /home/ariel/.dipy/exp_bundles_and_maps/bundles_2_subjects/subj_1/bundles/bundles_cst.right.trk, track number: 60\n",
      "There are some negative coordinates in /home/ariel/.dipy/exp_bundles_and_maps/bundles_2_subjects/subj_1/bundles/bundles_cst.right.trk, track number: 61\n",
      "There are some negative coordinates in /home/ariel/.dipy/exp_bundles_and_maps/bundles_2_subjects/subj_1/bundles/bundles_cst.right.trk, track number: 63\n",
      "There are some negative coordinates in /home/ariel/.dipy/exp_bundles_and_maps/bundles_2_subjects/subj_1/bundles/bundles_cst.right.trk, track number: 66\n",
      "There are some negative coordinates in /home/ariel/.dipy/exp_bundles_and_maps/bundles_2_subjects/subj_1/bundles/bundles_cst.right.trk, track number: 67\n",
      "There are some negative coordinates in /home/ariel/.dipy/exp_bundles_and_maps/bundles_2_subjects/subj_1/bundles/bundles_cst.right.trk, track number: 68\n",
      "There are some negative coordinates in /home/ariel/.dipy/exp_bundles_and_maps/bundles_2_subjects/subj_1/bundles/bundles_cst.right.trk, track number: 72\n",
      "There are some negative coordinates in /home/ariel/.dipy/exp_bundles_and_maps/bundles_2_subjects/subj_1/bundles/bundles_cst.right.trk, track number: 73\n",
      "There are some negative coordinates in /home/ariel/.dipy/exp_bundles_and_maps/bundles_2_subjects/subj_1/bundles/bundles_cst.right.trk, track number: 74\n",
      "There are some negative coordinates in /home/ariel/.dipy/exp_bundles_and_maps/bundles_2_subjects/subj_1/bundles/bundles_cst.right.trk, track number: 75\n",
      "There are some negative coordinates in /home/ariel/.dipy/exp_bundles_and_maps/bundles_2_subjects/subj_1/bundles/bundles_cst.right.trk, track number: 78\n",
      "There are some negative coordinates in /home/ariel/.dipy/exp_bundles_and_maps/bundles_2_subjects/subj_1/bundles/bundles_cst.right.trk, track number: 79\n",
      "There are some negative coordinates in /home/ariel/.dipy/exp_bundles_and_maps/bundles_2_subjects/subj_1/bundles/bundles_cst.right.trk, track number: 80\n",
      "There are some negative coordinates in /home/ariel/.dipy/exp_bundles_and_maps/bundles_2_subjects/subj_1/bundles/bundles_cst.right.trk, track number: 83\n",
      "There are some negative coordinates in /home/ariel/.dipy/exp_bundles_and_maps/bundles_2_subjects/subj_1/bundles/bundles_cst.right.trk, track number: 84\n",
      "There are some negative coordinates in /home/ariel/.dipy/exp_bundles_and_maps/bundles_2_subjects/subj_1/bundles/bundles_cst.right.trk, track number: 85\n",
      "There are some negative coordinates in /home/ariel/.dipy/exp_bundles_and_maps/bundles_2_subjects/subj_1/bundles/bundles_cst.right.trk, track number: 87\n",
      "There are some negative coordinates in /home/ariel/.dipy/exp_bundles_and_maps/bundles_2_subjects/subj_1/bundles/bundles_cst.right.trk, track number: 88\n",
      "There are some negative coordinates in /home/ariel/.dipy/exp_bundles_and_maps/bundles_2_subjects/subj_1/bundles/bundles_cst.right.trk, track number: 89\n",
      "There are some negative coordinates in /home/ariel/.dipy/exp_bundles_and_maps/bundles_2_subjects/subj_1/bundles/bundles_cst.right.trk, track number: 90\n",
      "There are some negative coordinates in /home/ariel/.dipy/exp_bundles_and_maps/bundles_2_subjects/subj_1/bundles/bundles_cst.right.trk, track number: 91\n",
      "There are some negative coordinates in /home/ariel/.dipy/exp_bundles_and_maps/bundles_2_subjects/subj_1/bundles/bundles_cst.right.trk, track number: 92\n",
      "There are some negative coordinates in /home/ariel/.dipy/exp_bundles_and_maps/bundles_2_subjects/subj_1/bundles/bundles_cst.right.trk, track number: 93\n",
      "There are some negative coordinates in /home/ariel/.dipy/exp_bundles_and_maps/bundles_2_subjects/subj_1/bundles/bundles_cst.right.trk, track number: 95\n",
      "There are some negative coordinates in /home/ariel/.dipy/exp_bundles_and_maps/bundles_2_subjects/subj_1/bundles/bundles_cst.right.trk, track number: 96\n",
      "There are some negative coordinates in /home/ariel/.dipy/exp_bundles_and_maps/bundles_2_subjects/subj_1/bundles/bundles_cst.right.trk, track number: 97\n",
      "There are some negative coordinates in /home/ariel/.dipy/exp_bundles_and_maps/bundles_2_subjects/subj_1/bundles/bundles_cst.right.trk, track number: 100\n",
      "There are some negative coordinates in /home/ariel/.dipy/exp_bundles_and_maps/bundles_2_subjects/subj_1/bundles/bundles_cst.right.trk, track number: 101\n",
      "There are some negative coordinates in /home/ariel/.dipy/exp_bundles_and_maps/bundles_2_subjects/subj_1/bundles/bundles_cst.right.trk, track number: 102\n",
      "There are some negative coordinates in /home/ariel/.dipy/exp_bundles_and_maps/bundles_2_subjects/subj_1/bundles/bundles_cst.right.trk, track number: 103\n",
      "There are some negative coordinates in /home/ariel/.dipy/exp_bundles_and_maps/bundles_2_subjects/subj_1/bundles/bundles_cst.right.trk, track number: 106\n",
      "There are some negative coordinates in /home/ariel/.dipy/exp_bundles_and_maps/bundles_2_subjects/subj_1/bundles/bundles_cst.right.trk, track number: 109\n",
      "There are some negative coordinates in /home/ariel/.dipy/exp_bundles_and_maps/bundles_2_subjects/subj_1/bundles/bundles_cst.right.trk, track number: 110\n",
      "There are some negative coordinates in /home/ariel/.dipy/exp_bundles_and_maps/bundles_2_subjects/subj_1/bundles/bundles_cst.right.trk, track number: 111\n",
      "There are some negative coordinates in /home/ariel/.dipy/exp_bundles_and_maps/bundles_2_subjects/subj_1/bundles/bundles_cst.right.trk, track number: 112\n",
      "There are some negative coordinates in /home/ariel/.dipy/exp_bundles_and_maps/bundles_2_subjects/subj_1/bundles/bundles_cst.right.trk, track number: 115\n",
      "There are some negative coordinates in /home/ariel/.dipy/exp_bundles_and_maps/bundles_2_subjects/subj_1/bundles/bundles_cst.right.trk, track number: 116\n",
      "There are some negative coordinates in /home/ariel/.dipy/exp_bundles_and_maps/bundles_2_subjects/subj_1/bundles/bundles_cst.right.trk, track number: 118\n",
      "There are some negative coordinates in /home/ariel/.dipy/exp_bundles_and_maps/bundles_2_subjects/subj_1/bundles/bundles_cst.right.trk, track number: 121\n",
      "There are some negative coordinates in /home/ariel/.dipy/exp_bundles_and_maps/bundles_2_subjects/subj_1/bundles/bundles_cst.right.trk, track number: 123\n",
      "There are some negative coordinates in /home/ariel/.dipy/exp_bundles_and_maps/bundles_2_subjects/subj_1/bundles/bundles_cst.right.trk, track number: 124\n",
      "There are some negative coordinates in /home/ariel/.dipy/exp_bundles_and_maps/bundles_2_subjects/subj_1/bundles/bundles_cst.right.trk, track number: 125\n",
      "There are some negative coordinates in /home/ariel/.dipy/exp_bundles_and_maps/bundles_2_subjects/subj_1/bundles/bundles_cst.right.trk, track number: 126\n",
      "There are some negative coordinates in /home/ariel/.dipy/exp_bundles_and_maps/bundles_2_subjects/subj_1/bundles/bundles_cst.right.trk, track number: 127\n",
      "There are some negative coordinates in /home/ariel/.dipy/exp_bundles_and_maps/bundles_2_subjects/subj_1/bundles/bundles_cst.right.trk, track number: 128\n",
      "There are some negative coordinates in /home/ariel/.dipy/exp_bundles_and_maps/bundles_2_subjects/subj_1/bundles/bundles_cst.right.trk, track number: 129\n",
      "There are some negative coordinates in /home/ariel/.dipy/exp_bundles_and_maps/bundles_2_subjects/subj_1/bundles/bundles_cst.right.trk, track number: 131\n",
      "There are some negative coordinates in /home/ariel/.dipy/exp_bundles_and_maps/bundles_2_subjects/subj_1/bundles/bundles_cst.right.trk, track number: 132\n",
      "There are some negative coordinates in /home/ariel/.dipy/exp_bundles_and_maps/bundles_2_subjects/subj_1/bundles/bundles_cst.right.trk, track number: 133\n",
      "There are some negative coordinates in /home/ariel/.dipy/exp_bundles_and_maps/bundles_2_subjects/subj_1/bundles/bundles_cst.right.trk, track number: 134\n",
      "There are some negative coordinates in /home/ariel/.dipy/exp_bundles_and_maps/bundles_2_subjects/subj_1/bundles/bundles_cst.right.trk, track number: 135\n",
      "There are some negative coordinates in /home/ariel/.dipy/exp_bundles_and_maps/bundles_2_subjects/subj_1/bundles/bundles_cst.right.trk, track number: 138\n",
      "There are some negative coordinates in /home/ariel/.dipy/exp_bundles_and_maps/bundles_2_subjects/subj_1/bundles/bundles_cst.right.trk, track number: 140\n",
      "There are some negative coordinates in /home/ariel/.dipy/exp_bundles_and_maps/bundles_2_subjects/subj_1/bundles/bundles_cst.right.trk, track number: 141\n",
      "There are some negative coordinates in /home/ariel/.dipy/exp_bundles_and_maps/bundles_2_subjects/subj_1/bundles/bundles_cst.right.trk, track number: 142\n",
      "There are some negative coordinates in /home/ariel/.dipy/exp_bundles_and_maps/bundles_2_subjects/subj_1/bundles/bundles_cst.right.trk, track number: 144\n",
      "There are some negative coordinates in /home/ariel/.dipy/exp_bundles_and_maps/bundles_2_subjects/subj_1/bundles/bundles_cst.right.trk, track number: 145\n",
      "There are some negative coordinates in /home/ariel/.dipy/exp_bundles_and_maps/bundles_2_subjects/subj_1/bundles/bundles_cst.right.trk, track number: 147\n",
      "There are some negative coordinates in /home/ariel/.dipy/exp_bundles_and_maps/bundles_2_subjects/subj_1/bundles/bundles_cst.right.trk, track number: 149\n",
      "There are some negative coordinates in /home/ariel/.dipy/exp_bundles_and_maps/bundles_2_subjects/subj_1/bundles/bundles_cst.right.trk, track number: 151\n",
      "There are some negative coordinates in /home/ariel/.dipy/exp_bundles_and_maps/bundles_2_subjects/subj_1/bundles/bundles_cst.right.trk, track number: 152\n",
      "There are some negative coordinates in /home/ariel/.dipy/exp_bundles_and_maps/bundles_2_subjects/subj_1/bundles/bundles_cst.right.trk, track number: 153\n",
      "There are some negative coordinates in /home/ariel/.dipy/exp_bundles_and_maps/bundles_2_subjects/subj_1/bundles/bundles_cst.right.trk, track number: 154\n",
      "There are some negative coordinates in /home/ariel/.dipy/exp_bundles_and_maps/bundles_2_subjects/subj_1/bundles/bundles_cst.right.trk, track number: 155\n",
      "There are some negative coordinates in /home/ariel/.dipy/exp_bundles_and_maps/bundles_2_subjects/subj_1/bundles/bundles_cst.right.trk, track number: 156\n",
      "There are some negative coordinates in /home/ariel/.dipy/exp_bundles_and_maps/bundles_2_subjects/subj_1/bundles/bundles_cst.right.trk, track number: 158\n",
      "There are some negative coordinates in /home/ariel/.dipy/exp_bundles_and_maps/bundles_2_subjects/subj_1/bundles/bundles_cst.right.trk, track number: 159\n"
     ]
    }
   ],
   "source": [
    "if op.exists('./subject1_bundles')\n",
    "    # Read it in from file\n",
    "    \n",
    "else:\n",
    "    data_train = np.zeros((np.int(np.round(take_n_bundles * take_n_sl * 0.6)),  100, 100, 1), dtype='float32')\n",
    "    data_valid = np.zeros((np.int(np.round(take_n_bundles * take_n_sl * 0.2)),  100, 100, 1), dtype='float32')\n",
    "    data_test = np.zeros((np.int(np.round(take_n_bundles * take_n_sl * 0.2)),  100, 100, 1), dtype='float32')\n",
    "\n",
    "    labels_train = np.zeros(np.int(np.round(take_n_bundles * take_n_sl * 0.6)))\n",
    "    labels_valid = np.zeros(np.int(np.round(take_n_bundles * take_n_sl * 0.2)))\n",
    "    labels_test = np.zeros(np.int(np.round(take_n_bundles * take_n_sl * 0.2)))\n",
    "\n",
    "    ii_train = 0\n",
    "    ii_valid = 0\n",
    "    ii_test = 0\n",
    "\n",
    "    tract_id = 0\n",
    "    for fname in bundle_files:\n",
    "        tract_id += 1\n",
    "        if tract_id > take_n_bundles: \n",
    "            break\n",
    "        # Shuffle them in case they are ordered somehow:\n",
    "        streamlines = read_sl(fname) \n",
    "        np.random.shuffle(streamlines)\n",
    "        choose_sl = streamlines[:take_n_sl]\n",
    "        for sl_idx, sl in enumerate(choose_sl):\n",
    "            if np.any(sl < 0):\n",
    "                print(\"There are some negative coordinates in %s, track number: %s\"%(fname, sl_idx))\n",
    "            projected = reduce_sl(sl)\n",
    "            if sl_idx < (np.round(take_n_sl * 0.2)):\n",
    "                data_test[ii_test] = projected\n",
    "                labels_test[ii_test] = tract_id\n",
    "                ii_test += 1\n",
    "            elif sl_idx < (np.round(take_n_sl * 0.4)):\n",
    "                data_valid[ii_valid] = projected\n",
    "                labels_valid[ii_valid] = tract_id\n",
    "                ii_valid += 1\n",
    "            else:\n",
    "                data_train[ii_train] = projected\n",
    "                labels_train[ii_train] = tract_id\n",
    "                ii_train += 1"
   ]
  },
  {
   "cell_type": "code",
   "execution_count": 18,
   "metadata": {
    "collapsed": true
   },
   "outputs": [],
   "source": [
    "img_rows = 100\n",
    "img_cols = 100\n",
    "batch_size = 4\n",
    "epochs = 12\n",
    "num_classes = take_n_bundles\n",
    "input_shape = (img_rows, img_cols, 1)"
   ]
  },
  {
   "cell_type": "code",
   "execution_count": 19,
   "metadata": {
    "collapsed": false
   },
   "outputs": [],
   "source": [
    "labels_train = keras.utils.to_categorical(labels_train-1, num_classes)\n",
    "labels_valid = keras.utils.to_categorical(labels_valid-1, num_classes)\n",
    "labels_test  = keras.utils.to_categorical(labels_test-1, num_classes)"
   ]
  },
  {
   "cell_type": "code",
   "execution_count": 20,
   "metadata": {
    "collapsed": false
   },
   "outputs": [],
   "source": [
    "model = Sequential()\n",
    "model.add(Conv2D(32, kernel_size=(3, 3),\n",
    "                 activation='relu',\n",
    "                 input_shape=input_shape))\n",
    "model.add(Conv2D(64, (3, 3), activation='relu'))\n",
    "model.add(MaxPooling2D(pool_size=(2, 2)))\n",
    "model.add(Dropout(0.25))\n",
    "model.add(Flatten())\n",
    "model.add(Dense(128, activation='relu'))\n",
    "model.add(Dropout(0.5))\n",
    "model.add(Dense(num_classes, activation='softmax'))"
   ]
  },
  {
   "cell_type": "code",
   "execution_count": 21,
   "metadata": {
    "collapsed": true
   },
   "outputs": [],
   "source": [
    "model.compile(loss=keras.losses.categorical_crossentropy,\n",
    "              optimizer=keras.optimizers.Adadelta(),\n",
    "              metrics=['accuracy'])"
   ]
  },
  {
   "cell_type": "code",
   "execution_count": 22,
   "metadata": {
    "collapsed": false,
    "scrolled": false
   },
   "outputs": [
    {
     "name": "stdout",
     "output_type": "stream",
     "text": [
      "Train on 2592 samples, validate on 864 samples\n",
      "Epoch 1/12\n",
      "2592/2592 [==============================] - 57s - loss: 0.7031 - acc: 0.8040 - val_loss: 0.2177 - val_acc: 0.9236\n",
      "Epoch 2/12\n",
      "2592/2592 [==============================] - 55s - loss: 0.2918 - acc: 0.9101 - val_loss: 0.1851 - val_acc: 0.9375\n",
      "Epoch 3/12\n",
      "2592/2592 [==============================] - 55s - loss: 0.2218 - acc: 0.9263 - val_loss: 0.1694 - val_acc: 0.9363\n",
      "Epoch 4/12\n",
      "2592/2592 [==============================] - 55s - loss: 0.1734 - acc: 0.9479 - val_loss: 0.1664 - val_acc: 0.9375\n",
      "Epoch 5/12\n",
      "2592/2592 [==============================] - 54s - loss: 0.1714 - acc: 0.9414 - val_loss: 0.1672 - val_acc: 0.9444\n",
      "Epoch 6/12\n",
      "2592/2592 [==============================] - 55s - loss: 0.1627 - acc: 0.9425 - val_loss: 0.1561 - val_acc: 0.9421\n",
      "Epoch 7/12\n",
      "2592/2592 [==============================] - 55s - loss: 0.1347 - acc: 0.9468 - val_loss: 0.1486 - val_acc: 0.9502\n",
      "Epoch 8/12\n",
      "2592/2592 [==============================] - 55s - loss: 0.1392 - acc: 0.9502 - val_loss: 0.1415 - val_acc: 0.9502\n",
      "Epoch 9/12\n",
      "2592/2592 [==============================] - 55s - loss: 0.1311 - acc: 0.9533 - val_loss: 0.1282 - val_acc: 0.9525\n",
      "Epoch 10/12\n",
      "2592/2592 [==============================] - 55s - loss: 0.1161 - acc: 0.9583 - val_loss: 0.1332 - val_acc: 0.9479\n",
      "Epoch 11/12\n",
      "2592/2592 [==============================] - 54s - loss: 0.1106 - acc: 0.9583 - val_loss: 0.1458 - val_acc: 0.9525\n",
      "Epoch 12/12\n",
      "2592/2592 [==============================] - 55s - loss: 0.1144 - acc: 0.9556 - val_loss: 0.1317 - val_acc: 0.9537\n"
     ]
    }
   ],
   "source": [
    "training = model.fit(data_train, labels_train,\n",
    "                     batch_size=batch_size,\n",
    "                     epochs=epochs,\n",
    "                     verbose=1,\n",
    "                     validation_data=(data_valid, labels_valid))"
   ]
  },
  {
   "cell_type": "code",
   "execution_count": 23,
   "metadata": {
    "collapsed": false
   },
   "outputs": [],
   "source": [
    "score = model.evaluate(data_test, labels_test, verbose=0)"
   ]
  },
  {
   "cell_type": "code",
   "execution_count": 24,
   "metadata": {
    "collapsed": false
   },
   "outputs": [
    {
     "name": "stdout",
     "output_type": "stream",
     "text": [
      "[0.13885204824919128, 0.95601851851851849]\n"
     ]
    }
   ],
   "source": [
    "print(score)"
   ]
  },
  {
   "cell_type": "code",
   "execution_count": 25,
   "metadata": {
    "collapsed": true
   },
   "outputs": [],
   "source": [
    "import matplotlib.pyplot as plt\n",
    "%matplotlib inline"
   ]
  },
  {
   "cell_type": "code",
   "execution_count": 26,
   "metadata": {
    "collapsed": false
   },
   "outputs": [
    {
     "data": {
      "text/plain": [
       "<matplotlib.legend.Legend at 0x7ff7f87d0e80>"
      ]
     },
     "execution_count": 26,
     "metadata": {},
     "output_type": "execute_result"
    },
    {
     "data": {
      "image/png": "[encoded data removed]",
      "text/plain": [
       "<matplotlib.figure.Figure at 0x7ff805087518>"
      ]
     },
     "metadata": {},
     "output_type": "display_data"
    }
   ],
   "source": [
    "accuracy = training.history['acc']\n",
    "val_accuracy = training.history['val_acc']\n",
    "loss = training.history['loss']\n",
    "val_loss = training.history['val_loss']\n",
    "epochs = range(len(accuracy))\n",
    "plt.plot(epochs, accuracy, 'bo--', label='Training accuracy')\n",
    "plt.plot(epochs, val_accuracy, 'ro--', label='Validation accuracy')\n",
    "plt.title('Training and validation accuracy')\n",
    "plt.legend()"
   ]
  },
  {
   "cell_type": "code",
   "execution_count": 28,
   "metadata": {
    "collapsed": false
   },
   "outputs": [],
   "source": [
    "np.savez('./subject1_bundles', {'data_train':data_train, 'labels_train': labels_train,\n",
    "                                'data_test':data_test, 'labels_test': labels_test, \n",
    "                                'data_valid':data_valid, 'labels_valid': labels_valid})"
   ]
  },
  {
   "cell_type": "markdown",
   "metadata": {},
   "source": [
    "Cross-predict on *another subject*"
   ]
  },
  {
   "cell_type": "code",
   "execution_count": null,
   "metadata": {
    "collapsed": true
   },
   "outputs": [],
   "source": [
    "sub2_bundle_files = glob('/home/ariel/.dipy/exp_bundles_and_maps/bundles_2_subjects/subj_2/bundles/*.trk')"
   ]
  },
  {
   "cell_type": "code",
   "execution_count": 31,
   "metadata": {
    "collapsed": true
   },
   "outputs": [],
   "source": [
    "sub2_t1_img = nib.load('/home/ariel/.dipy/exp_bundles_and_maps/bundles_2_subjects/subj_2/t1_warped.nii.gz')"
   ]
  },
  {
   "cell_type": "code",
   "execution_count": 50,
   "metadata": {
    "collapsed": true
   },
   "outputs": [],
   "source": [
    "n_streamlines = 0\n",
    "for fname in sub2_bundle_files:\n",
    "    streamlines = read_sl(fname, np.linalg.inv(sub2_t1_img.affine))\n",
    "    n_streamlines += len(streamlines)"
   ]
  },
  {
   "cell_type": "code",
   "execution_count": 51,
   "metadata": {
    "collapsed": false
   },
   "outputs": [
    {
     "data": {
      "text/plain": [
       "57060"
      ]
     },
     "execution_count": 51,
     "metadata": {},
     "output_type": "execute_result"
    }
   ],
   "source": [
    "n_streamlines"
   ]
  },
  {
   "cell_type": "code",
   "execution_count": null,
   "metadata": {
    "collapsed": false,
    "scrolled": false
   },
   "outputs": [
    {
     "name": "stdout",
     "output_type": "stream",
     "text": [
      "cg.left\n"
     ]
    },
    {
     "name": "stderr",
     "output_type": "stream",
     "text": [
      "/usr/local/lib/python3.4/dist-packages/skimage/transform/_warps.py:84: UserWarning: The default mode, 'constant', will be changed to 'reflect' in skimage 0.15.\n",
      "  warn(\"The default mode, 'constant', will be changed to 'reflect' in \"\n"
     ]
    },
    {
     "name": "stdout",
     "output_type": "stream",
     "text": [
      "ii = 100\n",
      "ii = 200\n",
      "ii = 300\n",
      "ii = 400\n",
      "ii = 500\n",
      "ii = 600\n",
      "ii = 700\n",
      "ii = 800\n",
      "ii = 900\n",
      "ii = 1000\n",
      "ii = 1100\n",
      "ii = 1200\n",
      "ii = 1300\n",
      "ii = 1400\n",
      "ii = 1500\n",
      "ii = 1600\n",
      "ii = 1700\n",
      "ii = 1800\n",
      "ii = 1900\n",
      "ii = 2000\n",
      "ii = 2100\n",
      "ii = 2200\n",
      "ii = 2300\n",
      "ii = 2400\n",
      "ii = 2500\n",
      "ii = 2600\n",
      "ii = 2700\n",
      "ii = 2800\n",
      "ii = 2900\n",
      "ii = 3000\n",
      "ii = 3100\n",
      "ii = 3200\n",
      "ii = 3300\n",
      "ii = 3400\n",
      "ii = 3500\n",
      "ii = 3600\n",
      "ii = 3700\n",
      "ii = 3800\n",
      "ii = 3900\n",
      "slf1.left\n",
      "ii = 4000\n",
      "ii = 4100\n",
      "ii = 4200\n",
      "ii = 4300\n",
      "ii = 4400\n",
      "ii = 4500\n",
      "ii = 4600\n",
      "ii = 4700\n",
      "ii = 4800\n",
      "ii = 4900\n",
      "ifof.left\n",
      "ii = 5000\n",
      "ii = 5100\n",
      "ii = 5200\n",
      "ii = 5300\n",
      "ii = 5400\n",
      "ii = 5500\n",
      "ii = 5600\n",
      "ii = 5700\n",
      "ii = 5800\n",
      "slf2.left\n",
      "ii = 5900\n",
      "ii = 6000\n",
      "ii = 6100\n",
      "ii = 6200\n",
      "ii = 6300\n",
      "ii = 6400\n",
      "ii = 6500\n",
      "ii = 6600\n",
      "cc_1\n",
      "ii = 6700\n",
      "ii = 6800\n",
      "ii = 6900\n",
      "ii = 7000\n",
      "ii = 7100\n",
      "cc_2\n",
      "ii = 7200\n",
      "ii = 7300\n",
      "ii = 7400\n",
      "ii = 7500\n",
      "ii = 7600\n",
      "ii = 7700\n",
      "ii = 7800\n",
      "ii = 7900\n",
      "cst.left\n",
      "ii = 8000\n",
      "ii = 8100\n",
      "ii = 8200\n",
      "ii = 8300\n",
      "ii = 8400\n",
      "ii = 8500\n",
      "ii = 8600\n",
      "ii = 8700\n",
      "ii = 8800\n",
      "ii = 8900\n",
      "ii = 9000\n",
      "ii = 9100\n",
      "ii = 9200\n",
      "ii = 9300\n",
      "ii = 9400\n",
      "ii = 9500\n",
      "ii = 9600\n",
      "ii = 9700\n",
      "ii = 9800\n",
      "ii = 9900\n",
      "ii = 10000\n",
      "af.left\n",
      "ii = 10100\n",
      "ii = 10200\n",
      "ii = 10300\n",
      "ii = 10400\n",
      "ii = 10500\n",
      "ii = 10600\n",
      "mdlf.left\n",
      "ii = 10700\n",
      "ii = 10800\n",
      "ii = 10900\n",
      "ii = 11000\n",
      "ii = 11100\n",
      "uf.right\n",
      "ii = 11200\n",
      "ii = 11300\n",
      "ii = 11400\n",
      "ii = 11500\n",
      "ii = 11600\n",
      "ii = 11700\n",
      "ii = 11800\n",
      "ii = 11900\n",
      "ii = 12000\n",
      "ii = 12100\n",
      "ilf.left\n",
      "ii = 12200\n",
      "ii = 12300\n",
      "ii = 12400\n",
      "ii = 12500\n",
      "slf_3.left\n",
      "ii = 12600\n",
      "cst.right\n",
      "ii = 12700\n",
      "ii = 12800\n",
      "ii = 12900\n",
      "ii = 13000\n",
      "ii = 13100\n",
      "ii = 13200\n",
      "ii = 13300\n",
      "ii = 13400\n",
      "ii = 13500\n",
      "ii = 13600\n",
      "ii = 13700\n",
      "ii = 13800\n",
      "ii = 13900\n",
      "ii = 14000\n",
      "ii = 14100\n",
      "ii = 14200\n",
      "ii = 14300\n",
      "ii = 14400\n",
      "ii = 14500\n",
      "ii = 14600\n",
      "cc_7\n",
      "ii = 14700\n",
      "ii = 14800\n",
      "ii = 14900\n",
      "ii = 15000\n",
      "ii = 15100\n",
      "ii = 15200\n",
      "ii = 15300\n",
      "ii = 15400\n",
      "ii = 15500\n",
      "ii = 15600\n",
      "cg.right\n",
      "ii = 15700\n",
      "ii = 15800\n",
      "ii = 15900\n",
      "ii = 16000\n",
      "ii = 16100\n",
      "ii = 16200\n",
      "ii = 16300\n",
      "ii = 16400\n",
      "ii = 16500\n",
      "ii = 16600\n",
      "ii = 16700\n",
      "ii = 16800\n",
      "ii = 16900\n",
      "ii = 17000\n",
      "ii = 17100\n",
      "ii = 17200\n",
      "ii = 17300\n",
      "ii = 17400\n",
      "ii = 17500\n",
      "ii = 17600\n",
      "ii = 17700\n",
      "ii = 17800\n",
      "ii = 17900\n",
      "ii = 18000\n",
      "ii = 18100\n",
      "ii = 18200\n",
      "ii = 18300\n",
      "ii = 18400\n",
      "ii = 18500\n",
      "ii = 18600\n",
      "ii = 18700\n",
      "ii = 18800\n",
      "ii = 18900\n",
      "ii = 19000\n",
      "ii = 19100\n",
      "ii = 19200\n",
      "ii = 19300\n",
      "ii = 19400\n",
      "ii = 19500\n",
      "ii = 19600\n",
      "ii = 19700\n",
      "ii = 19800\n",
      "cc_6\n",
      "ii = 19900\n",
      "ii = 20000\n",
      "ii = 20100\n",
      "ii = 20200\n",
      "ii = 20300\n",
      "ii = 20400\n",
      "ii = 20500\n",
      "ii = 20600\n",
      "ii = 20700\n",
      "ii = 20800\n",
      "ii = 20900\n",
      "ii = 21000\n",
      "ii = 21100\n",
      "ii = 21200\n",
      "ii = 21300\n",
      "ii = 21400\n",
      "ii = 21500\n",
      "ii = 21600\n",
      "ii = 21700\n",
      "ii = 21800\n",
      "ii = 21900\n",
      "ii = 22000\n",
      "ii = 22100\n",
      "ii = 22200\n",
      "ii = 22300\n",
      "ii = 22400\n",
      "ii = 22500\n",
      "ii = 22600\n",
      "ii = 22700\n",
      "ii = 22800\n",
      "ii = 22900\n",
      "ii = 23000\n",
      "ii = 23100\n",
      "ii = 23200\n",
      "ii = 23300\n",
      "ii = 23400\n",
      "ii = 23500\n",
      "ii = 23600\n",
      "ii = 23700\n",
      "ii = 23800\n",
      "ii = 23900\n",
      "ii = 24000\n",
      "ii = 24100\n",
      "ii = 24200\n",
      "ii = 24300\n",
      "ii = 24400\n",
      "ii = 24500\n",
      "ii = 24600\n",
      "ii = 24700\n",
      "ii = 24800\n",
      "ii = 24900\n",
      "ii = 25000\n",
      "ii = 25100\n",
      "ii = 25200\n",
      "ii = 25300\n",
      "ii = 25400\n",
      "ii = 25500\n",
      "ii = 25600\n",
      "ii = 25700\n",
      "ii = 25800\n",
      "ii = 25900\n",
      "ii = 26000\n",
      "ii = 26100\n",
      "ii = 26200\n",
      "ii = 26300\n",
      "ii = 26400\n",
      "ii = 26500\n",
      "ii = 26600\n",
      "ii = 26700\n",
      "ii = 26800\n",
      "ii = 26900\n"
     ]
    }
   ],
   "source": [
    "data_sub2 = np.zeros((n_streamlines, 100, 100, 1))\n",
    "#predictions = []\n",
    "#actual_labels = []\n",
    "ii = 0\n",
    "for fname in sub2_bundle_files:\n",
    "    bundle_name = fname.split('/')[-1].split('bundles_')[-1].split('.trk')[0]\n",
    "    print(bundle_name)\n",
    "    streamlines = read_sl(fname, np.linalg.inv(sub2_t1_img.affine))\n",
    "    for sl in streamlines: \n",
    "        data_sub2[ii] = reduce_sl(sl)\n",
    "        ii += 1\n",
    "        if not np.mod(ii, 100):\n",
    "            print(\"ii = %s\"%ii)\n",
    "        actual_labels.append(bundle_name)"
   ]
  },
  {
   "cell_type": "code",
   "execution_count": 40,
   "metadata": {
    "collapsed": false
   },
   "outputs": [
    {
     "name": "stderr",
     "output_type": "stream",
     "text": [
      "/usr/local/lib/python3.4/dist-packages/skimage/transform/_warps.py:84: UserWarning: The default mode, 'constant', will be changed to 'reflect' in skimage 0.15.\n",
      "  warn(\"The default mode, 'constant', will be changed to 'reflect' in \"\n"
     ]
    },
    {
     "ename": "KeyboardInterrupt",
     "evalue": "",
     "output_type": "error",
     "traceback": [
      "\u001b[0;31m---------------------------------------------------------------------------\u001b[0m",
      "\u001b[0;31mKeyboardInterrupt\u001b[0m                         Traceback (most recent call last)",
      "\u001b[0;32m<ipython-input-40-fcbe6df89ce6>\u001b[0m in \u001b[0;36m<module>\u001b[0;34m()\u001b[0m\n\u001b[1;32m      5\u001b[0m     \u001b[0;32mfor\u001b[0m \u001b[0msl\u001b[0m \u001b[0;32min\u001b[0m \u001b[0mstreamlines\u001b[0m\u001b[0;34m:\u001b[0m\u001b[0;34m\u001b[0m\u001b[0m\n\u001b[1;32m      6\u001b[0m         \u001b[0mactual_labels\u001b[0m\u001b[0;34m.\u001b[0m\u001b[0mappend\u001b[0m\u001b[0;34m(\u001b[0m\u001b[0mfname\u001b[0m\u001b[0;34m.\u001b[0m\u001b[0msplit\u001b[0m\u001b[0;34m(\u001b[0m\u001b[0;34m'/'\u001b[0m\u001b[0;34m)\u001b[0m\u001b[0;34m[\u001b[0m\u001b[0;34m-\u001b[0m\u001b[0;36m1\u001b[0m\u001b[0;34m]\u001b[0m\u001b[0;34m.\u001b[0m\u001b[0msplit\u001b[0m\u001b[0;34m(\u001b[0m\u001b[0;34m'bundles_'\u001b[0m\u001b[0;34m)\u001b[0m\u001b[0;34m[\u001b[0m\u001b[0;34m-\u001b[0m\u001b[0;36m1\u001b[0m\u001b[0;34m]\u001b[0m\u001b[0;34m.\u001b[0m\u001b[0msplit\u001b[0m\u001b[0;34m(\u001b[0m\u001b[0;34m'.trk'\u001b[0m\u001b[0;34m)\u001b[0m\u001b[0;34m[\u001b[0m\u001b[0;36m0\u001b[0m\u001b[0;34m]\u001b[0m\u001b[0;34m)\u001b[0m\u001b[0;34m\u001b[0m\u001b[0m\n\u001b[0;32m----> 7\u001b[0;31m         \u001b[0mprojected\u001b[0m \u001b[0;34m=\u001b[0m \u001b[0mreduce_sl\u001b[0m\u001b[0;34m(\u001b[0m\u001b[0msl\u001b[0m\u001b[0;34m)\u001b[0m\u001b[0;34m\u001b[0m\u001b[0m\n\u001b[0m\u001b[1;32m      8\u001b[0m         \u001b[0mp\u001b[0m \u001b[0;34m=\u001b[0m \u001b[0mmodel\u001b[0m\u001b[0;34m.\u001b[0m\u001b[0mpredict\u001b[0m\u001b[0;34m(\u001b[0m\u001b[0mprojected\u001b[0m\u001b[0;34m[\u001b[0m\u001b[0mnp\u001b[0m\u001b[0;34m.\u001b[0m\u001b[0mnewaxis\u001b[0m\u001b[0;34m]\u001b[0m\u001b[0;34m,\u001b[0m \u001b[0mbatch_size\u001b[0m\u001b[0;34m=\u001b[0m\u001b[0;36m1\u001b[0m\u001b[0;34m)\u001b[0m\u001b[0;34m\u001b[0m\u001b[0m\n\u001b[1;32m      9\u001b[0m         \u001b[0mpredictions\u001b[0m\u001b[0;34m.\u001b[0m\u001b[0mappend\u001b[0m\u001b[0;34m(\u001b[0m\u001b[0mbundle_name\u001b[0m\u001b[0;34m[\u001b[0m\u001b[0mnp\u001b[0m\u001b[0;34m.\u001b[0m\u001b[0margmax\u001b[0m\u001b[0;34m(\u001b[0m\u001b[0mp\u001b[0m\u001b[0;34m)\u001b[0m\u001b[0;34m]\u001b[0m\u001b[0;34m)\u001b[0m\u001b[0;34m\u001b[0m\u001b[0m\n",
      "\u001b[0;32m<ipython-input-11-10784c4d6af0>\u001b[0m in \u001b[0;36mreduce_sl\u001b[0;34m(sl)\u001b[0m\n\u001b[1;32m      7\u001b[0m     \u001b[0mvol\u001b[0m\u001b[0;34m[\u001b[0m\u001b[0msl\u001b[0m\u001b[0;34m[\u001b[0m\u001b[0;36m0\u001b[0m\u001b[0;34m]\u001b[0m\u001b[0;34m,\u001b[0m \u001b[0msl\u001b[0m\u001b[0;34m[\u001b[0m\u001b[0;36m1\u001b[0m\u001b[0;34m]\u001b[0m\u001b[0;34m,\u001b[0m \u001b[0msl\u001b[0m\u001b[0;34m[\u001b[0m\u001b[0;36m2\u001b[0m\u001b[0;34m]\u001b[0m\u001b[0;34m]\u001b[0m \u001b[0;34m=\u001b[0m \u001b[0;36m1\u001b[0m\u001b[0;34m\u001b[0m\u001b[0m\n\u001b[1;32m      8\u001b[0m     \u001b[0;31m# emphasize it a bit:\u001b[0m\u001b[0;34m\u001b[0m\u001b[0;34m\u001b[0m\u001b[0m\n\u001b[0;32m----> 9\u001b[0;31m     \u001b[0mvol\u001b[0m \u001b[0;34m=\u001b[0m \u001b[0mbinary_dilation\u001b[0m\u001b[0;34m(\u001b[0m\u001b[0mvol\u001b[0m\u001b[0;34m,\u001b[0m \u001b[0miterations\u001b[0m\u001b[0;34m=\u001b[0m\u001b[0;36m5\u001b[0m\u001b[0;34m)\u001b[0m\u001b[0;34m\u001b[0m\u001b[0m\n\u001b[0m\u001b[1;32m     10\u001b[0m     \u001b[0mvol\u001b[0m \u001b[0;34m=\u001b[0m \u001b[0mresize\u001b[0m\u001b[0;34m(\u001b[0m\u001b[0mvol\u001b[0m\u001b[0;34m,\u001b[0m \u001b[0;34m(\u001b[0m\u001b[0;36m100\u001b[0m\u001b[0;34m,\u001b[0m \u001b[0;36m100\u001b[0m\u001b[0;34m,\u001b[0m \u001b[0;36m100\u001b[0m\u001b[0;34m)\u001b[0m\u001b[0;34m)\u001b[0m\u001b[0;34m\u001b[0m\u001b[0m\n\u001b[1;32m     11\u001b[0m     \u001b[0mprojected\u001b[0m \u001b[0;34m=\u001b[0m \u001b[0mnp\u001b[0m\u001b[0;34m.\u001b[0m\u001b[0mconcatenate\u001b[0m\u001b[0;34m(\u001b[0m\u001b[0;34m[\u001b[0m\u001b[0mnp\u001b[0m\u001b[0;34m.\u001b[0m\u001b[0mmax\u001b[0m\u001b[0;34m(\u001b[0m\u001b[0mvol\u001b[0m\u001b[0;34m,\u001b[0m \u001b[0mdim\u001b[0m\u001b[0;34m)\u001b[0m \u001b[0;32mfor\u001b[0m \u001b[0mdim\u001b[0m \u001b[0;32min\u001b[0m \u001b[0mrange\u001b[0m\u001b[0;34m(\u001b[0m\u001b[0mlen\u001b[0m\u001b[0;34m(\u001b[0m\u001b[0mvol\u001b[0m\u001b[0;34m.\u001b[0m\u001b[0mshape\u001b[0m\u001b[0;34m)\u001b[0m\u001b[0;34m)\u001b[0m\u001b[0;34m]\u001b[0m\u001b[0;34m)\u001b[0m\u001b[0;34m\u001b[0m\u001b[0m\n",
      "\u001b[0;32m/usr/local/lib/python3.4/dist-packages/scipy/ndimage/morphology.py\u001b[0m in \u001b[0;36mbinary_dilation\u001b[0;34m(input, structure, iterations, mask, output, border_value, origin, brute_force)\u001b[0m\n\u001b[1;32m    500\u001b[0m \u001b[0;34m\u001b[0m\u001b[0m\n\u001b[1;32m    501\u001b[0m     return _binary_erosion(input, structure, iterations, mask,\n\u001b[0;32m--> 502\u001b[0;31m                            output, border_value, origin, 1, brute_force)\n\u001b[0m\u001b[1;32m    503\u001b[0m \u001b[0;34m\u001b[0m\u001b[0m\n\u001b[1;32m    504\u001b[0m \u001b[0;34m\u001b[0m\u001b[0m\n",
      "\u001b[0;32m/usr/local/lib/python3.4/dist-packages/scipy/ndimage/morphology.py\u001b[0m in \u001b[0;36m_binary_erosion\u001b[0;34m(input, structure, iterations, mask, output, border_value, origin, invert, brute_force)\u001b[0m\n\u001b[1;32m    250\u001b[0m     \u001b[0;32melif\u001b[0m \u001b[0mcit\u001b[0m \u001b[0;32mand\u001b[0m \u001b[0;32mnot\u001b[0m \u001b[0mbrute_force\u001b[0m\u001b[0;34m:\u001b[0m\u001b[0;34m\u001b[0m\u001b[0m\n\u001b[1;32m    251\u001b[0m         changed, coordinate_list = _nd_image.binary_erosion(input,\n\u001b[0;32m--> 252\u001b[0;31m              structure, mask, output, border_value, origin, invert, cit, 1)\n\u001b[0m\u001b[1;32m    253\u001b[0m         structure = structure[tuple([slice(None, None, -1)] *\n\u001b[1;32m    254\u001b[0m                                     structure.ndim)]\n",
      "\u001b[0;31mKeyboardInterrupt\u001b[0m: "
     ]
    }
   ],
   "source": [
    "p = model.predict(projected[np.newaxis], batch_size=4)\n",
    "predictions.append(bundle_name[np.argmax(p)])"
   ]
  },
  {
   "cell_type": "code",
   "execution_count": 45,
   "metadata": {
    "collapsed": false
   },
   "outputs": [],
   "source": [
    "arr_pred = np.array(predictions)\n",
    "arr_act = np.array(actual_labels)"
   ]
  },
  {
   "cell_type": "code",
   "execution_count": 48,
   "metadata": {
    "collapsed": false
   },
   "outputs": [],
   "source": [
    "correct = arr_pred == arr_act[:-1]"
   ]
  },
  {
   "cell_type": "code",
   "execution_count": 49,
   "metadata": {
    "collapsed": false
   },
   "outputs": [
    {
     "data": {
      "text/plain": [
       "0.91444015444015447"
      ]
     },
     "execution_count": 49,
     "metadata": {},
     "output_type": "execute_result"
    }
   ],
   "source": [
    "np.mean(correct)"
   ]
  },
  {
   "cell_type": "code",
   "execution_count": null,
   "metadata": {
    "collapsed": true
   },
   "outputs": [],
   "source": [
    "from sklearn.metrics import cohen_kappa_score"
   ]
  }
 ],
 "metadata": {
  "kernelspec": {
   "display_name": "Python 3",
   "language": "python",
   "name": "python3"
  },
  "language_info": {
   "codemirror_mode": {
    "name": "ipython",
    "version": 3
   },
   "file_extension": ".py",
   "mimetype": "text/x-python",
   "name": "python",
   "nbconvert_exporter": "python",
   "pygments_lexer": "ipython3",
   "version": "3.4.3"
  }
 },
 "nbformat": 4,
 "nbformat_minor": 1
}
