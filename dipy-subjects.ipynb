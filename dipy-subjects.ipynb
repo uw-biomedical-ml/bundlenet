{
 "cells": [
  {
   "cell_type": "code",
   "execution_count": 1,
   "metadata": {},
   "outputs": [],
   "source": [
    "from glob import glob\n",
    "import os.path as op\n",
    "import numpy as np\n",
    "import matplotlib.pyplot as plt\n",
    "import seaborn as sns\n",
    "\n",
    "from sklearn.metrics import cohen_kappa_score, jaccard_similarity_score\n",
    "%matplotlib inline"
   ]
  },
  {
   "cell_type": "code",
   "execution_count": 2,
   "metadata": {},
   "outputs": [],
   "source": [
    "import nibabel as nib\n",
    "from nibabel.streamlines import load as load_trk\n",
    "import dipy.tracking.streamline as dts\n",
    "import dipy.tracking.utils as dtu\n",
    "from skimage.transform import resize\n",
    "from scipy.ndimage.morphology import binary_dilation\n",
    "import dipy.data as dpd"
   ]
  },
  {
   "cell_type": "code",
   "execution_count": 3,
   "metadata": {},
   "outputs": [
    {
     "name": "stderr",
     "output_type": "stream",
     "text": [
      "Using TensorFlow backend.\n"
     ]
    }
   ],
   "source": [
    "import keras\n",
    "from keras.callbacks import ModelCheckpoint\n",
    "from keras.models import Sequential\n",
    "from keras.layers import Dense, Dropout, Flatten, LeakyReLU\n",
    "from keras.layers import Conv2D, MaxPooling2D"
   ]
  },
  {
   "cell_type": "code",
   "execution_count": 4,
   "metadata": {},
   "outputs": [],
   "source": [
    "import bundlenet as bn"
   ]
  },
  {
   "cell_type": "code",
   "execution_count": 5,
   "metadata": {},
   "outputs": [
    {
     "name": "stdout",
     "output_type": "stream",
     "text": [
      "Data size is approximately 234MB\n",
      "Dataset is already in place. If you want to fetch it again please first remove the folder /Users/jpowen/.dipy/exp_bundles_and_maps \n"
     ]
    },
    {
     "data": {
      "text/plain": [
       "({'bundles_2_subjects.tar.gz': ('https://digital.lib.washington.edu/researchworks/bitstream/handle/1773/38477/bundles_2_subjects.tar.gz',\n",
       "   '97756fbef11ce2df31f1bedf1fc7aac7')},\n",
       " '/Users/jpowen/.dipy/exp_bundles_and_maps')"
      ]
     },
     "execution_count": 5,
     "metadata": {},
     "output_type": "execute_result"
    }
   ],
   "source": [
    "dpd.fetch_bundles_2_subjects()"
   ]
  },
  {
   "cell_type": "code",
   "execution_count": 6,
   "metadata": {},
   "outputs": [
    {
     "name": "stdout",
     "output_type": "stream",
     "text": [
      "bundles_af.left.trk      bundles_cg.left.trk      bundles_mdlf.right.trk\r\n",
      "bundles_af.right.trk     bundles_cg.right.trk     bundles_slf1.left.trk\r\n",
      "bundles_cc_1.trk         bundles_cst.left.trk     bundles_slf1.right.trk\r\n",
      "bundles_cc_2.trk         bundles_cst.right.trk    bundles_slf2.left.trk\r\n",
      "bundles_cc_3.trk         bundles_ifof.left.trk    bundles_slf2.right.trk\r\n",
      "bundles_cc_4.trk         bundles_ifof.right.trk   bundles_slf_3.left.trk\r\n",
      "bundles_cc_5.trk         bundles_ilf.left.trk     bundles_slf_3.right.trk\r\n",
      "bundles_cc_6.trk         bundles_ilf.right.trk    bundles_uf.left.trk\r\n",
      "bundles_cc_7.trk         bundles_mdlf.left.trk    bundles_uf.right.trk\r\n"
     ]
    }
   ],
   "source": [
    "ls /Users/jpowen/.dipy/exp_bundles_and_maps/bundles_2_subjects/subj_1/bundles/"
   ]
  },
  {
   "cell_type": "code",
   "execution_count": 7,
   "metadata": {},
   "outputs": [],
   "source": [
    "bundle_files = glob('/Users/jpowen/.dipy/exp_bundles_and_maps/bundles_2_subjects/subj_1/bundles/*.trk')"
   ]
  },
  {
   "cell_type": "code",
   "execution_count": 8,
   "metadata": {},
   "outputs": [],
   "source": [
    "t1_img = nib.load('/Users/jpowen/.dipy/exp_bundles_and_maps/bundles_2_subjects/subj_1/t1_warped.nii.gz')"
   ]
  },
  {
   "cell_type": "code",
   "execution_count": 9,
   "metadata": {},
   "outputs": [],
   "source": [
    "n_streamlines = []\n",
    "bundle_names = []\n",
    "for fname in bundle_files:\n",
    "    bundle_names.append(fname.split('/')[-1].split('bundles_')[-1].split('.trk')[0])\n",
    "    streamlines = bn.read_sl(fname) \n",
    "    n_streamlines.append(len(streamlines))"
   ]
  },
  {
   "cell_type": "code",
   "execution_count": 10,
   "metadata": {},
   "outputs": [
    {
     "data": {
      "text/plain": [
       "['cc_6',\n",
       " 'cst.left',\n",
       " 'cc_7',\n",
       " 'cc_5',\n",
       " 'slf2.right',\n",
       " 'mdlf.left',\n",
       " 'mdlf.right',\n",
       " 'ifof.left',\n",
       " 'cc_4',\n",
       " 'cc_1',\n",
       " 'cc_3',\n",
       " 'slf_3.left',\n",
       " 'cst.right',\n",
       " 'af.left',\n",
       " 'uf.right',\n",
       " 'cc_2',\n",
       " 'slf1.left',\n",
       " 'ilf.left',\n",
       " 'cg.right',\n",
       " 'af.right',\n",
       " 'uf.left',\n",
       " 'ilf.right',\n",
       " 'cg.left',\n",
       " 'slf_3.right',\n",
       " 'slf1.right',\n",
       " 'ifof.right',\n",
       " 'slf2.left']"
      ]
     },
     "execution_count": 10,
     "metadata": {},
     "output_type": "execute_result"
    }
   ],
   "source": [
    "bundle_names"
   ]
  },
  {
   "cell_type": "code",
   "execution_count": 11,
   "metadata": {},
   "outputs": [
    {
     "data": {
      "text/plain": [
       "(161, 27)"
      ]
     },
     "execution_count": 11,
     "metadata": {},
     "output_type": "execute_result"
    }
   ],
   "source": [
    "np.min(n_streamlines), len(n_streamlines)"
   ]
  },
  {
   "cell_type": "code",
   "execution_count": 12,
   "metadata": {},
   "outputs": [],
   "source": [
    "take_n_bundles = 27\n",
    "take_n_sl = 160"
   ]
  },
  {
   "cell_type": "code",
   "execution_count": 18,
   "metadata": {
    "scrolled": false
   },
   "outputs": [
    {
     "name": "stdout",
     "output_type": "stream",
     "text": [
      "number of bundles = 27\n",
      "/Users/jpowen/.dipy/exp_bundles_and_maps/bundles_2_subjects/subj_1/bundles/bundles_cc_6.trk\n"
     ]
    },
    {
     "name": "stderr",
     "output_type": "stream",
     "text": [
      "/anaconda2/envs/bundlenet/lib/python3.6/site-packages/skimage/transform/_warps.py:105: UserWarning: The default mode, 'constant', will be changed to 'reflect' in skimage 0.15.\n",
      "  warn(\"The default mode, 'constant', will be changed to 'reflect' in \"\n",
      "/anaconda2/envs/bundlenet/lib/python3.6/site-packages/skimage/transform/_warps.py:110: UserWarning: Anti-aliasing will be enabled by default in skimage 0.15 to avoid aliasing artifacts when down-sampling images.\n",
      "  warn(\"Anti-aliasing will be enabled by default in skimage 0.15 to \"\n"
     ]
    },
    {
     "name": "stdout",
     "output_type": "stream",
     "text": [
      "/Users/jpowen/.dipy/exp_bundles_and_maps/bundles_2_subjects/subj_1/bundles/bundles_cst.left.trk\n",
      "/Users/jpowen/.dipy/exp_bundles_and_maps/bundles_2_subjects/subj_1/bundles/bundles_cc_7.trk\n",
      "/Users/jpowen/.dipy/exp_bundles_and_maps/bundles_2_subjects/subj_1/bundles/bundles_cc_5.trk\n",
      "/Users/jpowen/.dipy/exp_bundles_and_maps/bundles_2_subjects/subj_1/bundles/bundles_slf2.right.trk\n",
      "/Users/jpowen/.dipy/exp_bundles_and_maps/bundles_2_subjects/subj_1/bundles/bundles_mdlf.left.trk\n",
      "/Users/jpowen/.dipy/exp_bundles_and_maps/bundles_2_subjects/subj_1/bundles/bundles_mdlf.right.trk\n",
      "/Users/jpowen/.dipy/exp_bundles_and_maps/bundles_2_subjects/subj_1/bundles/bundles_ifof.left.trk\n",
      "/Users/jpowen/.dipy/exp_bundles_and_maps/bundles_2_subjects/subj_1/bundles/bundles_cc_4.trk\n",
      "/Users/jpowen/.dipy/exp_bundles_and_maps/bundles_2_subjects/subj_1/bundles/bundles_cc_1.trk\n",
      "/Users/jpowen/.dipy/exp_bundles_and_maps/bundles_2_subjects/subj_1/bundles/bundles_cc_3.trk\n",
      "/Users/jpowen/.dipy/exp_bundles_and_maps/bundles_2_subjects/subj_1/bundles/bundles_slf_3.left.trk\n",
      "/Users/jpowen/.dipy/exp_bundles_and_maps/bundles_2_subjects/subj_1/bundles/bundles_cst.right.trk\n",
      "/Users/jpowen/.dipy/exp_bundles_and_maps/bundles_2_subjects/subj_1/bundles/bundles_af.left.trk\n",
      "/Users/jpowen/.dipy/exp_bundles_and_maps/bundles_2_subjects/subj_1/bundles/bundles_uf.right.trk\n",
      "/Users/jpowen/.dipy/exp_bundles_and_maps/bundles_2_subjects/subj_1/bundles/bundles_cc_2.trk\n",
      "/Users/jpowen/.dipy/exp_bundles_and_maps/bundles_2_subjects/subj_1/bundles/bundles_slf1.left.trk\n",
      "/Users/jpowen/.dipy/exp_bundles_and_maps/bundles_2_subjects/subj_1/bundles/bundles_ilf.left.trk\n",
      "/Users/jpowen/.dipy/exp_bundles_and_maps/bundles_2_subjects/subj_1/bundles/bundles_cg.right.trk\n",
      "/Users/jpowen/.dipy/exp_bundles_and_maps/bundles_2_subjects/subj_1/bundles/bundles_af.right.trk\n",
      "/Users/jpowen/.dipy/exp_bundles_and_maps/bundles_2_subjects/subj_1/bundles/bundles_uf.left.trk\n",
      "/Users/jpowen/.dipy/exp_bundles_and_maps/bundles_2_subjects/subj_1/bundles/bundles_ilf.right.trk\n",
      "/Users/jpowen/.dipy/exp_bundles_and_maps/bundles_2_subjects/subj_1/bundles/bundles_cg.left.trk\n",
      "/Users/jpowen/.dipy/exp_bundles_and_maps/bundles_2_subjects/subj_1/bundles/bundles_slf_3.right.trk\n",
      "/Users/jpowen/.dipy/exp_bundles_and_maps/bundles_2_subjects/subj_1/bundles/bundles_slf1.right.trk\n",
      "/Users/jpowen/.dipy/exp_bundles_and_maps/bundles_2_subjects/subj_1/bundles/bundles_ifof.right.trk\n",
      "/Users/jpowen/.dipy/exp_bundles_and_maps/bundles_2_subjects/subj_1/bundles/bundles_slf2.left.trk\n",
      "total time to process sreamlines 732.1238629999999\n"
     ]
    }
   ],
   "source": [
    "import imp  \n",
    "imp.reload(bn)\n",
    "\n",
    "if op.exists('./subject1_bundles.npz'):\n",
    "    # Read it from file:\n",
    "    loaded_from_file = np.load('./subject1_bundles.npz')\n",
    "    labels_test = loaded_from_file['labels_test']\n",
    "    labels_train = loaded_from_file['labels_train']\n",
    "    data_test = loaded_from_file['data_test']\n",
    "    data_train = loaded_from_file['data_train']\n",
    "    data_valid = loaded_from_file['data_valid']\n",
    "    labels_valid = loaded_from_file['labels_valid']\n",
    "else:\n",
    "    data_train, data_valid, data_test, labels_train, labels_valid, labels_test =\\\n",
    "    bn.partition_data(bundle_files, t1_img.shape, take_n_bundles, take_n_sl)    \n",
    "    np.savez('./subject1_bundles', data_train=data_train, labels_train=labels_train,\n",
    "                                   data_test=data_test, labels_test=labels_test, \n",
    "                                   data_valid=data_valid, labels_valid=labels_valid)"
   ]
  },
  {
   "cell_type": "code",
   "execution_count": 193,
   "metadata": {},
   "outputs": [
    {
     "name": "stdout",
     "output_type": "stream",
     "text": [
      "[[ 1  2  3]\n",
      " [-4  5  6]\n",
      " [ 1  3  5]\n",
      " [-1  8 10]]\n",
      "[[1 2 3]\n",
      " [1 3 5]]\n"
     ]
    }
   ],
   "source": [
    "x = np.array([[1, 2, 3], [-4, 5, 6],[1, 3, 5],[-1, 8, 10]], np.int32)\n",
    "y = np.where(x<0)\n",
    "print(x)\n",
    "#print(y)\n",
    "#print(y[0])\n",
    "#len(y[0])\n",
    "tmp = np.delete(x,y[0],axis=0)\n",
    "print(tmp)"
   ]
  },
  {
   "cell_type": "code",
   "execution_count": 194,
   "metadata": {},
   "outputs": [],
   "source": [
    "img_rows = 100\n",
    "img_cols = 100\n",
    "batch_size = 4\n",
    "epochs = 24\n",
    "num_classes = take_n_bundles\n",
    "input_shape = (img_rows, img_cols, 1)"
   ]
  },
  {
   "cell_type": "code",
   "execution_count": 195,
   "metadata": {},
   "outputs": [
    {
     "data": {
      "text/plain": [
       "(array([0]), array([0]))"
      ]
     },
     "execution_count": 195,
     "metadata": {},
     "output_type": "execute_result"
    }
   ],
   "source": [
    "A = np.matrix([[1,2],[3,4]])\n",
    "d=np.where(A<2)\n",
    "d"
   ]
  },
  {
   "cell_type": "code",
   "execution_count": 196,
   "metadata": {},
   "outputs": [],
   "source": [
    "labels_train = keras.utils.to_categorical(labels_train-1, num_classes)\n",
    "labels_valid = keras.utils.to_categorical(labels_valid-1, num_classes)\n",
    "labels_test  = keras.utils.to_categorical(labels_test-1, num_classes)"
   ]
  },
  {
   "cell_type": "code",
   "execution_count": 197,
   "metadata": {},
   "outputs": [],
   "source": [
    "# model = Sequential()\n",
    "# model.add(Conv2D(32, kernel_size=(3, 3),\n",
    "#                  activation='relu',\n",
    "#                  input_shape=input_shape))\n",
    "# model.add(Conv2D(64, (3, 3), activation='relu'))\n",
    "# model.add(MaxPooling2D(pool_size=(2, 2)))\n",
    "# model.add(Dropout(0.25))\n",
    "# model.add(Flatten())\n",
    "# model.add(Dense(128, activation='relu'))\n",
    "# model.add(Dropout(0.5))\n",
    "# model.add(Dense(num_classes, activation='softmax'))"
   ]
  },
  {
   "cell_type": "code",
   "execution_count": 198,
   "metadata": {},
   "outputs": [],
   "source": [
    "model = Sequential()\n",
    "model.add(Conv2D(32, kernel_size=(3, 3),activation='linear',input_shape=input_shape,padding='same'))\n",
    "model.add(LeakyReLU(alpha=0.1))\n",
    "model.add(MaxPooling2D((2, 2),padding='same'))\n",
    "model.add(Dropout(0.25))\n",
    "model.add(Conv2D(64, (3, 3), activation='linear',padding='same'))\n",
    "model.add(LeakyReLU(alpha=0.1))\n",
    "model.add(MaxPooling2D(pool_size=(2, 2),padding='same'))\n",
    "model.add(Dropout(0.25))\n",
    "model.add(Conv2D(128, (3, 3), activation='linear',padding='same'))\n",
    "model.add(LeakyReLU(alpha=0.1))                  \n",
    "model.add(MaxPooling2D(pool_size=(2, 2),padding='same'))\n",
    "model.add(Dropout(0.25))\n",
    "model.add(Flatten())\n",
    "model.add(Dense(128, activation='linear'))\n",
    "model.add(Dropout(0.25))\n",
    "model.add(LeakyReLU(alpha=0.1))                  \n",
    "model.add(Dense(num_classes, activation='softmax'))"
   ]
  },
  {
   "cell_type": "code",
   "execution_count": 199,
   "metadata": {},
   "outputs": [
    {
     "ename": "OSError",
     "evalue": "`pydot` failed to call GraphViz.Please install GraphViz (https://www.graphviz.org/) and ensure that its executables are in the $PATH.",
     "output_type": "error",
     "traceback": [
      "\u001b[0;31m---------------------------------------------------------------------------\u001b[0m",
      "\u001b[0;31mFileNotFoundError\u001b[0m                         Traceback (most recent call last)",
      "\u001b[0;32m/anaconda2/envs/bundlenet/lib/python3.6/site-packages/pydot.py\u001b[0m in \u001b[0;36mcreate\u001b[0;34m(self, prog, format, encoding)\u001b[0m\n\u001b[1;32m   1860\u001b[0m                 \u001b[0mshell\u001b[0m\u001b[0;34m=\u001b[0m\u001b[0;32mFalse\u001b[0m\u001b[0;34m,\u001b[0m\u001b[0;34m\u001b[0m\u001b[0m\n\u001b[0;32m-> 1861\u001b[0;31m                 stderr=subprocess.PIPE, stdout=subprocess.PIPE)\n\u001b[0m\u001b[1;32m   1862\u001b[0m         \u001b[0;32mexcept\u001b[0m \u001b[0mOSError\u001b[0m \u001b[0;32mas\u001b[0m \u001b[0me\u001b[0m\u001b[0;34m:\u001b[0m\u001b[0;34m\u001b[0m\u001b[0m\n",
      "\u001b[0;32m/anaconda2/envs/bundlenet/lib/python3.6/subprocess.py\u001b[0m in \u001b[0;36m__init__\u001b[0;34m(self, args, bufsize, executable, stdin, stdout, stderr, preexec_fn, close_fds, shell, cwd, env, universal_newlines, startupinfo, creationflags, restore_signals, start_new_session, pass_fds, encoding, errors)\u001b[0m\n\u001b[1;32m    708\u001b[0m                                 \u001b[0merrread\u001b[0m\u001b[0;34m,\u001b[0m \u001b[0merrwrite\u001b[0m\u001b[0;34m,\u001b[0m\u001b[0;34m\u001b[0m\u001b[0m\n\u001b[0;32m--> 709\u001b[0;31m                                 restore_signals, start_new_session)\n\u001b[0m\u001b[1;32m    710\u001b[0m         \u001b[0;32mexcept\u001b[0m\u001b[0;34m:\u001b[0m\u001b[0;34m\u001b[0m\u001b[0m\n",
      "\u001b[0;32m/anaconda2/envs/bundlenet/lib/python3.6/subprocess.py\u001b[0m in \u001b[0;36m_execute_child\u001b[0;34m(self, args, executable, preexec_fn, close_fds, pass_fds, cwd, env, startupinfo, creationflags, shell, p2cread, p2cwrite, c2pread, c2pwrite, errread, errwrite, restore_signals, start_new_session)\u001b[0m\n\u001b[1;32m   1343\u001b[0m                             \u001b[0merr_msg\u001b[0m \u001b[0;34m+=\u001b[0m \u001b[0;34m': '\u001b[0m \u001b[0;34m+\u001b[0m \u001b[0mrepr\u001b[0m\u001b[0;34m(\u001b[0m\u001b[0merr_filename\u001b[0m\u001b[0;34m)\u001b[0m\u001b[0;34m\u001b[0m\u001b[0m\n\u001b[0;32m-> 1344\u001b[0;31m                     \u001b[0;32mraise\u001b[0m \u001b[0mchild_exception_type\u001b[0m\u001b[0;34m(\u001b[0m\u001b[0merrno_num\u001b[0m\u001b[0;34m,\u001b[0m \u001b[0merr_msg\u001b[0m\u001b[0;34m,\u001b[0m \u001b[0merr_filename\u001b[0m\u001b[0;34m)\u001b[0m\u001b[0;34m\u001b[0m\u001b[0m\n\u001b[0m\u001b[1;32m   1345\u001b[0m                 \u001b[0;32mraise\u001b[0m \u001b[0mchild_exception_type\u001b[0m\u001b[0;34m(\u001b[0m\u001b[0merr_msg\u001b[0m\u001b[0;34m)\u001b[0m\u001b[0;34m\u001b[0m\u001b[0m\n",
      "\u001b[0;31mFileNotFoundError\u001b[0m: [Errno 2] No such file or directory: 'dot': 'dot'",
      "\nDuring handling of the above exception, another exception occurred:\n",
      "\u001b[0;31mFileNotFoundError\u001b[0m                         Traceback (most recent call last)",
      "\u001b[0;32m/anaconda2/envs/bundlenet/lib/python3.6/site-packages/keras/utils/vis_utils.py\u001b[0m in \u001b[0;36m_check_pydot\u001b[0;34m()\u001b[0m\n\u001b[1;32m     25\u001b[0m         \u001b[0;31m# to check the pydot/graphviz installation.\u001b[0m\u001b[0;34m\u001b[0m\u001b[0;34m\u001b[0m\u001b[0m\n\u001b[0;32m---> 26\u001b[0;31m         \u001b[0mpydot\u001b[0m\u001b[0;34m.\u001b[0m\u001b[0mDot\u001b[0m\u001b[0;34m.\u001b[0m\u001b[0mcreate\u001b[0m\u001b[0;34m(\u001b[0m\u001b[0mpydot\u001b[0m\u001b[0;34m.\u001b[0m\u001b[0mDot\u001b[0m\u001b[0;34m(\u001b[0m\u001b[0;34m)\u001b[0m\u001b[0;34m)\u001b[0m\u001b[0;34m\u001b[0m\u001b[0m\n\u001b[0m\u001b[1;32m     27\u001b[0m     \u001b[0;32mexcept\u001b[0m \u001b[0mOSError\u001b[0m\u001b[0;34m:\u001b[0m\u001b[0;34m\u001b[0m\u001b[0m\n",
      "\u001b[0;32m/anaconda2/envs/bundlenet/lib/python3.6/site-packages/pydot.py\u001b[0m in \u001b[0;36mcreate\u001b[0;34m(self, prog, format, encoding)\u001b[0m\n\u001b[1;32m   1866\u001b[0m                     prog=prog)\n\u001b[0;32m-> 1867\u001b[0;31m                 \u001b[0;32mraise\u001b[0m \u001b[0mOSError\u001b[0m\u001b[0;34m(\u001b[0m\u001b[0;34m*\u001b[0m\u001b[0margs\u001b[0m\u001b[0;34m)\u001b[0m\u001b[0;34m\u001b[0m\u001b[0m\n\u001b[0m\u001b[1;32m   1868\u001b[0m             \u001b[0;32melse\u001b[0m\u001b[0;34m:\u001b[0m\u001b[0;34m\u001b[0m\u001b[0m\n",
      "\u001b[0;31mFileNotFoundError\u001b[0m: [Errno 2] \"dot\" not found in path.",
      "\nDuring handling of the above exception, another exception occurred:\n",
      "\u001b[0;31mOSError\u001b[0m                                   Traceback (most recent call last)",
      "\u001b[0;32m<ipython-input-199-e03bf8d533ae>\u001b[0m in \u001b[0;36m<module>\u001b[0;34m()\u001b[0m\n\u001b[1;32m      2\u001b[0m \u001b[0;32mfrom\u001b[0m \u001b[0mkeras\u001b[0m\u001b[0;34m.\u001b[0m\u001b[0mutils\u001b[0m \u001b[0;32mimport\u001b[0m \u001b[0mplot_model\u001b[0m\u001b[0;34m\u001b[0m\u001b[0m\n\u001b[1;32m      3\u001b[0m \u001b[0;31m#from vis_utils import plot_model\u001b[0m\u001b[0;34m\u001b[0m\u001b[0;34m\u001b[0m\u001b[0m\n\u001b[0;32m----> 4\u001b[0;31m \u001b[0mplot_model\u001b[0m\u001b[0;34m(\u001b[0m\u001b[0mmodel\u001b[0m\u001b[0;34m,\u001b[0m \u001b[0mto_file\u001b[0m\u001b[0;34m=\u001b[0m\u001b[0;34m'model.png'\u001b[0m\u001b[0;34m)\u001b[0m\u001b[0;34m\u001b[0m\u001b[0m\n\u001b[0m",
      "\u001b[0;32m/anaconda2/envs/bundlenet/lib/python3.6/site-packages/keras/utils/vis_utils.py\u001b[0m in \u001b[0;36mplot_model\u001b[0;34m(model, to_file, show_shapes, show_layer_names, rankdir)\u001b[0m\n\u001b[1;32m    131\u001b[0m             \u001b[0;34m'LR'\u001b[0m \u001b[0mcreates\u001b[0m \u001b[0ma\u001b[0m \u001b[0mhorizontal\u001b[0m \u001b[0mplot\u001b[0m\u001b[0;34m.\u001b[0m\u001b[0;34m\u001b[0m\u001b[0m\n\u001b[1;32m    132\u001b[0m     \"\"\"\n\u001b[0;32m--> 133\u001b[0;31m     \u001b[0mdot\u001b[0m \u001b[0;34m=\u001b[0m \u001b[0mmodel_to_dot\u001b[0m\u001b[0;34m(\u001b[0m\u001b[0mmodel\u001b[0m\u001b[0;34m,\u001b[0m \u001b[0mshow_shapes\u001b[0m\u001b[0;34m,\u001b[0m \u001b[0mshow_layer_names\u001b[0m\u001b[0;34m,\u001b[0m \u001b[0mrankdir\u001b[0m\u001b[0;34m)\u001b[0m\u001b[0;34m\u001b[0m\u001b[0m\n\u001b[0m\u001b[1;32m    134\u001b[0m     \u001b[0m_\u001b[0m\u001b[0;34m,\u001b[0m \u001b[0mextension\u001b[0m \u001b[0;34m=\u001b[0m \u001b[0mos\u001b[0m\u001b[0;34m.\u001b[0m\u001b[0mpath\u001b[0m\u001b[0;34m.\u001b[0m\u001b[0msplitext\u001b[0m\u001b[0;34m(\u001b[0m\u001b[0mto_file\u001b[0m\u001b[0;34m)\u001b[0m\u001b[0;34m\u001b[0m\u001b[0m\n\u001b[1;32m    135\u001b[0m     \u001b[0;32mif\u001b[0m \u001b[0;32mnot\u001b[0m \u001b[0mextension\u001b[0m\u001b[0;34m:\u001b[0m\u001b[0;34m\u001b[0m\u001b[0m\n",
      "\u001b[0;32m/anaconda2/envs/bundlenet/lib/python3.6/site-packages/keras/utils/vis_utils.py\u001b[0m in \u001b[0;36mmodel_to_dot\u001b[0;34m(model, show_shapes, show_layer_names, rankdir)\u001b[0m\n\u001b[1;32m     53\u001b[0m     \u001b[0;32mfrom\u001b[0m \u001b[0;34m.\u001b[0m\u001b[0;34m.\u001b[0m\u001b[0mmodels\u001b[0m \u001b[0;32mimport\u001b[0m \u001b[0mSequential\u001b[0m\u001b[0;34m\u001b[0m\u001b[0m\n\u001b[1;32m     54\u001b[0m \u001b[0;34m\u001b[0m\u001b[0m\n\u001b[0;32m---> 55\u001b[0;31m     \u001b[0m_check_pydot\u001b[0m\u001b[0;34m(\u001b[0m\u001b[0;34m)\u001b[0m\u001b[0;34m\u001b[0m\u001b[0m\n\u001b[0m\u001b[1;32m     56\u001b[0m     \u001b[0mdot\u001b[0m \u001b[0;34m=\u001b[0m \u001b[0mpydot\u001b[0m\u001b[0;34m.\u001b[0m\u001b[0mDot\u001b[0m\u001b[0;34m(\u001b[0m\u001b[0;34m)\u001b[0m\u001b[0;34m\u001b[0m\u001b[0m\n\u001b[1;32m     57\u001b[0m     \u001b[0mdot\u001b[0m\u001b[0;34m.\u001b[0m\u001b[0mset\u001b[0m\u001b[0;34m(\u001b[0m\u001b[0;34m'rankdir'\u001b[0m\u001b[0;34m,\u001b[0m \u001b[0mrankdir\u001b[0m\u001b[0;34m)\u001b[0m\u001b[0;34m\u001b[0m\u001b[0m\n",
      "\u001b[0;32m/anaconda2/envs/bundlenet/lib/python3.6/site-packages/keras/utils/vis_utils.py\u001b[0m in \u001b[0;36m_check_pydot\u001b[0;34m()\u001b[0m\n\u001b[1;32m     27\u001b[0m     \u001b[0;32mexcept\u001b[0m \u001b[0mOSError\u001b[0m\u001b[0;34m:\u001b[0m\u001b[0;34m\u001b[0m\u001b[0m\n\u001b[1;32m     28\u001b[0m         raise OSError(\n\u001b[0;32m---> 29\u001b[0;31m             \u001b[0;34m'`pydot` failed to call GraphViz.'\u001b[0m\u001b[0;34m\u001b[0m\u001b[0m\n\u001b[0m\u001b[1;32m     30\u001b[0m             \u001b[0;34m'Please install GraphViz (https://www.graphviz.org/) '\u001b[0m\u001b[0;34m\u001b[0m\u001b[0m\n\u001b[1;32m     31\u001b[0m             'and ensure that its executables are in the $PATH.')\n",
      "\u001b[0;31mOSError\u001b[0m: `pydot` failed to call GraphViz.Please install GraphViz (https://www.graphviz.org/) and ensure that its executables are in the $PATH."
     ]
    }
   ],
   "source": [
    "from IPython.display import SVG\n",
    "from keras.utils import plot_model\n",
    "#from vis_utils import plot_model\n",
    "plot_model(model, to_file='model.png')"
   ]
  },
  {
   "cell_type": "code",
   "execution_count": 200,
   "metadata": {},
   "outputs": [],
   "source": [
    "model.compile(loss=keras.losses.categorical_crossentropy,\n",
    "              optimizer=keras.optimizers.Adam(),\n",
    "              metrics=['accuracy'])"
   ]
  },
  {
   "cell_type": "code",
   "execution_count": 201,
   "metadata": {},
   "outputs": [],
   "source": [
    "filepath=\"checkpoints/weights.best.hdf5\"\n",
    "checkpoint = ModelCheckpoint(filepath, monitor='val_acc', verbose=1, save_best_only=True, mode='max')\n",
    "callbacks_list = [checkpoint]"
   ]
  },
  {
   "cell_type": "code",
   "execution_count": 202,
   "metadata": {
    "scrolled": false
   },
   "outputs": [
    {
     "name": "stdout",
     "output_type": "stream",
     "text": [
      "Train on 2592 samples, validate on 864 samples\n",
      "Epoch 1/24\n",
      "2592/2592 [==============================] - 113s 44ms/step - loss: 0.6028 - acc: 0.8214 - val_loss: 0.2451 - val_acc: 0.9317\n",
      "\n",
      "Epoch 00001: val_acc improved from -inf to 0.93171, saving model to checkpoints/weights.best.hdf5\n",
      "Epoch 2/24\n",
      "2592/2592 [==============================] - 126s 48ms/step - loss: 0.1933 - acc: 0.9306 - val_loss: 0.1542 - val_acc: 0.9433\n",
      "\n",
      "Epoch 00002: val_acc improved from 0.93171 to 0.94329, saving model to checkpoints/weights.best.hdf5\n",
      "Epoch 3/24\n",
      "2592/2592 [==============================] - 109s 42ms/step - loss: 0.1694 - acc: 0.9313 - val_loss: 0.1388 - val_acc: 0.9468\n",
      "\n",
      "Epoch 00003: val_acc improved from 0.94329 to 0.94676, saving model to checkpoints/weights.best.hdf5\n",
      "Epoch 4/24\n",
      "2592/2592 [==============================] - 110s 42ms/step - loss: 0.1286 - acc: 0.9541 - val_loss: 0.1329 - val_acc: 0.9456\n",
      "\n",
      "Epoch 00004: val_acc did not improve from 0.94676\n",
      "Epoch 5/24\n",
      "2592/2592 [==============================] - 108s 42ms/step - loss: 0.1120 - acc: 0.9552 - val_loss: 0.1262 - val_acc: 0.9502\n",
      "\n",
      "Epoch 00005: val_acc improved from 0.94676 to 0.95023, saving model to checkpoints/weights.best.hdf5\n",
      "Epoch 6/24\n",
      "2592/2592 [==============================] - 110s 42ms/step - loss: 0.1149 - acc: 0.9541 - val_loss: 0.1170 - val_acc: 0.9491\n",
      "\n",
      "Epoch 00006: val_acc did not improve from 0.95023\n",
      "Epoch 7/24\n",
      "2592/2592 [==============================] - 108s 42ms/step - loss: 0.0973 - acc: 0.9603 - val_loss: 0.1412 - val_acc: 0.9375\n",
      "\n",
      "Epoch 00007: val_acc did not improve from 0.95023\n",
      "Epoch 8/24\n",
      "2592/2592 [==============================] - 107s 41ms/step - loss: 0.0757 - acc: 0.9653 - val_loss: 0.1235 - val_acc: 0.9595\n",
      "\n",
      "Epoch 00008: val_acc improved from 0.95023 to 0.95949, saving model to checkpoints/weights.best.hdf5\n",
      "Epoch 9/24\n",
      "2592/2592 [==============================] - 1938s 748ms/step - loss: 0.1037 - acc: 0.9576 - val_loss: 0.1258 - val_acc: 0.9525\n",
      "\n",
      "Epoch 00009: val_acc did not improve from 0.95949\n",
      "Epoch 10/24\n",
      "2592/2592 [==============================] - 138s 53ms/step - loss: 0.0896 - acc: 0.9645 - val_loss: 0.1538 - val_acc: 0.9421\n",
      "\n",
      "Epoch 00010: val_acc did not improve from 0.95949\n",
      "Epoch 11/24\n",
      "2592/2592 [==============================] - 129s 50ms/step - loss: 0.0812 - acc: 0.9676 - val_loss: 0.1336 - val_acc: 0.9468\n",
      "\n",
      "Epoch 00011: val_acc did not improve from 0.95949\n",
      "Epoch 12/24\n",
      "2592/2592 [==============================] - 138s 53ms/step - loss: 0.0794 - acc: 0.9664 - val_loss: 0.1827 - val_acc: 0.9433\n",
      "\n",
      "Epoch 00012: val_acc did not improve from 0.95949\n",
      "Epoch 13/24\n",
      "2592/2592 [==============================] - 107s 41ms/step - loss: 0.0778 - acc: 0.9668 - val_loss: 0.1434 - val_acc: 0.9549\n",
      "\n",
      "Epoch 00013: val_acc did not improve from 0.95949\n",
      "Epoch 14/24\n",
      "2592/2592 [==============================] - 1187s 458ms/step - loss: 0.1055 - acc: 0.9591 - val_loss: 0.1493 - val_acc: 0.9502\n",
      "\n",
      "Epoch 00014: val_acc did not improve from 0.95949\n",
      "Epoch 15/24\n",
      "2592/2592 [==============================] - 108s 42ms/step - loss: 0.0748 - acc: 0.9691 - val_loss: 0.1478 - val_acc: 0.9444\n",
      "\n",
      "Epoch 00015: val_acc did not improve from 0.95949\n",
      "Epoch 16/24\n",
      "2592/2592 [==============================] - 109s 42ms/step - loss: 0.0722 - acc: 0.9715 - val_loss: 0.1718 - val_acc: 0.9525\n",
      "\n",
      "Epoch 00016: val_acc did not improve from 0.95949\n",
      "Epoch 17/24\n",
      "2592/2592 [==============================] - 125s 48ms/step - loss: 0.0681 - acc: 0.9722 - val_loss: 0.1997 - val_acc: 0.9537\n",
      "\n",
      "Epoch 00017: val_acc did not improve from 0.95949\n",
      "Epoch 18/24\n",
      "2592/2592 [==============================] - 115s 44ms/step - loss: 0.0677 - acc: 0.9726 - val_loss: 0.1637 - val_acc: 0.9514\n",
      "\n",
      "Epoch 00018: val_acc did not improve from 0.95949\n",
      "Epoch 19/24\n",
      "2592/2592 [==============================] - 119s 46ms/step - loss: 0.0672 - acc: 0.9730 - val_loss: 0.1705 - val_acc: 0.9560\n",
      "\n",
      "Epoch 00019: val_acc did not improve from 0.95949\n",
      "Epoch 20/24\n",
      "2592/2592 [==============================] - 125s 48ms/step - loss: 0.0606 - acc: 0.9699 - val_loss: 0.1773 - val_acc: 0.9525\n",
      "\n",
      "Epoch 00020: val_acc did not improve from 0.95949\n",
      "Epoch 21/24\n",
      "2592/2592 [==============================] - 112s 43ms/step - loss: 0.0693 - acc: 0.9734 - val_loss: 0.2142 - val_acc: 0.9433\n",
      "\n",
      "Epoch 00021: val_acc did not improve from 0.95949\n",
      "Epoch 22/24\n",
      "2592/2592 [==============================] - 109s 42ms/step - loss: 0.0922 - acc: 0.9684 - val_loss: 0.1666 - val_acc: 0.9433\n",
      "\n",
      "Epoch 00022: val_acc did not improve from 0.95949\n",
      "Epoch 23/24\n",
      "2592/2592 [==============================] - 376s 145ms/step - loss: 0.0625 - acc: 0.9776 - val_loss: 0.1954 - val_acc: 0.9549\n",
      "\n",
      "Epoch 00023: val_acc did not improve from 0.95949\n",
      "Epoch 24/24\n",
      "2592/2592 [==============================] - 123s 47ms/step - loss: 0.0608 - acc: 0.9769 - val_loss: 0.1612 - val_acc: 0.9583\n",
      "\n",
      "Epoch 00024: val_acc did not improve from 0.95949\n"
     ]
    }
   ],
   "source": [
    "#create checkpoints dir\n",
    "training = model.fit(data_train, labels_train,\n",
    "                     batch_size=batch_size,\n",
    "                     epochs=epochs,\n",
    "                     verbose=1,\n",
    "                     validation_data=(data_valid, labels_valid),\n",
    "                     callbacks=callbacks_list)"
   ]
  },
  {
   "cell_type": "code",
   "execution_count": 203,
   "metadata": {},
   "outputs": [],
   "source": [
    "model.load_weights(\"checkpoints/weights.best.hdf5\")"
   ]
  },
  {
   "cell_type": "code",
   "execution_count": 204,
   "metadata": {},
   "outputs": [],
   "source": [
    "score = model.evaluate(data_test, labels_test, verbose=0)"
   ]
  },
  {
   "cell_type": "code",
   "execution_count": 205,
   "metadata": {},
   "outputs": [
    {
     "name": "stdout",
     "output_type": "stream",
     "text": [
      "[0.16529678124482383, 0.9502314814814815]\n"
     ]
    }
   ],
   "source": [
    "print(score)"
   ]
  },
  {
   "cell_type": "code",
   "execution_count": 206,
   "metadata": {},
   "outputs": [
    {
     "data": {
      "image/png": "[encoded data removed]",
      "text/plain": [
       "<Figure size 432x288 with 1 Axes>"
      ]
     },
     "metadata": {},
     "output_type": "display_data"
    }
   ],
   "source": [
    "fig = bn.plot_accuracy(training)\n"
   ]
  },
  {
   "cell_type": "code",
   "execution_count": 207,
   "metadata": {},
   "outputs": [
    {
     "name": "stdout",
     "output_type": "stream",
     "text": [
      "Percent correct is 0.9502314814814815 \n",
      "Kappa is: 0.9483173076923077\n",
      "Jaccard is: 0.9502314814814815\n"
     ]
    }
   ],
   "source": [
    "p = model.predict(data_test, batch_size=5)\n",
    "p_idx = np.argmax(p, axis=-1)\n",
    "p_bundles = np.array([bundle_names[ii] for ii in p_idx])\n",
    "loaded_from_file = np.load('./subject1_bundles.npz')\n",
    "labels_test = loaded_from_file['labels_test']\n",
    "actual_labels = np.array([bundle_names[ii] for ii in (labels_test - 1).astype(int)])\n",
    "print(\"Percent correct is %s \" % np.mean(p_bundles == actual_labels))\n",
    "\n",
    "kappa = cohen_kappa_score(p_bundles, actual_labels)\n",
    "print(\"Kappa is: %s\" % kappa)\n",
    "jaccard = jaccard_similarity_score(p_bundles, actual_labels)\n",
    "print(\"Jaccard is: %s\" % jaccard)"
   ]
  },
  {
   "cell_type": "code",
   "execution_count": 208,
   "metadata": {},
   "outputs": [],
   "source": [
    "confusion = np.zeros((len(bundle_names), len(bundle_names)))\n",
    "arr_bundle_names = np.array(bundle_names)\n",
    "for xx in range(len(p_bundles)):\n",
    "    idx1 = np.where(arr_bundle_names == p_bundles[xx])\n",
    "    idx2 = np.where(arr_bundle_names == actual_labels[xx])\n",
    "    n = np.sum(actual_labels == actual_labels[xx])\n",
    "    confusion[idx1, idx2] += 1 / n"
   ]
  },
  {
   "cell_type": "code",
   "execution_count": 209,
   "metadata": {},
   "outputs": [],
   "source": [
    "sort_idx = np.argsort(arr_bundle_names)"
   ]
  },
  {
   "cell_type": "code",
   "execution_count": 210,
   "metadata": {},
   "outputs": [
    {
     "data": {
      "image/png": "[encoded data removed]",
      "text/plain": [
       "<Figure size 720x576 with 2 Axes>"
      ]
     },
     "metadata": {},
     "output_type": "display_data"
    }
   ],
   "source": [
    "fig, ax = plt.subplots(1)\n",
    "sns.heatmap(confusion[sort_idx][:, sort_idx],\n",
    "            xticklabels=arr_bundle_names[sort_idx], \n",
    "            yticklabels=arr_bundle_names[sort_idx], ax=ax)\n",
    "fig.set_size_inches([10, 8])"
   ]
  },
  {
   "cell_type": "markdown",
   "metadata": {},
   "source": [
    "Cross-predict on *another subject*"
   ]
  },
  {
   "cell_type": "code",
   "execution_count": 211,
   "metadata": {},
   "outputs": [],
   "source": [
    "sub2_bundle_files = glob('/Users/jpowen/.dipy/exp_bundles_and_maps/bundles_2_subjects/subj_2/bundles/*.trk')"
   ]
  },
  {
   "cell_type": "code",
   "execution_count": 212,
   "metadata": {},
   "outputs": [],
   "source": [
    "sub2_t1_img = nib.load('/Users/jpowen/.dipy/exp_bundles_and_maps/bundles_2_subjects/subj_2/t1_warped.nii.gz')"
   ]
  },
  {
   "cell_type": "code",
   "execution_count": 213,
   "metadata": {},
   "outputs": [],
   "source": [
    "n_streamlines = 0\n",
    "for fname in sub2_bundle_files:\n",
    "    streamlines = bn.read_sl(fname)\n",
    "    n_streamlines += len(streamlines)"
   ]
  },
  {
   "cell_type": "code",
   "execution_count": 214,
   "metadata": {},
   "outputs": [
    {
     "data": {
      "text/plain": [
       "57060"
      ]
     },
     "execution_count": 214,
     "metadata": {},
     "output_type": "execute_result"
    }
   ],
   "source": [
    "n_streamlines"
   ]
  },
  {
   "cell_type": "code",
   "execution_count": 215,
   "metadata": {
    "scrolled": false
   },
   "outputs": [
    {
     "name": "stdout",
     "output_type": "stream",
     "text": [
      "cc_6\n"
     ]
    },
    {
     "name": "stderr",
     "output_type": "stream",
     "text": [
      "/anaconda2/envs/bundlenet/lib/python3.6/site-packages/skimage/transform/_warps.py:105: UserWarning: The default mode, 'constant', will be changed to 'reflect' in skimage 0.15.\n",
      "  warn(\"The default mode, 'constant', will be changed to 'reflect' in \"\n",
      "/anaconda2/envs/bundlenet/lib/python3.6/site-packages/skimage/transform/_warps.py:110: UserWarning: Anti-aliasing will be enabled by default in skimage 0.15 to avoid aliasing artifacts when down-sampling images.\n",
      "  warn(\"Anti-aliasing will be enabled by default in skimage 0.15 to \"\n"
     ]
    },
    {
     "name": "stdout",
     "output_type": "stream",
     "text": [
      "ii = 0\n",
      "ii = 100\n",
      "ii = 200\n",
      "ii = 300\n",
      "ii = 400\n",
      "ii = 500\n",
      "ii = 600\n",
      "ii = 700\n",
      "ii = 800\n",
      "ii = 900\n",
      "ii = 1000\n",
      "ii = 1100\n",
      "ii = 1200\n",
      "ii = 1300\n",
      "ii = 1400\n",
      "ii = 1500\n",
      "ii = 1600\n",
      "ii = 1700\n",
      "ii = 1800\n",
      "ii = 1900\n",
      "ii = 2000\n",
      "ii = 2100\n",
      "ii = 2200\n",
      "ii = 2300\n",
      "ii = 2400\n",
      "ii = 2500\n",
      "ii = 2600\n",
      "ii = 2700\n",
      "ii = 2800\n",
      "ii = 2900\n",
      "ii = 3000\n",
      "ii = 3100\n",
      "ii = 3200\n",
      "ii = 3300\n",
      "ii = 3400\n",
      "ii = 3500\n",
      "ii = 3600\n",
      "ii = 3700\n",
      "ii = 3800\n",
      "ii = 3900\n",
      "ii = 4000\n",
      "ii = 4100\n",
      "ii = 4200\n",
      "ii = 4300\n",
      "ii = 4400\n",
      "ii = 4500\n",
      "ii = 4600\n",
      "ii = 4700\n",
      "ii = 4800\n",
      "ii = 4900\n",
      "ii = 5000\n",
      "ii = 5100\n",
      "ii = 5200\n",
      "ii = 5300\n",
      "ii = 5400\n",
      "ii = 5500\n",
      "ii = 5600\n",
      "ii = 5700\n",
      "ii = 5800\n",
      "ii = 5900\n",
      "ii = 6000\n",
      "ii = 6100\n",
      "ii = 6200\n",
      "ii = 6300\n",
      "ii = 6400\n",
      "ii = 6500\n",
      "ii = 6600\n",
      "ii = 6700\n",
      "ii = 6800\n",
      "ii = 6900\n",
      "ii = 7000\n",
      "ii = 7100\n",
      "ii = 7200\n",
      "ii = 7300\n",
      "ii = 7400\n",
      "ii = 7500\n",
      "ii = 7600\n",
      "ii = 7700\n",
      "ii = 7800\n",
      "ii = 7900\n",
      "ii = 8000\n",
      "ii = 8100\n",
      "ii = 8200\n",
      "ii = 8300\n",
      "ii = 8400\n",
      "ii = 8500\n",
      "ii = 8600\n",
      "ii = 8700\n",
      "ii = 8800\n",
      "ii = 8900\n",
      "ii = 9000\n",
      "ii = 9100\n",
      "ii = 9200\n",
      "cst.left\n",
      "ii = 9300\n",
      "ii = 9400\n",
      "ii = 9500\n",
      "ii = 9600\n",
      "ii = 9700\n",
      "ii = 9800\n",
      "ii = 9900\n",
      "ii = 10000\n",
      "ii = 10100\n",
      "ii = 10200\n",
      "ii = 10300\n",
      "ii = 10400\n",
      "ii = 10500\n",
      "ii = 10600\n",
      "ii = 10700\n",
      "ii = 10800\n",
      "ii = 10900\n",
      "ii = 11000\n",
      "ii = 11100\n",
      "ii = 11200\n",
      "cc_7\n",
      "ii = 11300\n",
      "ii = 11400\n",
      "ii = 11500\n",
      "ii = 11600\n",
      "ii = 11700\n",
      "ii = 11800\n",
      "ii = 11900\n",
      "ii = 12000\n",
      "ii = 12100\n",
      "ii = 12200\n",
      "cc_5\n",
      "ii = 12300\n",
      "ii = 12400\n",
      "ii = 12500\n",
      "ii = 12600\n",
      "ii = 12700\n",
      "ii = 12800\n",
      "ii = 12900\n",
      "ii = 13000\n",
      "ii = 13100\n",
      "ii = 13200\n",
      "ii = 13300\n",
      "ii = 13400\n",
      "ii = 13500\n",
      "ii = 13600\n",
      "ii = 13700\n",
      "ii = 13800\n",
      "ii = 13900\n",
      "ii = 14000\n",
      "ii = 14100\n",
      "ii = 14200\n",
      "ii = 14300\n",
      "ii = 14400\n",
      "slf2.right\n",
      "ii = 14500\n",
      "ii = 14600\n",
      "ii = 14700\n",
      "ii = 14800\n",
      "ii = 14900\n",
      "ii = 15000\n",
      "ii = 15100\n",
      "mdlf.left\n",
      "ii = 15200\n",
      "ii = 15300\n",
      "ii = 15400\n",
      "ii = 15500\n",
      "ii = 15600\n",
      "mdlf.right\n",
      "ii = 15700\n",
      "ii = 15800\n",
      "ii = 15900\n",
      "ii = 16000\n",
      "ii = 16100\n",
      "ii = 16200\n",
      "ii = 16300\n",
      "ii = 16400\n",
      "ii = 16500\n",
      "ii = 16600\n",
      "ifof.left\n",
      "ii = 16700\n",
      "ii = 16800\n",
      "ii = 16900\n",
      "ii = 17000\n",
      "ii = 17100\n",
      "ii = 17200\n",
      "ii = 17300\n",
      "ii = 17400\n",
      "ii = 17500\n",
      "cc_4\n",
      "ii = 17600\n",
      "ii = 17700\n",
      "ii = 17800\n",
      "ii = 17900\n",
      "ii = 18000\n",
      "ii = 18100\n",
      "ii = 18200\n",
      "ii = 18300\n",
      "ii = 18400\n",
      "ii = 18500\n",
      "ii = 18600\n",
      "ii = 18700\n",
      "ii = 18800\n",
      "ii = 18900\n",
      "ii = 19000\n",
      "ii = 19100\n",
      "ii = 19200\n",
      "ii = 19300\n",
      "ii = 19400\n",
      "ii = 19500\n",
      "ii = 19600\n",
      "ii = 19700\n",
      "ii = 19800\n",
      "ii = 19900\n",
      "ii = 20000\n",
      "ii = 20100\n",
      "cc_1\n",
      "ii = 20200\n",
      "ii = 20300\n",
      "ii = 20400\n",
      "ii = 20500\n",
      "ii = 20600\n",
      "ii = 20700\n",
      "cc_3\n",
      "ii = 20800\n",
      "ii = 20900\n",
      "ii = 21000\n",
      "ii = 21100\n",
      "ii = 21200\n",
      "ii = 21300\n",
      "ii = 21400\n",
      "ii = 21500\n",
      "ii = 21600\n",
      "ii = 21700\n",
      "ii = 21800\n",
      "ii = 21900\n",
      "ii = 22000\n",
      "ii = 22100\n",
      "ii = 22200\n",
      "ii = 22300\n",
      "ii = 22400\n",
      "ii = 22500\n",
      "ii = 22600\n",
      "ii = 22700\n",
      "ii = 22800\n",
      "ii = 22900\n",
      "ii = 23000\n",
      "ii = 23100\n",
      "ii = 23200\n",
      "ii = 23300\n",
      "ii = 23400\n",
      "ii = 23500\n",
      "ii = 23600\n",
      "ii = 23700\n",
      "ii = 23800\n",
      "ii = 23900\n",
      "ii = 24000\n",
      "ii = 24100\n",
      "ii = 24200\n",
      "ii = 24300\n",
      "ii = 24400\n",
      "ii = 24500\n",
      "ii = 24600\n",
      "ii = 24700\n",
      "ii = 24800\n",
      "ii = 24900\n",
      "ii = 25000\n",
      "ii = 25100\n",
      "ii = 25200\n",
      "ii = 25300\n",
      "ii = 25400\n",
      "ii = 25500\n",
      "ii = 25600\n",
      "ii = 25700\n",
      "ii = 25800\n",
      "ii = 25900\n",
      "ii = 26000\n",
      "ii = 26100\n",
      "ii = 26200\n",
      "ii = 26300\n",
      "ii = 26400\n",
      "ii = 26500\n",
      "ii = 26600\n",
      "ii = 26700\n",
      "ii = 26800\n",
      "ii = 26900\n",
      "ii = 27000\n",
      "ii = 27100\n",
      "ii = 27200\n",
      "ii = 27300\n",
      "ii = 27400\n",
      "ii = 27500\n",
      "ii = 27600\n",
      "ii = 27700\n",
      "ii = 27800\n",
      "ii = 27900\n",
      "ii = 28000\n",
      "ii = 28100\n",
      "ii = 28200\n",
      "ii = 28300\n",
      "ii = 28400\n",
      "ii = 28500\n",
      "ii = 28600\n",
      "ii = 28700\n",
      "ii = 28800\n",
      "ii = 28900\n",
      "ii = 29000\n",
      "ii = 29100\n",
      "ii = 29200\n",
      "ii = 29300\n",
      "ii = 29400\n",
      "ii = 29500\n",
      "ii = 29600\n",
      "ii = 29700\n",
      "ii = 29800\n",
      "ii = 29900\n",
      "ii = 30000\n",
      "ii = 30100\n",
      "ii = 30200\n",
      "ii = 30300\n",
      "ii = 30400\n",
      "ii = 30500\n",
      "ii = 30600\n",
      "ii = 30700\n",
      "ii = 30800\n",
      "ii = 30900\n",
      "ii = 31000\n",
      "ii = 31100\n",
      "ii = 31200\n",
      "ii = 31300\n",
      "ii = 31400\n",
      "ii = 31500\n",
      "ii = 31600\n",
      "ii = 31700\n",
      "ii = 31800\n",
      "ii = 31900\n",
      "ii = 32000\n",
      "ii = 32100\n",
      "ii = 32200\n",
      "ii = 32300\n",
      "ii = 32400\n",
      "ii = 32500\n",
      "ii = 32600\n",
      "ii = 32700\n",
      "ii = 32800\n",
      "ii = 32900\n",
      "ii = 33000\n",
      "ii = 33100\n",
      "ii = 33200\n",
      "ii = 33300\n",
      "ii = 33400\n",
      "ii = 33500\n",
      "ii = 33600\n",
      "ii = 33700\n",
      "ii = 33800\n",
      "ii = 33900\n",
      "ii = 34000\n",
      "ii = 34100\n",
      "ii = 34200\n",
      "ii = 34300\n",
      "ii = 34400\n",
      "ii = 34500\n",
      "ii = 34600\n",
      "ii = 34700\n",
      "ii = 34800\n",
      "ii = 34900\n",
      "ii = 35000\n",
      "ii = 35100\n",
      "ii = 35200\n",
      "ii = 35300\n",
      "ii = 35400\n",
      "ii = 35500\n",
      "ii = 35600\n",
      "ii = 35700\n",
      "ii = 35800\n",
      "ii = 35900\n",
      "ii = 36000\n",
      "ii = 36100\n",
      "ii = 36200\n",
      "ii = 36300\n",
      "ii = 36400\n",
      "ii = 36500\n",
      "ii = 36600\n",
      "ii = 36700\n",
      "ii = 36800\n",
      "ii = 36900\n",
      "ii = 37000\n",
      "ii = 37100\n",
      "ii = 37200\n",
      "ii = 37300\n",
      "ii = 37400\n",
      "ii = 37500\n",
      "slf_3.left\n",
      "ii = 37600\n",
      "cst.right\n",
      "ii = 37700\n",
      "ii = 37800\n",
      "ii = 37900\n",
      "ii = 38000\n",
      "ii = 38100\n",
      "ii = 38200\n",
      "ii = 38300\n",
      "ii = 38400\n",
      "ii = 38500\n",
      "ii = 38600\n",
      "ii = 38700\n",
      "ii = 38800\n",
      "ii = 38900\n",
      "ii = 39000\n",
      "ii = 39100\n",
      "ii = 39200\n",
      "ii = 39300\n",
      "ii = 39400\n",
      "ii = 39500\n",
      "af.left\n",
      "ii = 39600\n",
      "ii = 39700\n",
      "ii = 39800\n",
      "ii = 39900\n",
      "ii = 40000\n",
      "ii = 40100\n",
      "uf.right\n",
      "ii = 40200\n",
      "ii = 40300\n",
      "ii = 40400\n",
      "ii = 40500\n",
      "ii = 40600\n",
      "ii = 40700\n",
      "ii = 40800\n",
      "ii = 40900\n",
      "ii = 41000\n",
      "ii = 41100\n",
      "cc_2\n",
      "ii = 41200\n",
      "ii = 41300\n",
      "ii = 41400\n",
      "ii = 41500\n",
      "ii = 41600\n",
      "ii = 41700\n",
      "ii = 41800\n",
      "ii = 41900\n",
      "slf1.left\n",
      "ii = 42000\n",
      "ii = 42100\n",
      "ii = 42200\n",
      "ii = 42300\n",
      "ii = 42400\n",
      "ii = 42500\n",
      "ii = 42600\n",
      "ii = 42700\n",
      "ii = 42800\n",
      "ii = 42900\n",
      "ii = 43000\n",
      "ilf.left\n",
      "ii = 43100\n",
      "ii = 43200\n",
      "ii = 43300\n",
      "ii = 43400\n",
      "cg.right\n",
      "ii = 43500\n",
      "ii = 43600\n",
      "ii = 43700\n",
      "ii = 43800\n",
      "ii = 43900\n",
      "ii = 44000\n",
      "ii = 44100\n",
      "ii = 44200\n",
      "ii = 44300\n",
      "ii = 44400\n",
      "ii = 44500\n",
      "ii = 44600\n",
      "ii = 44700\n",
      "ii = 44800\n",
      "ii = 44900\n",
      "ii = 45000\n",
      "ii = 45100\n",
      "ii = 45200\n",
      "ii = 45300\n",
      "ii = 45400\n",
      "ii = 45500\n",
      "ii = 45600\n",
      "ii = 45700\n",
      "ii = 45800\n",
      "ii = 45900\n",
      "ii = 46000\n",
      "ii = 46100\n",
      "ii = 46200\n",
      "ii = 46300\n",
      "ii = 46400\n",
      "ii = 46500\n",
      "ii = 46600\n",
      "ii = 46700\n",
      "ii = 46800\n",
      "ii = 46900\n",
      "ii = 47000\n",
      "ii = 47100\n",
      "ii = 47200\n",
      "ii = 47300\n",
      "ii = 47400\n",
      "ii = 47500\n",
      "ii = 47600\n",
      "ii = 47700\n",
      "af.right\n",
      "ii = 47800\n",
      "ii = 47900\n",
      "ii = 48000\n",
      "ii = 48100\n",
      "ii = 48200\n",
      "ii = 48300\n",
      "ii = 48400\n",
      "ii = 48500\n",
      "ii = 48600\n",
      "ii = 48700\n",
      "ii = 48800\n",
      "ii = 48900\n",
      "ii = 49000\n",
      "ii = 49100\n",
      "ii = 49200\n",
      "ii = 49300\n",
      "ii = 49400\n",
      "uf.left\n",
      "ii = 49500\n",
      "ii = 49600\n",
      "ii = 49700\n",
      "ii = 49800\n",
      "ilf.right\n",
      "ii = 49900\n",
      "ii = 50000\n",
      "ii = 50100\n",
      "ii = 50200\n",
      "ii = 50300\n",
      "ii = 50400\n",
      "cg.left\n",
      "ii = 50500\n",
      "ii = 50600\n",
      "ii = 50700\n",
      "ii = 50800\n",
      "ii = 50900\n",
      "ii = 51000\n",
      "ii = 51100\n",
      "ii = 51200\n",
      "ii = 51300\n",
      "ii = 51400\n",
      "ii = 51500\n",
      "ii = 51600\n",
      "ii = 51700\n",
      "ii = 51800\n",
      "ii = 51900\n",
      "ii = 52000\n",
      "ii = 52100\n",
      "ii = 52200\n",
      "ii = 52300\n",
      "ii = 52400\n",
      "ii = 52500\n",
      "ii = 52600\n",
      "ii = 52700\n",
      "ii = 52800\n",
      "ii = 52900\n",
      "ii = 53000\n",
      "ii = 53100\n",
      "ii = 53200\n",
      "ii = 53300\n",
      "ii = 53400\n",
      "ii = 53500\n",
      "ii = 53600\n",
      "ii = 53700\n",
      "ii = 53800\n",
      "ii = 53900\n",
      "ii = 54000\n",
      "ii = 54100\n",
      "ii = 54200\n",
      "ii = 54300\n",
      "ii = 54400\n",
      "slf_3.right\n",
      "ii = 54500\n",
      "ii = 54600\n",
      "ii = 54700\n",
      "slf1.right\n",
      "ii = 54800\n",
      "ii = 54900\n",
      "ii = 55000\n",
      "ii = 55100\n",
      "ii = 55200\n",
      "ii = 55300\n",
      "ifof.right\n",
      "ii = 55400\n",
      "ii = 55500\n",
      "ii = 55600\n",
      "ii = 55700\n",
      "ii = 55800\n",
      "ii = 55900\n",
      "ii = 56000\n",
      "ii = 56100\n",
      "ii = 56200\n",
      "slf2.left\n",
      "ii = 56300\n",
      "ii = 56400\n",
      "ii = 56500\n",
      "ii = 56600\n",
      "ii = 56700\n",
      "ii = 56800\n",
      "ii = 56900\n",
      "ii = 57000\n"
     ]
    }
   ],
   "source": [
    "if not op.exists('./subject2_bundles_all.npz'):\n",
    "    data_sub2 = np.zeros((n_streamlines, 100, 100, 1))\n",
    "    actual_labels = np.zeros(n_streamlines, dtype=np.object)\n",
    "    ii = 0\n",
    "    for fname in sub2_bundle_files:\n",
    "        bundle_name = fname.split('/')[-1].split('bundles_')[-1].split('.trk')[0]\n",
    "        print(bundle_name)\n",
    "        streamlines = bn.read_sl(fname)\n",
    "        for sl in streamlines: \n",
    "            data_sub2[ii] = bn.reduce_sl(sl, t1_img.shape)\n",
    "            if not np.mod(ii, 100):\n",
    "                print(\"ii = %s\"%ii)\n",
    "            actual_labels[ii] = bundle_name\n",
    "            ii += 1\n",
    "\n",
    "    np.savez('./subject2_bundles_all', data_sub2=data_sub2, actual_labels=actual_labels)\n",
    "else: \n",
    "    from_file = np.load('./subject2_bundles_all.npz')\n",
    "    data_sub2 = from_file['data_sub2']\n",
    "    actual_labels = from_file['actual_labels']"
   ]
  },
  {
   "cell_type": "code",
   "execution_count": 216,
   "metadata": {},
   "outputs": [],
   "source": [
    "p = model.predict(data_sub2, batch_size=5)"
   ]
  },
  {
   "cell_type": "code",
   "execution_count": 217,
   "metadata": {},
   "outputs": [],
   "source": [
    "p_idx = np.argmax(p, axis=-1)"
   ]
  },
  {
   "cell_type": "code",
   "execution_count": 218,
   "metadata": {},
   "outputs": [],
   "source": [
    "p_bundles = [bundle_names[ii] for ii in p_idx]"
   ]
  },
  {
   "cell_type": "code",
   "execution_count": 219,
   "metadata": {},
   "outputs": [],
   "source": [
    "from sklearn.metrics import cohen_kappa_score, jaccard_similarity_score"
   ]
  },
  {
   "cell_type": "code",
   "execution_count": 220,
   "metadata": {},
   "outputs": [
    {
     "name": "stdout",
     "output_type": "stream",
     "text": [
      "Percent correct is 0.893901156677182 \n",
      "Kappa is: 0.8782138513827866\n",
      "Jaccard is: 0.893901156677182\n"
     ]
    }
   ],
   "source": [
    "print(\"Percent correct is %s \" % np.mean(p_bundles == actual_labels))\n",
    "kappa = cohen_kappa_score(p_bundles, actual_labels)\n",
    "print(\"Kappa is: %s\" % kappa)\n",
    "jaccard = jaccard_similarity_score(p_bundles, actual_labels)\n",
    "print(\"Jaccard is: %s\" % jaccard)"
   ]
  },
  {
   "cell_type": "code",
   "execution_count": 221,
   "metadata": {},
   "outputs": [
    {
     "data": {
      "text/plain": [
       "0.893901156677182"
      ]
     },
     "execution_count": 221,
     "metadata": {},
     "output_type": "execute_result"
    }
   ],
   "source": [
    "np.mean(p_bundles == actual_labels)"
   ]
  },
  {
   "cell_type": "code",
   "execution_count": 222,
   "metadata": {},
   "outputs": [],
   "source": [
    "confusion = np.zeros((len(bundle_names), len(bundle_names)))\n",
    "arr_bundle_names = np.array(bundle_names)\n",
    "for xx in range(len(p_bundles)):\n",
    "    idx1 = np.where(arr_bundle_names == p_bundles[xx])\n",
    "    idx2 = np.where(arr_bundle_names == actual_labels[xx])\n",
    "    n = np.sum(actual_labels == actual_labels[xx])\n",
    "    confusion[idx1, idx2] += 1 / n"
   ]
  },
  {
   "cell_type": "code",
   "execution_count": 165,
   "metadata": {},
   "outputs": [],
   "source": [
    "sort_idx = np.argsort(arr_bundle_names)"
   ]
  },
  {
   "cell_type": "code",
   "execution_count": 169,
   "metadata": {},
   "outputs": [
    {
     "data": {
      "image/png": "[encoded data removed]",
      "text/plain": [
       "<Figure size 720x576 with 2 Axes>"
      ]
     },
     "metadata": {},
     "output_type": "display_data"
    }
   ],
   "source": [
    "fig, ax = plt.subplots(1)\n",
    "sns.heatmap(confusion[sort_idx][:, sort_idx],\n",
    "            xticklabels=arr_bundle_names[sort_idx], \n",
    "            yticklabels=arr_bundle_names[sort_idx], ax=ax)\n",
    "fig.set_size_inches([10, 8])"
   ]
  },
  {
   "cell_type": "code",
   "execution_count": 170,
   "metadata": {},
   "outputs": [],
   "source": [
    "p_error = p[~(p_bundles == actual_labels)]\n",
    "p_correct = p[p_bundles == actual_labels]"
   ]
  },
  {
   "cell_type": "code",
   "execution_count": 171,
   "metadata": {},
   "outputs": [
    {
     "name": "stderr",
     "output_type": "stream",
     "text": [
      "/anaconda2/envs/bundlenet/lib/python3.6/site-packages/matplotlib/axes/_axes.py:6462: UserWarning: The 'normed' kwarg is deprecated, and has been replaced by the 'density' kwarg.\n",
      "  warnings.warn(\"The 'normed' kwarg is deprecated, and has been \"\n"
     ]
    },
    {
     "data": {
      "text/plain": [
       "<matplotlib.legend.Legend at 0x1283c7780>"
      ]
     },
     "execution_count": 171,
     "metadata": {},
     "output_type": "execute_result"
    },
    {
     "data": {
      "image/png": "[encoded data removed]",
      "text/plain": [
       "<Figure size 432x288 with 1 Axes>"
      ]
     },
     "metadata": {},
     "output_type": "display_data"
    }
   ],
   "source": [
    "fig, ax = plt.subplots(1)\n",
    "ax.hist(np.max(p_correct, -1), histtype='step', linewidth=2, normed=True, bins=10, label=\"Correct\")\n",
    "ax.hist(np.max(p_error, -1), histtype='step', linewidth=2, normed=True, bins=10, label=\"Incorrect\")\n",
    "ax.set_xlabel(\"Probability of chosen category\")\n",
    "ax.set_ylabel(\"Normalized frequency\")\n",
    "plt.legend(loc=\"upper left\")"
   ]
  },
  {
   "cell_type": "code",
   "execution_count": null,
   "metadata": {
    "collapsed": true
   },
   "outputs": [],
   "source": []
  }
 ],
 "metadata": {
  "kernelspec": {
   "display_name": "Python 3",
   "language": "python",
   "name": "python3"
  },
  "language_info": {
   "codemirror_mode": {
    "name": "ipython",
    "version": 3
   },
   "file_extension": ".py",
   "mimetype": "text/x-python",
   "name": "python",
   "nbconvert_exporter": "python",
   "pygments_lexer": "ipython3",
   "version": "3.6.6"
  }
 },
 "nbformat": 4,
 "nbformat_minor": 1
}
