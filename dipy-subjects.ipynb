{
 "cells": [
  {
   "cell_type": "code",
   "execution_count": 77,
   "metadata": {
    "collapsed": false
   },
   "outputs": [],
   "source": [
    "from glob import glob\n",
    "import os.path as op\n",
    "import numpy as np\n",
    "import matplotlib.pyplot as plt\n",
    "import seaborn as sns\n",
    "%matplotlib inline"
   ]
  },
  {
   "cell_type": "code",
   "execution_count": 2,
   "metadata": {
    "collapsed": true
   },
   "outputs": [],
   "source": [
    "import nibabel as nib\n",
    "from nibabel.streamlines import load as load_trk\n",
    "import dipy.tracking.streamline as dts\n",
    "import dipy.tracking.utils as dtu\n",
    "from skimage.transform import resize\n",
    "from scipy.ndimage.morphology import binary_dilation\n",
    "import dipy.data as dpd"
   ]
  },
  {
   "cell_type": "code",
   "execution_count": 3,
   "metadata": {
    "collapsed": false
   },
   "outputs": [
    {
     "name": "stderr",
     "output_type": "stream",
     "text": [
      "Using TensorFlow backend.\n"
     ]
    }
   ],
   "source": [
    "import keras\n",
    "from keras.models import Sequential\n",
    "from keras.layers import Dense, Dropout, Flatten, LeakyReLU\n",
    "from keras.layers import Conv2D, MaxPooling2D"
   ]
  },
  {
   "cell_type": "code",
   "execution_count": 4,
   "metadata": {
    "collapsed": true
   },
   "outputs": [],
   "source": [
    "from keratin.networks import vgg16"
   ]
  },
  {
   "cell_type": "code",
   "execution_count": 5,
   "metadata": {
    "collapsed": true
   },
   "outputs": [],
   "source": [
    "import bundlenet as bn"
   ]
  },
  {
   "cell_type": "code",
   "execution_count": 6,
   "metadata": {
    "collapsed": false
   },
   "outputs": [
    {
     "name": "stdout",
     "output_type": "stream",
     "text": [
      "Data size is approximately 234MB\n",
      "Dataset is already in place. If you want to fetch it again please first remove the folder /home/ariel/.dipy/exp_bundles_and_maps \n"
     ]
    },
    {
     "data": {
      "text/plain": [
       "({'bundles_2_subjects.tar.gz': ('https://digital.lib.washington.edu/researchworks/bitstream/handle/1773/38477/bundles_2_subjects.tar.gz',\n",
       "   '97756fbef11ce2df31f1bedf1fc7aac7')},\n",
       " '/home/ariel/.dipy/exp_bundles_and_maps')"
      ]
     },
     "execution_count": 6,
     "metadata": {},
     "output_type": "execute_result"
    }
   ],
   "source": [
    "dpd.fetch_bundles_2_subjects()"
   ]
  },
  {
   "cell_type": "code",
   "execution_count": 7,
   "metadata": {
    "collapsed": false
   },
   "outputs": [
    {
     "name": "stdout",
     "output_type": "stream",
     "text": [
      "bundles_af.left.trk   bundles_cg.left.trk     bundles_mdlf.right.trk\r\n",
      "bundles_af.right.trk  bundles_cg.right.trk    bundles_slf1.left.trk\r\n",
      "bundles_cc_1.trk      bundles_cst.left.trk    bundles_slf1.right.trk\r\n",
      "bundles_cc_2.trk      bundles_cst.right.trk   bundles_slf2.left.trk\r\n",
      "bundles_cc_3.trk      bundles_ifof.left.trk   bundles_slf2.right.trk\r\n",
      "bundles_cc_4.trk      bundles_ifof.right.trk  bundles_slf_3.left.trk\r\n",
      "bundles_cc_5.trk      bundles_ilf.left.trk    bundles_slf_3.right.trk\r\n",
      "bundles_cc_6.trk      bundles_ilf.right.trk   bundles_uf.left.trk\r\n",
      "bundles_cc_7.trk      bundles_mdlf.left.trk   bundles_uf.right.trk\r\n"
     ]
    }
   ],
   "source": [
    "ls /home/ariel/.dipy/exp_bundles_and_maps/bundles_2_subjects/subj_1/bundles/"
   ]
  },
  {
   "cell_type": "code",
   "execution_count": 8,
   "metadata": {
    "collapsed": false
   },
   "outputs": [],
   "source": [
    "bundle_files = glob('/home/ariel/.dipy/exp_bundles_and_maps/bundles_2_subjects/subj_1/bundles/*.trk')"
   ]
  },
  {
   "cell_type": "code",
   "execution_count": 9,
   "metadata": {
    "collapsed": true
   },
   "outputs": [],
   "source": [
    "t1_img = nib.load('/home/ariel/.dipy/exp_bundles_and_maps/bundles_2_subjects/subj_1/t1_warped.nii.gz')"
   ]
  },
  {
   "cell_type": "code",
   "execution_count": 10,
   "metadata": {
    "collapsed": false
   },
   "outputs": [],
   "source": [
    "n_streamlines = []\n",
    "bundle_names = []\n",
    "for fname in bundle_files:\n",
    "    bundle_names.append(fname.split('/')[-1].split('bundles_')[-1].split('.trk')[0])\n",
    "    streamlines = bn.read_sl(fname) \n",
    "    n_streamlines.append(len(streamlines))"
   ]
  },
  {
   "cell_type": "code",
   "execution_count": 11,
   "metadata": {
    "collapsed": false
   },
   "outputs": [
    {
     "data": {
      "text/plain": [
       "['cg.left',\n",
       " 'slf1.left',\n",
       " 'ifof.left',\n",
       " 'slf2.left',\n",
       " 'cc_1',\n",
       " 'cc_2',\n",
       " 'cst.left',\n",
       " 'af.left',\n",
       " 'mdlf.left',\n",
       " 'uf.right',\n",
       " 'ilf.left',\n",
       " 'slf_3.left',\n",
       " 'cst.right',\n",
       " 'cc_7',\n",
       " 'cg.right',\n",
       " 'cc_6',\n",
       " 'slf1.right',\n",
       " 'cc_5',\n",
       " 'slf2.right',\n",
       " 'slf_3.right',\n",
       " 'ilf.right',\n",
       " 'mdlf.right',\n",
       " 'uf.left',\n",
       " 'cc_4',\n",
       " 'ifof.right',\n",
       " 'cc_3',\n",
       " 'af.right']"
      ]
     },
     "execution_count": 11,
     "metadata": {},
     "output_type": "execute_result"
    }
   ],
   "source": [
    "bundle_names"
   ]
  },
  {
   "cell_type": "code",
   "execution_count": 12,
   "metadata": {
    "collapsed": false
   },
   "outputs": [
    {
     "data": {
      "text/plain": [
       "(161, 27)"
      ]
     },
     "execution_count": 12,
     "metadata": {},
     "output_type": "execute_result"
    }
   ],
   "source": [
    "np.min(n_streamlines), len(n_streamlines)"
   ]
  },
  {
   "cell_type": "code",
   "execution_count": 13,
   "metadata": {
    "collapsed": true
   },
   "outputs": [],
   "source": [
    "take_n_bundles = 27\n",
    "take_n_sl = 160"
   ]
  },
  {
   "cell_type": "code",
   "execution_count": 14,
   "metadata": {
    "collapsed": false,
    "scrolled": false
   },
   "outputs": [],
   "source": [
    "if op.exists('./subject1_bundles.npz'):\n",
    "    # Read it from file:\n",
    "    loaded_from_file = np.load('./subject1_bundles.npz')\n",
    "    labels_test = loaded_from_file['labels_test']\n",
    "    labels_train = loaded_from_file['labels_train']\n",
    "    data_test = loaded_from_file['data_test']\n",
    "    data_train = loaded_from_file['data_train']\n",
    "    data_valid = loaded_from_file['data_valid']\n",
    "    labels_valid = loaded_from_file['labels_valid']\n",
    "else:\n",
    "    data_train, data_valid, data_test, labels_train, labels_valid, labels_test =\\\n",
    "    bn.partition_data(bundle_files, t1_img.shape, take_n_bundles, take_n_sl)    \n",
    "    np.savez('./subject1_bundles', data_train=data_train, labels_train=labels_train,\n",
    "                                   data_test=data_test, labels_test=labels_test, \n",
    "                                   data_valid=data_valid, labels_valid=labels_valid)"
   ]
  },
  {
   "cell_type": "code",
   "execution_count": 15,
   "metadata": {
    "collapsed": true
   },
   "outputs": [],
   "source": [
    "img_rows = 100\n",
    "img_cols = 100\n",
    "batch_size = 4\n",
    "epochs = 24\n",
    "num_classes = take_n_bundles\n",
    "input_shape = (img_rows, img_cols, 1)"
   ]
  },
  {
   "cell_type": "code",
   "execution_count": 16,
   "metadata": {
    "collapsed": false
   },
   "outputs": [],
   "source": [
    "labels_train = keras.utils.to_categorical(labels_train-1, num_classes)\n",
    "labels_valid = keras.utils.to_categorical(labels_valid-1, num_classes)\n",
    "labels_test  = keras.utils.to_categorical(labels_test-1, num_classes)"
   ]
  },
  {
   "cell_type": "code",
   "execution_count": 17,
   "metadata": {
    "collapsed": false
   },
   "outputs": [],
   "source": [
    "# model = Sequential()\n",
    "# model.add(Conv2D(32, kernel_size=(3, 3),\n",
    "#                  activation='relu',\n",
    "#                  input_shape=input_shape))\n",
    "# model.add(Conv2D(64, (3, 3), activation='relu'))\n",
    "# model.add(MaxPooling2D(pool_size=(2, 2)))\n",
    "# model.add(Dropout(0.25))\n",
    "# model.add(Flatten())\n",
    "# model.add(Dense(128, activation='relu'))\n",
    "# model.add(Dropout(0.5))\n",
    "# model.add(Dense(num_classes, activation='softmax'))"
   ]
  },
  {
   "cell_type": "code",
   "execution_count": 18,
   "metadata": {
    "collapsed": false
   },
   "outputs": [],
   "source": [
    "model = Sequential()\n",
    "model.add(Conv2D(32, kernel_size=(3, 3),activation='linear',input_shape=input_shape,padding='same'))\n",
    "model.add(LeakyReLU(alpha=0.1))\n",
    "model.add(MaxPooling2D((2, 2),padding='same'))\n",
    "model.add(Dropout(0.25))\n",
    "model.add(Conv2D(64, (3, 3), activation='linear',padding='same'))\n",
    "model.add(LeakyReLU(alpha=0.1))\n",
    "model.add(MaxPooling2D(pool_size=(2, 2),padding='same'))\n",
    "model.add(Dropout(0.25))\n",
    "model.add(Conv2D(128, (3, 3), activation='linear',padding='same'))\n",
    "model.add(LeakyReLU(alpha=0.1))                  \n",
    "model.add(MaxPooling2D(pool_size=(2, 2),padding='same'))\n",
    "model.add(Dropout(0.25))\n",
    "model.add(Flatten())\n",
    "model.add(Dense(128, activation='linear'))\n",
    "model.add(Dropout(0.25))\n",
    "model.add(LeakyReLU(alpha=0.1))                  \n",
    "model.add(Dense(num_classes, activation='softmax'))"
   ]
  },
  {
   "cell_type": "code",
   "execution_count": 19,
   "metadata": {
    "collapsed": true
   },
   "outputs": [],
   "source": [
    "model.compile(loss=keras.losses.categorical_crossentropy,\n",
    "              optimizer=keras.optimizers.Adam(),\n",
    "              metrics=['accuracy'])"
   ]
  },
  {
   "cell_type": "code",
   "execution_count": 20,
   "metadata": {
    "collapsed": false,
    "scrolled": false
   },
   "outputs": [
    {
     "name": "stdout",
     "output_type": "stream",
     "text": [
      "Train on 2592 samples, validate on 864 samples\n",
      "Epoch 1/24\n",
      "2592/2592 [==============================] - 21s - loss: 0.6535 - acc: 0.8021 - val_loss: 0.2255 - val_acc: 0.9132\n",
      "Epoch 2/24\n",
      "2592/2592 [==============================] - 19s - loss: 0.2158 - acc: 0.9236 - val_loss: 0.1592 - val_acc: 0.9444\n",
      "Epoch 3/24\n",
      "2592/2592 [==============================] - 19s - loss: 0.1765 - acc: 0.9406 - val_loss: 0.1467 - val_acc: 0.9329\n",
      "Epoch 4/24\n",
      "2592/2592 [==============================] - 19s - loss: 0.1545 - acc: 0.9390 - val_loss: 0.1348 - val_acc: 0.9525\n",
      "Epoch 5/24\n",
      "2592/2592 [==============================] - 19s - loss: 0.1252 - acc: 0.9479 - val_loss: 0.1295 - val_acc: 0.9491\n",
      "Epoch 6/24\n",
      "2592/2592 [==============================] - 19s - loss: 0.1227 - acc: 0.9522 - val_loss: 0.1215 - val_acc: 0.9537\n",
      "Epoch 7/24\n",
      "2592/2592 [==============================] - 19s - loss: 0.1081 - acc: 0.9556 - val_loss: 0.1753 - val_acc: 0.9363\n",
      "Epoch 8/24\n",
      "2592/2592 [==============================] - 19s - loss: 0.1131 - acc: 0.9572 - val_loss: 0.1235 - val_acc: 0.9502\n",
      "Epoch 9/24\n",
      "2592/2592 [==============================] - 19s - loss: 0.0937 - acc: 0.9626 - val_loss: 0.1269 - val_acc: 0.9606\n",
      "Epoch 10/24\n",
      "2592/2592 [==============================] - 19s - loss: 0.0947 - acc: 0.9587 - val_loss: 0.1353 - val_acc: 0.9514\n",
      "Epoch 11/24\n",
      "2592/2592 [==============================] - 19s - loss: 0.1095 - acc: 0.9591 - val_loss: 0.1423 - val_acc: 0.9537\n",
      "Epoch 12/24\n",
      "2592/2592 [==============================] - 19s - loss: 0.0851 - acc: 0.9630 - val_loss: 0.1272 - val_acc: 0.9514\n",
      "Epoch 13/24\n",
      "2592/2592 [==============================] - 19s - loss: 0.0808 - acc: 0.9664 - val_loss: 0.1845 - val_acc: 0.9468\n",
      "Epoch 14/24\n",
      "2592/2592 [==============================] - 19s - loss: 0.0764 - acc: 0.9645 - val_loss: 0.1289 - val_acc: 0.9583\n",
      "Epoch 15/24\n",
      "2592/2592 [==============================] - 19s - loss: 0.1106 - acc: 0.9614 - val_loss: 0.2231 - val_acc: 0.9525\n",
      "Epoch 16/24\n",
      "2592/2592 [==============================] - 19s - loss: 0.0776 - acc: 0.9684 - val_loss: 0.1681 - val_acc: 0.9502\n",
      "Epoch 17/24\n",
      "2592/2592 [==============================] - 19s - loss: 0.0770 - acc: 0.9668 - val_loss: 0.1414 - val_acc: 0.9572\n",
      "Epoch 18/24\n",
      "2592/2592 [==============================] - 19s - loss: 0.0733 - acc: 0.9722 - val_loss: 0.1478 - val_acc: 0.9537\n",
      "Epoch 19/24\n",
      "2592/2592 [==============================] - 19s - loss: 0.0801 - acc: 0.9668 - val_loss: 0.1814 - val_acc: 0.9491\n",
      "Epoch 20/24\n",
      "2592/2592 [==============================] - 19s - loss: 0.0671 - acc: 0.9715 - val_loss: 0.2010 - val_acc: 0.9479\n",
      "Epoch 21/24\n",
      "2592/2592 [==============================] - 19s - loss: 0.1084 - acc: 0.9649 - val_loss: 0.3699 - val_acc: 0.9491\n",
      "Epoch 22/24\n",
      "2592/2592 [==============================] - 19s - loss: 0.1015 - acc: 0.9649 - val_loss: 0.1505 - val_acc: 0.9572\n",
      "Epoch 23/24\n",
      "2592/2592 [==============================] - 19s - loss: 0.0682 - acc: 0.9738 - val_loss: 0.1477 - val_acc: 0.9502\n",
      "Epoch 24/24\n",
      "2592/2592 [==============================] - 19s - loss: 0.0607 - acc: 0.9745 - val_loss: 0.1400 - val_acc: 0.9537\n"
     ]
    }
   ],
   "source": [
    "training = model.fit(data_train, labels_train,\n",
    "                     batch_size=batch_size,\n",
    "                     epochs=epochs,\n",
    "                     verbose=1,\n",
    "                     validation_data=(data_valid, labels_valid))"
   ]
  },
  {
   "cell_type": "code",
   "execution_count": 21,
   "metadata": {
    "collapsed": false
   },
   "outputs": [],
   "source": [
    "score = model.evaluate(data_test, labels_test, verbose=0)"
   ]
  },
  {
   "cell_type": "code",
   "execution_count": 22,
   "metadata": {
    "collapsed": false
   },
   "outputs": [
    {
     "name": "stdout",
     "output_type": "stream",
     "text": [
      "[0.17100179596245421, 0.94444444444444442]\n"
     ]
    }
   ],
   "source": [
    "print(score)"
   ]
  },
  {
   "cell_type": "code",
   "execution_count": 78,
   "metadata": {
    "collapsed": false
   },
   "outputs": [
    {
     "data": {
      "image/png": "[encoded data removed]",
      "text/plain": [
       "<matplotlib.figure.Figure at 0x7f1835520978>"
      ]
     },
     "metadata": {},
     "output_type": "display_data"
    }
   ],
   "source": [
    "fig = bn.plot_accuracy(training)"
   ]
  },
  {
   "cell_type": "markdown",
   "metadata": {},
   "source": [
    "Cross-predict on *another subject*"
   ]
  },
  {
   "cell_type": "code",
   "execution_count": 24,
   "metadata": {
    "collapsed": true
   },
   "outputs": [],
   "source": [
    "sub2_bundle_files = glob('/home/ariel/.dipy/exp_bundles_and_maps/bundles_2_subjects/subj_2/bundles/*.trk')"
   ]
  },
  {
   "cell_type": "code",
   "execution_count": 25,
   "metadata": {
    "collapsed": true
   },
   "outputs": [],
   "source": [
    "sub2_t1_img = nib.load('/home/ariel/.dipy/exp_bundles_and_maps/bundles_2_subjects/subj_2/t1_warped.nii.gz')"
   ]
  },
  {
   "cell_type": "code",
   "execution_count": 26,
   "metadata": {
    "collapsed": false
   },
   "outputs": [],
   "source": [
    "n_streamlines = 0\n",
    "for fname in sub2_bundle_files:\n",
    "    streamlines = bn.read_sl(fname)\n",
    "    n_streamlines += len(streamlines)"
   ]
  },
  {
   "cell_type": "code",
   "execution_count": 27,
   "metadata": {
    "collapsed": false
   },
   "outputs": [
    {
     "data": {
      "text/plain": [
       "57060"
      ]
     },
     "execution_count": 27,
     "metadata": {},
     "output_type": "execute_result"
    }
   ],
   "source": [
    "n_streamlines"
   ]
  },
  {
   "cell_type": "code",
   "execution_count": 28,
   "metadata": {
    "collapsed": false,
    "scrolled": false
   },
   "outputs": [],
   "source": [
    "if not op.exists('./subject2_bundles_all.npz'):\n",
    "    data_sub2 = np.zeros((n_streamlines, 100, 100, 1))\n",
    "    actual_labels = np.zeros(n_streamlines, dtype=np.object)\n",
    "    ii = 0\n",
    "    for fname in sub2_bundle_files:\n",
    "        bundle_name = fname.split('/')[-1].split('bundles_')[-1].split('.trk')[0]\n",
    "        print(bundle_name)\n",
    "        streamlines = bn.read_sl(fname)\n",
    "        for sl in streamlines: \n",
    "            data_sub2[ii] = bn.reduce_sl(sl, t1_img.shape)\n",
    "            if not np.mod(ii, 100):\n",
    "                print(\"ii = %s\"%ii)\n",
    "            actual_labels[ii] = bundle_name\n",
    "            ii += 1\n",
    "\n",
    "    np.savez('./subject2_bundles_all', data_sub2=data_sub2, actual_labels=actual_labels)\n",
    "else: \n",
    "    from_file = np.load('./subject2_bundles_all.npz')\n",
    "    data_sub2 = from_file['data_sub2']\n",
    "    actual_labels = from_file['actual_labels']"
   ]
  },
  {
   "cell_type": "code",
   "execution_count": 29,
   "metadata": {
    "collapsed": false
   },
   "outputs": [],
   "source": [
    "p = model.predict(data_sub2, batch_size=5)"
   ]
  },
  {
   "cell_type": "code",
   "execution_count": 30,
   "metadata": {
    "collapsed": false
   },
   "outputs": [],
   "source": [
    "p_idx = np.argmax(p, axis=-1)"
   ]
  },
  {
   "cell_type": "code",
   "execution_count": 31,
   "metadata": {
    "collapsed": false
   },
   "outputs": [],
   "source": [
    "p_bundles = [bundle_names[ii] for ii in p_idx]"
   ]
  },
  {
   "cell_type": "code",
   "execution_count": 32,
   "metadata": {
    "collapsed": true
   },
   "outputs": [],
   "source": [
    "from sklearn.metrics import cohen_kappa_score"
   ]
  },
  {
   "cell_type": "code",
   "execution_count": 33,
   "metadata": {
    "collapsed": false
   },
   "outputs": [],
   "source": [
    "kappa = cohen_kappa_score(p_bundles, actual_labels)"
   ]
  },
  {
   "cell_type": "code",
   "execution_count": 34,
   "metadata": {
    "collapsed": false
   },
   "outputs": [
    {
     "data": {
      "text/plain": [
       "0.86374141614093458"
      ]
     },
     "execution_count": 34,
     "metadata": {},
     "output_type": "execute_result"
    }
   ],
   "source": [
    "kappa"
   ]
  },
  {
   "cell_type": "code",
   "execution_count": 35,
   "metadata": {
    "collapsed": false
   },
   "outputs": [
    {
     "data": {
      "text/plain": [
       "0.88089730108657549"
      ]
     },
     "execution_count": 35,
     "metadata": {},
     "output_type": "execute_result"
    }
   ],
   "source": [
    "np.mean(p_bundles == actual_labels)"
   ]
  },
  {
   "cell_type": "code",
   "execution_count": 36,
   "metadata": {
    "collapsed": false
   },
   "outputs": [],
   "source": [
    "confusion = np.zeros((len(bundle_names), len(bundle_names)))\n",
    "arr_bundle_names = np.array(bundle_names)\n",
    "for xx in range(len(p_bundles)):\n",
    "    idx1 = np.where(arr_bundle_names == p_bundles[xx])\n",
    "    idx2 = np.where(arr_bundle_names == actual_labels[xx])\n",
    "    n = np.sum(actual_labels == actual_labels[xx])\n",
    "    confusion[idx1, idx2] += 1 / n"
   ]
  },
  {
   "cell_type": "code",
   "execution_count": 51,
   "metadata": {
    "collapsed": false
   },
   "outputs": [],
   "source": [
    "sort_idx = np.argsort(arr_bundle_names)"
   ]
  },
  {
   "cell_type": "code",
   "execution_count": 50,
   "metadata": {
    "collapsed": false
   },
   "outputs": [
    {
     "name": "stderr",
     "output_type": "stream",
     "text": [
      "/usr/local/lib/python3.4/dist-packages/seaborn/matrix.py:143: FutureWarning: elementwise comparison failed; returning scalar instead, but in the future will perform elementwise comparison\n",
      "  if xticklabels == []:\n",
      "/usr/local/lib/python3.4/dist-packages/seaborn/matrix.py:151: FutureWarning: elementwise comparison failed; returning scalar instead, but in the future will perform elementwise comparison\n",
      "  if yticklabels == []:\n"
     ]
    },
    {
     "data": {
      "text/plain": [
       "<matplotlib.axes._subplots.AxesSubplot at 0x7f185411f748>"
      ]
     },
     "execution_count": 50,
     "metadata": {},
     "output_type": "execute_result"
    },
    {
     "data": {
      "image/png": "[encoded data removed]",
      "text/plain": [
       "<matplotlib.figure.Figure at 0x7f186c148c50>"
      ]
     },
     "metadata": {},
     "output_type": "display_data"
    }
   ],
   "source": [
    "sns.heatmap(confusion[sort_idx][:, sort_idx],\n",
    "            xticklabels=arr_bundle_names[sort_idx], \n",
    "            yticklabels=arr_bundle_names[sort_idx])"
   ]
  },
  {
   "cell_type": "code",
   "execution_count": 72,
   "metadata": {
    "collapsed": false
   },
   "outputs": [],
   "source": [
    "p_error = p[~(p_bundles == actual_labels)]\n",
    "p_correct = p[p_bundles == actual_labels]"
   ]
  },
  {
   "cell_type": "code",
   "execution_count": 76,
   "metadata": {
    "collapsed": false
   },
   "outputs": [
    {
     "data": {
      "text/plain": [
       "<matplotlib.text.Text at 0x7f1835417e10>"
      ]
     },
     "execution_count": 76,
     "metadata": {},
     "output_type": "execute_result"
    },
    {
     "data": {
      "image/png": "[encoded data removed]",
      "text/plain": [
       "<matplotlib.figure.Figure at 0x7f18354065c0>"
      ]
     },
     "metadata": {},
     "output_type": "display_data"
    }
   ],
   "source": [
    "fig, ax = plt.subplots(1)\n",
    "ax.hist(np.max(p_correct, -1), histtype='step', linewidth=2, normed=True)\n",
    "ax.hist(np.max(p_error, -1), histtype='step', linewidth=2, normed=True)\n",
    "ax.set_xlabel(\"Probability of chosen category\")\n",
    "ax.set_ylabel(\"Frequency (normed)\")"
   ]
  },
  {
   "cell_type": "code",
   "execution_count": null,
   "metadata": {
    "collapsed": true
   },
   "outputs": [],
   "source": []
  }
 ],
 "metadata": {
  "kernelspec": {
   "display_name": "Python 3",
   "language": "python",
   "name": "python3"
  },
  "language_info": {
   "codemirror_mode": {
    "name": "ipython",
    "version": 3
   },
   "file_extension": ".py",
   "mimetype": "text/x-python",
   "name": "python",
   "nbconvert_exporter": "python",
   "pygments_lexer": "ipython3",
   "version": "3.4.3"
  }
 },
 "nbformat": 4,
 "nbformat_minor": 1
}
