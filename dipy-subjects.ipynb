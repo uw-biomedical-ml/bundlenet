{
 "cells": [
  {
   "cell_type": "code",
   "execution_count": 1,
   "metadata": {},
   "outputs": [],
   "source": [
    "from glob import glob\n",
    "import os.path as op\n",
    "import numpy as np\n",
    "import matplotlib.pyplot as plt\n",
    "\n",
    "import seaborn as sns\n",
    "\n",
    "%matplotlib inline"
   ]
  },
  {
   "cell_type": "code",
   "execution_count": 2,
   "metadata": {},
   "outputs": [],
   "source": [
    "import nibabel as nib\n",
    "from nibabel.streamlines import load as load_trk\n",
    "import dipy.tracking.streamline as dts\n",
    "import dipy.tracking.utils as dtu\n",
    "from skimage.transform import resize\n",
    "from scipy.ndimage.morphology import binary_dilation\n",
    "import dipy.data as dpd"
   ]
  },
  {
   "cell_type": "code",
   "execution_count": 3,
   "metadata": {},
   "outputs": [
    {
     "name": "stderr",
     "output_type": "stream",
     "text": [
      "Using TensorFlow backend.\n"
     ]
    }
   ],
   "source": [
    "import keras\n",
    "from keras.callbacks import ModelCheckpoint\n",
    "from keras.models import Sequential\n",
    "from keras.layers import Dense, Dropout, Flatten, LeakyReLU\n",
    "from keras.layers import Conv2D, MaxPooling2D"
   ]
  },
  {
   "cell_type": "code",
   "execution_count": 4,
   "metadata": {},
   "outputs": [],
   "source": [
    "import bundlenet as bn"
   ]
  },
  {
   "cell_type": "code",
   "execution_count": 5,
   "metadata": {},
   "outputs": [],
   "source": [
    "import dask.bag as db"
   ]
  },
  {
   "cell_type": "code",
   "execution_count": 6,
   "metadata": {},
   "outputs": [
    {
     "name": "stdout",
     "output_type": "stream",
     "text": [
      "Data size is approximately 234MB\n",
      "Dataset is already in place. If you want to fetch it again please first remove the folder /home/ubuntu/.dipy/exp_bundles_and_maps \n"
     ]
    },
    {
     "data": {
      "text/plain": [
       "({'bundles_2_subjects.tar.gz': ('https://digital.lib.washington.edu/researchworks/bitstream/handle/1773/38477/bundles_2_subjects.tar.gz',\n",
       "   '97756fbef11ce2df31f1bedf1fc7aac7')},\n",
       " '/home/ubuntu/.dipy/exp_bundles_and_maps')"
      ]
     },
     "execution_count": 6,
     "metadata": {},
     "output_type": "execute_result"
    }
   ],
   "source": [
    "dpd.fetch_bundles_2_subjects()"
   ]
  },
  {
   "cell_type": "code",
   "execution_count": 7,
   "metadata": {},
   "outputs": [
    {
     "name": "stdout",
     "output_type": "stream",
     "text": [
      "bundles_af.left.trk   bundles_cg.left.trk     bundles_mdlf.right.trk\r\n",
      "bundles_af.right.trk  bundles_cg.right.trk    bundles_slf1.left.trk\r\n",
      "bundles_cc_1.trk      bundles_cst.left.trk    bundles_slf1.right.trk\r\n",
      "bundles_cc_2.trk      bundles_cst.right.trk   bundles_slf2.left.trk\r\n",
      "bundles_cc_3.trk      bundles_ifof.left.trk   bundles_slf2.right.trk\r\n",
      "bundles_cc_4.trk      bundles_ifof.right.trk  bundles_slf_3.left.trk\r\n",
      "bundles_cc_5.trk      bundles_ilf.left.trk    bundles_slf_3.right.trk\r\n",
      "bundles_cc_6.trk      bundles_ilf.right.trk   bundles_uf.left.trk\r\n",
      "bundles_cc_7.trk      bundles_mdlf.left.trk   bundles_uf.right.trk\r\n"
     ]
    }
   ],
   "source": [
    "ls /home/ubuntu/.dipy/exp_bundles_and_maps/bundles_2_subjects/subj_1/bundles/"
   ]
  },
  {
   "cell_type": "code",
   "execution_count": 8,
   "metadata": {},
   "outputs": [],
   "source": [
    "bundle_files = glob('/home/ubuntu/.dipy/exp_bundles_and_maps/bundles_2_subjects/subj_1/bundles/*.trk')"
   ]
  },
  {
   "cell_type": "code",
   "execution_count": 9,
   "metadata": {},
   "outputs": [
    {
     "data": {
      "text/plain": [
       "(256, 256, 150)"
      ]
     },
     "execution_count": 9,
     "metadata": {},
     "output_type": "execute_result"
    }
   ],
   "source": [
    "t1_img = nib.load('/home/ubuntu/.dipy/exp_bundles_and_maps/bundles_2_subjects/subj_1/t1_warped.nii.gz')\n",
    "vol_shape=t1_img.shape\n",
    "vol_shape"
   ]
  },
  {
   "cell_type": "code",
   "execution_count": 10,
   "metadata": {},
   "outputs": [],
   "source": [
    "n_streamlines = []\n",
    "bundle_names = []\n",
    "for fname in bundle_files:\n",
    "    bundle_names.append(fname.split('/')[-1].split('bundles_')[-1].split('.trk')[0])\n",
    "    streamlines = bn.read_sl(fname) \n",
    "    n_streamlines.append(len(streamlines))"
   ]
  },
  {
   "cell_type": "code",
   "execution_count": 11,
   "metadata": {},
   "outputs": [
    {
     "data": {
      "text/plain": [
       "['ifof.left',\n",
       " 'slf_3.right',\n",
       " 'slf1.right',\n",
       " 'af.left',\n",
       " 'cc_3',\n",
       " 'slf1.left',\n",
       " 'ilf.left',\n",
       " 'cc_2',\n",
       " 'mdlf.left',\n",
       " 'slf_3.left',\n",
       " 'cc_1',\n",
       " 'uf.right',\n",
       " 'ilf.right',\n",
       " 'cc_6',\n",
       " 'cc_5',\n",
       " 'cc_7',\n",
       " 'ifof.right',\n",
       " 'cg.right',\n",
       " 'slf2.left',\n",
       " 'cg.left',\n",
       " 'uf.left',\n",
       " 'cst.left',\n",
       " 'cst.right',\n",
       " 'slf2.right',\n",
       " 'af.right',\n",
       " 'mdlf.right',\n",
       " 'cc_4']"
      ]
     },
     "execution_count": 11,
     "metadata": {},
     "output_type": "execute_result"
    }
   ],
   "source": [
    "bundle_names"
   ]
  },
  {
   "cell_type": "code",
   "execution_count": 12,
   "metadata": {},
   "outputs": [
    {
     "data": {
      "text/plain": [
       "(161, 27)"
      ]
     },
     "execution_count": 12,
     "metadata": {},
     "output_type": "execute_result"
    }
   ],
   "source": [
    "np.min(n_streamlines), len(n_streamlines)"
   ]
  },
  {
   "cell_type": "code",
   "execution_count": 13,
   "metadata": {},
   "outputs": [],
   "source": [
    "take_n_bundles = len(n_streamlines)\n",
    "take_n_sl = np.min(n_streamlines)\n",
    "\n",
    "test_perc=0.2\n",
    "val_perc=0.2\n",
    "size_slimage = 100"
   ]
  },
  {
   "cell_type": "code",
   "execution_count": 14,
   "metadata": {
    "scrolled": false
   },
   "outputs": [
    {
     "name": "stderr",
     "output_type": "stream",
     "text": [
      "/home/ubuntu/.local/lib/python3.5/site-packages/skimage/transform/_warps.py:105: UserWarning: The default mode, 'constant', will be changed to 'reflect' in skimage 0.15.\n",
      "  warn(\"The default mode, 'constant', will be changed to 'reflect' in \"\n",
      "/home/ubuntu/.local/lib/python3.5/site-packages/skimage/transform/_warps.py:110: UserWarning: Anti-aliasing will be enabled by default in skimage 0.15 to avoid aliasing artifacts when down-sampling images.\n",
      "  warn(\"Anti-aliasing will be enabled by default in skimage 0.15 to \"\n",
      "/home/ubuntu/.local/lib/python3.5/site-packages/skimage/transform/_warps.py:105: UserWarning: The default mode, 'constant', will be changed to 'reflect' in skimage 0.15.\n",
      "  warn(\"The default mode, 'constant', will be changed to 'reflect' in \"\n",
      "/home/ubuntu/.local/lib/python3.5/site-packages/skimage/transform/_warps.py:110: UserWarning: Anti-aliasing will be enabled by default in skimage 0.15 to avoid aliasing artifacts when down-sampling images.\n",
      "  warn(\"Anti-aliasing will be enabled by default in skimage 0.15 to \"\n",
      "/home/ubuntu/.local/lib/python3.5/site-packages/skimage/transform/_warps.py:105: UserWarning: The default mode, 'constant', will be changed to 'reflect' in skimage 0.15.\n",
      "  warn(\"The default mode, 'constant', will be changed to 'reflect' in \"\n",
      "/home/ubuntu/.local/lib/python3.5/site-packages/skimage/transform/_warps.py:110: UserWarning: Anti-aliasing will be enabled by default in skimage 0.15 to avoid aliasing artifacts when down-sampling images.\n",
      "  warn(\"Anti-aliasing will be enabled by default in skimage 0.15 to \"\n",
      "/home/ubuntu/.local/lib/python3.5/site-packages/skimage/transform/_warps.py:105: UserWarning: The default mode, 'constant', will be changed to 'reflect' in skimage 0.15.\n",
      "  warn(\"The default mode, 'constant', will be changed to 'reflect' in \"\n",
      "/home/ubuntu/.local/lib/python3.5/site-packages/skimage/transform/_warps.py:110: UserWarning: Anti-aliasing will be enabled by default in skimage 0.15 to avoid aliasing artifacts when down-sampling images.\n",
      "  warn(\"Anti-aliasing will be enabled by default in skimage 0.15 to \"\n",
      "/home/ubuntu/.local/lib/python3.5/site-packages/skimage/transform/_warps.py:105: UserWarning: The default mode, 'constant', will be changed to 'reflect' in skimage 0.15.\n",
      "  warn(\"The default mode, 'constant', will be changed to 'reflect' in \"\n",
      "/home/ubuntu/.local/lib/python3.5/site-packages/skimage/transform/_warps.py:110: UserWarning: Anti-aliasing will be enabled by default in skimage 0.15 to avoid aliasing artifacts when down-sampling images.\n",
      "  warn(\"Anti-aliasing will be enabled by default in skimage 0.15 to \"\n",
      "/home/ubuntu/.local/lib/python3.5/site-packages/skimage/transform/_warps.py:105: UserWarning: The default mode, 'constant', will be changed to 'reflect' in skimage 0.15.\n",
      "  warn(\"The default mode, 'constant', will be changed to 'reflect' in \"\n",
      "/home/ubuntu/.local/lib/python3.5/site-packages/skimage/transform/_warps.py:110: UserWarning: Anti-aliasing will be enabled by default in skimage 0.15 to avoid aliasing artifacts when down-sampling images.\n",
      "  warn(\"Anti-aliasing will be enabled by default in skimage 0.15 to \"\n",
      "/home/ubuntu/.local/lib/python3.5/site-packages/skimage/transform/_warps.py:105: UserWarning: The default mode, 'constant', will be changed to 'reflect' in skimage 0.15.\n",
      "  warn(\"The default mode, 'constant', will be changed to 'reflect' in \"\n",
      "/home/ubuntu/.local/lib/python3.5/site-packages/skimage/transform/_warps.py:105: UserWarning: The default mode, 'constant', will be changed to 'reflect' in skimage 0.15.\n",
      "  warn(\"The default mode, 'constant', will be changed to 'reflect' in \"\n",
      "/home/ubuntu/.local/lib/python3.5/site-packages/skimage/transform/_warps.py:110: UserWarning: Anti-aliasing will be enabled by default in skimage 0.15 to avoid aliasing artifacts when down-sampling images.\n",
      "  warn(\"Anti-aliasing will be enabled by default in skimage 0.15 to \"\n",
      "/home/ubuntu/.local/lib/python3.5/site-packages/skimage/transform/_warps.py:110: UserWarning: Anti-aliasing will be enabled by default in skimage 0.15 to avoid aliasing artifacts when down-sampling images.\n",
      "  warn(\"Anti-aliasing will be enabled by default in skimage 0.15 to \"\n"
     ]
    }
   ],
   "source": [
    "import imp  \n",
    "imp.reload(bn)\n",
    "\n",
    "if op.exists('./subject1_bundles.npz'):\n",
    "    # Read it from file:\n",
    "    loaded_from_file = np.load('./subject1_bundles.npz')\n",
    "    labels_test = loaded_from_file['labels_test']\n",
    "    labels_train = loaded_from_file['labels_train']\n",
    "    data_test = loaded_from_file['data_test']\n",
    "    data_train = loaded_from_file['data_train']\n",
    "else:\n",
    "    streamlines_loaded = db.from_sequence(bundle_files).map(bn.read_sl).compute()\n",
    "    streamlines_processed = db.from_sequence(streamlines_loaded).map(bn.process_sl,take_n_sl,vol_shape,size_slimage).compute() \n",
    "    data_train, data_test, data_val, labels_train, labels_test, labels_val = bn.partition_testtrain(test_perc, val_perc, streamlines_processed)\n",
    "    np.savez('./subject1_bundles', data_train=data_train, labels_train=labels_train, data_val=data_val, labels_val=labels_val, data_test=data_test, labels_test=labels_test)"
   ]
  },
  {
   "cell_type": "code",
   "execution_count": 15,
   "metadata": {},
   "outputs": [],
   "source": [
    "img_rows = size_slimage\n",
    "img_cols = size_slimage\n",
    "batch_size = 4\n",
    "epochs = 24\n",
    "num_classes = take_n_bundles\n",
    "input_shape = (img_rows, img_cols,1)"
   ]
  },
  {
   "cell_type": "code",
   "execution_count": 16,
   "metadata": {},
   "outputs": [],
   "source": [
    "labels_train = keras.utils.to_categorical(labels_train, num_classes)\n",
    "labels_test  = keras.utils.to_categorical(labels_test, num_classes)\n",
    "labels_val  = keras.utils.to_categorical(labels_val, num_classes)"
   ]
  },
  {
   "cell_type": "code",
   "execution_count": 17,
   "metadata": {},
   "outputs": [],
   "source": [
    "# model = Sequential()\n",
    "# model.add(Conv2D(32, kernel_size=(3, 3),\n",
    "#                  activation='relu',\n",
    "#                  input_shape=input_shape))\n",
    "# model.add(Conv2D(64, (3, 3), activation='relu'))\n",
    "# model.add(MaxPooling2D(pool_size=(2, 2)))\n",
    "# model.add(Dropout(0.25))\n",
    "# model.add(Flatten())\n",
    "# model.add(Dense(128, activation='relu'))\n",
    "# model.add(Dropout(0.5))\n",
    "# model.add(Dense(num_classes, activation='softmax'))"
   ]
  },
  {
   "cell_type": "code",
   "execution_count": 18,
   "metadata": {},
   "outputs": [
    {
     "data": {
      "text/plain": [
       "(2607, 27)"
      ]
     },
     "execution_count": 18,
     "metadata": {},
     "output_type": "execute_result"
    }
   ],
   "source": [
    "labels_train.shape\n"
   ]
  },
  {
   "cell_type": "code",
   "execution_count": 19,
   "metadata": {},
   "outputs": [],
   "source": [
    "model = Sequential()\n",
    "model.add(Conv2D(32, kernel_size=(3, 3),activation='linear',input_shape=input_shape,padding='same'))\n",
    "model.add(LeakyReLU(alpha=0.1))\n",
    "model.add(MaxPooling2D((2, 2),padding='same'))\n",
    "model.add(Dropout(0.25))\n",
    "model.add(Conv2D(64, (3, 3), activation='linear',padding='same'))\n",
    "model.add(LeakyReLU(alpha=0.1))\n",
    "model.add(MaxPooling2D(pool_size=(2, 2),padding='same'))\n",
    "model.add(Dropout(0.25))\n",
    "model.add(Conv2D(128, (3, 3), activation='linear',padding='same'))\n",
    "model.add(LeakyReLU(alpha=0.1))                  \n",
    "model.add(MaxPooling2D(pool_size=(2, 2),padding='same'))\n",
    "model.add(Dropout(0.25))\n",
    "model.add(Flatten())\n",
    "model.add(Dense(128, activation='linear'))\n",
    "model.add(Dropout(0.25))\n",
    "model.add(LeakyReLU(alpha=0.1))                  \n",
    "model.add(Dense(num_classes, activation='softmax'))"
   ]
  },
  {
   "cell_type": "code",
   "execution_count": 20,
   "metadata": {},
   "outputs": [],
   "source": [
    "from IPython.display import SVG\n",
    "from keras.utils import plot_model\n",
    "#from vis_utils import plot_model\n",
    "plot_model(model, to_file='model.png')"
   ]
  },
  {
   "cell_type": "code",
   "execution_count": 21,
   "metadata": {},
   "outputs": [],
   "source": [
    "model.compile(loss=keras.losses.categorical_crossentropy,\n",
    "              optimizer=keras.optimizers.Adam(),\n",
    "              metrics=['accuracy'])"
   ]
  },
  {
   "cell_type": "code",
   "execution_count": 22,
   "metadata": {},
   "outputs": [],
   "source": [
    "filepath=\"checkpoints/weights.best.hdf5\"\n",
    "checkpoint = ModelCheckpoint(filepath, monitor='val_acc', verbose=1, save_best_only=True, mode='max')\n",
    "callbacks_list = [checkpoint]"
   ]
  },
  {
   "cell_type": "code",
   "execution_count": 23,
   "metadata": {
    "scrolled": false
   },
   "outputs": [
    {
     "name": "stdout",
     "output_type": "stream",
     "text": [
      "Train on 2607 samples, validate on 870 samples\n",
      "Epoch 1/24\n",
      "2607/2607 [==============================] - 47s 18ms/step - loss: 0.5971 - acc: 0.8182 - val_loss: 0.1515 - val_acc: 0.9425\n",
      "\n",
      "Epoch 00001: val_acc improved from -inf to 0.94253, saving model to checkpoints/weights.best.hdf5\n",
      "Epoch 2/24\n",
      "2607/2607 [==============================] - 46s 17ms/step - loss: 0.2094 - acc: 0.9156 - val_loss: 0.1775 - val_acc: 0.9276\n",
      "\n",
      "Epoch 00002: val_acc did not improve from 0.94253\n",
      "Epoch 3/24\n",
      "2607/2607 [==============================] - 46s 18ms/step - loss: 0.1693 - acc: 0.9317 - val_loss: 0.1258 - val_acc: 0.9345\n",
      "\n",
      "Epoch 00003: val_acc did not improve from 0.94253\n",
      "Epoch 4/24\n",
      "2607/2607 [==============================] - 46s 18ms/step - loss: 0.1329 - acc: 0.9486 - val_loss: 0.1227 - val_acc: 0.9494\n",
      "\n",
      "Epoch 00004: val_acc improved from 0.94253 to 0.94943, saving model to checkpoints/weights.best.hdf5\n",
      "Epoch 5/24\n",
      "2607/2607 [==============================] - 46s 18ms/step - loss: 0.1287 - acc: 0.9498 - val_loss: 0.0918 - val_acc: 0.9586\n",
      "\n",
      "Epoch 00005: val_acc improved from 0.94943 to 0.95862, saving model to checkpoints/weights.best.hdf5\n",
      "Epoch 6/24\n",
      "2607/2607 [==============================] - 46s 17ms/step - loss: 0.1101 - acc: 0.9567 - val_loss: 0.0948 - val_acc: 0.9575\n",
      "\n",
      "Epoch 00006: val_acc did not improve from 0.95862\n",
      "Epoch 7/24\n",
      "2607/2607 [==============================] - 46s 18ms/step - loss: 0.0930 - acc: 0.9593 - val_loss: 0.1370 - val_acc: 0.9552\n",
      "\n",
      "Epoch 00007: val_acc did not improve from 0.95862\n",
      "Epoch 8/24\n",
      "2607/2607 [==============================] - 46s 17ms/step - loss: 0.1118 - acc: 0.9544 - val_loss: 0.1295 - val_acc: 0.9540\n",
      "\n",
      "Epoch 00008: val_acc did not improve from 0.95862\n",
      "Epoch 9/24\n",
      "2607/2607 [==============================] - 46s 18ms/step - loss: 0.0996 - acc: 0.9563 - val_loss: 0.1351 - val_acc: 0.9425\n",
      "\n",
      "Epoch 00009: val_acc did not improve from 0.95862\n",
      "Epoch 10/24\n",
      "2607/2607 [==============================] - 46s 17ms/step - loss: 0.0855 - acc: 0.9666 - val_loss: 0.0821 - val_acc: 0.9563\n",
      "\n",
      "Epoch 00010: val_acc did not improve from 0.95862\n",
      "Epoch 11/24\n",
      "2607/2607 [==============================] - 46s 17ms/step - loss: 0.0886 - acc: 0.9655 - val_loss: 0.0971 - val_acc: 0.9621\n",
      "\n",
      "Epoch 00011: val_acc improved from 0.95862 to 0.96207, saving model to checkpoints/weights.best.hdf5\n",
      "Epoch 12/24\n",
      "2607/2607 [==============================] - 46s 17ms/step - loss: 0.0639 - acc: 0.9720 - val_loss: 0.1698 - val_acc: 0.9552\n",
      "\n",
      "Epoch 00012: val_acc did not improve from 0.96207\n",
      "Epoch 13/24\n",
      "2607/2607 [==============================] - 46s 17ms/step - loss: 0.0965 - acc: 0.9655 - val_loss: 0.1271 - val_acc: 0.9506\n",
      "\n",
      "Epoch 00013: val_acc did not improve from 0.96207\n",
      "Epoch 14/24\n",
      "2607/2607 [==============================] - 46s 17ms/step - loss: 0.0672 - acc: 0.9712 - val_loss: 0.1415 - val_acc: 0.9529\n",
      "\n",
      "Epoch 00014: val_acc did not improve from 0.96207\n",
      "Epoch 15/24\n",
      "2607/2607 [==============================] - 46s 17ms/step - loss: 0.1469 - acc: 0.9605 - val_loss: 0.0998 - val_acc: 0.9644\n",
      "\n",
      "Epoch 00015: val_acc improved from 0.96207 to 0.96437, saving model to checkpoints/weights.best.hdf5\n",
      "Epoch 16/24\n",
      "2607/2607 [==============================] - 46s 17ms/step - loss: 0.0844 - acc: 0.9685 - val_loss: 0.1015 - val_acc: 0.9494\n",
      "\n",
      "Epoch 00016: val_acc did not improve from 0.96437\n",
      "Epoch 17/24\n",
      "2607/2607 [==============================] - 46s 18ms/step - loss: 0.0569 - acc: 0.9731 - val_loss: 0.1190 - val_acc: 0.9540\n",
      "\n",
      "Epoch 00017: val_acc did not improve from 0.96437\n",
      "Epoch 18/24\n",
      "2607/2607 [==============================] - 46s 18ms/step - loss: 0.0753 - acc: 0.9705 - val_loss: 0.1356 - val_acc: 0.9483\n",
      "\n",
      "Epoch 00018: val_acc did not improve from 0.96437\n",
      "Epoch 19/24\n",
      "2607/2607 [==============================] - 46s 18ms/step - loss: 0.0849 - acc: 0.9705 - val_loss: 0.1225 - val_acc: 0.9598\n",
      "\n",
      "Epoch 00019: val_acc did not improve from 0.96437\n",
      "Epoch 20/24\n",
      "2607/2607 [==============================] - 46s 18ms/step - loss: 0.0696 - acc: 0.9701 - val_loss: 0.1076 - val_acc: 0.9563\n",
      "\n",
      "Epoch 00020: val_acc did not improve from 0.96437\n",
      "Epoch 21/24\n",
      "2607/2607 [==============================] - 46s 18ms/step - loss: 0.0518 - acc: 0.9747 - val_loss: 0.1105 - val_acc: 0.9540\n",
      "\n",
      "Epoch 00021: val_acc did not improve from 0.96437\n",
      "Epoch 22/24\n",
      "2607/2607 [==============================] - 46s 18ms/step - loss: 0.0621 - acc: 0.9770 - val_loss: 0.1352 - val_acc: 0.9540\n",
      "\n",
      "Epoch 00022: val_acc did not improve from 0.96437\n",
      "Epoch 23/24\n",
      "2607/2607 [==============================] - 46s 17ms/step - loss: 0.0640 - acc: 0.9739 - val_loss: 0.1593 - val_acc: 0.9460\n",
      "\n",
      "Epoch 00023: val_acc did not improve from 0.96437\n",
      "Epoch 24/24\n",
      "2607/2607 [==============================] - 46s 18ms/step - loss: 0.0536 - acc: 0.9797 - val_loss: 0.1298 - val_acc: 0.9529\n",
      "\n",
      "Epoch 00024: val_acc did not improve from 0.96437\n"
     ]
    }
   ],
   "source": [
    "#create checkpoints dir\n",
    "training = model.fit(data_train, labels_train,\n",
    "                     batch_size=batch_size,\n",
    "                     epochs=epochs,\n",
    "                     verbose=1,\n",
    "                     validation_data=(data_val, labels_val),\n",
    "                     callbacks=callbacks_list)"
   ]
  },
  {
   "cell_type": "code",
   "execution_count": 24,
   "metadata": {},
   "outputs": [
    {
     "data": {
      "text/plain": [
       "(870, 100, 100, 1)"
      ]
     },
     "execution_count": 24,
     "metadata": {},
     "output_type": "execute_result"
    }
   ],
   "source": [
    "data_test.shape"
   ]
  },
  {
   "cell_type": "code",
   "execution_count": 25,
   "metadata": {},
   "outputs": [],
   "source": [
    "model.load_weights(\"checkpoints/weights.best.hdf5\")"
   ]
  },
  {
   "cell_type": "code",
   "execution_count": 26,
   "metadata": {},
   "outputs": [],
   "source": [
    "score = model.evaluate(data_test, labels_test, verbose=0)"
   ]
  },
  {
   "cell_type": "code",
   "execution_count": 27,
   "metadata": {},
   "outputs": [
    {
     "name": "stdout",
     "output_type": "stream",
     "text": [
      "[0.16265790262313068, 0.9528735632183908]\n"
     ]
    }
   ],
   "source": [
    "print(score)"
   ]
  },
  {
   "cell_type": "code",
   "execution_count": 28,
   "metadata": {},
   "outputs": [
    {
     "data": {
      "image/png": "[encoded data removed]",
      "text/plain": [
       "<Figure size 432x288 with 1 Axes>"
      ]
     },
     "metadata": {
      "needs_background": "light"
     },
     "output_type": "display_data"
    }
   ],
   "source": [
    "fig = bn.plot_accuracy(training)"
   ]
  },
  {
   "cell_type": "code",
   "execution_count": 29,
   "metadata": {},
   "outputs": [],
   "source": [
    "p = model.predict(data_test, batch_size=5)"
   ]
  },
  {
   "cell_type": "code",
   "execution_count": 30,
   "metadata": {},
   "outputs": [],
   "source": [
    "p_idx = np.argmax(p, axis=-1)\n",
    "labels_test_idx = np.argmax(labels_test, axis=-1)"
   ]
  },
  {
   "cell_type": "code",
   "execution_count": 31,
   "metadata": {},
   "outputs": [
    {
     "name": "stdout",
     "output_type": "stream",
     "text": [
      "Percent correct is 0.9528735632183908 \n",
      "Kappa is: 0.9510602917448714\n",
      "Jaccard is: 0.9528735632183908\n"
     ]
    }
   ],
   "source": [
    "imp.reload(bn)\n",
    "bn.print_accuarcystats(p_idx,labels_test_idx)"
   ]
  },
  {
   "cell_type": "code",
   "execution_count": 32,
   "metadata": {},
   "outputs": [
    {
     "data": {
      "image/png": "[encoded data removed]",
      "text/plain": [
       "<Figure size 720x576 with 2 Axes>"
      ]
     },
     "metadata": {
      "needs_background": "light"
     },
     "output_type": "display_data"
    }
   ],
   "source": [
    "bn.plotconfusionmat(bundle_names, p_idx, labels_test_idx)"
   ]
  },
  {
   "cell_type": "code",
   "execution_count": 33,
   "metadata": {},
   "outputs": [],
   "source": [
    "from sklearn.metrics import cohen_kappa_score, jaccard_similarity_score,confusion_matrix\n",
    "\n",
    "p_idx = np.argmax(p, axis=-1)\n",
    "labels_actual_idx = np.argmax(labels_test, axis=-1)\n",
    "labels = np.array(range(min(p_idx),max(p_idx)+1))\n",
    "confusion_mat = confusion_matrix(labels_actual_idx,p_idx, labels)"
   ]
  },
  {
   "cell_type": "markdown",
   "metadata": {},
   "source": [
    "Cross-predict on *another subject*"
   ]
  },
  {
   "cell_type": "code",
   "execution_count": 34,
   "metadata": {},
   "outputs": [],
   "source": [
    "sub2_bundle_files = glob('/home/ubuntu/.dipy/exp_bundles_and_maps/bundles_2_subjects/subj_2/bundles/*.trk')"
   ]
  },
  {
   "cell_type": "code",
   "execution_count": 35,
   "metadata": {},
   "outputs": [],
   "source": [
    "sub2_t1_img = nib.load('/home/ubuntu/.dipy/exp_bundles_and_maps/bundles_2_subjects/subj_2/t1_warped.nii.gz')"
   ]
  },
  {
   "cell_type": "code",
   "execution_count": 36,
   "metadata": {},
   "outputs": [],
   "source": [
    "n_streamlines = 0\n",
    "for fname in sub2_bundle_files:\n",
    "    streamlines = bn.read_sl(fname)\n",
    "    n_streamlines += len(streamlines)"
   ]
  },
  {
   "cell_type": "code",
   "execution_count": 37,
   "metadata": {},
   "outputs": [
    {
     "data": {
      "text/plain": [
       "57060"
      ]
     },
     "execution_count": 37,
     "metadata": {},
     "output_type": "execute_result"
    }
   ],
   "source": [
    "n_streamlines"
   ]
  },
  {
   "cell_type": "code",
   "execution_count": 38,
   "metadata": {},
   "outputs": [
    {
     "name": "stderr",
     "output_type": "stream",
     "text": [
      "/home/ubuntu/.local/lib/python3.5/site-packages/skimage/transform/_warps.py:105: UserWarning: The default mode, 'constant', will be changed to 'reflect' in skimage 0.15.\n",
      "  warn(\"The default mode, 'constant', will be changed to 'reflect' in \"\n",
      "/home/ubuntu/.local/lib/python3.5/site-packages/skimage/transform/_warps.py:110: UserWarning: Anti-aliasing will be enabled by default in skimage 0.15 to avoid aliasing artifacts when down-sampling images.\n",
      "  warn(\"Anti-aliasing will be enabled by default in skimage 0.15 to \"\n",
      "/home/ubuntu/.local/lib/python3.5/site-packages/skimage/transform/_warps.py:105: UserWarning: The default mode, 'constant', will be changed to 'reflect' in skimage 0.15.\n",
      "  warn(\"The default mode, 'constant', will be changed to 'reflect' in \"\n",
      "/home/ubuntu/.local/lib/python3.5/site-packages/skimage/transform/_warps.py:105: UserWarning: The default mode, 'constant', will be changed to 'reflect' in skimage 0.15.\n",
      "  warn(\"The default mode, 'constant', will be changed to 'reflect' in \"\n",
      "/home/ubuntu/.local/lib/python3.5/site-packages/skimage/transform/_warps.py:110: UserWarning: Anti-aliasing will be enabled by default in skimage 0.15 to avoid aliasing artifacts when down-sampling images.\n",
      "  warn(\"Anti-aliasing will be enabled by default in skimage 0.15 to \"\n",
      "/home/ubuntu/.local/lib/python3.5/site-packages/skimage/transform/_warps.py:110: UserWarning: Anti-aliasing will be enabled by default in skimage 0.15 to avoid aliasing artifacts when down-sampling images.\n",
      "  warn(\"Anti-aliasing will be enabled by default in skimage 0.15 to \"\n",
      "/home/ubuntu/.local/lib/python3.5/site-packages/skimage/transform/_warps.py:105: UserWarning: The default mode, 'constant', will be changed to 'reflect' in skimage 0.15.\n",
      "  warn(\"The default mode, 'constant', will be changed to 'reflect' in \"\n",
      "/home/ubuntu/.local/lib/python3.5/site-packages/skimage/transform/_warps.py:110: UserWarning: Anti-aliasing will be enabled by default in skimage 0.15 to avoid aliasing artifacts when down-sampling images.\n",
      "  warn(\"Anti-aliasing will be enabled by default in skimage 0.15 to \"\n",
      "/home/ubuntu/.local/lib/python3.5/site-packages/skimage/transform/_warps.py:105: UserWarning: The default mode, 'constant', will be changed to 'reflect' in skimage 0.15.\n",
      "  warn(\"The default mode, 'constant', will be changed to 'reflect' in \"\n",
      "/home/ubuntu/.local/lib/python3.5/site-packages/skimage/transform/_warps.py:110: UserWarning: Anti-aliasing will be enabled by default in skimage 0.15 to avoid aliasing artifacts when down-sampling images.\n",
      "  warn(\"Anti-aliasing will be enabled by default in skimage 0.15 to \"\n",
      "/home/ubuntu/.local/lib/python3.5/site-packages/skimage/transform/_warps.py:105: UserWarning: The default mode, 'constant', will be changed to 'reflect' in skimage 0.15.\n",
      "  warn(\"The default mode, 'constant', will be changed to 'reflect' in \"\n",
      "/home/ubuntu/.local/lib/python3.5/site-packages/skimage/transform/_warps.py:110: UserWarning: Anti-aliasing will be enabled by default in skimage 0.15 to avoid aliasing artifacts when down-sampling images.\n",
      "  warn(\"Anti-aliasing will be enabled by default in skimage 0.15 to \"\n",
      "/home/ubuntu/.local/lib/python3.5/site-packages/skimage/transform/_warps.py:105: UserWarning: The default mode, 'constant', will be changed to 'reflect' in skimage 0.15.\n",
      "  warn(\"The default mode, 'constant', will be changed to 'reflect' in \"\n",
      "/home/ubuntu/.local/lib/python3.5/site-packages/skimage/transform/_warps.py:110: UserWarning: Anti-aliasing will be enabled by default in skimage 0.15 to avoid aliasing artifacts when down-sampling images.\n",
      "  warn(\"Anti-aliasing will be enabled by default in skimage 0.15 to \"\n",
      "/home/ubuntu/.local/lib/python3.5/site-packages/skimage/transform/_warps.py:105: UserWarning: The default mode, 'constant', will be changed to 'reflect' in skimage 0.15.\n",
      "  warn(\"The default mode, 'constant', will be changed to 'reflect' in \"\n",
      "/home/ubuntu/.local/lib/python3.5/site-packages/skimage/transform/_warps.py:110: UserWarning: Anti-aliasing will be enabled by default in skimage 0.15 to avoid aliasing artifacts when down-sampling images.\n",
      "  warn(\"Anti-aliasing will be enabled by default in skimage 0.15 to \"\n"
     ]
    }
   ],
   "source": [
    "import imp  \n",
    "imp.reload(bn)\n",
    "vol_shape_subj2 = sub2_t1_img.shape\n",
    "streamlines_loaded_subj2 = db.from_sequence(sub2_bundle_files).map(bn.read_sl).compute()\n",
    "streamlines_processed_subj2 = db.from_sequence(streamlines_loaded_subj2).map(bn.process_sl,-1,vol_shape_subj2,size_slimage).compute() "
   ]
  },
  {
   "cell_type": "code",
   "execution_count": 39,
   "metadata": {},
   "outputs": [
    {
     "data": {
      "text/plain": [
       "528"
      ]
     },
     "execution_count": 39,
     "metadata": {},
     "output_type": "execute_result"
    }
   ],
   "source": [
    "len(streamlines_loaded_subj2[10])"
   ]
  },
  {
   "cell_type": "code",
   "execution_count": 40,
   "metadata": {},
   "outputs": [
    {
     "data": {
      "text/plain": [
       "(256, 256, 150)"
      ]
     },
     "execution_count": 40,
     "metadata": {},
     "output_type": "execute_result"
    }
   ],
   "source": [
    "vol_shape_subj2"
   ]
  },
  {
   "cell_type": "code",
   "execution_count": 42,
   "metadata": {},
   "outputs": [],
   "source": [
    "all_streamlines, all_labels = bn.getdata(streamlines_processed)"
   ]
  },
  {
   "cell_type": "code",
   "execution_count": 43,
   "metadata": {},
   "outputs": [],
   "source": [
    "p_subj2 = model.predict(all_streamlines, batch_size=5)"
   ]
  },
  {
   "cell_type": "code",
   "execution_count": 44,
   "metadata": {},
   "outputs": [],
   "source": [
    "p_idx = np.argmax(p_subj2, axis=-1)"
   ]
  },
  {
   "cell_type": "code",
   "execution_count": 45,
   "metadata": {},
   "outputs": [
    {
     "name": "stdout",
     "output_type": "stream",
     "text": [
      "Percent correct is 0.9712445364619278 \n",
      "Kappa is: 0.9701385570950788\n",
      "Jaccard is: 0.9712445364619278\n"
     ]
    }
   ],
   "source": [
    "bn.print_accuarcystats(p_idx,all_labels)"
   ]
  },
  {
   "cell_type": "code",
   "execution_count": 46,
   "metadata": {},
   "outputs": [
    {
     "data": {
      "image/png": "[encoded data removed]",
      "text/plain": [
       "<Figure size 720x576 with 2 Axes>"
      ]
     },
     "metadata": {
      "needs_background": "light"
     },
     "output_type": "display_data"
    }
   ],
   "source": [
    "bn.plotconfusionmat(bundle_names, p_idx, all_labels)"
   ]
  },
  {
   "cell_type": "code",
   "execution_count": 51,
   "metadata": {},
   "outputs": [],
   "source": [
    "p_error = p_subj2[~(p_idx == all_labels)]\n",
    "p_correct = p_subj2[p_idx == all_labels]"
   ]
  },
  {
   "cell_type": "code",
   "execution_count": 52,
   "metadata": {},
   "outputs": [
    {
     "name": "stderr",
     "output_type": "stream",
     "text": [
      "/home/ubuntu/.local/lib/python3.5/site-packages/matplotlib/axes/_axes.py:6571: UserWarning: The 'normed' kwarg is deprecated, and has been replaced by the 'density' kwarg.\n",
      "  warnings.warn(\"The 'normed' kwarg is deprecated, and has been \"\n"
     ]
    },
    {
     "data": {
      "text/plain": [
       "<matplotlib.legend.Legend at 0x7f7790fcd240>"
      ]
     },
     "execution_count": 52,
     "metadata": {},
     "output_type": "execute_result"
    },
    {
     "data": {
      "image/png": "[encoded data removed]",
      "text/plain": [
       "<Figure size 432x288 with 1 Axes>"
      ]
     },
     "metadata": {
      "needs_background": "light"
     },
     "output_type": "display_data"
    }
   ],
   "source": [
    "fig, ax = plt.subplots(1)\n",
    "ax.hist(np.max(p_correct, -1), histtype='step', linewidth=2, normed=True, bins=10, label=\"Correct\")\n",
    "ax.hist(np.max(p_error, -1), histtype='step', linewidth=2, normed=True, bins=10, label=\"Incorrect\")\n",
    "ax.set_xlabel(\"Probability of chosen category\")\n",
    "ax.set_ylabel(\"Normalized frequency\")\n",
    "plt.legend(loc=\"upper left\")"
   ]
  },
  {
   "cell_type": "code",
   "execution_count": 54,
   "metadata": {},
   "outputs": [],
   "source": [
    "sl = bn.read_sl(\"/home/ubuntu/stanford_hardi/derivatives/afq/sub-01/sess-01/sub-01_sess-01_dwiDTI_det_streamlines.trk\")"
   ]
  },
  {
   "cell_type": "code",
   "execution_count": 55,
   "metadata": {},
   "outputs": [
    {
     "data": {
      "text/plain": [
       "(81, 106, 76)"
      ]
     },
     "execution_count": 55,
     "metadata": {},
     "output_type": "execute_result"
    }
   ],
   "source": [
    "dwi_img = nib.load('/home/ubuntu/stanford_hardi/derivatives/afq/sub-01/sess-01/sub-01_sess-01_dwi_b0.nii.gz')\n",
    "vol_shape_dwi=dwi_img.shape\n",
    "vol_shape_dwi"
   ]
  },
  {
   "cell_type": "code",
   "execution_count": 56,
   "metadata": {},
   "outputs": [
    {
     "name": "stderr",
     "output_type": "stream",
     "text": [
      "/home/ubuntu/.local/lib/python3.5/site-packages/skimage/transform/_warps.py:105: UserWarning: The default mode, 'constant', will be changed to 'reflect' in skimage 0.15.\n",
      "  warn(\"The default mode, 'constant', will be changed to 'reflect' in \"\n",
      "/home/ubuntu/.local/lib/python3.5/site-packages/skimage/transform/_warps.py:110: UserWarning: Anti-aliasing will be enabled by default in skimage 0.15 to avoid aliasing artifacts when down-sampling images.\n",
      "  warn(\"Anti-aliasing will be enabled by default in skimage 0.15 to \"\n"
     ]
    },
    {
     "data": {
      "text/plain": [
       "<matplotlib.image.AxesImage at 0x7f774818ffd0>"
      ]
     },
     "execution_count": 56,
     "metadata": {},
     "output_type": "execute_result"
    },
    {
     "data": {
      "image/png": "[encoded data removed]",
      "text/plain": [
       "<Figure size 288x288 with 1 Axes>"
      ]
     },
     "metadata": {
      "needs_background": "light"
     },
     "output_type": "display_data"
    },
    {
     "data": {
      "image/png": "[encoded data removed]",
      "text/plain": [
       "<Figure size 288x288 with 1 Axes>"
      ]
     },
     "metadata": {
      "needs_background": "light"
     },
     "output_type": "display_data"
    }
   ],
   "source": [
    "import imp  \n",
    "imp.reload(bn)\n",
    "\n",
    "stan_loaded = db.from_sequence([\"/home/ubuntu/stanford_hardi/derivatives/afq/sub-01/sess-01/clean_bundles/UNC_R.trk\"]).map(bn.read_sl).compute()\n",
    "stan_streamlines_processed = db.from_sequence(stan_loaded).map(bn.process_sl,size_slimage,vol_shape_dwi,size_slimage).compute() \n",
    "tmp = stan_streamlines_processed[0]\n",
    "plt.matshow(np.squeeze(np.sum(tmp,axis=0))) \n",
    "tmp1 = tmp[:,:,0,:]\n",
    "plt.matshow(np.squeeze(tmp[10,:,:,:]))"
   ]
  },
  {
   "cell_type": "code",
   "execution_count": 57,
   "metadata": {},
   "outputs": [
    {
     "name": "stderr",
     "output_type": "stream",
     "text": [
      "/home/ubuntu/.local/lib/python3.5/site-packages/skimage/transform/_warps.py:105: UserWarning: The default mode, 'constant', will be changed to 'reflect' in skimage 0.15.\n",
      "  warn(\"The default mode, 'constant', will be changed to 'reflect' in \"\n",
      "/home/ubuntu/.local/lib/python3.5/site-packages/skimage/transform/_warps.py:110: UserWarning: Anti-aliasing will be enabled by default in skimage 0.15 to avoid aliasing artifacts when down-sampling images.\n",
      "  warn(\"Anti-aliasing will be enabled by default in skimage 0.15 to \"\n"
     ]
    },
    {
     "data": {
      "text/plain": [
       "<matplotlib.image.AxesImage at 0x7f7790e0c128>"
      ]
     },
     "execution_count": 57,
     "metadata": {},
     "output_type": "execute_result"
    },
    {
     "data": {
      "image/png": "[encoded data removed]",
      "text/plain": [
       "<Figure size 288x288 with 1 Axes>"
      ]
     },
     "metadata": {
      "needs_background": "light"
     },
     "output_type": "display_data"
    },
    {
     "data": {
      "image/png": "[encoded data removed]",
      "text/plain": [
       "<Figure size 288x288 with 1 Axes>"
      ]
     },
     "metadata": {
      "needs_background": "light"
     },
     "output_type": "display_data"
    }
   ],
   "source": [
    "atlas_loaded = db.from_sequence([bundle_files[11]]).map(bn.read_sl).compute()\n",
    "atlas_streamlines_processed = db.from_sequence(atlas_loaded).map(bn.process_sl,100,vol_shape,size_slimage).compute() \n",
    "tmp = atlas_streamlines_processed[0]\n",
    "plt.matshow(np.squeeze(np.sum(tmp,axis=0)))\n",
    "tmp1 = tmp[:,:,0,:]\n",
    "plt.matshow(np.squeeze(tmp[1,:,:,:]))"
   ]
  },
  {
   "cell_type": "code",
   "execution_count": null,
   "metadata": {},
   "outputs": [],
   "source": []
  }
 ],
 "metadata": {
  "kernelspec": {
   "display_name": "Python 3",
   "language": "python",
   "name": "python3"
  },
  "language_info": {
   "codemirror_mode": {
    "name": "ipython",
    "version": 3
   },
   "file_extension": ".py",
   "mimetype": "text/x-python",
   "name": "python",
   "nbconvert_exporter": "python",
   "pygments_lexer": "ipython3",
   "version": "3.5.2"
  }
 },
 "nbformat": 4,
 "nbformat_minor": 1
}
