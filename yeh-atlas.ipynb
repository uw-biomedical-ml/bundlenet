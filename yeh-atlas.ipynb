{
 "cells": [
  {
   "cell_type": "code",
   "execution_count": 1,
   "metadata": {
    "collapsed": false
   },
   "outputs": [],
   "source": [
    "from glob import glob\n",
    "import os.path as op\n",
    "import numpy as np\n",
    "import matplotlib.pyplot as plt\n",
    "%matplotlib inline"
   ]
  },
  {
   "cell_type": "code",
   "execution_count": 2,
   "metadata": {
    "collapsed": true
   },
   "outputs": [],
   "source": [
    "import nibabel as nib\n",
    "from nibabel.streamlines import load as load_trk\n",
    "import dipy.tracking.streamline as dts\n",
    "from skimage.transform import resize\n",
    "from scipy.ndimage.morphology import binary_dilation"
   ]
  },
  {
   "cell_type": "code",
   "execution_count": 3,
   "metadata": {
    "collapsed": false
   },
   "outputs": [
    {
     "name": "stderr",
     "output_type": "stream",
     "text": [
      "Using TensorFlow backend.\n"
     ]
    }
   ],
   "source": [
    "import keras\n",
    "from keras.models import Sequential\n",
    "from keras.layers import Dense, Dropout, Flatten\n",
    "from keras.layers import Conv2D, MaxPooling2D"
   ]
  },
  {
   "cell_type": "code",
   "execution_count": 4,
   "metadata": {
    "collapsed": true
   },
   "outputs": [],
   "source": [
    "# Just choose the first one\n",
    "atlas_img = nib.load('/home/ariel/data/volume/Acoustic_Radiation_L.nii.gz')"
   ]
  },
  {
   "cell_type": "code",
   "execution_count": 5,
   "metadata": {
    "collapsed": true
   },
   "outputs": [],
   "source": [
    "atlas_affine = atlas_img.affine\n",
    "atlas_shape = atlas_img.shape"
   ]
  },
  {
   "cell_type": "code",
   "execution_count": 6,
   "metadata": {
    "collapsed": false
   },
   "outputs": [
    {
     "data": {
      "text/plain": [
       "(157, 189, 136)"
      ]
     },
     "execution_count": 6,
     "metadata": {},
     "output_type": "execute_result"
    }
   ],
   "source": [
    "atlas_shape"
   ]
  },
  {
   "cell_type": "code",
   "execution_count": 7,
   "metadata": {
    "collapsed": false
   },
   "outputs": [],
   "source": [
    "group_dirs = glob('/home/ariel/data/tracks/*')"
   ]
  },
  {
   "cell_type": "code",
   "execution_count": 8,
   "metadata": {
    "collapsed": false
   },
   "outputs": [
    {
     "data": {
      "text/plain": [
       "['/home/ariel/data/tracks/cerebellum',\n",
       " '/home/ariel/data/tracks/brainstem',\n",
       " '/home/ariel/data/tracks/association',\n",
       " '/home/ariel/data/tracks/projection',\n",
       " '/home/ariel/data/tracks/commisural',\n",
       " '/home/ariel/data/tracks/cranial nerve']"
      ]
     },
     "execution_count": 8,
     "metadata": {},
     "output_type": "execute_result"
    }
   ],
   "source": [
    "group_dirs"
   ]
  },
  {
   "cell_type": "code",
   "execution_count": 9,
   "metadata": {
    "collapsed": false
   },
   "outputs": [],
   "source": [
    "track_files = [glob(op.join(d, '*.trk.gz')) for d in group_dirs]"
   ]
  },
  {
   "cell_type": "code",
   "execution_count": null,
   "metadata": {
    "collapsed": false
   },
   "outputs": [],
   "source": []
  },
  {
   "cell_type": "code",
   "execution_count": 69,
   "metadata": {
    "collapsed": true
   },
   "outputs": [],
   "source": [
    "def read_sl(fname, affine):\n",
    "    trk = load_trk(fname)\n",
    "    sl = trk.streamlines\n",
    "    sl = [dts.apply_affine(np.linalg.inv(affine), s) for s in sl]\n",
    "    return sl"
   ]
  },
  {
   "cell_type": "code",
   "execution_count": 34,
   "metadata": {
    "collapsed": true
   },
   "outputs": [],
   "source": [
    "def reduce_sl(sl):\n",
    "    \"\"\" \n",
    "    Reduces a 3D streamline to a binarized 100 x 100 image\n",
    "    \"\"\"\n",
    "    vol = np.zeros((300, 300, 300), dtype=bool)\n",
    "    sl = np.round(sl).astype(int).T\n",
    "    vol[sl[0], sl[1], sl[2]] = 1\n",
    "    # emphasize it a bit:\n",
    "    vol = binary_dilation(vol, iterations=5)\n",
    "    vol = resize(vol, (100, 100, 100))\n",
    "    projected = np.concatenate([np.max(vol, dim) for dim in range(len(vol.shape))])\n",
    "    projected = resize(projected, (100, 100, 1))\n",
    "    return projected"
   ]
  },
  {
   "cell_type": "code",
   "execution_count": 11,
   "metadata": {
    "collapsed": false
   },
   "outputs": [],
   "source": [
    "exclude = [op.join('/home/ariel/data/tracks/', g) for g in [\"cerebellum\", \"brainstem\", \"cranial nerve\"]]"
   ]
  },
  {
   "cell_type": "code",
   "execution_count": 59,
   "metadata": {
    "collapsed": false
   },
   "outputs": [
    {
     "data": {
      "text/plain": [
       "'AC'"
      ]
     },
     "execution_count": 59,
     "metadata": {},
     "output_type": "execute_result"
    }
   ],
   "source": []
  },
  {
   "cell_type": "code",
   "execution_count": 62,
   "metadata": {
    "collapsed": false
   },
   "outputs": [],
   "source": [
    "max_x = 0\n",
    "max_y = 0\n",
    "max_z = 0\n",
    "n_streamlines = []\n",
    "group_names = []\n",
    "for group_dir, group in zip(group_dirs, track_files):\n",
    "    if group_dir not in exclude:\n",
    "        for fname in group:\n",
    "            group_names.append(fname.split('.')[-3].split('/')[-1])\n",
    "            streamlines = read_sl(fname) \n",
    "            n_streamlines.append(len(streamlines))\n",
    "            for sl in streamlines:\n",
    "                if len(sl) > 1:\n",
    "                    maxes = np.max(sl, 1)\n",
    "                    max_x = np.max([maxes[0], max_x])\n",
    "                    max_y = np.max([maxes[1], max_y])\n",
    "                    max_z = np.max([maxes[2], max_z])\n",
    "                "
   ]
  },
  {
   "cell_type": "code",
   "execution_count": 13,
   "metadata": {
    "collapsed": false
   },
   "outputs": [
    {
     "data": {
      "text/plain": [
       "(246.71162414550781, 243.90304565429688, 242.99563598632812)"
      ]
     },
     "execution_count": 13,
     "metadata": {},
     "output_type": "execute_result"
    }
   ],
   "source": [
    "max_x, max_y, max_z"
   ]
  },
  {
   "cell_type": "code",
   "execution_count": 14,
   "metadata": {
    "collapsed": false
   },
   "outputs": [
    {
     "data": {
      "text/plain": [
       "(45747, 72, 45)"
      ]
     },
     "execution_count": 14,
     "metadata": {},
     "output_type": "execute_result"
    }
   ],
   "source": [
    "np.max(n_streamlines), np.min(n_streamlines), len(n_streamlines)"
   ]
  },
  {
   "cell_type": "code",
   "execution_count": 15,
   "metadata": {
    "collapsed": true
   },
   "outputs": [],
   "source": [
    "take_n_bundles = len(n_streamlines)"
   ]
  },
  {
   "cell_type": "code",
   "execution_count": 16,
   "metadata": {
    "collapsed": true
   },
   "outputs": [],
   "source": [
    "take_n_sl = np.min(n_streamlines)"
   ]
  },
  {
   "cell_type": "code",
   "execution_count": 17,
   "metadata": {
    "collapsed": true
   },
   "outputs": [],
   "source": [
    "take_n_bundles = 45\n",
    "take_n_sl = 70"
   ]
  },
  {
   "cell_type": "code",
   "execution_count": 18,
   "metadata": {
    "collapsed": false
   },
   "outputs": [
    {
     "name": "stderr",
     "output_type": "stream",
     "text": [
      "/usr/local/lib/python3.4/dist-packages/skimage/transform/_warps.py:84: UserWarning: The default mode, 'constant', will be changed to 'reflect' in skimage 0.15.\n",
      "  warn(\"The default mode, 'constant', will be changed to 'reflect' in \"\n"
     ]
    }
   ],
   "source": [
    "data_train = np.zeros((np.int(np.round(take_n_bundles * take_n_sl * 0.6)),  100, 100, 1), dtype='float32')\n",
    "data_valid = np.zeros((np.int(np.round(take_n_bundles * take_n_sl * 0.2)),  100, 100, 1), dtype='float32')\n",
    "data_test = np.zeros((np.int(np.round(take_n_bundles * take_n_sl * 0.2)),  100, 100, 1), dtype='float32')\n",
    "\n",
    "labels_train = np.zeros(np.int(np.round(take_n_bundles * take_n_sl * 0.6)))\n",
    "labels_valid = np.zeros(np.int(np.round(take_n_bundles * take_n_sl * 0.2)))\n",
    "labels_test = np.zeros(np.int(np.round(take_n_bundles * take_n_sl * 0.2)))\n",
    "\n",
    "ii_train = 0\n",
    "ii_valid = 0\n",
    "ii_test = 0\n",
    "\n",
    "tract_id = 0\n",
    "for group_dir, group in zip(group_dirs, track_files):\n",
    "    if group_dir not in exclude:\n",
    "        for fname in group:\n",
    "            tract_id += 1\n",
    "            if tract_id > take_n_bundles: \n",
    "                break\n",
    "            streamlines = read_sl(fname, atlas_affine) \n",
    "            choose_sl = streamlines[:take_n_sl]\n",
    "            # Shuffle them in case they are ordered somehow:\n",
    "            np.random.shuffle(choose_sl)\n",
    "            for sl_idx, sl in enumerate(choose_sl):\n",
    "                assert np.all(sl > 0), \"Negatory\"\n",
    "                projected = reduce_sl(sl)\n",
    "                if sl_idx < (np.round(take_n_sl * 0.2)):\n",
    "                    data_test[ii_test] = projected\n",
    "                    labels_test[ii_test] = tract_id\n",
    "                    ii_test += 1\n",
    "                elif sl_idx < (np.round(take_n_sl * 0.4)):\n",
    "                    data_valid[ii_valid] = projected\n",
    "                    labels_valid[ii_valid] = tract_id\n",
    "                    ii_valid += 1\n",
    "                else:\n",
    "                    data_train[ii_train] = projected\n",
    "                    labels_train[ii_train] = tract_id\n",
    "                    ii_train += 1"
   ]
  },
  {
   "cell_type": "code",
   "execution_count": 19,
   "metadata": {
    "collapsed": true
   },
   "outputs": [],
   "source": [
    "img_rows = 100\n",
    "img_cols = 100\n",
    "batch_size = 5\n",
    "epochs = 12\n",
    "num_classes = 45\n",
    "input_shape = (img_rows, img_cols, 1)"
   ]
  },
  {
   "cell_type": "code",
   "execution_count": 20,
   "metadata": {
    "collapsed": false
   },
   "outputs": [],
   "source": [
    "labels_train = keras.utils.to_categorical(labels_train-1, num_classes)\n",
    "labels_valid = keras.utils.to_categorical(labels_valid-1, num_classes)\n",
    "labels_test  = keras.utils.to_categorical(labels_test-1, num_classes)"
   ]
  },
  {
   "cell_type": "code",
   "execution_count": 21,
   "metadata": {
    "collapsed": false
   },
   "outputs": [],
   "source": [
    "model = Sequential()\n",
    "model.add(Conv2D(32, kernel_size=(3, 3),\n",
    "                 activation='relu',\n",
    "                 input_shape=input_shape))\n",
    "model.add(Conv2D(64, (3, 3), activation='relu'))\n",
    "model.add(MaxPooling2D(pool_size=(2, 2)))\n",
    "model.add(Dropout(0.25))\n",
    "model.add(Flatten())\n",
    "model.add(Dense(128, activation='relu'))\n",
    "model.add(Dropout(0.5))\n",
    "model.add(Dense(num_classes, activation='softmax'))\n"
   ]
  },
  {
   "cell_type": "code",
   "execution_count": 22,
   "metadata": {
    "collapsed": true
   },
   "outputs": [],
   "source": [
    "model.compile(loss=keras.losses.categorical_crossentropy,\n",
    "              optimizer=keras.optimizers.Adadelta(),\n",
    "              metrics=['accuracy'])"
   ]
  },
  {
   "cell_type": "code",
   "execution_count": 23,
   "metadata": {
    "collapsed": false
   },
   "outputs": [
    {
     "name": "stdout",
     "output_type": "stream",
     "text": [
      "Train on 1890 samples, validate on 630 samples\n",
      "Epoch 1/12\n",
      "1890/1890 [==============================] - 33s - loss: 1.1058 - acc: 0.7085 - val_loss: 0.0449 - val_acc: 0.9841\n",
      "Epoch 2/12\n",
      "1890/1890 [==============================] - 32s - loss: 0.1477 - acc: 0.9582 - val_loss: 0.0106 - val_acc: 0.9968\n",
      "Epoch 3/12\n",
      "1890/1890 [==============================] - 32s - loss: 0.0980 - acc: 0.9704 - val_loss: 0.0120 - val_acc: 0.9968\n",
      "Epoch 4/12\n",
      "1890/1890 [==============================] - 32s - loss: 0.0620 - acc: 0.9778 - val_loss: 0.0057 - val_acc: 0.9968\n",
      "Epoch 5/12\n",
      "1890/1890 [==============================] - 32s - loss: 0.0375 - acc: 0.9894 - val_loss: 0.0094 - val_acc: 0.9968\n",
      "Epoch 6/12\n",
      "1890/1890 [==============================] - 32s - loss: 0.0437 - acc: 0.9857 - val_loss: 0.0044 - val_acc: 0.9984\n",
      "Epoch 7/12\n",
      "1890/1890 [==============================] - 32s - loss: 0.0277 - acc: 0.9910 - val_loss: 0.0075 - val_acc: 0.9984\n",
      "Epoch 8/12\n",
      "1890/1890 [==============================] - 32s - loss: 0.0224 - acc: 0.9921 - val_loss: 0.0080 - val_acc: 0.9984\n",
      "Epoch 9/12\n",
      "1890/1890 [==============================] - 32s - loss: 0.0272 - acc: 0.9894 - val_loss: 0.0018 - val_acc: 0.9984\n",
      "Epoch 10/12\n",
      "1890/1890 [==============================] - 32s - loss: 0.0352 - acc: 0.9921 - val_loss: 9.8594e-04 - val_acc: 1.0000\n",
      "Epoch 11/12\n",
      "1890/1890 [==============================] - 32s - loss: 0.0159 - acc: 0.9937 - val_loss: 8.6251e-04 - val_acc: 1.0000\n",
      "Epoch 12/12\n",
      "1890/1890 [==============================] - 32s - loss: 0.0149 - acc: 0.9968 - val_loss: 0.0015 - val_acc: 0.9984\n"
     ]
    }
   ],
   "source": [
    "training = model.fit(data_train, labels_train,\n",
    "                     batch_size=batch_size,\n",
    "                     epochs=epochs,\n",
    "                     verbose=1,\n",
    "                     validation_data=(data_valid, labels_valid))"
   ]
  },
  {
   "cell_type": "code",
   "execution_count": 24,
   "metadata": {
    "collapsed": false
   },
   "outputs": [],
   "source": [
    "score = model.evaluate(data_test, labels_test, verbose=0)"
   ]
  },
  {
   "cell_type": "code",
   "execution_count": 25,
   "metadata": {
    "collapsed": false
   },
   "outputs": [
    {
     "name": "stdout",
     "output_type": "stream",
     "text": [
      "[0.024994058040882765, 0.99682539682539684]\n"
     ]
    }
   ],
   "source": [
    "print(score)"
   ]
  },
  {
   "cell_type": "code",
   "execution_count": 26,
   "metadata": {
    "collapsed": true
   },
   "outputs": [],
   "source": [
    "import matplotlib.pyplot as plt\n",
    "%matplotlib inline"
   ]
  },
  {
   "cell_type": "code",
   "execution_count": 27,
   "metadata": {
    "collapsed": false
   },
   "outputs": [
    {
     "data": {
      "text/plain": [
       "<matplotlib.legend.Legend at 0x7fb6dcd00f98>"
      ]
     },
     "execution_count": 27,
     "metadata": {},
     "output_type": "execute_result"
    },
    {
     "data": {
      "image/png": "[encoded data removed]",
      "text/plain": [
       "<matplotlib.figure.Figure at 0x7fb6dcd9a6a0>"
      ]
     },
     "metadata": {},
     "output_type": "display_data"
    }
   ],
   "source": [
    "accuracy = training.history['acc']\n",
    "val_accuracy = training.history['val_acc']\n",
    "loss = training.history['loss']\n",
    "val_loss = training.history['val_loss']\n",
    "epochs = range(len(accuracy))\n",
    "plt.plot(epochs, accuracy, 'bo--', label='Training accuracy')\n",
    "plt.plot(epochs, val_accuracy, 'ro--', label='Validation accuracy')\n",
    "plt.title('Training and validation accuracy')\n",
    "plt.legend()"
   ]
  }
 ],
 "metadata": {
  "kernelspec": {
   "display_name": "Python 3",
   "language": "python",
   "name": "python3"
  },
  "language_info": {
   "codemirror_mode": {
    "name": "ipython",
    "version": 3
   },
   "file_extension": ".py",
   "mimetype": "text/x-python",
   "name": "python",
   "nbconvert_exporter": "python",
   "pygments_lexer": "ipython3",
   "version": "3.4.3"
  }
 },
 "nbformat": 4,
 "nbformat_minor": 1
}
