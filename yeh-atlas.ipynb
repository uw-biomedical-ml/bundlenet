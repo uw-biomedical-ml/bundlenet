{
 "cells": [
  {
   "cell_type": "markdown",
   "metadata": {},
   "source": [
    "from glob import glob\n",
    "import os.path as op\n",
    "import numpy as np\n",
    "import matplotlib.pyplot as plt\n",
    "import seaborn as sns\n",
    "%matplotlib inline"
   ]
  },
  {
   "cell_type": "code",
   "execution_count": null,
   "metadata": {},
   "outputs": [],
   "source": [
    "# what space are the streamline are in?\n",
    "#also try AFQ whole sl set"
   ]
  },
  {
   "cell_type": "code",
   "execution_count": 2,
   "metadata": {
    "collapsed": true
   },
   "outputs": [],
   "source": [
    "import nibabel as nib\n",
    "from nibabel.streamlines import load as load_trk\n",
    "import dipy.tracking.streamline as dts\n",
    "from skimage.transform import resize\n",
    "from scipy.ndimage.morphology import binary_dilation"
   ]
  },
  {
   "cell_type": "code",
   "execution_count": 3,
   "metadata": {},
   "outputs": [
    {
     "name": "stderr",
     "output_type": "stream",
     "text": [
      "Using TensorFlow backend.\n"
     ]
    }
   ],
   "source": [
    "import keras\n",
    "from keras.models import Sequential\n",
    "from keras.layers import Dense, Dropout, Flatten, LeakyReLU\n",
    "from keras.layers import Conv2D, MaxPooling2D"
   ]
  },
  {
   "cell_type": "code",
   "execution_count": 4,
   "metadata": {},
   "outputs": [],
   "source": [
    "import bundlenet as bn"
   ]
  },
  {
   "cell_type": "code",
   "execution_count": 5,
   "metadata": {
    "collapsed": true
   },
   "outputs": [],
   "source": [
    "# Just choose the first one\n",
    "atlas_img = nib.load('/home/ariel/data/volume/Acoustic_Radiation_L.nii.gz')"
   ]
  },
  {
   "cell_type": "code",
   "execution_count": 6,
   "metadata": {
    "collapsed": true
   },
   "outputs": [],
   "source": [
    "atlas_affine = atlas_img.affine\n",
    "atlas_shape = atlas_img.shape"
   ]
  },
  {
   "cell_type": "code",
   "execution_count": 7,
   "metadata": {},
   "outputs": [
    {
     "data": {
      "text/plain": [
       "(157, 189, 136)"
      ]
     },
     "execution_count": 7,
     "metadata": {},
     "output_type": "execute_result"
    }
   ],
   "source": [
    "atlas_shape"
   ]
  },
  {
   "cell_type": "code",
   "execution_count": 8,
   "metadata": {},
   "outputs": [],
   "source": [
    "group_dirs = glob('/home/ariel/data/tracks/*')"
   ]
  },
  {
   "cell_type": "code",
   "execution_count": 9,
   "metadata": {},
   "outputs": [],
   "source": [
    "exclude = [op.join('/home/ariel/data/tracks/', g) for g in [\"cerebellum\", \"brainstem\", \"cranial nerve\"]]"
   ]
  },
  {
   "cell_type": "code",
   "execution_count": 12,
   "metadata": {},
   "outputs": [],
   "source": [
    "#group_dirs = [g for g in group_dirs if g not in exclude]"
   ]
  },
  {
   "cell_type": "code",
   "execution_count": 13,
   "metadata": {},
   "outputs": [],
   "source": [
    "track_files_groups = [glob(op.join(d, '*.trk.gz')) for d in group_dirs]"
   ]
  },
  {
   "cell_type": "code",
   "execution_count": 14,
   "metadata": {},
   "outputs": [
    {
     "data": {
      "text/plain": [
       "[['/home/ariel/data/tracks/cerebellum/MCP.trk.gz',\n",
       "  '/home/ariel/data/tracks/cerebellum/ICP_R.trk.gz',\n",
       "  '/home/ariel/data/tracks/cerebellum/V.trk.gz',\n",
       "  '/home/ariel/data/tracks/cerebellum/SCP.trk.gz',\n",
       "  '/home/ariel/data/tracks/cerebellum/CB_L.trk.gz',\n",
       "  '/home/ariel/data/tracks/cerebellum/ICP_L.trk.gz',\n",
       "  '/home/ariel/data/tracks/cerebellum/CB_R.trk.gz'],\n",
       " ['/home/ariel/data/tracks/brainstem/DLF_L.trk.gz',\n",
       "  '/home/ariel/data/tracks/brainstem/STT_R.trk.gz',\n",
       "  '/home/ariel/data/tracks/brainstem/LL_R.trk.gz',\n",
       "  '/home/ariel/data/tracks/brainstem/ML_R.trk.gz',\n",
       "  '/home/ariel/data/tracks/brainstem/MLF_L.trk.gz',\n",
       "  '/home/ariel/data/tracks/brainstem/LL_L.trk.gz',\n",
       "  '/home/ariel/data/tracks/brainstem/ML_L.trk.gz',\n",
       "  '/home/ariel/data/tracks/brainstem/CTT_L.trk.gz',\n",
       "  '/home/ariel/data/tracks/brainstem/STT_L.trk.gz',\n",
       "  '/home/ariel/data/tracks/brainstem/MLF_R.trk.gz',\n",
       "  '/home/ariel/data/tracks/brainstem/CTT_R.trk.gz',\n",
       "  '/home/ariel/data/tracks/brainstem/DLF_R.trk.gz',\n",
       "  '/home/ariel/data/tracks/brainstem/RST_L.trk.gz',\n",
       "  '/home/ariel/data/tracks/brainstem/RST_R.trk.gz'],\n",
       " ['/home/ariel/data/tracks/association/AF_L.trk.gz',\n",
       "  '/home/ariel/data/tracks/association/EMC_L.trk.gz',\n",
       "  '/home/ariel/data/tracks/association/U_L.trk.gz',\n",
       "  '/home/ariel/data/tracks/association/VOF_L.trk.gz',\n",
       "  '/home/ariel/data/tracks/association/SLF_L.trk.gz',\n",
       "  '/home/ariel/data/tracks/association/MdLF_L.trk.gz',\n",
       "  '/home/ariel/data/tracks/association/EMC_R.trk.gz',\n",
       "  '/home/ariel/data/tracks/association/ILF_R.trk.gz',\n",
       "  '/home/ariel/data/tracks/association/IFOF_L.trk.gz',\n",
       "  '/home/ariel/data/tracks/association/AF_R.trk.gz',\n",
       "  '/home/ariel/data/tracks/association/ILF_L.trk.gz',\n",
       "  '/home/ariel/data/tracks/association/SLF_R.trk.gz',\n",
       "  '/home/ariel/data/tracks/association/UF_L.trk.gz',\n",
       "  '/home/ariel/data/tracks/association/UF_R.trk.gz',\n",
       "  '/home/ariel/data/tracks/association/IFOF_R.trk.gz',\n",
       "  '/home/ariel/data/tracks/association/C_R.trk.gz',\n",
       "  '/home/ariel/data/tracks/association/MdLF_R.trk.gz',\n",
       "  '/home/ariel/data/tracks/association/VOF_R.trk.gz',\n",
       "  '/home/ariel/data/tracks/association/U_R.trk.gz',\n",
       "  '/home/ariel/data/tracks/association/AST_L.trk.gz',\n",
       "  '/home/ariel/data/tracks/association/AST_R.trk.gz',\n",
       "  '/home/ariel/data/tracks/association/C_L.trk.gz'],\n",
       " ['/home/ariel/data/tracks/projection/FPT_R.trk.gz',\n",
       "  '/home/ariel/data/tracks/projection/OR_R.trk.gz',\n",
       "  '/home/ariel/data/tracks/projection/OPT_L.trk.gz',\n",
       "  '/home/ariel/data/tracks/projection/TPT_L.trk.gz',\n",
       "  '/home/ariel/data/tracks/projection/OR_L.trk.gz',\n",
       "  '/home/ariel/data/tracks/projection/CST_L.trk.gz',\n",
       "  '/home/ariel/data/tracks/projection/PPT_R.trk.gz',\n",
       "  '/home/ariel/data/tracks/projection/AR_L.trk.gz',\n",
       "  '/home/ariel/data/tracks/projection/AR_R.trk.gz',\n",
       "  '/home/ariel/data/tracks/projection/FPT_L.trk.gz',\n",
       "  '/home/ariel/data/tracks/projection/F_R.trk.gz',\n",
       "  '/home/ariel/data/tracks/projection/CS_R.trk.gz',\n",
       "  '/home/ariel/data/tracks/projection/OPT_R.trk.gz',\n",
       "  '/home/ariel/data/tracks/projection/F_L.trk.gz',\n",
       "  '/home/ariel/data/tracks/projection/CT_L.trk.gz',\n",
       "  '/home/ariel/data/tracks/projection/CT_R.trk.gz',\n",
       "  '/home/ariel/data/tracks/projection/CS_L.trk.gz',\n",
       "  '/home/ariel/data/tracks/projection/TPT_R.trk.gz',\n",
       "  '/home/ariel/data/tracks/projection/CST_R.trk.gz',\n",
       "  '/home/ariel/data/tracks/projection/PPT_L.trk.gz'],\n",
       " ['/home/ariel/data/tracks/commisural/CC.trk.gz',\n",
       "  '/home/ariel/data/tracks/commisural/PC.trk.gz',\n",
       "  '/home/ariel/data/tracks/commisural/AC.trk.gz'],\n",
       " ['/home/ariel/data/tracks/cranial nerve/CNIV_R.trk.gz',\n",
       "  '/home/ariel/data/tracks/cranial nerve/CNV_L.trk.gz',\n",
       "  '/home/ariel/data/tracks/cranial nerve/CNII_L.trk.gz',\n",
       "  '/home/ariel/data/tracks/cranial nerve/CNIV_L.trk.gz',\n",
       "  '/home/ariel/data/tracks/cranial nerve/CNIII_R.trk.gz',\n",
       "  '/home/ariel/data/tracks/cranial nerve/CNVII_R.trk.gz',\n",
       "  '/home/ariel/data/tracks/cranial nerve/CNVIII_L.trk.gz',\n",
       "  '/home/ariel/data/tracks/cranial nerve/CNVIII_R.trk.gz',\n",
       "  '/home/ariel/data/tracks/cranial nerve/CNVII_L.trk.gz',\n",
       "  '/home/ariel/data/tracks/cranial nerve/CNII_R.trk.gz',\n",
       "  '/home/ariel/data/tracks/cranial nerve/CNIII_L.trk.gz',\n",
       "  '/home/ariel/data/tracks/cranial nerve/CNV_R.trk.gz']]"
      ]
     },
     "execution_count": 14,
     "metadata": {},
     "output_type": "execute_result"
    }
   ],
   "source": [
    "track_files_groups"
   ]
  },
  {
   "cell_type": "code",
   "execution_count": 15,
   "metadata": {},
   "outputs": [],
   "source": [
    "track_files = []\n",
    "_ = [track_files.extend(t) for t in track_files_groups]"
   ]
  },
  {
   "cell_type": "code",
   "execution_count": 17,
   "metadata": {},
   "outputs": [
    {
     "data": {
      "text/plain": [
       "78"
      ]
     },
     "execution_count": 17,
     "metadata": {},
     "output_type": "execute_result"
    }
   ],
   "source": [
    "len(track_files)"
   ]
  },
  {
   "cell_type": "code",
   "execution_count": 13,
   "metadata": {},
   "outputs": [],
   "source": [
    "n_streamlines = []\n",
    "bundle_names = []\n",
    "for fname in track_files:\n",
    "    bundle_names.append(fname.split('/')[-1].split('bundles_')[-1].split('.trk')[0])\n",
    "    streamlines = bn.read_sl(fname) \n",
    "    n_streamlines.append(len(streamlines))"
   ]
  },
  {
   "cell_type": "code",
   "execution_count": 14,
   "metadata": {},
   "outputs": [
    {
     "data": {
      "text/plain": [
       "(45747, 72, 45)"
      ]
     },
     "execution_count": 14,
     "metadata": {},
     "output_type": "execute_result"
    }
   ],
   "source": [
    "np.max(n_streamlines), np.min(n_streamlines), len(n_streamlines)"
   ]
  },
  {
   "cell_type": "code",
   "execution_count": 15,
   "metadata": {
    "collapsed": true
   },
   "outputs": [],
   "source": [
    "take_n_bundles = len(n_streamlines)"
   ]
  },
  {
   "cell_type": "code",
   "execution_count": 16,
   "metadata": {
    "collapsed": true
   },
   "outputs": [],
   "source": [
    "take_n_sl = np.min(n_streamlines)"
   ]
  },
  {
   "cell_type": "code",
   "execution_count": 17,
   "metadata": {
    "collapsed": true
   },
   "outputs": [],
   "source": [
    "take_n_bundles = 45\n",
    "take_n_sl = 70"
   ]
  },
  {
   "cell_type": "code",
   "execution_count": 18,
   "metadata": {
    "scrolled": false
   },
   "outputs": [],
   "source": [
    "if op.exists('./yeh-atlas-projections.npz'):\n",
    "    # Read it from file:\n",
    "    loaded_from_file = np.load('./yeh-atlas-projections.npz')\n",
    "    labels_test = loaded_from_file['labels_test']\n",
    "    labels_train = loaded_from_file['labels_train']\n",
    "    data_test = loaded_from_file['data_test']\n",
    "    data_train = loaded_from_file['data_train']\n",
    "    data_valid = loaded_from_file['data_valid']\n",
    "    labels_valid = loaded_from_file['labels_valid']\n",
    "else:\n",
    "    data_train, data_valid, data_test, labels_train, labels_valid, labels_test =\\\n",
    "        bn.partition_data(track_files, (157, 189, 136), take_n_bundles, take_n_sl)\n",
    "    \n",
    "    np.savez('./yeh-atlas-projections', \n",
    "             data_train=data_train, \n",
    "             data_valid=data_valid,\n",
    "             data_test=data_test, \n",
    "             labels_train=labels_train, \n",
    "             labels_valid=labels_valid,\n",
    "             labels_test=labels_test)"
   ]
  },
  {
   "cell_type": "code",
   "execution_count": 19,
   "metadata": {
    "collapsed": true
   },
   "outputs": [],
   "source": [
    "img_rows = 100\n",
    "img_cols = 100\n",
    "batch_size = 4\n",
    "epochs = 24\n",
    "num_classes = take_n_bundles\n",
    "input_shape = (img_rows, img_cols, 1)"
   ]
  },
  {
   "cell_type": "code",
   "execution_count": 20,
   "metadata": {},
   "outputs": [],
   "source": [
    "labels_train = keras.utils.to_categorical(labels_train-1, num_classes)\n",
    "labels_valid = keras.utils.to_categorical(labels_valid-1, num_classes)\n",
    "labels_test  = keras.utils.to_categorical(labels_test-1, num_classes)"
   ]
  },
  {
   "cell_type": "code",
   "execution_count": 21,
   "metadata": {},
   "outputs": [],
   "source": [
    "model = Sequential()\n",
    "model.add(Conv2D(32, kernel_size=(3, 3),activation='linear',input_shape=input_shape, padding='same'))\n",
    "model.add(LeakyReLU(alpha=0.1))\n",
    "model.add(MaxPooling2D((2, 2),padding='same'))\n",
    "model.add(Dropout(0.25))\n",
    "model.add(Conv2D(64, (3, 3), activation='linear',padding='same'))\n",
    "model.add(LeakyReLU(alpha=0.1))\n",
    "model.add(MaxPooling2D(pool_size=(2, 2),padding='same'))\n",
    "model.add(Dropout(0.25))\n",
    "model.add(Conv2D(128, (3, 3), activation='linear',padding='same'))\n",
    "model.add(LeakyReLU(alpha=0.1))                  \n",
    "model.add(MaxPooling2D(pool_size=(2, 2),padding='same'))\n",
    "model.add(Dropout(0.25))\n",
    "model.add(Flatten())\n",
    "model.add(Dense(128, activation='linear'))\n",
    "model.add(Dropout(0.25))\n",
    "model.add(LeakyReLU(alpha=0.1))                  \n",
    "model.add(Dense(num_classes, activation='softmax'))"
   ]
  },
  {
   "cell_type": "code",
   "execution_count": 22,
   "metadata": {
    "collapsed": true
   },
   "outputs": [],
   "source": [
    "model.compile(loss=keras.losses.categorical_crossentropy,\n",
    "              optimizer=keras.optimizers.Adam(),\n",
    "              metrics=['accuracy'])"
   ]
  },
  {
   "cell_type": "code",
   "execution_count": 23,
   "metadata": {
    "scrolled": false
   },
   "outputs": [
    {
     "name": "stdout",
     "output_type": "stream",
     "text": [
      "Train on 1890 samples, validate on 630 samples\n",
      "Epoch 1/24\n",
      "1890/1890 [==============================] - 16s - loss: 0.8788 - acc: 0.7698 - val_loss: 0.2371 - val_acc: 0.9222\n",
      "Epoch 2/24\n",
      "1890/1890 [==============================] - 14s - loss: 0.1948 - acc: 0.9439 - val_loss: 0.1777 - val_acc: 0.9429\n",
      "Epoch 3/24\n",
      "1890/1890 [==============================] - 14s - loss: 0.1123 - acc: 0.9741 - val_loss: 0.2049 - val_acc: 0.9413\n",
      "Epoch 4/24\n",
      "1890/1890 [==============================] - 14s - loss: 0.0900 - acc: 0.9720 - val_loss: 0.1661 - val_acc: 0.9603\n",
      "Epoch 5/24\n",
      "1890/1890 [==============================] - 14s - loss: 0.0880 - acc: 0.9772 - val_loss: 0.0999 - val_acc: 0.9762\n",
      "Epoch 6/24\n",
      "1890/1890 [==============================] - 14s - loss: 0.0479 - acc: 0.9852 - val_loss: 0.1558 - val_acc: 0.9619\n",
      "Epoch 7/24\n",
      "1890/1890 [==============================] - 14s - loss: 0.0733 - acc: 0.9820 - val_loss: 0.2024 - val_acc: 0.9587\n",
      "Epoch 8/24\n",
      "1890/1890 [==============================] - 14s - loss: 0.0368 - acc: 0.9862 - val_loss: 0.2810 - val_acc: 0.9429\n",
      "Epoch 9/24\n",
      "1890/1890 [==============================] - 14s - loss: 0.0723 - acc: 0.9847 - val_loss: 0.2026 - val_acc: 0.9556\n",
      "Epoch 10/24\n",
      "1890/1890 [==============================] - 14s - loss: 0.0629 - acc: 0.9799 - val_loss: 0.1359 - val_acc: 0.9683\n",
      "Epoch 11/24\n",
      "1890/1890 [==============================] - 14s - loss: 0.0415 - acc: 0.9899 - val_loss: 0.0979 - val_acc: 0.9746\n",
      "Epoch 12/24\n",
      "1890/1890 [==============================] - 14s - loss: 0.0393 - acc: 0.9884 - val_loss: 0.1694 - val_acc: 0.9730\n",
      "Epoch 13/24\n",
      "1890/1890 [==============================] - 14s - loss: 0.0463 - acc: 0.9862 - val_loss: 0.1394 - val_acc: 0.9683\n",
      "Epoch 14/24\n",
      "1890/1890 [==============================] - 14s - loss: 0.0351 - acc: 0.9915 - val_loss: 0.1539 - val_acc: 0.9698\n",
      "Epoch 15/24\n",
      "1890/1890 [==============================] - 14s - loss: 0.0340 - acc: 0.9910 - val_loss: 0.1317 - val_acc: 0.9730\n",
      "Epoch 16/24\n",
      "1890/1890 [==============================] - 14s - loss: 0.0181 - acc: 0.9963 - val_loss: 0.1614 - val_acc: 0.9635\n",
      "Epoch 17/24\n",
      "1890/1890 [==============================] - 14s - loss: 0.0282 - acc: 0.9958 - val_loss: 0.2179 - val_acc: 0.9603\n",
      "Epoch 18/24\n",
      "1890/1890 [==============================] - 14s - loss: 0.0524 - acc: 0.9841 - val_loss: 0.2219 - val_acc: 0.9619\n",
      "Epoch 19/24\n",
      "1890/1890 [==============================] - 14s - loss: 0.0563 - acc: 0.9873 - val_loss: 0.1841 - val_acc: 0.9714\n",
      "Epoch 20/24\n",
      "1890/1890 [==============================] - 14s - loss: 0.0251 - acc: 0.9958 - val_loss: 0.1471 - val_acc: 0.9651\n",
      "Epoch 21/24\n",
      "1890/1890 [==============================] - 14s - loss: 0.0186 - acc: 0.9926 - val_loss: 0.1694 - val_acc: 0.9778\n",
      "Epoch 22/24\n",
      "1890/1890 [==============================] - 14s - loss: 0.0669 - acc: 0.9889 - val_loss: 0.1619 - val_acc: 0.9730\n",
      "Epoch 23/24\n",
      "1890/1890 [==============================] - 14s - loss: 0.0357 - acc: 0.9910 - val_loss: 0.1983 - val_acc: 0.9730\n",
      "Epoch 24/24\n",
      "1890/1890 [==============================] - 14s - loss: 0.0282 - acc: 0.9942 - val_loss: 0.1752 - val_acc: 0.9730\n"
     ]
    }
   ],
   "source": [
    "training = model.fit(data_train, labels_train,\n",
    "                     batch_size=batch_size,\n",
    "                     epochs=epochs,\n",
    "                     verbose=1,\n",
    "                     validation_data=(data_valid, labels_valid))"
   ]
  },
  {
   "cell_type": "code",
   "execution_count": 1,
   "metadata": {},
   "outputs": [
    {
     "ename": "NameError",
     "evalue": "name 'model' is not defined",
     "output_type": "error",
     "traceback": [
      "\u001b[0;31m---------------------------------------------------------------------------\u001b[0m",
      "\u001b[0;31mNameError\u001b[0m                                 Traceback (most recent call last)",
      "\u001b[0;32m<ipython-input-1-e561a6e32290>\u001b[0m in \u001b[0;36m<module>\u001b[0;34m()\u001b[0m\n\u001b[0;32m----> 1\u001b[0;31m \u001b[0mscore\u001b[0m \u001b[0;34m=\u001b[0m \u001b[0mmodel\u001b[0m\u001b[0;34m.\u001b[0m\u001b[0mevaluate\u001b[0m\u001b[0;34m(\u001b[0m\u001b[0mdata_test\u001b[0m\u001b[0;34m,\u001b[0m \u001b[0mlabels_test\u001b[0m\u001b[0;34m,\u001b[0m \u001b[0mverbose\u001b[0m\u001b[0;34m=\u001b[0m\u001b[0;36m0\u001b[0m\u001b[0;34m)\u001b[0m\u001b[0;34m\u001b[0m\u001b[0m\n\u001b[0m",
      "\u001b[0;31mNameError\u001b[0m: name 'model' is not defined"
     ]
    }
   ],
   "source": [
    "score = model.evaluate(data_test, labels_test, verbose=0)"
   ]
  },
  {
   "cell_type": "code",
   "execution_count": 25,
   "metadata": {},
   "outputs": [
    {
     "name": "stdout",
     "output_type": "stream",
     "text": [
      "[0.14242299268282063, 0.97619047619047616]\n"
     ]
    }
   ],
   "source": [
    "print(score)"
   ]
  },
  {
   "cell_type": "code",
   "execution_count": 26,
   "metadata": {},
   "outputs": [
    {
     "data": {
      "image/png": "[encoded data removed]",
      "text/plain": [
       "<matplotlib.figure.Figure at 0x7f8a165eeb38>"
      ]
     },
     "metadata": {},
     "output_type": "display_data"
    }
   ],
   "source": [
    "fig = bn.plot_accuracy(training)"
   ]
  },
  {
   "cell_type": "code",
   "execution_count": 27,
   "metadata": {
    "collapsed": true
   },
   "outputs": [],
   "source": [
    "p = model.predict(data_test, batch_size=5)"
   ]
  },
  {
   "cell_type": "code",
   "execution_count": 28,
   "metadata": {
    "collapsed": true
   },
   "outputs": [],
   "source": [
    "p_idx = np.argmax(p, axis=-1)"
   ]
  },
  {
   "cell_type": "code",
   "execution_count": 29,
   "metadata": {},
   "outputs": [],
   "source": [
    "p_bundles = np.array([bundle_names[ii] for ii in p_idx])"
   ]
  },
  {
   "cell_type": "code",
   "execution_count": 30,
   "metadata": {},
   "outputs": [],
   "source": [
    "loaded_from_file = np.load('./yeh-atlas-projections.npz')\n",
    "labels_test = loaded_from_file['labels_test']"
   ]
  },
  {
   "cell_type": "code",
   "execution_count": 31,
   "metadata": {},
   "outputs": [],
   "source": [
    "actual_labels = np.array([bundle_names[ii] for ii in (labels_test - 1).astype(int)])"
   ]
  },
  {
   "cell_type": "code",
   "execution_count": 32,
   "metadata": {},
   "outputs": [
    {
     "data": {
      "text/plain": [
       "0.97619047619047616"
      ]
     },
     "execution_count": 32,
     "metadata": {},
     "output_type": "execute_result"
    }
   ],
   "source": [
    "np.mean(p_bundles == actual_labels)"
   ]
  },
  {
   "cell_type": "code",
   "execution_count": 33,
   "metadata": {
    "collapsed": true
   },
   "outputs": [],
   "source": [
    "confusion = np.zeros((len(bundle_names), len(bundle_names)))\n",
    "arr_bundle_names = np.array(bundle_names)\n",
    "for xx in range(len(p_bundles)):\n",
    "    idx1 = np.where(arr_bundle_names == p_bundles[xx])\n",
    "    idx2 = np.where(arr_bundle_names == actual_labels[xx])\n",
    "    n = np.sum(actual_labels == actual_labels[xx])\n",
    "    confusion[idx1, idx2] += 1 / n"
   ]
  },
  {
   "cell_type": "code",
   "execution_count": 34,
   "metadata": {
    "collapsed": true
   },
   "outputs": [],
   "source": [
    "#sort_idx = np.argsort(arr_bundle_names)"
   ]
  },
  {
   "cell_type": "code",
   "execution_count": 40,
   "metadata": {},
   "outputs": [
    {
     "name": "stderr",
     "output_type": "stream",
     "text": [
      "/usr/local/lib/python3.4/dist-packages/seaborn/matrix.py:143: FutureWarning: elementwise comparison failed; returning scalar instead, but in the future will perform elementwise comparison\n",
      "  if xticklabels == []:\n",
      "/usr/local/lib/python3.4/dist-packages/seaborn/matrix.py:151: FutureWarning: elementwise comparison failed; returning scalar instead, but in the future will perform elementwise comparison\n",
      "  if yticklabels == []:\n"
     ]
    },
    {
     "data": {
      "image/png": "[encoded data removed]",
      "text/plain": [
       "<matplotlib.figure.Figure at 0x7f89bc7858d0>"
      ]
     },
     "metadata": {},
     "output_type": "display_data"
    }
   ],
   "source": [
    "fig, ax = plt.subplots(1)\n",
    "\n",
    "sns.heatmap(confusion,\n",
    "            xticklabels=arr_bundle_names, \n",
    "            yticklabels=arr_bundle_names, ax=ax)\n",
    "fig.set_size_inches([10, 8])"
   ]
  },
  {
   "cell_type": "code",
   "execution_count": 36,
   "metadata": {
    "collapsed": true
   },
   "outputs": [],
   "source": [
    "p_error = p[~(p_bundles == actual_labels)]\n",
    "p_correct = p[p_bundles == actual_labels]"
   ]
  },
  {
   "cell_type": "code",
   "execution_count": 37,
   "metadata": {},
   "outputs": [
    {
     "data": {
      "text/plain": [
       "<matplotlib.legend.Legend at 0x7f89d87d5940>"
      ]
     },
     "execution_count": 37,
     "metadata": {},
     "output_type": "execute_result"
    },
    {
     "data": {
      "image/png": "[encoded data removed]",
      "text/plain": [
       "<matplotlib.figure.Figure at 0x7f89e06eac18>"
      ]
     },
     "metadata": {},
     "output_type": "display_data"
    }
   ],
   "source": [
    "fig, ax = plt.subplots(1)\n",
    "ax.hist(np.max(p_correct, -1), histtype='step', linewidth=2, normed=True, bins=10, label=\"Correct\")\n",
    "ax.hist(np.max(p_error, -1), histtype='step', linewidth=2, normed=True, bins=10, label=\"Incorrect\")\n",
    "ax.set_xlabel(\"Probability of chosen category\")\n",
    "ax.set_ylabel(\"Normalized frequency\")\n",
    "plt.legend(loc=\"upper left\")"
   ]
  },
  {
   "cell_type": "code",
   "execution_count": 38,
   "metadata": {},
   "outputs": [
    {
     "name": "stdout",
     "output_type": "stream",
     "text": [
      "0.975649350649\n"
     ]
    }
   ],
   "source": [
    "from sklearn.metrics import cohen_kappa_score\n",
    "kappa = cohen_kappa_score(p_bundles, actual_labels)\n",
    "print(kappa)"
   ]
  }
 ],
 "metadata": {
  "kernelspec": {
   "display_name": "Python 3",
   "language": "python",
   "name": "python3"
  },
  "language_info": {
   "codemirror_mode": {
    "name": "ipython",
    "version": 3
   },
   "file_extension": ".py",
   "mimetype": "text/x-python",
   "name": "python",
   "nbconvert_exporter": "python",
   "pygments_lexer": "ipython3",
   "version": "3.6.6"
  }
 },
 "nbformat": 4,
 "nbformat_minor": 1
}
