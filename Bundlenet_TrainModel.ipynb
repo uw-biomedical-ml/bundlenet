{
 "cells": [
  {
   "cell_type": "code",
   "execution_count": 1,
   "metadata": {},
   "outputs": [
    {
     "name": "stderr",
     "output_type": "stream",
     "text": [
      "/home/ubuntu/anaconda3/envs/tensorflow_p36/lib/python3.6/site-packages/sklearn/cross_validation.py:41: DeprecationWarning: This module was deprecated in version 0.18 in favor of the model_selection module into which all the refactored classes and functions are moved. Also note that the interface of the new CV iterators are different from that of this module. This module will be removed in 0.20.\n",
      "  \"This module will be removed in 0.20.\", DeprecationWarning)\n",
      "Using TensorFlow backend.\n"
     ]
    }
   ],
   "source": [
    "from glob import glob\n",
    "import os.path as op\n",
    "import numpy as np\n",
    "import matplotlib.pyplot as plt\n",
    "\n",
    "import seaborn as sns\n",
    "\n",
    "import nibabel as nib\n",
    "from nibabel.streamlines import load as load_trk\n",
    "import dipy.tracking.streamline as dts\n",
    "import dipy.tracking.utils as dtu\n",
    "from skimage.transform import resize\n",
    "from scipy.ndimage.morphology import binary_dilation\n",
    "import dipy.data as dpd\n",
    "from sklearn.utils import class_weight\n",
    "from sklearn.cross_validation import train_test_split\n",
    "\n",
    "import keras\n",
    "from keras.callbacks import ModelCheckpoint\n",
    "from keras.models import Sequential\n",
    "from keras.layers import Dense, Dropout, Flatten, LeakyReLU\n",
    "from keras.layers import Conv2D, MaxPooling2D\n",
    "from keras.models import load_model\n",
    "\n",
    "import bundlenet as bn\n",
    "\n",
    "import dask.bag as db\n",
    "import warnings\n",
    "warnings.filterwarnings('ignore')"
   ]
  },
  {
   "cell_type": "code",
   "execution_count": 2,
   "metadata": {},
   "outputs": [],
   "source": [
    "num_bunds = 16\n",
    "\n",
    "if num_bunds==16:\n",
    "    bundle_files = sorted(glob('/home/ubuntu/Atlas_in_MNI_Space_16_bundles/bundles/*.trk'))\n",
    "else:\n",
    "    bundles80 = ['AR', 'CS','CST','CT','FPT','OPT','OR','PPT','TPT','AF','AST','C','EMC','IFOF','ILF', \\\n",
    "            'MdLF', 'SLF', 'UF', 'VOF']\n",
    "    bundle_files = []\n",
    "    for b in bundles80:\n",
    "        bundle_files.append('/home/ubuntu/Atlas_80_Bundles/bundles/' + b + '_R.trk')\n",
    "    for b in bundles80:\n",
    "        bundle_files.append('/home/ubuntu/Atlas_80_Bundles/bundles/' + b + '_L.trk')\n",
    "    bundle_files.append('/home/ubuntu/Atlas_80_Bundles/bundles/F_L_R.trk')\n",
    "    bundle_files.append('/home/ubuntu/Atlas_80_Bundles/bundles/CC_ForcepsMajor.trk')\n",
    "    bundle_files.append('/home/ubuntu/Atlas_80_Bundles/bundles/CC_ForcepsMinor.trk')\n",
    "    bundle_files.append('/home/ubuntu/Atlas_80_Bundles/bundles/CCMid.trk')\n",
    "    bundle_files = sorted(bundle_files)\n"
   ]
  },
  {
   "cell_type": "code",
   "execution_count": 3,
   "metadata": {},
   "outputs": [
    {
     "data": {
      "text/plain": [
       "(182, 218, 182)"
      ]
     },
     "execution_count": 3,
     "metadata": {},
     "output_type": "execute_result"
    }
   ],
   "source": [
    "diff_img = nib.load('/home/ubuntu/MNI152_T1_1mm_brain.nii.gz')\n",
    "vol_shape=diff_img.shape[0:3]\n",
    "vol_shape"
   ]
  },
  {
   "cell_type": "code",
   "execution_count": 4,
   "metadata": {},
   "outputs": [],
   "source": [
    "n_streamlines = []\n",
    "bundle_names = []\n",
    "for fname in bundle_files:\n",
    "    bundle_names.append(fname.split('/')[-1].split('bundles_')[-1].split('.trk')[0])\n",
    "    streamlines = bn.read_sl(fname) \n",
    "    n_streamlines.append(len(streamlines))"
   ]
  },
  {
   "cell_type": "code",
   "execution_count": 5,
   "metadata": {},
   "outputs": [],
   "source": [
    "take_n_bundles = len(n_streamlines)\n",
    "take_n_sl = np.min(n_streamlines)\n",
    "\n",
    "test_perc=0\n",
    "val_perc=0.2\n",
    "size_slimage = 100\n",
    "dil_iters = 5"
   ]
  },
  {
   "cell_type": "code",
   "execution_count": 6,
   "metadata": {},
   "outputs": [
    {
     "name": "stdout",
     "output_type": "stream",
     "text": [
      "0\n",
      "0\n",
      "0\n",
      "0\n",
      "0\n",
      "0\n",
      "0\n",
      "0\n",
      "0\n",
      "0\n",
      "0\n",
      "0\n",
      "0\n",
      "0\n",
      "0\n",
      "0\n"
     ]
    },
    {
     "data": {
      "image/png": "[encoded data removed]",
      "text/plain": [
       "<Figure size 432x288 with 1 Axes>"
      ]
     },
     "metadata": {},
     "output_type": "display_data"
    }
   ],
   "source": [
    "process_sl = 1\n",
    "\n",
    "if process_sl == 1:\n",
    "    streamlines_loaded = db.from_sequence(bundle_files).map(bn.read_sl_mni).compute()\n",
    "    streamlines_processed = db.from_sequence(streamlines_loaded).map(bn.process_sl,take_n_sl,vol_shape,size_slimage,dil_iters).compute() \n",
    "    data_train, data_test, data_val, labels_train, labels_test, labels_val = bn.partition_testtrain(test_perc, val_perc, streamlines_processed)\n",
    "    plt.imshow(streamlines_processed[0][1,:,:,0])"
   ]
  },
  {
   "cell_type": "code",
   "execution_count": 7,
   "metadata": {},
   "outputs": [
    {
     "data": {
      "text/plain": [
       "[2010,\n",
       " 1145,\n",
       " 525,\n",
       " 365,\n",
       " 565,\n",
       " 2528,\n",
       " 2470,\n",
       " 1890,\n",
       " 2185,\n",
       " 72,\n",
       " 106,\n",
       " 2393,\n",
       " 1228,\n",
       " 1690,\n",
       " 370,\n",
       " 328]"
      ]
     },
     "execution_count": 7,
     "metadata": {},
     "output_type": "execute_result"
    }
   ],
   "source": [
    "n_streamlines"
   ]
  },
  {
   "cell_type": "code",
   "execution_count": 8,
   "metadata": {},
   "outputs": [],
   "source": [
    "img_rows = size_slimage\n",
    "img_cols = size_slimage\n",
    "batch_size = 4\n",
    "epochs = 16\n",
    "num_classes = take_n_bundles\n",
    "input_shape = (img_rows, img_cols,1)"
   ]
  },
  {
   "cell_type": "code",
   "execution_count": 9,
   "metadata": {},
   "outputs": [
    {
     "name": "stdout",
     "output_type": "stream",
     "text": [
      "Train on 921 samples, validate on 231 samples\n",
      "Epoch 1/16\n",
      "921/921 [==============================] - 17s 19ms/step - loss: 0.2527 - acc: 0.9338 - val_loss: 6.4641e-05 - val_acc: 1.0000\n",
      "\n",
      "Epoch 00001: val_acc improved from -inf to 1.00000, saving model to checkpoints/weights.best16.hdf5\n",
      "Epoch 2/16\n",
      "921/921 [==============================] - 17s 18ms/step - loss: 0.0124 - acc: 0.9978 - val_loss: 1.0052e-04 - val_acc: 1.0000\n",
      "\n",
      "Epoch 00002: val_acc did not improve from 1.00000\n",
      "Epoch 3/16\n",
      "921/921 [==============================] - 17s 18ms/step - loss: 4.5755e-05 - acc: 1.0000 - val_loss: 3.7531e-05 - val_acc: 1.0000\n",
      "\n",
      "Epoch 00003: val_acc did not improve from 1.00000\n",
      "Epoch 4/16\n",
      "921/921 [==============================] - 17s 18ms/step - loss: 1.6699e-05 - acc: 1.0000 - val_loss: 2.4895e-05 - val_acc: 1.0000\n",
      "\n",
      "Epoch 00004: val_acc did not improve from 1.00000\n",
      "Epoch 5/16\n",
      "921/921 [==============================] - 17s 18ms/step - loss: 1.0338e-05 - acc: 1.0000 - val_loss: 1.8120e-05 - val_acc: 1.0000\n",
      "\n",
      "Epoch 00005: val_acc did not improve from 1.00000\n",
      "Epoch 6/16\n",
      "921/921 [==============================] - 17s 18ms/step - loss: 7.1844e-06 - acc: 1.0000 - val_loss: 1.4192e-05 - val_acc: 1.0000\n",
      "\n",
      "Epoch 00006: val_acc did not improve from 1.00000\n",
      "Epoch 7/16\n",
      "921/921 [==============================] - 17s 18ms/step - loss: 5.2745e-06 - acc: 1.0000 - val_loss: 1.0541e-05 - val_acc: 1.0000\n",
      "\n",
      "Epoch 00007: val_acc did not improve from 1.00000\n",
      "Epoch 8/16\n",
      "921/921 [==============================] - 18s 19ms/step - loss: 4.0284e-06 - acc: 1.0000 - val_loss: 8.3828e-06 - val_acc: 1.0000\n",
      "\n",
      "Epoch 00008: val_acc did not improve from 1.00000\n",
      "Epoch 9/16\n",
      "921/921 [==============================] - 17s 18ms/step - loss: 3.1475e-06 - acc: 1.0000 - val_loss: 6.7790e-06 - val_acc: 1.0000\n",
      "\n",
      "Epoch 00009: val_acc did not improve from 1.00000\n",
      "Epoch 10/16\n",
      "921/921 [==============================] - 17s 18ms/step - loss: 2.5171e-06 - acc: 1.0000 - val_loss: 5.5785e-06 - val_acc: 1.0000\n",
      "\n",
      "Epoch 00010: val_acc did not improve from 1.00000\n",
      "Epoch 11/16\n",
      "921/921 [==============================] - 17s 18ms/step - loss: 2.0509e-06 - acc: 1.0000 - val_loss: 4.5995e-06 - val_acc: 1.0000\n",
      "\n",
      "Epoch 00011: val_acc did not improve from 1.00000\n",
      "Epoch 12/16\n",
      "921/921 [==============================] - 17s 18ms/step - loss: 1.6914e-06 - acc: 1.0000 - val_loss: 3.7971e-06 - val_acc: 1.0000\n",
      "\n",
      "Epoch 00012: val_acc did not improve from 1.00000\n",
      "Epoch 13/16\n",
      "921/921 [==============================] - 17s 18ms/step - loss: 1.4075e-06 - acc: 1.0000 - val_loss: 3.1485e-06 - val_acc: 1.0000\n",
      "\n",
      "Epoch 00013: val_acc did not improve from 1.00000\n",
      "Epoch 14/16\n",
      "921/921 [==============================] - 17s 18ms/step - loss: 1.1796e-06 - acc: 1.0000 - val_loss: 2.6584e-06 - val_acc: 1.0000\n",
      "\n",
      "Epoch 00014: val_acc did not improve from 1.00000\n",
      "Epoch 15/16\n",
      "921/921 [==============================] - 17s 18ms/step - loss: 9.9817e-07 - acc: 1.0000 - val_loss: 2.2765e-06 - val_acc: 1.0000\n",
      "\n",
      "Epoch 00015: val_acc did not improve from 1.00000\n",
      "Epoch 16/16\n",
      "921/921 [==============================] - 17s 18ms/step - loss: 8.5054e-07 - acc: 1.0000 - val_loss: 1.9170e-06 - val_acc: 1.0000\n",
      "\n",
      "Epoch 00016: val_acc did not improve from 1.00000\n"
     ]
    },
    {
     "data": {
      "image/png": "[encoded data removed]",
      "text/plain": [
       "<Figure size 432x288 with 1 Axes>"
      ]
     },
     "metadata": {},
     "output_type": "display_data"
    },
    {
     "data": {
      "image/png": "[encoded data removed]",
      "text/plain": [
       "<Figure size 432x288 with 1 Axes>"
      ]
     },
     "metadata": {},
     "output_type": "display_data"
    }
   ],
   "source": [
    "for dropout_factor in [0]:\n",
    "    for num_convlayers in [3]:\n",
    "        for num_fulllayers in [1]:\n",
    "            class_weights = class_weight.compute_class_weight('balanced',np.unique(labels_train),labels_train)\n",
    "            model = bn.buildmodel_specify(input_shape,num_classes,dropout_factor, num_convlayers, num_fulllayers)\n",
    "            labels_train_cat = keras.utils.to_categorical(labels_train, num_classes)\n",
    "            labels_val_cat  = keras.utils.to_categorical(labels_val, num_classes)\n",
    "            filepath='checkpoints/weights.best' + str(num_classes) + '.hdf5'\n",
    "            checkpoint = ModelCheckpoint(filepath, monitor='val_acc', verbose=1, save_best_only=True, mode='max')\n",
    "            callbacks_list = [checkpoint]\n",
    "            training = model.fit(data_train, labels_train_cat,\n",
    "                     batch_size=batch_size,\n",
    "                     epochs=epochs,\n",
    "                     verbose=1,\n",
    "                     validation_data=(data_val, labels_val_cat),\n",
    "                     callbacks=callbacks_list,\n",
    "                     class_weight=class_weights)\n",
    "            model.save('savedmodel_nclasses'+ str(num_classes) + '_do' + str(dropout_factor) + '_nc' + str(num_convlayers) + '_fc' + str(num_fulllayers) +'.h5')\n",
    "            bn.plot_accuracy(training)\n",
    "            bn.plot_loss(training)"
   ]
  },
  {
   "cell_type": "code",
   "execution_count": null,
   "metadata": {},
   "outputs": [],
   "source": []
  }
 ],
 "metadata": {
  "kernelspec": {
   "display_name": "Environment (conda_tensorflow_p36)",
   "language": "python",
   "name": "conda_tensorflow_p36"
  },
  "language_info": {
   "codemirror_mode": {
    "name": "ipython",
    "version": 3
   },
   "file_extension": ".py",
   "mimetype": "text/x-python",
   "name": "python",
   "nbconvert_exporter": "python",
   "pygments_lexer": "ipython3",
   "version": "3.6.5"
  }
 },
 "nbformat": 4,
 "nbformat_minor": 2
}
