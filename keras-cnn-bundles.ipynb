{
 "cells": [
  {
   "cell_type": "markdown",
   "metadata": {},
   "source": [
    "This is not used....."
   ]
  },
  {
   "cell_type": "code",
   "execution_count": 1,
   "metadata": {},
   "outputs": [
    {
     "name": "stderr",
     "output_type": "stream",
     "text": [
      "Using TensorFlow backend.\n"
     ]
    }
   ],
   "source": [
    "import keras\n",
    "from keras.datasets import mnist\n",
    "from keras.models import Sequential\n",
    "from keras.layers import Dense, Dropout, Flatten\n",
    "from keras.layers import (Convolution2D, MaxPooling2D, Convolution3D,\n",
    "                          MaxPooling3D)\n",
    "from keras import backend as K"
   ]
  },
  {
   "cell_type": "code",
   "execution_count": 2,
   "metadata": {},
   "outputs": [],
   "source": [
    "import numpy as np"
   ]
  },
  {
   "cell_type": "code",
   "execution_count": 3,
   "metadata": {},
   "outputs": [],
   "source": [
    "import os.path as op\n",
    "from glob import glob"
   ]
  },
  {
   "cell_type": "code",
   "execution_count": 4,
   "metadata": {},
   "outputs": [],
   "source": [
    "import dipy.data as dpd\n",
    "import nibabel as nib"
   ]
  },
  {
   "cell_type": "code",
   "execution_count": 5,
   "metadata": {},
   "outputs": [
    {
     "name": "stdout",
     "output_type": "stream",
     "text": [
      "Creating new folder /Users/jpowen/.dipy/exp_bundles_and_maps\n",
      "Data size is approximately 234MB\n",
      "Downloading \"bundles_2_subjects.tar.gz\" to /Users/jpowen/.dipy/exp_bundles_and_maps\n",
      "Download Progress: [##################################################################################################] 100.00%  of 233.75 MBFiles successfully downloaded to /Users/jpowen/.dipy/exp_bundles_and_maps\n"
     ]
    },
    {
     "data": {
      "text/plain": [
       "({'bundles_2_subjects.tar.gz': ('https://digital.lib.washington.edu/researchworks/bitstream/handle/1773/38477/bundles_2_subjects.tar.gz',\n",
       "   '97756fbef11ce2df31f1bedf1fc7aac7')},\n",
       " '/Users/jpowen/.dipy/exp_bundles_and_maps')"
      ]
     },
     "execution_count": 5,
     "metadata": {},
     "output_type": "execute_result"
    }
   ],
   "source": [
    "dpd.fetch_bundles_2_subjects()"
   ]
  },
  {
   "cell_type": "code",
   "execution_count": 6,
   "metadata": {},
   "outputs": [],
   "source": [
    "DATA_SUB1 = '/Users/jpowen/.dipy/exp_bundles_and_maps/bundles_2_subjects/subj_1'"
   ]
  },
  {
   "cell_type": "code",
   "execution_count": 8,
   "metadata": {},
   "outputs": [
    {
     "data": {
      "text/plain": [
       "['/Users/jpowen/.dipy/exp_bundles_and_maps/bundles_2_subjects/subj_1/bundles/bundles_cc_6.trk',\n",
       " '/Users/jpowen/.dipy/exp_bundles_and_maps/bundles_2_subjects/subj_1/bundles/bundles_cst.left.trk',\n",
       " '/Users/jpowen/.dipy/exp_bundles_and_maps/bundles_2_subjects/subj_1/bundles/bundles_cc_7.trk',\n",
       " '/Users/jpowen/.dipy/exp_bundles_and_maps/bundles_2_subjects/subj_1/bundles/bundles_cc_5.trk',\n",
       " '/Users/jpowen/.dipy/exp_bundles_and_maps/bundles_2_subjects/subj_1/bundles/bundles_slf2.right.trk',\n",
       " '/Users/jpowen/.dipy/exp_bundles_and_maps/bundles_2_subjects/subj_1/bundles/bundles_mdlf.left.trk',\n",
       " '/Users/jpowen/.dipy/exp_bundles_and_maps/bundles_2_subjects/subj_1/bundles/bundles_mdlf.right.trk',\n",
       " '/Users/jpowen/.dipy/exp_bundles_and_maps/bundles_2_subjects/subj_1/bundles/bundles_ifof.left.trk',\n",
       " '/Users/jpowen/.dipy/exp_bundles_and_maps/bundles_2_subjects/subj_1/bundles/bundles_cc_4.trk',\n",
       " '/Users/jpowen/.dipy/exp_bundles_and_maps/bundles_2_subjects/subj_1/bundles/bundles_cc_1.trk',\n",
       " '/Users/jpowen/.dipy/exp_bundles_and_maps/bundles_2_subjects/subj_1/bundles/bundles_cc_3.trk',\n",
       " '/Users/jpowen/.dipy/exp_bundles_and_maps/bundles_2_subjects/subj_1/bundles/bundles_slf_3.left.trk',\n",
       " '/Users/jpowen/.dipy/exp_bundles_and_maps/bundles_2_subjects/subj_1/bundles/bundles_cst.right.trk',\n",
       " '/Users/jpowen/.dipy/exp_bundles_and_maps/bundles_2_subjects/subj_1/bundles/bundles_af.left.trk',\n",
       " '/Users/jpowen/.dipy/exp_bundles_and_maps/bundles_2_subjects/subj_1/bundles/bundles_uf.right.trk',\n",
       " '/Users/jpowen/.dipy/exp_bundles_and_maps/bundles_2_subjects/subj_1/bundles/bundles_cc_2.trk',\n",
       " '/Users/jpowen/.dipy/exp_bundles_and_maps/bundles_2_subjects/subj_1/bundles/bundles_slf1.left.trk',\n",
       " '/Users/jpowen/.dipy/exp_bundles_and_maps/bundles_2_subjects/subj_1/bundles/bundles_ilf.left.trk',\n",
       " '/Users/jpowen/.dipy/exp_bundles_and_maps/bundles_2_subjects/subj_1/bundles/bundles_cg.right.trk',\n",
       " '/Users/jpowen/.dipy/exp_bundles_and_maps/bundles_2_subjects/subj_1/bundles/bundles_af.right.trk',\n",
       " '/Users/jpowen/.dipy/exp_bundles_and_maps/bundles_2_subjects/subj_1/bundles/bundles_uf.left.trk',\n",
       " '/Users/jpowen/.dipy/exp_bundles_and_maps/bundles_2_subjects/subj_1/bundles/bundles_ilf.right.trk',\n",
       " '/Users/jpowen/.dipy/exp_bundles_and_maps/bundles_2_subjects/subj_1/bundles/bundles_cg.left.trk',\n",
       " '/Users/jpowen/.dipy/exp_bundles_and_maps/bundles_2_subjects/subj_1/bundles/bundles_slf_3.right.trk',\n",
       " '/Users/jpowen/.dipy/exp_bundles_and_maps/bundles_2_subjects/subj_1/bundles/bundles_slf1.right.trk',\n",
       " '/Users/jpowen/.dipy/exp_bundles_and_maps/bundles_2_subjects/subj_1/bundles/bundles_ifof.right.trk',\n",
       " '/Users/jpowen/.dipy/exp_bundles_and_maps/bundles_2_subjects/subj_1/bundles/bundles_slf2.left.trk']"
      ]
     },
     "execution_count": 8,
     "metadata": {},
     "output_type": "execute_result"
    }
   ],
   "source": [
    "bundle_fnames = glob(op.join(DATA_SUB1, 'bundles/*.trk'))\n",
    "bundle_fnames"
   ]
  },
  {
   "cell_type": "code",
   "execution_count": 9,
   "metadata": {},
   "outputs": [],
   "source": [
    "t1_warped_img = nib.load(op.join(DATA_SUB1, 't1_warped.nii.gz'))"
   ]
  },
  {
   "cell_type": "code",
   "execution_count": 12,
   "metadata": {},
   "outputs": [
    {
     "name": "stdout",
     "output_type": "stream",
     "text": [
      "0\n",
      "/Users/jpowen/.dipy/exp_bundles_and_maps/bundles_2_subjects/subj_1/bundles/bundles_cc_6.trk 3620\n",
      "1\n",
      "/Users/jpowen/.dipy/exp_bundles_and_maps/bundles_2_subjects/subj_1/bundles/bundles_cst.left.trk 2101\n",
      "2\n",
      "/Users/jpowen/.dipy/exp_bundles_and_maps/bundles_2_subjects/subj_1/bundles/bundles_cc_7.trk 703\n",
      "3\n",
      "/Users/jpowen/.dipy/exp_bundles_and_maps/bundles_2_subjects/subj_1/bundles/bundles_cc_5.trk 520\n",
      "4\n",
      "/Users/jpowen/.dipy/exp_bundles_and_maps/bundles_2_subjects/subj_1/bundles/bundles_slf2.right.trk 1441\n",
      "5\n",
      "/Users/jpowen/.dipy/exp_bundles_and_maps/bundles_2_subjects/subj_1/bundles/bundles_mdlf.left.trk 343\n",
      "6\n",
      "/Users/jpowen/.dipy/exp_bundles_and_maps/bundles_2_subjects/subj_1/bundles/bundles_mdlf.right.trk 161\n",
      "7\n",
      "/Users/jpowen/.dipy/exp_bundles_and_maps/bundles_2_subjects/subj_1/bundles/bundles_ifof.left.trk 543\n",
      "8\n",
      "/Users/jpowen/.dipy/exp_bundles_and_maps/bundles_2_subjects/subj_1/bundles/bundles_cc_4.trk 1970\n",
      "9\n",
      "/Users/jpowen/.dipy/exp_bundles_and_maps/bundles_2_subjects/subj_1/bundles/bundles_cc_1.trk 478\n",
      "10\n",
      "/Users/jpowen/.dipy/exp_bundles_and_maps/bundles_2_subjects/subj_1/bundles/bundles_cc_3.trk 15244\n",
      "11\n",
      "/Users/jpowen/.dipy/exp_bundles_and_maps/bundles_2_subjects/subj_1/bundles/bundles_slf_3.left.trk 256\n",
      "12\n",
      "/Users/jpowen/.dipy/exp_bundles_and_maps/bundles_2_subjects/subj_1/bundles/bundles_cst.right.trk 2140\n",
      "13\n",
      "/Users/jpowen/.dipy/exp_bundles_and_maps/bundles_2_subjects/subj_1/bundles/bundles_af.left.trk 721\n",
      "14\n",
      "/Users/jpowen/.dipy/exp_bundles_and_maps/bundles_2_subjects/subj_1/bundles/bundles_uf.right.trk 380\n",
      "15\n",
      "/Users/jpowen/.dipy/exp_bundles_and_maps/bundles_2_subjects/subj_1/bundles/bundles_cc_2.trk 953\n",
      "16\n",
      "/Users/jpowen/.dipy/exp_bundles_and_maps/bundles_2_subjects/subj_1/bundles/bundles_slf1.left.trk 509\n",
      "17\n",
      "/Users/jpowen/.dipy/exp_bundles_and_maps/bundles_2_subjects/subj_1/bundles/bundles_ilf.left.trk 1219\n",
      "18\n",
      "/Users/jpowen/.dipy/exp_bundles_and_maps/bundles_2_subjects/subj_1/bundles/bundles_cg.right.trk 3885\n",
      "19\n",
      "/Users/jpowen/.dipy/exp_bundles_and_maps/bundles_2_subjects/subj_1/bundles/bundles_af.right.trk 2093\n",
      "20\n",
      "/Users/jpowen/.dipy/exp_bundles_and_maps/bundles_2_subjects/subj_1/bundles/bundles_uf.left.trk 305\n",
      "21\n",
      "/Users/jpowen/.dipy/exp_bundles_and_maps/bundles_2_subjects/subj_1/bundles/bundles_ilf.right.trk 355\n",
      "22\n",
      "/Users/jpowen/.dipy/exp_bundles_and_maps/bundles_2_subjects/subj_1/bundles/bundles_cg.left.trk 3856\n",
      "23\n",
      "/Users/jpowen/.dipy/exp_bundles_and_maps/bundles_2_subjects/subj_1/bundles/bundles_slf_3.right.trk 182\n",
      "24\n",
      "/Users/jpowen/.dipy/exp_bundles_and_maps/bundles_2_subjects/subj_1/bundles/bundles_slf1.right.trk 291\n",
      "25\n",
      "/Users/jpowen/.dipy/exp_bundles_and_maps/bundles_2_subjects/subj_1/bundles/bundles_ifof.right.trk 1148\n",
      "26\n",
      "/Users/jpowen/.dipy/exp_bundles_and_maps/bundles_2_subjects/subj_1/bundles/bundles_slf2.left.trk 739\n"
     ]
    }
   ],
   "source": [
    "sl_sum = 0\n",
    "for b_idx, bundle in enumerate(bundle_fnames):\n",
    "    tgram = nib.streamlines.load(op.join(DATA_SUB1, 'bundles', bundle))\n",
    "    print(bundle, len(tgram.streamlines))\n",
    "    sl_sum += len(tgram.streamlines)\n"
   ]
  },
  {
   "cell_type": "code",
   "execution_count": 10,
   "metadata": {},
   "outputs": [],
   "source": [
    "bundle_arr = np.memmap('/home/ariel/data/bundles/npy/bundles.npy', mode='r', \n",
    "                       shape=((sl_sum, ) + t1_warped_img.shape + (1,)), dtype=bool)\n",
    "one_hot_arr = np.memmap('/home/ariel/data/bundles/npy/one_hot.npy', mode='r', \n",
    "                        shape=(sl_sum, len(bundle_fnames)), dtype=bool)"
   ]
  },
  {
   "cell_type": "code",
   "execution_count": 11,
   "metadata": {
    "collapsed": true
   },
   "outputs": [],
   "source": [
    "## For now, let's look at a tiny subset: \n",
    "bundle_arr = bundle_arr[::100]\n",
    "one_hot_arr = one_hot_arr[::100]"
   ]
  },
  {
   "cell_type": "code",
   "execution_count": 12,
   "metadata": {},
   "outputs": [
    {
     "data": {
      "text/plain": [
       "(462, 256, 256, 150, 1)"
      ]
     },
     "execution_count": 12,
     "metadata": {},
     "output_type": "execute_result"
    }
   ],
   "source": [
    "bundle_arr.shape"
   ]
  },
  {
   "cell_type": "code",
   "execution_count": 13,
   "metadata": {
    "collapsed": true
   },
   "outputs": [],
   "source": [
    "batch_size = 1\n",
    "num_classes = 27\n",
    "epochs = 12"
   ]
  },
  {
   "cell_type": "code",
   "execution_count": 14,
   "metadata": {
    "collapsed": true
   },
   "outputs": [],
   "source": [
    "# input image dimensions\n",
    "img_x, img_y, img_z = t1_warped_img.shape\n",
    "# the data, shuffled and split between train and test sets\n",
    "(x_train, y_train), (x_test, y_test) = mnist.load_data()"
   ]
  },
  {
   "cell_type": "code",
   "execution_count": 15,
   "metadata": {},
   "outputs": [
    {
     "data": {
      "text/plain": [
       "((10000,), (60000,))"
      ]
     },
     "execution_count": 15,
     "metadata": {},
     "output_type": "execute_result"
    }
   ],
   "source": [
    "y_test.shape, y_train.shape"
   ]
  },
  {
   "cell_type": "code",
   "execution_count": 16,
   "metadata": {},
   "outputs": [
    {
     "data": {
      "text/plain": [
       "0.14285714285714285"
      ]
     },
     "execution_count": 16,
     "metadata": {},
     "output_type": "execute_result"
    }
   ],
   "source": [
    "10000 / 70000"
   ]
  },
  {
   "cell_type": "code",
   "execution_count": 17,
   "metadata": {
    "collapsed": true
   },
   "outputs": [],
   "source": [
    "import sklearn.model_selection as ms "
   ]
  },
  {
   "cell_type": "code",
   "execution_count": 18,
   "metadata": {
    "collapsed": true
   },
   "outputs": [],
   "source": [
    "sp = ms.ShuffleSplit(n_splits=1, test_size=0.15)"
   ]
  },
  {
   "cell_type": "code",
   "execution_count": 19,
   "metadata": {},
   "outputs": [],
   "source": [
    "foo = sp.split(bundle_arr)"
   ]
  },
  {
   "cell_type": "code",
   "execution_count": 20,
   "metadata": {},
   "outputs": [],
   "source": [
    "for train_index, test_index in sp.split(bundle_arr):\n",
    "    tr = train_index\n",
    "    te = test_index"
   ]
  },
  {
   "cell_type": "code",
   "execution_count": 21,
   "metadata": {},
   "outputs": [
    {
     "data": {
      "text/plain": [
       "((392,), (70,))"
      ]
     },
     "execution_count": 21,
     "metadata": {},
     "output_type": "execute_result"
    }
   ],
   "source": [
    "tr.shape, te.shape"
   ]
  },
  {
   "cell_type": "code",
   "execution_count": 22,
   "metadata": {
    "collapsed": true
   },
   "outputs": [],
   "source": [
    "import tempfile "
   ]
  },
  {
   "cell_type": "code",
   "execution_count": 23,
   "metadata": {},
   "outputs": [],
   "source": [
    "tmpdir = tempfile.TemporaryDirectory()"
   ]
  },
  {
   "cell_type": "code",
   "execution_count": 24,
   "metadata": {
    "collapsed": true
   },
   "outputs": [],
   "source": [
    "bundle_train_file = op.join(tmpdir.name, 'bundles_train.npy')\n",
    "bundle_test_file = op.join(tmpdir.name, 'bundles_test.npy')\n",
    "one_hot_train_file = op.join(tmpdir.name, 'one_hot_train.npy')\n",
    "one_hot_test_file = op.join(tmpdir.name, 'one_hot_test.npy')"
   ]
  },
  {
   "cell_type": "code",
   "execution_count": 25,
   "metadata": {},
   "outputs": [],
   "source": [
    "# bundle_train_arr = np.memmap(bundle_train_file, mode='w+', \n",
    "#                              shape=(tr.shape + t1_warped_img.shape + (1,)), dtype=bool)"
   ]
  },
  {
   "cell_type": "code",
   "execution_count": 26,
   "metadata": {},
   "outputs": [],
   "source": [
    "# bundle_test_arr = np.memmap(bundle_test_file, mode='w+', \n",
    "#                             shape=(te.shape + t1_warped_img.shape + (1,)), dtype=bool)"
   ]
  },
  {
   "cell_type": "code",
   "execution_count": 27,
   "metadata": {},
   "outputs": [],
   "source": [
    "# one_hot_train_arr = np.memmap(one_hot_train_file, mode='w+', \n",
    "#                               shape=(tr.shape[0], len(bundle_fnames)), dtype=bool)"
   ]
  },
  {
   "cell_type": "code",
   "execution_count": 28,
   "metadata": {},
   "outputs": [],
   "source": [
    "# one_hot_test_arr = np.memmap(one_hot_test_file, mode='w+', \n",
    "#                              shape=(te.shape[0], len(bundle_fnames)), dtype=bool)"
   ]
  },
  {
   "cell_type": "code",
   "execution_count": 29,
   "metadata": {},
   "outputs": [],
   "source": [
    "bundle_train_arr = np.zeros((tr.shape + t1_warped_img.shape + (1,)), dtype=bool)\n",
    "bundle_test_arr = np.zeros((te.shape + t1_warped_img.shape + (1,)), dtype=bool)\n",
    "one_hot_train_arr = np.zeros((tr.shape[0], len(bundle_fnames)), dtype=bool)\n",
    "one_hot_test_arr = np.zeros((te.shape[0], len(bundle_fnames)), dtype=bool)"
   ]
  },
  {
   "cell_type": "code",
   "execution_count": 30,
   "metadata": {
    "scrolled": true
   },
   "outputs": [],
   "source": [
    "for ii, idx in enumerate(tr):\n",
    "    bundle_train_arr[ii] = bundle_arr[idx]\n",
    "    one_hot_train_arr[ii] = one_hot_arr[idx]"
   ]
  },
  {
   "cell_type": "code",
   "execution_count": 31,
   "metadata": {},
   "outputs": [],
   "source": [
    "for ii, idx in enumerate(te):\n",
    "    bundle_test_arr[ii] = bundle_arr[idx]\n",
    "    one_hot_test_arr[ii] = one_hot_arr[idx]"
   ]
  },
  {
   "cell_type": "code",
   "execution_count": 32,
   "metadata": {
    "collapsed": true
   },
   "outputs": [],
   "source": [
    "input_shape = (img_x, img_y, img_z, 1)"
   ]
  },
  {
   "cell_type": "code",
   "execution_count": 33,
   "metadata": {},
   "outputs": [],
   "source": [
    "model = Sequential()\n",
    "model.add(Convolution3D(32, kernel_size=(3, 3, 3),\n",
    "                 activation='relu',\n",
    "                 input_shape=input_shape))\n",
    "model.add(Convolution3D(64, (3, 3, 3), activation='relu'))\n",
    "model.add(MaxPooling3D(pool_size=(2, 2, 2)))\n",
    "model.add(Dropout(0.25))\n",
    "model.add(Flatten())\n",
    "model.add(Dense(128, activation='relu'))\n",
    "model.add(Dropout(0.5))\n",
    "model.add(Dense(num_classes, activation='softmax'))"
   ]
  },
  {
   "cell_type": "code",
   "execution_count": 34,
   "metadata": {
    "collapsed": true
   },
   "outputs": [],
   "source": [
    "model.compile(loss=keras.losses.categorical_crossentropy,\n",
    "              optimizer=keras.optimizers.Adadelta(),\n",
    "              metrics=['accuracy'])"
   ]
  },
  {
   "cell_type": "code",
   "execution_count": 35,
   "metadata": {},
   "outputs": [
    {
     "data": {
      "text/plain": [
       "((392, 256, 256, 150, 1), (392, 27))"
      ]
     },
     "execution_count": 35,
     "metadata": {},
     "output_type": "execute_result"
    }
   ],
   "source": [
    "bundle_train_arr.shape, one_hot_train_arr.shape"
   ]
  },
  {
   "cell_type": "code",
   "execution_count": 36,
   "metadata": {
    "collapsed": true
   },
   "outputs": [],
   "source": [
    "def generate_samples():\n",
    "    while 1:\n",
    "        for ii in range(bundle_train_arr.shape[0]):\n",
    "            yield bundle_train_arr[ii:ii+1], one_hot_train_arr[ii:ii+1]"
   ]
  },
  {
   "cell_type": "code",
   "execution_count": 37,
   "metadata": {
    "collapsed": true
   },
   "outputs": [],
   "source": [
    "def generate_validation():\n",
    "    while 1:\n",
    "        for ii in range(bundle_test_arr.shape[0]):\n",
    "            yield bundle_test_arr[ii:ii+1], one_hot_test_arr[ii:ii+1]"
   ]
  },
  {
   "cell_type": "code",
   "execution_count": null,
   "metadata": {
    "collapsed": true
   },
   "outputs": [],
   "source": [
    "class LossHistory(keras.callbacks.Callback):\n",
    "    def __init__(self, directory, descript, augment):\n",
    "        self.director = directory\n",
    "        self.descript = descript\n",
    "        self.augment = augment\n",
    "\n",
    "    def on_train_begin(self, logs={}):\n",
    "        self.losses = []\n",
    "        self.valid = []\n",
    "        self.lastiter = 0\n",
    "\n",
    "    def on_epoch_end(self, batch, logs={}):\n",
    "        self.lastiter += 1\n",
    "        with open(\"%s/history.txt\" % self.d, \"a\") as fout:\n",
    "                for metric in [\"loss\", \"acc\" ]:\n",
    "                        fout.write(\"%s\\t%d\\ttrain\\t%d\\t%s\\t%.6f\\n\" % (self.descript, self.augment, self.lastiter, metric, logs.get(metric)))\n",
    "                for metric in [\"val_loss\", \"val_acc\"]:\n",
    "                        fout.write(\"%s\\t%d\\tvalid\\t%d\\t%s\\t%.6f\\n\" % (self.descript, self.augment, self.lastiter, metric, logs.get(metric)))\n",
    "\n",
    "    def on_batch_end(self, batch, logs={}):\n",
    "        self.lastiter += 1\n",
    "        with open(\"%s/history.txt\" % self.d, \"a\") as fout:\n",
    "                for metric in [\"loss\", \"acc\"]:\n",
    "                        fout.write(\"%s\\t%d\\ttrain\\t%d\\t%s\\t%.6f\\n\" % (self.descript, self.augment, self.lastiter, metric, logs.get(metric)))\n"
   ]
  },
  {
   "cell_type": "code",
   "execution_count": null,
   "metadata": {},
   "outputs": [
    {
     "name": "stdout",
     "output_type": "stream",
     "text": [
      "Epoch 1/1\n"
     ]
    }
   ],
   "source": [
    "model.fit_generator(generate_samples(), \n",
    "                    steps_per_epoch=1,\n",
    "                    epochs=1,\n",
    "                    verbose=1,\n",
    "                    validation_data=generate_validation(), \n",
    "                    validation_steps=1)"
   ]
  },
  {
   "cell_type": "code",
   "execution_count": null,
   "metadata": {},
   "outputs": [],
   "source": [
    "# model.fit(bundle_train_arr, \n",
    "#           one_hot_train_arr,\n",
    "#           batch_size=batch_size,\n",
    "#           epochs=epochs,\n",
    "#           verbose=1,\n",
    "#           validation_data=(bundle_test_arr, one_hot_test_arr))"
   ]
  },
  {
   "cell_type": "code",
   "execution_count": null,
   "metadata": {
    "collapsed": true
   },
   "outputs": [],
   "source": [
    "score = model.evaluate(x_test, y_test, verbose=0)\n",
    "print('Test loss:', score[0])\n",
    "print('Test accuracy:', score[1])"
   ]
  },
  {
   "cell_type": "code",
   "execution_count": null,
   "metadata": {
    "collapsed": true
   },
   "outputs": [],
   "source": [
    "model.fit_generator?"
   ]
  },
  {
   "cell_type": "code",
   "execution_count": null,
   "metadata": {
    "collapsed": true
   },
   "outputs": [],
   "source": []
  }
 ],
 "metadata": {
  "kernelspec": {
   "display_name": "Python 3",
   "language": "python",
   "name": "python3"
  },
  "language_info": {
   "codemirror_mode": {
    "name": "ipython",
    "version": 3
   },
   "file_extension": ".py",
   "mimetype": "text/x-python",
   "name": "python",
   "nbconvert_exporter": "python",
   "pygments_lexer": "ipython3",
   "version": "3.6.6"
  }
 },
 "nbformat": 4,
 "nbformat_minor": 1
}
