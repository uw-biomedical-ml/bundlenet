{
 "cells": [
  {
   "cell_type": "code",
   "execution_count": 1,
   "metadata": {
    "collapsed": true
   },
   "outputs": [],
   "source": [
    "import dipy.data as dpd\n",
    "import dipy.tracking.utils as dtu"
   ]
  },
  {
   "cell_type": "code",
   "execution_count": 2,
   "metadata": {},
   "outputs": [
    {
     "name": "stdout",
     "output_type": "stream",
     "text": [
      "Data size is approximately 234MB\n",
      "Dataset is already in place. If you want to fetch it again please first remove the folder /home/arokem/.dipy/exp_bundles_and_maps \n"
     ]
    },
    {
     "data": {
      "text/plain": [
       "({'bundles_2_subjects.tar.gz': ('https://digital.lib.washington.edu/researchworks/bitstream/handle/1773/38477/bundles_2_subjects.tar.gz',\n",
       "   '97756fbef11ce2df31f1bedf1fc7aac7')},\n",
       " '/home/arokem/.dipy/exp_bundles_and_maps')"
      ]
     },
     "execution_count": 2,
     "metadata": {},
     "output_type": "execute_result"
    }
   ],
   "source": [
    "dpd.fetch_bundles_2_subjects()"
   ]
  },
  {
   "cell_type": "code",
   "execution_count": 3,
   "metadata": {
    "collapsed": true
   },
   "outputs": [],
   "source": [
    "bd = dpd.read_bundles_2_subjects()"
   ]
  },
  {
   "cell_type": "code",
   "execution_count": 4,
   "metadata": {},
   "outputs": [
    {
     "name": "stdout",
     "output_type": "stream",
     "text": [
      "ls: cannot access '/home/ariel/.dipy/exp_bundles_and_maps/bundles_2_subjects/subj_1/bundles/': No such file or directory\r\n"
     ]
    }
   ],
   "source": [
    "ls /home/ariel/.dipy/exp_bundles_and_maps/bundles_2_subjects/subj_1/bundles/"
   ]
  },
  {
   "cell_type": "code",
   "execution_count": 5,
   "metadata": {
    "collapsed": true
   },
   "outputs": [],
   "source": [
    "import matplotlib as mpl\n",
    "from mpl_toolkits.mplot3d import Axes3D\n",
    "import numpy as np\n",
    "import matplotlib.pyplot as plt\n",
    "%matplotlib inline"
   ]
  },
  {
   "cell_type": "code",
   "execution_count": 6,
   "metadata": {},
   "outputs": [],
   "source": [
    "DATA_SUB1 = '/home/arokem/.dipy/exp_bundles_and_maps/bundles_2_subjects/subj_1'"
   ]
  },
  {
   "cell_type": "code",
   "execution_count": 7,
   "metadata": {
    "collapsed": true
   },
   "outputs": [],
   "source": [
    "import os.path as op\n",
    "from glob import glob"
   ]
  },
  {
   "cell_type": "code",
   "execution_count": 8,
   "metadata": {},
   "outputs": [],
   "source": [
    "bundle_fnames = glob(op.join(DATA_SUB1, 'bundles/*.trk'))"
   ]
  },
  {
   "cell_type": "code",
   "execution_count": 9,
   "metadata": {},
   "outputs": [],
   "source": [
    "import nibabel as nib\n",
    "t1_warped_img = nib.load(op.join(DATA_SUB1, 't1_warped.nii.gz'))"
   ]
  },
  {
   "cell_type": "code",
   "execution_count": 10,
   "metadata": {},
   "outputs": [
    {
     "name": "stdout",
     "output_type": "stream",
     "text": [
      "/home/arokem/.dipy/exp_bundles_and_maps/bundles_2_subjects/subj_1/bundles/bundles_slf1.right.trk 291\n",
      "/home/arokem/.dipy/exp_bundles_and_maps/bundles_2_subjects/subj_1/bundles/bundles_ifof.right.trk 1148\n",
      "/home/arokem/.dipy/exp_bundles_and_maps/bundles_2_subjects/subj_1/bundles/bundles_slf_3.right.trk 182\n",
      "/home/arokem/.dipy/exp_bundles_and_maps/bundles_2_subjects/subj_1/bundles/bundles_cc_2.trk 953\n",
      "/home/arokem/.dipy/exp_bundles_and_maps/bundles_2_subjects/subj_1/bundles/bundles_mdlf.right.trk 161\n",
      "/home/arokem/.dipy/exp_bundles_and_maps/bundles_2_subjects/subj_1/bundles/bundles_af.right.trk 2093\n",
      "/home/arokem/.dipy/exp_bundles_and_maps/bundles_2_subjects/subj_1/bundles/bundles_mdlf.left.trk 343\n",
      "/home/arokem/.dipy/exp_bundles_and_maps/bundles_2_subjects/subj_1/bundles/bundles_cc_1.trk 478\n",
      "/home/arokem/.dipy/exp_bundles_and_maps/bundles_2_subjects/subj_1/bundles/bundles_cst.right.trk 2140\n",
      "/home/arokem/.dipy/exp_bundles_and_maps/bundles_2_subjects/subj_1/bundles/bundles_cc_6.trk 3620\n",
      "/home/arokem/.dipy/exp_bundles_and_maps/bundles_2_subjects/subj_1/bundles/bundles_ilf.left.trk 1219\n",
      "/home/arokem/.dipy/exp_bundles_and_maps/bundles_2_subjects/subj_1/bundles/bundles_uf.left.trk 305\n",
      "/home/arokem/.dipy/exp_bundles_and_maps/bundles_2_subjects/subj_1/bundles/bundles_cst.left.trk 2101\n",
      "/home/arokem/.dipy/exp_bundles_and_maps/bundles_2_subjects/subj_1/bundles/bundles_cc_7.trk 703\n",
      "/home/arokem/.dipy/exp_bundles_and_maps/bundles_2_subjects/subj_1/bundles/bundles_cg.right.trk 3885\n",
      "/home/arokem/.dipy/exp_bundles_and_maps/bundles_2_subjects/subj_1/bundles/bundles_slf_3.left.trk 256\n",
      "/home/arokem/.dipy/exp_bundles_and_maps/bundles_2_subjects/subj_1/bundles/bundles_cc_3.trk 15244\n",
      "/home/arokem/.dipy/exp_bundles_and_maps/bundles_2_subjects/subj_1/bundles/bundles_cc_4.trk 1970\n",
      "/home/arokem/.dipy/exp_bundles_and_maps/bundles_2_subjects/subj_1/bundles/bundles_slf1.left.trk 509\n",
      "/home/arokem/.dipy/exp_bundles_and_maps/bundles_2_subjects/subj_1/bundles/bundles_slf2.left.trk 739\n",
      "/home/arokem/.dipy/exp_bundles_and_maps/bundles_2_subjects/subj_1/bundles/bundles_cg.left.trk 3856\n",
      "/home/arokem/.dipy/exp_bundles_and_maps/bundles_2_subjects/subj_1/bundles/bundles_cc_5.trk 520\n",
      "/home/arokem/.dipy/exp_bundles_and_maps/bundles_2_subjects/subj_1/bundles/bundles_ilf.right.trk 355\n",
      "/home/arokem/.dipy/exp_bundles_and_maps/bundles_2_subjects/subj_1/bundles/bundles_uf.right.trk 380\n",
      "/home/arokem/.dipy/exp_bundles_and_maps/bundles_2_subjects/subj_1/bundles/bundles_slf2.right.trk 1441\n",
      "/home/arokem/.dipy/exp_bundles_and_maps/bundles_2_subjects/subj_1/bundles/bundles_ifof.left.trk 543\n",
      "/home/arokem/.dipy/exp_bundles_and_maps/bundles_2_subjects/subj_1/bundles/bundles_af.left.trk 721\n"
     ]
    }
   ],
   "source": [
    "sl_sum = 0\n",
    "for b_idx, bundle in enumerate(bundle_fnames):\n",
    "    tgram = nib.streamlines.load(op.join(DATA_SUB1, 'bundles', bundle))\n",
    "    print(bundle, len(tgram.streamlines))\n",
    "    sl_sum += len(tgram.streamlines)\n"
   ]
  },
  {
   "cell_type": "code",
   "execution_count": 11,
   "metadata": {},
   "outputs": [
    {
     "data": {
      "text/plain": [
       "(46156, 256, 256, 150, 1)"
      ]
     },
     "execution_count": 11,
     "metadata": {},
     "output_type": "execute_result"
    }
   ],
   "source": [
    "((sl_sum, ) + t1_warped_img.shape + (1,))"
   ]
  },
  {
   "cell_type": "code",
   "execution_count": null,
   "metadata": {},
   "outputs": [],
   "source": [
    "bundle_arr = np.memmap('/home/arokem/bundlenet/data/bundles/npy/bundles.npy', mode='w+', \n",
    "                       shape=((sl_sum, ) + t1_warped_img.shape + (1,)), dtype=bool)\n",
    "one_hot_arr = np.memmap('/home/arokem/bundlenet/data/bundles/npy/one_hot.npy', mode='w+', \n",
    "                        shape=(sl_sum, len(bundle_fnames)), dtype=bool)"
   ]
  },
  {
   "cell_type": "code",
   "execution_count": null,
   "metadata": {
    "scrolled": false
   },
   "outputs": [
    {
     "name": "stdout",
     "output_type": "stream",
     "text": [
      "/home/arokem/.dipy/exp_bundles_and_maps/bundles_2_subjects/subj_1/bundles/bundles_slf1.right.trk 291\n",
      "Streamline 0 at index 0\n",
      "Streamline 100 at index 100\n",
      "Streamline 200 at index 200\n",
      "/home/arokem/.dipy/exp_bundles_and_maps/bundles_2_subjects/subj_1/bundles/bundles_ifof.right.trk 1148\n",
      "Streamline 0 at index 291\n",
      "Streamline 100 at index 391\n",
      "Streamline 200 at index 491\n",
      "Streamline 300 at index 591\n",
      "Streamline 400 at index 691\n",
      "Streamline 500 at index 791\n",
      "Streamline 600 at index 891\n",
      "Streamline 700 at index 991\n",
      "Streamline 800 at index 1091\n",
      "Streamline 900 at index 1191\n",
      "Streamline 1000 at index 1291\n",
      "Streamline 1100 at index 1391\n",
      "/home/arokem/.dipy/exp_bundles_and_maps/bundles_2_subjects/subj_1/bundles/bundles_slf_3.right.trk 182\n",
      "Streamline 0 at index 1439\n",
      "Streamline 100 at index 1539\n",
      "/home/arokem/.dipy/exp_bundles_and_maps/bundles_2_subjects/subj_1/bundles/bundles_cc_2.trk 953\n",
      "Streamline 0 at index 1621\n",
      "Streamline 100 at index 1721\n",
      "Streamline 200 at index 1821\n",
      "Streamline 300 at index 1921\n",
      "Streamline 400 at index 2021\n",
      "Streamline 500 at index 2121\n",
      "Streamline 600 at index 2221\n",
      "Streamline 700 at index 2321\n",
      "Streamline 800 at index 2421\n",
      "Streamline 900 at index 2521\n",
      "/home/arokem/.dipy/exp_bundles_and_maps/bundles_2_subjects/subj_1/bundles/bundles_mdlf.right.trk 161\n",
      "Streamline 0 at index 2574\n",
      "Streamline 100 at index 2674\n",
      "/home/arokem/.dipy/exp_bundles_and_maps/bundles_2_subjects/subj_1/bundles/bundles_af.right.trk 2093\n",
      "Streamline 0 at index 2735\n",
      "Streamline 100 at index 2835\n",
      "Streamline 200 at index 2935\n",
      "Streamline 300 at index 3035\n",
      "Streamline 400 at index 3135\n",
      "Streamline 500 at index 3235\n",
      "Streamline 600 at index 3335\n",
      "Streamline 700 at index 3435\n",
      "Streamline 800 at index 3535\n",
      "Streamline 900 at index 3635\n",
      "Streamline 1000 at index 3735\n",
      "Streamline 1100 at index 3835\n",
      "Streamline 1200 at index 3935\n",
      "Streamline 1300 at index 4035\n",
      "Streamline 1400 at index 4135\n",
      "Streamline 1500 at index 4235\n",
      "Streamline 1600 at index 4335\n",
      "Streamline 1700 at index 4435\n",
      "Streamline 1800 at index 4535\n",
      "Streamline 1900 at index 4635\n",
      "Streamline 2000 at index 4735\n",
      "/home/arokem/.dipy/exp_bundles_and_maps/bundles_2_subjects/subj_1/bundles/bundles_mdlf.left.trk 343\n",
      "Streamline 0 at index 4828\n",
      "Streamline 100 at index 4928\n",
      "Streamline 200 at index 5028\n",
      "Streamline 300 at index 5128\n",
      "/home/arokem/.dipy/exp_bundles_and_maps/bundles_2_subjects/subj_1/bundles/bundles_cc_1.trk 478\n",
      "Streamline 0 at index 5171\n",
      "Streamline 100 at index 5271\n",
      "Streamline 200 at index 5371\n",
      "Streamline 300 at index 5471\n",
      "Streamline 400 at index 5571\n",
      "/home/arokem/.dipy/exp_bundles_and_maps/bundles_2_subjects/subj_1/bundles/bundles_cst.right.trk 2140\n",
      "Streamline 0 at index 5649\n",
      "Streamline 100 at index 5749\n",
      "Streamline 200 at index 5849\n",
      "Streamline 300 at index 5949\n",
      "Streamline 400 at index 6049\n",
      "Streamline 500 at index 6149\n",
      "Streamline 600 at index 6249\n",
      "Streamline 700 at index 6349\n",
      "Streamline 800 at index 6449\n",
      "Streamline 900 at index 6549\n",
      "Streamline 1000 at index 6649\n",
      "Streamline 1100 at index 6749\n",
      "Streamline 1200 at index 6849\n",
      "Streamline 1300 at index 6949\n",
      "Streamline 1400 at index 7049\n",
      "Streamline 1500 at index 7149\n",
      "Streamline 1600 at index 7249\n",
      "Streamline 1700 at index 7349\n",
      "Streamline 1800 at index 7449\n",
      "Streamline 1900 at index 7549\n",
      "Streamline 2000 at index 7649\n",
      "Streamline 2100 at index 7749\n",
      "/home/arokem/.dipy/exp_bundles_and_maps/bundles_2_subjects/subj_1/bundles/bundles_cc_6.trk 3620\n",
      "Streamline 0 at index 7789\n",
      "Streamline 100 at index 7889\n",
      "Streamline 200 at index 7989\n",
      "Streamline 300 at index 8089\n",
      "Streamline 400 at index 8189\n",
      "Streamline 500 at index 8289\n",
      "Streamline 600 at index 8389\n",
      "Streamline 700 at index 8489\n",
      "Streamline 800 at index 8589\n",
      "Streamline 900 at index 8689\n",
      "Streamline 1000 at index 8789\n",
      "Streamline 1100 at index 8889\n",
      "Streamline 1200 at index 8989\n",
      "Streamline 1300 at index 9089\n",
      "Streamline 1400 at index 9189\n",
      "Streamline 1500 at index 9289\n",
      "Streamline 1600 at index 9389\n",
      "Streamline 1700 at index 9489\n",
      "Streamline 1800 at index 9589\n",
      "Streamline 1900 at index 9689\n",
      "Streamline 2000 at index 9789\n",
      "Streamline 2100 at index 9889\n",
      "Streamline 2200 at index 9989\n",
      "Streamline 2300 at index 10089\n",
      "Streamline 2400 at index 10189\n",
      "Streamline 2500 at index 10289\n",
      "Streamline 2600 at index 10389\n",
      "Streamline 2700 at index 10489\n",
      "Streamline 2800 at index 10589\n",
      "Streamline 2900 at index 10689\n",
      "Streamline 3000 at index 10789\n",
      "Streamline 3100 at index 10889\n",
      "Streamline 3200 at index 10989\n",
      "Streamline 3300 at index 11089\n",
      "Streamline 3400 at index 11189\n",
      "Streamline 3500 at index 11289\n",
      "Streamline 3600 at index 11389\n",
      "/home/arokem/.dipy/exp_bundles_and_maps/bundles_2_subjects/subj_1/bundles/bundles_ilf.left.trk 1219\n",
      "Streamline 0 at index 11409\n",
      "Streamline 100 at index 11509\n",
      "Streamline 200 at index 11609\n"
     ]
    }
   ],
   "source": [
    "# fig = plt.figure()\n",
    "# ax = fig.gca(projection='3d')\n",
    "ii = 0\n",
    "for b_idx, bundle in enumerate(bundle_fnames):\n",
    "    tgram = nib.streamlines.load(op.join(DATA_SUB1, 'bundles', bundle))\n",
    "    print(bundle, len(tgram.streamlines))\n",
    "    sl_sum += len(tgram.streamlines)\n",
    "    for sl_idx, sl in enumerate(list(dtu.move_streamlines(tgram.streamlines, np.linalg.inv(tgram.affine)))):\n",
    "            if not np.mod(sl_idx, 100):\n",
    "                print(\"Streamline {0} at index {1}\".format(sl_idx, ii))\n",
    "#         sl_npy_fname = op.join('/data/bundles/npy/','_'.join(op.split(bundle)[-1].split('.')[:2]) + '{0:05d}.npy'.format(sl_idx + 1))\n",
    "#         if not op.exists(sl_npy_fname):\n",
    "            vol = np.zeros(t1_warped_img.shape + (1,), dtype=bool)\n",
    "            sl = np.round(sl).astype(int).T\n",
    "            vol[sl[0], sl[1], sl[2]] = 1        \n",
    "            bundle_arr[ii] = vol\n",
    "            one_hot = np.zeros(len(bundle_fnames), dtype=bool)\n",
    "            one_hot[b_idx] = 1\n",
    "            one_hot_arr[ii] = one_hot\n",
    "            ii += 1\n",
    "#             np.save(sl_npy_fname, vol)"
   ]
  },
  {
   "cell_type": "code",
   "execution_count": null,
   "metadata": {
    "collapsed": true
   },
   "outputs": [],
   "source": []
  }
 ],
 "metadata": {
  "kernelspec": {
   "display_name": "Python 3",
   "language": "python",
   "name": "python3"
  },
  "language_info": {
   "codemirror_mode": {
    "name": "ipython",
    "version": 3
   },
   "file_extension": ".py",
   "mimetype": "text/x-python",
   "name": "python",
   "nbconvert_exporter": "python",
   "pygments_lexer": "ipython3",
   "version": "3.6.1"
  }
 },
 "nbformat": 4,
 "nbformat_minor": 1
}
