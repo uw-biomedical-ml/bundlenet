{
 "cells": [
  {
   "cell_type": "markdown",
   "metadata": {},
   "source": [
    "Jupyter Notebook to Apply XGBoost and Compute Performance of Classification, utilizes bundlenet.py library (among others)"
   ]
  },
  {
   "cell_type": "code",
   "execution_count": 1,
   "metadata": {},
   "outputs": [
    {
     "name": "stderr",
     "output_type": "stream",
     "text": [
      "Using TensorFlow backend.\n"
     ]
    }
   ],
   "source": [
    "from glob import glob\n",
    "import os.path as op\n",
    "import numpy as np\n",
    "import matplotlib.pyplot as plt\n",
    "import bundlenet as bn\n",
    "from dipy.io.streamline import load_trk, save_trk\n",
    "from sklearn.metrics import precision_recall_fscore_support as score"
   ]
  },
  {
   "cell_type": "markdown",
   "metadata": {},
   "source": [
    "Load in probabilities for subjects to train XGBoost"
   ]
  },
  {
   "cell_type": "code",
   "execution_count": 2,
   "metadata": {},
   "outputs": [],
   "source": [
    "subj='970764'\n",
    "loaded_from_file = np.load('model_p/p_subj'+ subj + '_nclass16_do0_nc3_fc1.npz')\n",
    "labels_concat = loaded_from_file['labels']\n",
    "p_concat = loaded_from_file['p']\n",
    "for subj in '972566','973770','978578','979984','983773':\n",
    "    loaded_from_file = np.load('model_p/p_subj'+ subj + '_nclass16_do0_nc3_fc1.npz')\n",
    "    labels_subj = loaded_from_file['labels']\n",
    "    p_subj = loaded_from_file['p']\n",
    "    labels_concat = np.concatenate((labels_concat,labels_subj))\n",
    "    p_concat = np.concatenate((p_concat,p_subj))"
   ]
  },
  {
   "cell_type": "markdown",
   "metadata": {},
   "source": [
    "Load in test subject "
   ]
  },
  {
   "cell_type": "code",
   "execution_count": 3,
   "metadata": {},
   "outputs": [],
   "source": [
    "subj='100307'\n",
    "loaded_from_file = np.load('model_p/p_subj'+ subj + '_nclass16_do0_nc3_fc1.npz')\n",
    "labels_test = loaded_from_file['labels']\n",
    "p_test = loaded_from_file['p']\n",
    "p_bund_test = np.argmax(p_test,axis=1)\n",
    "prob_bund_test = np.max(p_test,axis=1)"
   ]
  },
  {
   "cell_type": "markdown",
   "metadata": {},
   "source": [
    "Convert values to two classes (0/1) and run XGBoost (to learn which streamlines to thow away)"
   ]
  },
  {
   "cell_type": "code",
   "execution_count": 4,
   "metadata": {},
   "outputs": [],
   "source": [
    "labels_concat_2class = labels_concat.copy()\n",
    "labels_concat_2class[labels_concat_2class<16] = 0\n",
    "labels_concat_2class[labels_concat_2class==16] = 1\n",
    "labels_test_2class = labels_test.copy()\n",
    "labels_test_2class[labels_test_2class<16] = 0\n",
    "labels_test_2class[labels_test_2class==16] = 1\n",
    "p_2class = bn.run_xgboost(p_concat,labels_concat_2class,p_test,labels_test_2class,10,2,0.5)"
   ]
  },
  {
   "cell_type": "markdown",
   "metadata": {},
   "source": [
    "Calculate precision and recall for XGBoost"
   ]
  },
  {
   "cell_type": "code",
   "execution_count": 5,
   "metadata": {},
   "outputs": [],
   "source": [
    "precision, recall, fscore, support = score(labels_test_2class,p_2class)"
   ]
  },
  {
   "cell_type": "code",
   "execution_count": 6,
   "metadata": {},
   "outputs": [
    {
     "data": {
      "text/plain": [
       "array([0.80529242, 0.97070488])"
      ]
     },
     "execution_count": 6,
     "metadata": {},
     "output_type": "execute_result"
    }
   ],
   "source": [
    "precision"
   ]
  },
  {
   "cell_type": "code",
   "execution_count": 7,
   "metadata": {},
   "outputs": [
    {
     "data": {
      "text/plain": [
       "array([0.81772558, 0.96830213])"
      ]
     },
     "execution_count": 7,
     "metadata": {},
     "output_type": "execute_result"
    }
   ],
   "source": [
    "recall"
   ]
  },
  {
   "cell_type": "code",
   "execution_count": 8,
   "metadata": {},
   "outputs": [
    {
     "data": {
      "image/png": "[encoded data removed]",
      "text/plain": [
       "<Figure size 432x288 with 1 Axes>"
      ]
     },
     "metadata": {},
     "output_type": "display_data"
    }
   ],
   "source": [
    "ind = np.arange(2) \n",
    "width = 0.35       \n",
    "plt.bar(ind, precision, width, label='precision')\n",
    "plt.bar(ind + width, recall, width,\n",
    "    label='recall')\n",
    "plt.xticks(ind + width / 2, ('keep', 'reject'))\n",
    "plt.legend(loc='right',fontsize='15')\n",
    "plt.rc('xtick', labelsize=20) \n",
    "plt.rc('ytick', labelsize=20) \n",
    "plt.savefig('precisionrecallbar_allsl.jpg')"
   ]
  },
  {
   "cell_type": "markdown",
   "metadata": {},
   "source": [
    "Filter out the rejected streamlines"
   ]
  },
  {
   "cell_type": "code",
   "execution_count": 9,
   "metadata": {},
   "outputs": [],
   "source": [
    "keep = p_2class==0\n",
    "labels = labels_test[keep]\n",
    "p_idx = np.argmax(p_test,axis=-1)\n",
    "p = p_idx[keep]"
   ]
  },
  {
   "cell_type": "code",
   "execution_count": 10,
   "metadata": {},
   "outputs": [],
   "source": [
    "bundle_files = sorted(glob('/home/ubuntu/Atlas_in_MNI_Space_16_bundles/bundles/*.trk'))\n",
    "bundle_names = []\n",
    "for fname in bundle_files:\n",
    "    bundle_names.append(fname.split('/')[-1].split('bundles_')[-1].split('.trk')[0])\n",
    "    "
   ]
  },
  {
   "cell_type": "code",
   "execution_count": 11,
   "metadata": {},
   "outputs": [
    {
     "data": {
      "text/plain": [
       "['AF_L',\n",
       " 'AF_R',\n",
       " 'CCMid',\n",
       " 'CC_ForcepsMajor',\n",
       " 'CC_ForcepsMinor',\n",
       " 'CST_L',\n",
       " 'CST_R',\n",
       " 'C_L',\n",
       " 'C_R',\n",
       " 'F_L',\n",
       " 'F_R',\n",
       " 'IF0F_R',\n",
       " 'IFOF_L',\n",
       " 'MCP',\n",
       " 'UF_L',\n",
       " 'UF_R']"
      ]
     },
     "execution_count": 11,
     "metadata": {},
     "output_type": "execute_result"
    }
   ],
   "source": [
    "bundle_names"
   ]
  },
  {
   "cell_type": "markdown",
   "metadata": {},
   "source": [
    "Calculate precision and recall for bundle classification without and with XGBoost step"
   ]
  },
  {
   "cell_type": "code",
   "execution_count": 12,
   "metadata": {},
   "outputs": [
    {
     "name": "stderr",
     "output_type": "stream",
     "text": [
      "/home/ubuntu/anaconda3/envs/tensorflow_p36/lib/python3.6/site-packages/sklearn/metrics/classification.py:1135: UndefinedMetricWarning: Precision and F-score are ill-defined and being set to 0.0 in labels with no predicted samples.\n",
      "  'precision', 'predicted', average, warn_for)\n"
     ]
    }
   ],
   "source": [
    "precision, recall, fscore, support = score(labels_test,p_idx)\n",
    "precision = precision[0:16]\n",
    "recall = recall[0:16]"
   ]
  },
  {
   "cell_type": "code",
   "execution_count": 13,
   "metadata": {},
   "outputs": [
    {
     "data": {
      "image/png": "[encoded data removed]",
      "text/plain": [
       "<Figure size 432x288 with 1 Axes>"
      ]
     },
     "metadata": {},
     "output_type": "display_data"
    }
   ],
   "source": [
    "plt.rc('xtick', labelsize=10) \n",
    "plt.rc('ytick', labelsize=10) \n",
    "plt.barh(np.arange(len(recall)), recall, align='center', alpha=0.5,label='recall')\n",
    "plt.barh(np.arange(len(precision)), precision, align='center', alpha=0.5,label='precision')\n",
    "plt.yticks(np.arange(len(precision)), bundle_names)\n",
    "plt.legend(loc='center left', bbox_to_anchor=(0.5, 1.05))\n",
    "plt.savefig('precisionrecallbar_noxgboost.pdf')"
   ]
  },
  {
   "cell_type": "code",
   "execution_count": 14,
   "metadata": {},
   "outputs": [
    {
     "name": "stderr",
     "output_type": "stream",
     "text": [
      "/home/ubuntu/anaconda3/envs/tensorflow_p36/lib/python3.6/site-packages/sklearn/metrics/classification.py:1135: UndefinedMetricWarning: Precision and F-score are ill-defined and being set to 0.0 in labels with no predicted samples.\n",
      "  'precision', 'predicted', average, warn_for)\n"
     ]
    }
   ],
   "source": [
    "precision, recall, fscore, support = score(labels,p)\n",
    "precision = precision[0:16]\n",
    "recall = recall[0:16]"
   ]
  },
  {
   "cell_type": "code",
   "execution_count": 15,
   "metadata": {},
   "outputs": [
    {
     "data": {
      "image/png": "[encoded data removed]",
      "text/plain": [
       "<Figure size 432x288 with 1 Axes>"
      ]
     },
     "metadata": {},
     "output_type": "display_data"
    }
   ],
   "source": [
    "plt.barh(np.arange(len(recall)), recall, align='center', alpha=0.5,label='recall')\n",
    "plt.barh(np.arange(len(precision)), precision, align='center', alpha=0.5,label='precision')\n",
    "plt.yticks(np.arange(len(precision)), bundle_names)\n",
    "plt.legend(loc='center left', bbox_to_anchor=(0.5, 1.05)) \n",
    "plt.savefig('precisionrecallbar.pdf')"
   ]
  },
  {
   "cell_type": "code",
   "execution_count": 16,
   "metadata": {},
   "outputs": [
    {
     "data": {
      "text/plain": [
       "0.7586414689069232"
      ]
     },
     "execution_count": 16,
     "metadata": {},
     "output_type": "execute_result"
    }
   ],
   "source": [
    "np.mean(precision)"
   ]
  },
  {
   "cell_type": "markdown",
   "metadata": {},
   "source": [
    "Save out .trk files for visual check"
   ]
  },
  {
   "cell_type": "code",
   "execution_count": 17,
   "metadata": {},
   "outputs": [],
   "source": [
    "streamlines_all_nomni = bn.read_sl('/home/ubuntu/recobundles/100307/out_work/whole_brain_MNI_tracks_from_sh__moved.trk')"
   ]
  },
  {
   "cell_type": "code",
   "execution_count": 35,
   "metadata": {},
   "outputs": [],
   "source": [
    "sl_num=0\n",
    "a = np.where(p_2class==0)[0]\n",
    "b = np.where((p_bund_test==sl_num) & (prob_bund_test >0.9))[0]\n",
    "sl_bn = np.intersect1d(a,b)"
   ]
  },
  {
   "cell_type": "code",
   "execution_count": 36,
   "metadata": {},
   "outputs": [],
   "source": [
    "sl_reco = np.where(labels_test==sl_num)"
   ]
  },
  {
   "cell_type": "code",
   "execution_count": 37,
   "metadata": {},
   "outputs": [],
   "source": [
    "sl_both = np.intersect1d(sl_bn, sl_reco)\n",
    "sl_justbn = np.setdiff1d(sl_bn, sl_reco)\n",
    "sl_justreco = np.setdiff1d(sl_reco, sl_bn)"
   ]
  },
  {
   "cell_type": "code",
   "execution_count": 38,
   "metadata": {},
   "outputs": [],
   "source": [
    "save_trk('slboth'+bundle_names[sl_num]+'.trk', streamlines=streamlines_all_nomni[sl_both], affine=np.eye(4))\n",
    "save_trk('slbn'+bundle_names[sl_num]+'.trk', streamlines=streamlines_all_nomni[sl_justbn], affine=np.eye(4))\n",
    "save_trk('slreco'+bundle_names[sl_num]+'.trk', streamlines=streamlines_all_nomni[sl_justreco], affine=np.eye(4))"
   ]
  },
  {
   "cell_type": "code",
   "execution_count": 22,
   "metadata": {},
   "outputs": [],
   "source": [
    "save_trk('slunlabeled.trk', streamlines=streamlines_all_nomni[labels_test_2class==1], affine=np.eye(4))"
   ]
  },
  {
   "cell_type": "code",
   "execution_count": 23,
   "metadata": {},
   "outputs": [],
   "source": [
    "sl_bn = np.where((p_bund_test==sl_num) & (prob_bund_test >0.9))[0]\n",
    "save_trk('slbn'+bundle_names[sl_num]+'_noxg.trk', streamlines=streamlines_all_nomni[sl_bn], affine=np.eye(4))"
   ]
  },
  {
   "cell_type": "code",
   "execution_count": 24,
   "metadata": {},
   "outputs": [
    {
     "name": "stdout",
     "output_type": "stream",
     "text": [
      "AF_L\n",
      "AF_R\n",
      "CCMid\n",
      "CC_ForcepsMajor\n",
      "CC_ForcepsMinor\n",
      "CST_L\n",
      "CST_R\n",
      "C_L\n",
      "C_R\n",
      "F_L\n",
      "F_R\n",
      "IF0F_R\n",
      "IFOF_L\n",
      "MCP\n",
      "UF_L\n",
      "UF_R\n"
     ]
    }
   ],
   "source": [
    "for i, bund in enumerate(bundle_names):\n",
    "    print(bund)\n",
    "    bn.savesegtrk(streamlines_all_nomni, p_2class, p_bund_test, i, prob_bund_test, 0.9,'TRK/'+bund+'.trk',0)"
   ]
  }
 ],
 "metadata": {
  "kernelspec": {
   "display_name": "Python 3",
   "language": "python",
   "name": "python3"
  },
  "language_info": {
   "codemirror_mode": {
    "name": "ipython",
    "version": 3
   },
   "file_extension": ".py",
   "mimetype": "text/x-python",
   "name": "python",
   "nbconvert_exporter": "python",
   "pygments_lexer": "ipython3",
   "version": "3.6.5"
  }
 },
 "nbformat": 4,
 "nbformat_minor": 2
}
